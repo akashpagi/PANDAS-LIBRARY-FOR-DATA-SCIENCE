{
 "cells": [
  {
   "cell_type": "markdown",
   "id": "eb40bdbc",
   "metadata": {},
   "source": [
    "### SESSION 16 - PANDAS SERIES"
   ]
  },
  {
   "cell_type": "markdown",
   "id": "b2ffda83",
   "metadata": {},
   "source": [
    "### What is Pandas\n",
    "- Pandas is a fast, powerful, flexible and easy to use open source data analysis and manipulation tool, built on top of the Python programming language.\n",
    "- https://pandas.pydata.org/about/index.html\n",
    "\n",
    "### Pandas Series\n",
    "- A Pandas Series is like a column in a table. It is a 1-D array holding data of any type.\n",
    "- **Syntax : pd.Series( data, index, name )**\n",
    "- Index generate automatically if you want to generate custom index we can use `index` parameters\n",
    "\n",
    "### Importing Pandas\n"
   ]
  },
  {
   "cell_type": "code",
   "execution_count": 2,
   "id": "3f59470d",
   "metadata": {},
   "outputs": [],
   "source": [
    "import numpy as np\n",
    "import pandas as pd"
   ]
  },
  {
   "cell_type": "markdown",
   "id": "3ba947dd",
   "metadata": {},
   "source": [
    "**Create a Series from lists:**\n",
    "1. string\n",
    "2. integers\n",
    "3. custom index\n",
    "4. setting a name"
   ]
  },
  {
   "cell_type": "code",
   "execution_count": 4,
   "id": "f1613c75",
   "metadata": {},
   "outputs": [
    {
     "name": "stdout",
     "output_type": "stream",
     "text": [
      "0       India\n",
      "1       Nepal\n",
      "2    Srilanka\n",
      "3      Bhutan\n",
      "dtype: object\n"
     ]
    }
   ],
   "source": [
    "# string\n",
    "countries = ['India', 'Nepal', 'Srilanka', 'Bhutan']\n",
    "print(pd.Series(countries))\n",
    "# Note : dtype : object all countries data type and we consider as string dtype"
   ]
  },
  {
   "cell_type": "code",
   "execution_count": 6,
   "id": "2d80f859",
   "metadata": {},
   "outputs": [
    {
     "name": "stdout",
     "output_type": "stream",
     "text": [
      "0     54\n",
      "1     76\n",
      "2    100\n",
      "3     74\n",
      "dtype: int64\n"
     ]
    }
   ],
   "source": [
    "# integer\n",
    "runs = [54,76,100,74]\n",
    "print(pd.Series(runs))"
   ]
  },
  {
   "cell_type": "code",
   "execution_count": 9,
   "id": "30595014",
   "metadata": {},
   "outputs": [
    {
     "name": "stdout",
     "output_type": "stream",
     "text": [
      "C++       58\n",
      "Python    93\n",
      "NumPy     89\n",
      "Java      60\n",
      "dtype: int64\n"
     ]
    }
   ],
   "source": [
    "# Custom index\n",
    "marks = [58,93,89,60]\n",
    "subjects = ['C++','Python','NumPy','Java']\n",
    "print(pd.Series(marks, index=subjects))"
   ]
  },
  {
   "cell_type": "markdown",
   "id": "682ef8a6",
   "metadata": {},
   "source": [
    "**Create a Series from Dictionary:**"
   ]
  },
  {
   "cell_type": "code",
   "execution_count": 4,
   "id": "a3c826c2",
   "metadata": {},
   "outputs": [
    {
     "name": "stdout",
     "output_type": "stream",
     "text": [
      "maths      78\n",
      "english    70\n",
      "science    89\n",
      "Name: Student Score, dtype: int64\n"
     ]
    }
   ],
   "source": [
    "import pandas as pd\n",
    "marks = {\n",
    "    'maths':78,\n",
    "    'english': 70,\n",
    "    'science': 89\n",
    "}\n",
    "print(pd.Series(marks, name='Student Score'))"
   ]
  },
  {
   "cell_type": "markdown",
   "id": "50018fed",
   "metadata": {},
   "source": [
    "### Series Attribute :\n",
    "- In Pandas, a Series object has several important attributes that provide information about the data it holds and how it's structured. - Some of the commonly used attributes of a Pandas Series include:\n",
    "- It is most common series attribute use in pandas."
   ]
  },
  {
   "cell_type": "markdown",
   "id": "6fc355cc",
   "metadata": {},
   "source": [
    "**size:**\n",
    "- The size attribute returns the number of elements in a Series, including any elements that might contain missing or NaN (Not-a-Number) values."
   ]
  },
  {
   "cell_type": "code",
   "execution_count": 29,
   "id": "9b16f0ae",
   "metadata": {},
   "outputs": [
    {
     "name": "stdout",
     "output_type": "stream",
     "text": [
      "5\n",
      "4\n"
     ]
    }
   ],
   "source": [
    "import pandas as pd\n",
    "data = [10, 20, 30, None, 50]\n",
    "print(pd.Series(data).size) \n",
    "\n",
    "data1 = [10, 20, 30, 50]\n",
    "print(pd.Series(data1).size) "
   ]
  },
  {
   "cell_type": "markdown",
   "id": "9cca357c",
   "metadata": {},
   "source": [
    "**dtype:** \n",
    "- This attribute returns the data type of the elements in the Series. \n",
    "- It can be used to check the data type of the data within the Series."
   ]
  },
  {
   "cell_type": "code",
   "execution_count": 30,
   "id": "30c628ee",
   "metadata": {},
   "outputs": [
    {
     "name": "stdout",
     "output_type": "stream",
     "text": [
      "int64\n"
     ]
    }
   ],
   "source": [
    "import pandas as pd\n",
    "data = [10, 20, 30, 40, 50]\n",
    "print(pd.Series(data).dtype)"
   ]
  },
  {
   "cell_type": "markdown",
   "id": "4c1374a2",
   "metadata": {},
   "source": [
    "**name:** \n",
    "- You can assign a name to a Series when creating it or later using the name attribute. \n",
    "- The name is typically used in the context of DataFrames, where a Series can represent a column.\n"
   ]
  },
  {
   "cell_type": "code",
   "execution_count": 31,
   "id": "d1b82195",
   "metadata": {},
   "outputs": [
    {
     "name": "stdout",
     "output_type": "stream",
     "text": [
      "MyData\n"
     ]
    }
   ],
   "source": [
    "import pandas as pd\n",
    "data = [10, 20, 30, 40, 50]\n",
    "print(pd.Series(data, name='MyData').name)"
   ]
  },
  {
   "cell_type": "markdown",
   "id": "6bd1e507",
   "metadata": {},
   "source": [
    "**is_unique:**\n",
    "- The is_unique attribute returns a boolean value indicating whether all the values in the Series are unique (no duplicates) or not."
   ]
  },
  {
   "cell_type": "code",
   "execution_count": 32,
   "id": "40e9de97",
   "metadata": {},
   "outputs": [
    {
     "name": "stdout",
     "output_type": "stream",
     "text": [
      "True\n",
      "False\n"
     ]
    }
   ],
   "source": [
    "import pandas as pd\n",
    "data1 = [10, 20, 30, 40, 50]\n",
    "print(pd.Series(data).is_unique)  # Returns True\n",
    "\n",
    "data2 = [10, 10, 30, 50, 50]\n",
    "print(pd.Series(data2).is_unique)  # Returns False"
   ]
  },
  {
   "cell_type": "markdown",
   "id": "0771d2e7",
   "metadata": {},
   "source": [
    "**index:** \n",
    "- This attribute returns the index labels associated with the Series. \n",
    "- The index labels can be integers, strings, or any other data type. \n",
    "- If no index labels were explicitly provided when creating the Series, a default integer index will be generated."
   ]
  },
  {
   "cell_type": "code",
   "execution_count": 33,
   "id": "58e47ff8",
   "metadata": {},
   "outputs": [
    {
     "name": "stdout",
     "output_type": "stream",
     "text": [
      "Index(['A', 'B', 'C', 'D', 'E'], dtype='object')\n"
     ]
    }
   ],
   "source": [
    "import pandas as pd\n",
    "data = [10, 20, 30, 40, 50]\n",
    "index_labels = ['A', 'B', 'C', 'D', 'E']\n",
    "print(pd.Series(data, index=index_labels).index)"
   ]
  },
  {
   "cell_type": "markdown",
   "id": "8afee6d4",
   "metadata": {},
   "source": [
    "**values:** \n",
    "- This attribute returns the data in the Series as a NumPy array.\n"
   ]
  },
  {
   "cell_type": "code",
   "execution_count": 2,
   "id": "8acc0fa7",
   "metadata": {},
   "outputs": [
    {
     "name": "stdout",
     "output_type": "stream",
     "text": [
      "[78 70 89]\n"
     ]
    }
   ],
   "source": [
    "import pandas as pd\n",
    "marks = {'maths':78,'english': 70,'science': 89}\n",
    "print(pd.Series(marks).values)"
   ]
  },
  {
   "cell_type": "markdown",
   "id": "4150a737",
   "metadata": {},
   "source": [
    "### Series using read_csv():\n",
    "\n",
    "- **squeeze=True :** \n",
    "    - to avoid DataFrame\n",
    "    - specifies that the result should be squeezed into a Series if it has only one column.\n",
    "- **index_col :**\n",
    "    - used to specify which column in the CSV file should be used as the index for the resulting DataFrame.\n",
    "    - The index is a way to uniquely identify each row in the DataFrame. \n",
    "    - By default, if you don't specify the index_col parameter, Pandas will create a default integer index starting from 0."
   ]
  },
  {
   "cell_type": "code",
   "execution_count": 11,
   "id": "9d0102df",
   "metadata": {},
   "outputs": [
    {
     "name": "stdout",
     "output_type": "stream",
     "text": [
      "0       48\n",
      "1       57\n",
      "2       40\n",
      "3       43\n",
      "4       44\n",
      "      ... \n",
      "360    231\n",
      "361    226\n",
      "362    155\n",
      "363    144\n",
      "364    172\n",
      "Name: Subscribers gained, Length: 365, dtype: int64\n",
      "<class 'pandas.core.series.Series'>\n"
     ]
    },
    {
     "name": "stderr",
     "output_type": "stream",
     "text": [
      "C:\\Users\\Akash Pagi\\AppData\\Local\\Temp\\ipykernel_9296\\182683183.py:1: FutureWarning: The squeeze argument has been deprecated and will be removed in a future version. Append .squeeze(\"columns\") to the call to squeeze.\n",
      "\n",
      "\n",
      "  subs = pd.read_csv('DATASETS/S16/subs.csv', squeeze=True)\n"
     ]
    }
   ],
   "source": [
    "subs = pd.read_csv('DATASETS/S16/subs.csv', squeeze=True)\n",
    "print(subs)\n",
    "print(type(subs))"
   ]
  },
  {
   "cell_type": "code",
   "execution_count": 12,
   "id": "f14b5f30",
   "metadata": {},
   "outputs": [
    {
     "name": "stdout",
     "output_type": "stream",
     "text": [
      "match_no\n",
      "1       1\n",
      "2      23\n",
      "3      13\n",
      "4      12\n",
      "5       1\n",
      "       ..\n",
      "211     0\n",
      "212    20\n",
      "213    73\n",
      "214    25\n",
      "215     7\n",
      "Name: runs, Length: 215, dtype: int64\n",
      "<class 'pandas.core.series.Series'>\n"
     ]
    },
    {
     "name": "stderr",
     "output_type": "stream",
     "text": [
      "C:\\Users\\Akash Pagi\\AppData\\Local\\Temp\\ipykernel_9296\\2901947756.py:1: FutureWarning: The squeeze argument has been deprecated and will be removed in a future version. Append .squeeze(\"columns\") to the call to squeeze.\n",
      "\n",
      "\n",
      "  kohli_ipl = pd.read_csv('DATASETS/S16/kohli_ipl.csv', index_col='match_no', squeeze=True)\n"
     ]
    }
   ],
   "source": [
    "kohli_ipl = pd.read_csv('DATASETS/S16/kohli_ipl.csv', index_col='match_no', squeeze=True)\n",
    "print(kohli_ipl)\n",
    "print(type(kohli_ipl))"
   ]
  },
  {
   "cell_type": "code",
   "execution_count": 13,
   "id": "883e3ad5",
   "metadata": {},
   "outputs": [
    {
     "name": "stdout",
     "output_type": "stream",
     "text": [
      "movie\n",
      "Uri: The Surgical Strike                   Vicky Kaushal\n",
      "Battalion 609                                Vicky Ahuja\n",
      "The Accidental Prime Minister (film)         Anupam Kher\n",
      "Why Cheat India                            Emraan Hashmi\n",
      "Evening Shadows                         Mona Ambegaonkar\n",
      "                                              ...       \n",
      "Hum Tumhare Hain Sanam                    Shah Rukh Khan\n",
      "Aankhen (2002 film)                     Amitabh Bachchan\n",
      "Saathiya (film)                             Vivek Oberoi\n",
      "Company (film)                                Ajay Devgn\n",
      "Awara Paagal Deewana                        Akshay Kumar\n",
      "Name: lead, Length: 1500, dtype: object\n",
      "<class 'pandas.core.series.Series'>\n"
     ]
    },
    {
     "name": "stderr",
     "output_type": "stream",
     "text": [
      "C:\\Users\\Akash Pagi\\AppData\\Local\\Temp\\ipykernel_9296\\3168687822.py:1: FutureWarning: The squeeze argument has been deprecated and will be removed in a future version. Append .squeeze(\"columns\") to the call to squeeze.\n",
      "\n",
      "\n",
      "  bolly = pd.read_csv('DATASETS/S16/bollywood.csv', index_col='movie', squeeze=True)\n"
     ]
    }
   ],
   "source": [
    "bolly = pd.read_csv('DATASETS/S16/bollywood.csv', index_col='movie', squeeze=True)\n",
    "print(bolly)\n",
    "print(type(bolly))"
   ]
  },
  {
   "cell_type": "markdown",
   "id": "2ee05b9d",
   "metadata": {},
   "source": [
    "### Series Methods:"
   ]
  },
  {
   "cell_type": "code",
   "execution_count": null,
   "id": "123c0c8b",
   "metadata": {},
   "outputs": [],
   "source": [
    "Series.head(n=5)\n",
    "\n",
    "- Returns the first n rows for the object based on position. \n",
    "- It is useful for quickly testing if your object has the right type of data in it.\n",
    "\n",
    "- For negative values of n, this function returns all rows except the last |n| rows, equivalent to df[:n].\n",
    "\n",
    "- If n is larger than the number of rows, this function returns all rows.\n",
    "\n",
    "n = integer, default 5\n",
    "Number of rows to select."
   ]
  },
  {
   "cell_type": "code",
   "execution_count": null,
   "id": "c3eaf324",
   "metadata": {},
   "outputs": [],
   "source": []
  },
  {
   "cell_type": "code",
   "execution_count": null,
   "id": "ed62a9ab",
   "metadata": {},
   "outputs": [],
   "source": []
  },
  {
   "cell_type": "code",
   "execution_count": null,
   "id": "54bc4ae8",
   "metadata": {},
   "outputs": [],
   "source": []
  },
  {
   "cell_type": "code",
   "execution_count": null,
   "id": "bf23e089",
   "metadata": {},
   "outputs": [],
   "source": []
  },
  {
   "cell_type": "code",
   "execution_count": null,
   "id": "48407cec",
   "metadata": {},
   "outputs": [],
   "source": []
  },
  {
   "cell_type": "code",
   "execution_count": null,
   "id": "585a2a6d",
   "metadata": {},
   "outputs": [],
   "source": []
  },
  {
   "cell_type": "code",
   "execution_count": null,
   "id": "4bc848f7",
   "metadata": {},
   "outputs": [],
   "source": []
  },
  {
   "cell_type": "code",
   "execution_count": null,
   "id": "b9241b50",
   "metadata": {},
   "outputs": [],
   "source": []
  },
  {
   "cell_type": "code",
   "execution_count": null,
   "id": "d992cbf3",
   "metadata": {},
   "outputs": [],
   "source": []
  },
  {
   "cell_type": "code",
   "execution_count": null,
   "id": "c29e9e86",
   "metadata": {},
   "outputs": [],
   "source": []
  },
  {
   "cell_type": "code",
   "execution_count": null,
   "id": "59ca3de6",
   "metadata": {},
   "outputs": [],
   "source": []
  },
  {
   "cell_type": "code",
   "execution_count": null,
   "id": "a261c7e7",
   "metadata": {},
   "outputs": [],
   "source": []
  },
  {
   "cell_type": "code",
   "execution_count": null,
   "id": "fda41291",
   "metadata": {},
   "outputs": [],
   "source": []
  },
  {
   "cell_type": "code",
   "execution_count": null,
   "id": "aec167f1",
   "metadata": {},
   "outputs": [],
   "source": []
  },
  {
   "cell_type": "code",
   "execution_count": null,
   "id": "f16f856e",
   "metadata": {},
   "outputs": [],
   "source": []
  },
  {
   "cell_type": "code",
   "execution_count": null,
   "id": "2f99c295",
   "metadata": {},
   "outputs": [],
   "source": []
  },
  {
   "cell_type": "code",
   "execution_count": null,
   "id": "9e3e8e8f",
   "metadata": {},
   "outputs": [],
   "source": []
  },
  {
   "cell_type": "code",
   "execution_count": null,
   "id": "4872e224",
   "metadata": {},
   "outputs": [],
   "source": []
  },
  {
   "cell_type": "code",
   "execution_count": null,
   "id": "0c5529e6",
   "metadata": {},
   "outputs": [],
   "source": []
  },
  {
   "cell_type": "code",
   "execution_count": null,
   "id": "7405115d",
   "metadata": {},
   "outputs": [],
   "source": []
  },
  {
   "cell_type": "code",
   "execution_count": null,
   "id": "abc2010f",
   "metadata": {},
   "outputs": [],
   "source": []
  },
  {
   "cell_type": "code",
   "execution_count": null,
   "id": "b573042b",
   "metadata": {},
   "outputs": [],
   "source": []
  },
  {
   "cell_type": "code",
   "execution_count": null,
   "id": "53dc291e",
   "metadata": {},
   "outputs": [],
   "source": []
  },
  {
   "cell_type": "code",
   "execution_count": null,
   "id": "426d0964",
   "metadata": {},
   "outputs": [],
   "source": []
  },
  {
   "cell_type": "code",
   "execution_count": null,
   "id": "eb6b1e78",
   "metadata": {},
   "outputs": [],
   "source": []
  },
  {
   "cell_type": "code",
   "execution_count": null,
   "id": "af1dbcf7",
   "metadata": {},
   "outputs": [],
   "source": []
  },
  {
   "cell_type": "code",
   "execution_count": null,
   "id": "6126809c",
   "metadata": {},
   "outputs": [],
   "source": []
  },
  {
   "cell_type": "code",
   "execution_count": null,
   "id": "7c852cec",
   "metadata": {},
   "outputs": [],
   "source": []
  },
  {
   "cell_type": "code",
   "execution_count": null,
   "id": "b8b406bd",
   "metadata": {},
   "outputs": [],
   "source": []
  },
  {
   "cell_type": "code",
   "execution_count": null,
   "id": "97801ee8",
   "metadata": {},
   "outputs": [],
   "source": []
  },
  {
   "cell_type": "code",
   "execution_count": null,
   "id": "30189a65",
   "metadata": {},
   "outputs": [],
   "source": []
  },
  {
   "cell_type": "code",
   "execution_count": null,
   "id": "a515792c",
   "metadata": {},
   "outputs": [],
   "source": []
  },
  {
   "cell_type": "code",
   "execution_count": null,
   "id": "117ef650",
   "metadata": {},
   "outputs": [],
   "source": []
  },
  {
   "cell_type": "code",
   "execution_count": null,
   "id": "65bf3a9f",
   "metadata": {},
   "outputs": [],
   "source": []
  },
  {
   "cell_type": "code",
   "execution_count": null,
   "id": "6ab956b6",
   "metadata": {},
   "outputs": [],
   "source": []
  },
  {
   "cell_type": "code",
   "execution_count": null,
   "id": "9ae2a8e6",
   "metadata": {},
   "outputs": [],
   "source": []
  },
  {
   "cell_type": "code",
   "execution_count": null,
   "id": "f8a857c0",
   "metadata": {},
   "outputs": [],
   "source": []
  },
  {
   "cell_type": "code",
   "execution_count": null,
   "id": "6c5cacac",
   "metadata": {},
   "outputs": [],
   "source": []
  },
  {
   "cell_type": "code",
   "execution_count": null,
   "id": "4489ce14",
   "metadata": {},
   "outputs": [],
   "source": []
  },
  {
   "cell_type": "code",
   "execution_count": null,
   "id": "ac736164",
   "metadata": {},
   "outputs": [],
   "source": []
  },
  {
   "cell_type": "code",
   "execution_count": null,
   "id": "60186066",
   "metadata": {},
   "outputs": [],
   "source": []
  },
  {
   "cell_type": "code",
   "execution_count": null,
   "id": "f022e06c",
   "metadata": {},
   "outputs": [],
   "source": []
  },
  {
   "cell_type": "code",
   "execution_count": null,
   "id": "056b2dac",
   "metadata": {},
   "outputs": [],
   "source": []
  },
  {
   "cell_type": "code",
   "execution_count": null,
   "id": "17cd53f0",
   "metadata": {},
   "outputs": [],
   "source": []
  },
  {
   "cell_type": "code",
   "execution_count": null,
   "id": "6ef58b69",
   "metadata": {},
   "outputs": [],
   "source": []
  },
  {
   "cell_type": "code",
   "execution_count": null,
   "id": "33cbbebf",
   "metadata": {},
   "outputs": [],
   "source": []
  },
  {
   "cell_type": "code",
   "execution_count": null,
   "id": "9016a763",
   "metadata": {},
   "outputs": [],
   "source": []
  },
  {
   "cell_type": "code",
   "execution_count": null,
   "id": "fec67a4e",
   "metadata": {},
   "outputs": [],
   "source": []
  },
  {
   "cell_type": "code",
   "execution_count": null,
   "id": "7a900da4",
   "metadata": {},
   "outputs": [],
   "source": []
  },
  {
   "cell_type": "code",
   "execution_count": null,
   "id": "969042ac",
   "metadata": {},
   "outputs": [],
   "source": []
  },
  {
   "cell_type": "code",
   "execution_count": null,
   "id": "1243c74c",
   "metadata": {},
   "outputs": [],
   "source": []
  },
  {
   "cell_type": "code",
   "execution_count": null,
   "id": "f53d75dd",
   "metadata": {},
   "outputs": [],
   "source": []
  },
  {
   "cell_type": "code",
   "execution_count": null,
   "id": "11e5314b",
   "metadata": {},
   "outputs": [],
   "source": []
  },
  {
   "cell_type": "code",
   "execution_count": null,
   "id": "4d3b98d5",
   "metadata": {},
   "outputs": [],
   "source": []
  },
  {
   "cell_type": "code",
   "execution_count": null,
   "id": "8b33c490",
   "metadata": {},
   "outputs": [],
   "source": []
  },
  {
   "cell_type": "code",
   "execution_count": null,
   "id": "3651bb3a",
   "metadata": {},
   "outputs": [],
   "source": []
  },
  {
   "cell_type": "code",
   "execution_count": null,
   "id": "6564cd10",
   "metadata": {},
   "outputs": [],
   "source": []
  },
  {
   "cell_type": "code",
   "execution_count": null,
   "id": "2a8c5373",
   "metadata": {},
   "outputs": [],
   "source": []
  },
  {
   "cell_type": "code",
   "execution_count": null,
   "id": "5bb8d72b",
   "metadata": {},
   "outputs": [],
   "source": []
  },
  {
   "cell_type": "code",
   "execution_count": null,
   "id": "7b52448d",
   "metadata": {},
   "outputs": [],
   "source": []
  },
  {
   "cell_type": "code",
   "execution_count": null,
   "id": "b0fde075",
   "metadata": {},
   "outputs": [],
   "source": []
  },
  {
   "cell_type": "code",
   "execution_count": null,
   "id": "f4be46b6",
   "metadata": {},
   "outputs": [],
   "source": []
  },
  {
   "cell_type": "code",
   "execution_count": null,
   "id": "d1938b40",
   "metadata": {},
   "outputs": [],
   "source": []
  },
  {
   "cell_type": "code",
   "execution_count": null,
   "id": "06d5cc22",
   "metadata": {},
   "outputs": [],
   "source": []
  },
  {
   "cell_type": "code",
   "execution_count": null,
   "id": "6873ad22",
   "metadata": {},
   "outputs": [],
   "source": []
  },
  {
   "cell_type": "code",
   "execution_count": null,
   "id": "4d4865b8",
   "metadata": {},
   "outputs": [],
   "source": []
  },
  {
   "cell_type": "code",
   "execution_count": null,
   "id": "3cea7720",
   "metadata": {},
   "outputs": [],
   "source": []
  },
  {
   "cell_type": "code",
   "execution_count": null,
   "id": "aa04c242",
   "metadata": {},
   "outputs": [],
   "source": []
  },
  {
   "cell_type": "code",
   "execution_count": null,
   "id": "f798988f",
   "metadata": {},
   "outputs": [],
   "source": []
  },
  {
   "cell_type": "code",
   "execution_count": null,
   "id": "de04a5be",
   "metadata": {},
   "outputs": [],
   "source": []
  },
  {
   "cell_type": "code",
   "execution_count": null,
   "id": "cc6f1fdc",
   "metadata": {},
   "outputs": [],
   "source": []
  },
  {
   "cell_type": "code",
   "execution_count": null,
   "id": "368f03f9",
   "metadata": {},
   "outputs": [],
   "source": []
  }
 ],
 "metadata": {
  "kernelspec": {
   "display_name": "Python 3 (ipykernel)",
   "language": "python",
   "name": "python3"
  },
  "language_info": {
   "codemirror_mode": {
    "name": "ipython",
    "version": 3
   },
   "file_extension": ".py",
   "mimetype": "text/x-python",
   "name": "python",
   "nbconvert_exporter": "python",
   "pygments_lexer": "ipython3",
   "version": "3.10.7"
  }
 },
 "nbformat": 4,
 "nbformat_minor": 5
}
