{
 "cells": [
  {
   "cell_type": "markdown",
   "id": "eb40bdbc",
   "metadata": {},
   "source": [
    "### SESSION 16 - PANDAS SERIES"
   ]
  },
  {
   "cell_type": "markdown",
   "id": "0625da35",
   "metadata": {},
   "source": [
    "### What is Pandas\n",
    "- Pandas is a fast, powerful, flexible and easy to use open source data analysis and manipulation tool, built on top of the Python programming language.\n",
    "- https://pandas.pydata.org/about/index.html\n"
   ]
  },
  {
   "cell_type": "markdown",
   "id": "b2ffda83",
   "metadata": {},
   "source": [
    "### Pandas Series\n",
    "- A Pandas Series is like a column in a table. It is a 1-D array holding data of any type.\n",
    "- Each value in a pandas series is associated with the index. \n",
    "- The default index value of it is from 0 to number – 1, or you can specify your own index values.\n",
    "- **Syntax : pd.Series( data, index, name )**\n",
    "- Index generate automatically if you want to generate custom index we can use `index` parameters\n",
    "\n",
    "#### Basic data structure in pandas\n",
    "Pandas provide two types of classes for handling data:\n",
    "- **Series**\n",
    "- **DataFrame**"
   ]
  },
  {
   "cell_type": "markdown",
   "id": "1f8e0dd1",
   "metadata": {},
   "source": [
    "#### Importing Pandas\n",
    "There are different way to import pandas library:\n",
    "\n",
    "Most common way is with `import` statement with alias:\n",
    "- **import pandas as pd**\n",
    "\n",
    "Importing all the function and class:\n",
    "- **from pandas import ***\n",
    "\n",
    "Importing the specific function and class library:\n",
    "- **from pandas import DataFrame, read_csv**\n"
   ]
  },
  {
   "cell_type": "markdown",
   "id": "05f1e87d",
   "metadata": {},
   "source": [
    "**Installing pandas library**"
   ]
  },
  {
   "cell_type": "code",
   "execution_count": 1,
   "id": "e769c1aa",
   "metadata": {},
   "outputs": [
    {
     "name": "stdout",
     "output_type": "stream",
     "text": [
      "Requirement already satisfied: pandas in c:\\python311\\lib\\site-packages (2.1.0)\n",
      "Requirement already satisfied: numpy>=1.23.2 in c:\\python311\\lib\\site-packages (from pandas) (1.24.2)\n",
      "Requirement already satisfied: python-dateutil>=2.8.2 in c:\\python311\\lib\\site-packages (from pandas) (2.8.2)\n",
      "Requirement already satisfied: pytz>=2020.1 in c:\\python311\\lib\\site-packages (from pandas) (2023.3)\n",
      "Requirement already satisfied: tzdata>=2022.1 in c:\\python311\\lib\\site-packages (from pandas) (2023.3)\n",
      "Requirement already satisfied: six>=1.5 in c:\\python311\\lib\\site-packages (from python-dateutil>=2.8.2->pandas) (1.16.0)\n"
     ]
    }
   ],
   "source": [
    "# installing pandas library in jupyter notebook\n",
    "!pip install pandas"
   ]
  },
  {
   "cell_type": "markdown",
   "id": "65383506",
   "metadata": {},
   "source": [
    "**Checking pandas version**"
   ]
  },
  {
   "cell_type": "code",
   "execution_count": 6,
   "id": "0056b820",
   "metadata": {},
   "outputs": [
    {
     "name": "stdout",
     "output_type": "stream",
     "text": [
      "1.5.0\n"
     ]
    }
   ],
   "source": [
    "# checking pandas versrion\n",
    "import pandas as pd\n",
    "print(pd.__version__)"
   ]
  },
  {
   "cell_type": "markdown",
   "id": "0ce7c274",
   "metadata": {},
   "source": [
    "**Upgrading the pandas library version:**"
   ]
  },
  {
   "cell_type": "code",
   "execution_count": 7,
   "id": "cf09acc6",
   "metadata": {},
   "outputs": [
    {
     "name": "stdout",
     "output_type": "stream",
     "text": [
      "Requirement already satisfied: pandas in c:\\python311\\lib\\site-packages (2.1.0)\n",
      "Requirement already satisfied: numpy>=1.23.2 in c:\\python311\\lib\\site-packages (from pandas) (1.24.2)\n",
      "Requirement already satisfied: python-dateutil>=2.8.2 in c:\\python311\\lib\\site-packages (from pandas) (2.8.2)\n",
      "Requirement already satisfied: pytz>=2020.1 in c:\\python311\\lib\\site-packages (from pandas) (2023.3)\n",
      "Requirement already satisfied: tzdata>=2022.1 in c:\\python311\\lib\\site-packages (from pandas) (2023.3)\n",
      "Requirement already satisfied: six>=1.5 in c:\\python311\\lib\\site-packages (from python-dateutil>=2.8.2->pandas) (1.16.0)\n"
     ]
    }
   ],
   "source": [
    "# upgrading the pandas library version in jupyter notebook\n",
    "!pip install --upgrade pandas"
   ]
  },
  {
   "cell_type": "markdown",
   "id": "3ba947dd",
   "metadata": {},
   "source": [
    "**Create a Series from lists:**\n",
    "1. string\n",
    "2. integers\n",
    "3. custom index\n",
    "4. setting a name"
   ]
  },
  {
   "cell_type": "code",
   "execution_count": 60,
   "id": "f1613c75",
   "metadata": {},
   "outputs": [
    {
     "name": "stdout",
     "output_type": "stream",
     "text": [
      "0       India\n",
      "1       Nepal\n",
      "2    Srilanka\n",
      "3      Bhutan\n",
      "dtype: object\n"
     ]
    }
   ],
   "source": [
    "# string\n",
    "countries = ['India', 'Nepal', 'Srilanka', 'Bhutan']\n",
    "print(pd.Series(countries))\n",
    "# Note : dtype : object all countries data type and we consider as string dtype"
   ]
  },
  {
   "cell_type": "code",
   "execution_count": 61,
   "id": "2d80f859",
   "metadata": {},
   "outputs": [
    {
     "name": "stdout",
     "output_type": "stream",
     "text": [
      "0     54\n",
      "1     76\n",
      "2    100\n",
      "3     74\n",
      "dtype: int64\n"
     ]
    }
   ],
   "source": [
    "# integer\n",
    "runs = [54,76,100,74]\n",
    "print(pd.Series(runs))"
   ]
  },
  {
   "cell_type": "code",
   "execution_count": 62,
   "id": "30595014",
   "metadata": {},
   "outputs": [
    {
     "name": "stdout",
     "output_type": "stream",
     "text": [
      "C++       58\n",
      "Python    93\n",
      "NumPy     89\n",
      "Java      60\n",
      "dtype: int64\n"
     ]
    }
   ],
   "source": [
    "# Custom index\n",
    "marks = [58,93,89,60]\n",
    "subjects = ['C++','Python','NumPy','Java']\n",
    "print(pd.Series(marks, index=subjects))"
   ]
  },
  {
   "cell_type": "markdown",
   "id": "682ef8a6",
   "metadata": {},
   "source": [
    "**Create a Series from Dictionary:**"
   ]
  },
  {
   "cell_type": "code",
   "execution_count": 63,
   "id": "a3c826c2",
   "metadata": {},
   "outputs": [
    {
     "data": {
      "text/plain": [
       "maths      78\n",
       "english    70\n",
       "science    89\n",
       "Name: student score, dtype: int64"
      ]
     },
     "execution_count": 63,
     "metadata": {},
     "output_type": "execute_result"
    }
   ],
   "source": [
    "import pandas as pd\n",
    "marks = {\n",
    "    'maths':78,\n",
    "    'english': 70,\n",
    "    'science': 89\n",
    "}\n",
    "pd.Series(marks, name='student score')"
   ]
  },
  {
   "cell_type": "markdown",
   "id": "50018fed",
   "metadata": {},
   "source": [
    "### Series Attribute :\n",
    "- In Pandas, a Series object has several important attributes that is commonly used attributes of a Pandas Series include:"
   ]
  },
  {
   "cell_type": "markdown",
   "id": "6fc355cc",
   "metadata": {},
   "source": [
    "**size:**\n",
    "- The size attribute returns the number of elements in a Series, including any elements that might contain missing or NaN (Not-a-Number) values."
   ]
  },
  {
   "cell_type": "code",
   "execution_count": 64,
   "id": "9b16f0ae",
   "metadata": {},
   "outputs": [
    {
     "name": "stdout",
     "output_type": "stream",
     "text": [
      "5\n",
      "4\n"
     ]
    }
   ],
   "source": [
    "import pandas as pd\n",
    "data = [10, 20, 30, None, 50]\n",
    "print(pd.Series(data).size) \n",
    "\n",
    "data1 = [10, 20, 30, 50]\n",
    "print(pd.Series(data1).size) "
   ]
  },
  {
   "cell_type": "markdown",
   "id": "9cca357c",
   "metadata": {},
   "source": [
    "**dtype:** \n",
    "- This attribute returns the data type of the elements in the Series. \n",
    "- It can be used to check the data type of the data within the Series."
   ]
  },
  {
   "cell_type": "code",
   "execution_count": 65,
   "id": "30c628ee",
   "metadata": {},
   "outputs": [
    {
     "name": "stdout",
     "output_type": "stream",
     "text": [
      "int64\n"
     ]
    }
   ],
   "source": [
    "import pandas as pd\n",
    "data = [10, 20, 30, 40, 50]\n",
    "print(pd.Series(data).dtype)"
   ]
  },
  {
   "cell_type": "markdown",
   "id": "4c1374a2",
   "metadata": {},
   "source": [
    "**name:** \n",
    "- You can assign a name to a Series when creating it or later using the name attribute. \n",
    "- The name is typically used in the context of DataFrames, where a Series can represent a column.\n"
   ]
  },
  {
   "cell_type": "code",
   "execution_count": 66,
   "id": "d1b82195",
   "metadata": {},
   "outputs": [
    {
     "name": "stdout",
     "output_type": "stream",
     "text": [
      "MyData\n"
     ]
    }
   ],
   "source": [
    "import pandas as pd\n",
    "data = [10, 20, 30, 40, 50]\n",
    "print(pd.Series(data, name='MyData').name)"
   ]
  },
  {
   "cell_type": "markdown",
   "id": "6bd1e507",
   "metadata": {},
   "source": [
    "**is_unique:**\n",
    "- The is_unique attribute returns a boolean value indicating whether all the values in the Series are unique (no duplicates) or not."
   ]
  },
  {
   "cell_type": "code",
   "execution_count": 67,
   "id": "40e9de97",
   "metadata": {},
   "outputs": [
    {
     "name": "stdout",
     "output_type": "stream",
     "text": [
      "True\n",
      "False\n"
     ]
    }
   ],
   "source": [
    "import pandas as pd\n",
    "data1 = [10, 20, 30, 40, 50]\n",
    "print(pd.Series(data).is_unique)  # Returns True\n",
    "\n",
    "data2 = [10, 10, 30, 50, 50]\n",
    "print(pd.Series(data2).is_unique)  # Returns False"
   ]
  },
  {
   "cell_type": "markdown",
   "id": "0771d2e7",
   "metadata": {},
   "source": [
    "**index:** \n",
    "- This attribute returns the index labels associated with the Series. \n",
    "- The index labels can be integers, strings, or any other data type. \n",
    "- If no index labels were explicitly provided when creating the Series, a default integer index will be generated."
   ]
  },
  {
   "cell_type": "code",
   "execution_count": 68,
   "id": "58e47ff8",
   "metadata": {},
   "outputs": [
    {
     "name": "stdout",
     "output_type": "stream",
     "text": [
      "Index(['A', 'B', 'C', 'D', 'E'], dtype='object')\n"
     ]
    }
   ],
   "source": [
    "import pandas as pd\n",
    "data = [10, 20, 30, 40, 50]\n",
    "index_labels = ['A', 'B', 'C', 'D', 'E']\n",
    "print(pd.Series(data, index=index_labels).index)"
   ]
  },
  {
   "cell_type": "markdown",
   "id": "8afee6d4",
   "metadata": {},
   "source": [
    "**values:** \n",
    "- This attribute returns the data in the Series as a NumPy array.\n"
   ]
  },
  {
   "cell_type": "code",
   "execution_count": 69,
   "id": "8acc0fa7",
   "metadata": {},
   "outputs": [
    {
     "name": "stdout",
     "output_type": "stream",
     "text": [
      "[78 70 89]\n"
     ]
    }
   ],
   "source": [
    "import pandas as pd\n",
    "marks = {'maths':78,'english': 70,'science': 89}\n",
    "print(pd.Series(marks).values)"
   ]
  },
  {
   "cell_type": "markdown",
   "id": "4150a737",
   "metadata": {},
   "source": [
    "### Series using read_csv():\n",
    "\n",
    "- **squeeze=True :** \n",
    "    - to avoid DataFrame\n",
    "    - specifies that the result should be squeezed into a Series if it has only one column.\n",
    "- **index_col :**\n",
    "    - used to specify which column in the CSV file should be used as the index for the resulting DataFrame.\n",
    "    - The index is a way to uniquely identify each row in the DataFrame. \n",
    "    - By default, if you don't specify the index_col parameter, Pandas will create a default integer index starting from 0."
   ]
  },
  {
   "cell_type": "code",
   "execution_count": 70,
   "id": "9d0102df",
   "metadata": {},
   "outputs": [
    {
     "name": "stderr",
     "output_type": "stream",
     "text": [
      "C:\\Users\\Akash Pagi\\AppData\\Local\\Temp\\ipykernel_3524\\2235976868.py:2: FutureWarning: The squeeze argument has been deprecated and will be removed in a future version. Append .squeeze(\"columns\") to the call to squeeze.\n",
      "\n",
      "\n",
      "  subs = pd.read_csv('DATASETS/S16/subs.csv', squeeze=True)\n"
     ]
    },
    {
     "name": "stdout",
     "output_type": "stream",
     "text": [
      "0       48\n",
      "1       57\n",
      "2       40\n",
      "3       43\n",
      "4       44\n",
      "      ... \n",
      "360    231\n",
      "361    226\n",
      "362    155\n",
      "363    144\n",
      "364    172\n",
      "Name: Subscribers gained, Length: 365, dtype: int64\n",
      "<class 'pandas.core.series.Series'>\n"
     ]
    }
   ],
   "source": [
    "import pandas as pd\n",
    "subs = pd.read_csv('DATASETS/S16/subs.csv', squeeze=True)\n",
    "print(subs)\n",
    "print(type(subs))"
   ]
  },
  {
   "cell_type": "code",
   "execution_count": 71,
   "id": "f14b5f30",
   "metadata": {},
   "outputs": [
    {
     "name": "stdout",
     "output_type": "stream",
     "text": [
      "match_no\n",
      "1       1\n",
      "2      23\n",
      "3      13\n",
      "4      12\n",
      "5       1\n",
      "       ..\n",
      "211     0\n",
      "212    20\n",
      "213    73\n",
      "214    25\n",
      "215     7\n",
      "Name: runs, Length: 215, dtype: int64\n",
      "<class 'pandas.core.series.Series'>\n"
     ]
    },
    {
     "name": "stderr",
     "output_type": "stream",
     "text": [
      "C:\\Users\\Akash Pagi\\AppData\\Local\\Temp\\ipykernel_3524\\1927180952.py:1: FutureWarning: The squeeze argument has been deprecated and will be removed in a future version. Append .squeeze(\"columns\") to the call to squeeze.\n",
      "\n",
      "\n",
      "  vk = pd.read_csv('DATASETS/S16/kohli_ipl.csv', index_col='match_no', squeeze=True)\n"
     ]
    }
   ],
   "source": [
    "vk = pd.read_csv('DATASETS/S16/kohli_ipl.csv', index_col='match_no', squeeze=True)\n",
    "print(vk)\n",
    "print(type(vk))"
   ]
  },
  {
   "cell_type": "code",
   "execution_count": 72,
   "id": "883e3ad5",
   "metadata": {},
   "outputs": [
    {
     "name": "stdout",
     "output_type": "stream",
     "text": [
      "movie\n",
      "Uri: The Surgical Strike                   Vicky Kaushal\n",
      "Battalion 609                                Vicky Ahuja\n",
      "The Accidental Prime Minister (film)         Anupam Kher\n",
      "Why Cheat India                            Emraan Hashmi\n",
      "Evening Shadows                         Mona Ambegaonkar\n",
      "                                              ...       \n",
      "Hum Tumhare Hain Sanam                    Shah Rukh Khan\n",
      "Aankhen (2002 film)                     Amitabh Bachchan\n",
      "Saathiya (film)                             Vivek Oberoi\n",
      "Company (film)                                Ajay Devgn\n",
      "Awara Paagal Deewana                        Akshay Kumar\n",
      "Name: lead, Length: 1500, dtype: object\n",
      "<class 'pandas.core.series.Series'>\n"
     ]
    },
    {
     "name": "stderr",
     "output_type": "stream",
     "text": [
      "C:\\Users\\Akash Pagi\\AppData\\Local\\Temp\\ipykernel_3524\\2781145530.py:1: FutureWarning: The squeeze argument has been deprecated and will be removed in a future version. Append .squeeze(\"columns\") to the call to squeeze.\n",
      "\n",
      "\n",
      "  m = pd.read_csv('DATASETS/S16/bollywood.csv', index_col='movie', squeeze=True)\n"
     ]
    }
   ],
   "source": [
    "m = pd.read_csv('DATASETS/S16/bollywood.csv', index_col='movie', squeeze=True)\n",
    "print(m)\n",
    "print(type(m))"
   ]
  },
  {
   "cell_type": "markdown",
   "id": "70849741",
   "metadata": {},
   "source": [
    "### Series Methods:"
   ]
  },
  {
   "cell_type": "markdown",
   "id": "710a544a",
   "metadata": {},
   "source": [
    "**head():**\n",
    "- The head() method is used to display the first few rows (default is 5) of a DataFrame or Series.\n",
    "- if we provide negative number as parameter then return all rows."
   ]
  },
  {
   "cell_type": "code",
   "execution_count": 73,
   "id": "c3eaf324",
   "metadata": {},
   "outputs": [
    {
     "name": "stdout",
     "output_type": "stream",
     "text": [
      "match_no\n",
      "1     1\n",
      "2    23\n",
      "3    13\n",
      "4    12\n",
      "5     1\n",
      "Name: runs, dtype: int64\n",
      "match_no\n",
      "1     1\n",
      "2    23\n",
      "Name: runs, dtype: int64\n"
     ]
    }
   ],
   "source": [
    "# head()\n",
    "print(vk.head()) # default is 5\n",
    "print(vk.head(2))\n",
    "#print(vk.head(-2)) "
   ]
  },
  {
   "cell_type": "markdown",
   "id": "3bddfa59",
   "metadata": {},
   "source": [
    "**tail():**\n",
    "- The tail() method is used to display the last few rows (default is 5) of a DataFrame or Series."
   ]
  },
  {
   "cell_type": "code",
   "execution_count": 74,
   "id": "54bc4ae8",
   "metadata": {},
   "outputs": [
    {
     "name": "stdout",
     "output_type": "stream",
     "text": [
      "match_no\n",
      "213    73\n",
      "214    25\n",
      "215     7\n",
      "Name: runs, dtype: int64\n"
     ]
    }
   ],
   "source": [
    "import pandas as pd\n",
    "#print(vk.tail()) # default is 5\n",
    "print(vk.tail(3)) # specific number"
   ]
  },
  {
   "cell_type": "markdown",
   "id": "755ff4cd",
   "metadata": {},
   "source": [
    "**sample()**\n",
    "- The sample() method in Pandas is used to randomly select a specified number of rows (default is 1) or elements from a DataFrame or Series. \n",
    "- This is particularly useful when you want to obtain a random sample from your data for various purposes, such as data exploration, analysis, or testing.\n",
    "- If you have biased in your datasets then we can use this method."
   ]
  },
  {
   "cell_type": "code",
   "execution_count": 75,
   "id": "48407cec",
   "metadata": {},
   "outputs": [
    {
     "name": "stdout",
     "output_type": "stream",
     "text": [
      "match_no\n",
      "157    46\n",
      "Name: runs, dtype: int64\n",
      "match_no\n",
      "74     65\n",
      "201    12\n",
      "158     3\n",
      "Name: runs, dtype: int64\n"
     ]
    }
   ],
   "source": [
    "print(vk.sample()) \n",
    "# 3 randoms row form dataset\n",
    "print(vk.sample(3)) "
   ]
  },
  {
   "cell_type": "markdown",
   "id": "26ddc7fc",
   "metadata": {},
   "source": [
    "**value_counts() function:**\n",
    "- the value_counts() function in Pandas to count the frequency of values that occur multiple times in a Series."
   ]
  },
  {
   "cell_type": "code",
   "execution_count": 76,
   "id": "4bc848f7",
   "metadata": {},
   "outputs": [
    {
     "name": "stdout",
     "output_type": "stream",
     "text": [
      "Akshay Kumar        48\n",
      "Amitabh Bachchan    45\n",
      "Ajay Devgn          38\n",
      "Salman Khan         31\n",
      "Sanjay Dutt         26\n",
      "                    ..\n",
      "Diganth              1\n",
      "Parveen Kaur         1\n",
      "Seema Azmi           1\n",
      "Akanksha Puri        1\n",
      "Edwin Fernandes      1\n",
      "Name: lead, Length: 566, dtype: int64\n"
     ]
    }
   ],
   "source": [
    "print(m.value_counts())"
   ]
  },
  {
   "cell_type": "markdown",
   "id": "95a87487",
   "metadata": {},
   "source": [
    "**sort_values() function:**\n",
    "- sort_values() is used to sort the values within a Pandas Series.\n",
    "- By default, it sorts the values in ascending order, but you can specify the sorting order using the ascending parameter, where **ascending=True** sorts in ascending order, and **ascending=False** sorts in descending order\n",
    "- **syntax: series.sort_values(ascending, inplace)**\n",
    "    - **inplace:** \n",
    "        - The inplace parameter, when set to True, performs the sorting operation in-place, meaning it modifies the original Series, and the sorted result replaces the original data. \n",
    "        - If inplace is set to False (or not specified, as False is the default), it returns a new Series with the sorted values while leaving the original Series unchanged."
   ]
  },
  {
   "cell_type": "code",
   "execution_count": 77,
   "id": "d992cbf3",
   "metadata": {},
   "outputs": [
    {
     "name": "stdout",
     "output_type": "stream",
     "text": [
      "match_no\n",
      "128    113\n",
      "126    109\n",
      "123    108\n",
      "164    100\n",
      "120    100\n",
      "      ... \n",
      "93       0\n",
      "211      0\n",
      "130      0\n",
      "8        0\n",
      "135      0\n",
      "Name: runs, Length: 215, dtype: int64\n"
     ]
    }
   ],
   "source": [
    "#print(vk.sort_values()) # defualt ascending=True\n",
    "print(vk.sort_values(ascending=False))"
   ]
  },
  {
   "cell_type": "markdown",
   "id": "112eebc6",
   "metadata": {},
   "source": [
    "**Method chaining :**\n",
    "- Method chaining Pandas Series refers to the practice of applying multiple operations or methods to a Series in a single, concise line of code. \n",
    "- This approach is both efficient and readable, making it easier to perform complex data manipulations and transformations."
   ]
  },
  {
   "cell_type": "code",
   "execution_count": 78,
   "id": "c29e9e86",
   "metadata": {},
   "outputs": [
    {
     "name": "stdout",
     "output_type": "stream",
     "text": [
      "113\n"
     ]
    }
   ],
   "source": [
    "# method chaining\n",
    "print(vk.sort_values(ascending=False).head(1).values[0])"
   ]
  },
  {
   "cell_type": "code",
   "execution_count": 79,
   "id": "59ca3de6",
   "metadata": {},
   "outputs": [],
   "source": [
    "# with inplace=True for permanet changes in series\n",
    "#vk.sort_values(inplace=True)"
   ]
  },
  {
   "cell_type": "code",
   "execution_count": 80,
   "id": "a261c7e7",
   "metadata": {},
   "outputs": [],
   "source": [
    "#vk"
   ]
  },
  {
   "cell_type": "markdown",
   "id": "198a9915",
   "metadata": {},
   "source": [
    "**sort_index():** \n",
    "- the sort_index() method in Pandas Series is similar in concept to the sort_values() method, but **instead of sorting the values within the Series, it sorts the index (row labels) of the Series.** \n",
    "- Both methods allow you to control the sorting order, either ascending or descending, and both can be used with the inplace parameter to modify the original Series.\n",
    "- **syntax: series.sort_index(data,index inplace)**"
   ]
  },
  {
   "cell_type": "code",
   "execution_count": 1,
   "id": "aec167f1",
   "metadata": {},
   "outputs": [
    {
     "ename": "NameError",
     "evalue": "name 'vk' is not defined",
     "output_type": "error",
     "traceback": [
      "\u001b[1;31m---------------------------------------------------------------------------\u001b[0m",
      "\u001b[1;31mNameError\u001b[0m                                 Traceback (most recent call last)",
      "Cell \u001b[1;32mIn [1], line 2\u001b[0m\n\u001b[0;32m      1\u001b[0m \u001b[38;5;66;03m# defualt ascending\u001b[39;00m\n\u001b[1;32m----> 2\u001b[0m \u001b[38;5;28mprint\u001b[39m(vk\u001b[38;5;241m.\u001b[39msort_index())\n\u001b[0;32m      3\u001b[0m \u001b[38;5;66;03m# dscending\u001b[39;00m\n\u001b[0;32m      4\u001b[0m \u001b[38;5;28mprint\u001b[39m(vk\u001b[38;5;241m.\u001b[39msort_index(ascending\u001b[38;5;241m=\u001b[39m\u001b[38;5;28;01mFalse\u001b[39;00m,inplace\u001b[38;5;241m=\u001b[39m\u001b[38;5;28;01mTrue\u001b[39;00m))\n",
      "\u001b[1;31mNameError\u001b[0m: name 'vk' is not defined"
     ]
    }
   ],
   "source": [
    "# defualt ascending\n",
    "print(vk.sort_index())\n",
    "# dscending\n",
    "print(vk.sort_index(ascending=False,inplace=True))"
   ]
  },
  {
   "cell_type": "code",
   "execution_count": null,
   "id": "f16f856e",
   "metadata": {},
   "outputs": [],
   "source": [
    "# with inplace=True for permanent changes in series\n",
    "#vk.sort_index(inplace=True)"
   ]
  },
  {
   "cell_type": "markdown",
   "id": "1c9b4801",
   "metadata": {},
   "source": [
    "**Series Mathematical Methods :**\n",
    "\n",
    "Common statistical methods in Pandas Series for analyzing data:"
   ]
  },
  {
   "cell_type": "code",
   "execution_count": 2,
   "id": "c1e6454f",
   "metadata": {},
   "outputs": [
    {
     "name": "stdout",
     "output_type": "stream",
     "text": [
      "0       48\n",
      "1       57\n",
      "2       40\n",
      "3       43\n",
      "4       44\n",
      "      ... \n",
      "360    231\n",
      "361    226\n",
      "362    155\n",
      "363    144\n",
      "364    172\n",
      "Name: Subscribers gained, Length: 365, dtype: int64\n",
      "<class 'pandas.core.series.Series'>\n"
     ]
    },
    {
     "name": "stderr",
     "output_type": "stream",
     "text": [
      "C:\\Users\\Akash Pagi\\AppData\\Local\\Temp\\ipykernel_14516\\2046111153.py:2: FutureWarning: The squeeze argument has been deprecated and will be removed in a future version. Append .squeeze(\"columns\") to the call to squeeze.\n",
      "\n",
      "\n",
      "  subs = pd.read_csv('DATASETS/S16/subs.csv',squeeze=True)\n"
     ]
    }
   ],
   "source": [
    "import pandas as pd\n",
    "subs = pd.read_csv('DATASETS/S16/subs.csv',squeeze=True)\n",
    "print(subs)\n",
    "print(type(subs))"
   ]
  },
  {
   "cell_type": "code",
   "execution_count": 3,
   "id": "0345e765",
   "metadata": {},
   "outputs": [
    {
     "name": "stdout",
     "output_type": "stream",
     "text": [
      "match_no\n",
      "1       1\n",
      "2      23\n",
      "3      13\n",
      "4      12\n",
      "5       1\n",
      "       ..\n",
      "211     0\n",
      "212    20\n",
      "213    73\n",
      "214    25\n",
      "215     7\n",
      "Name: runs, Length: 215, dtype: int64\n",
      "<class 'pandas.core.series.Series'>\n"
     ]
    },
    {
     "name": "stderr",
     "output_type": "stream",
     "text": [
      "C:\\Users\\Akash Pagi\\AppData\\Local\\Temp\\ipykernel_14516\\240583641.py:1: FutureWarning: The squeeze argument has been deprecated and will be removed in a future version. Append .squeeze(\"columns\") to the call to squeeze.\n",
      "\n",
      "\n",
      "  vk = pd.read_csv('DATASETS/S16/kohli_ipl.csv', index_col='match_no',squeeze=True)\n"
     ]
    }
   ],
   "source": [
    "vk = pd.read_csv('DATASETS/S16/kohli_ipl.csv', index_col='match_no',squeeze=True)\n",
    "print(vk)\n",
    "print(type(vk))"
   ]
  },
  {
   "cell_type": "code",
   "execution_count": 4,
   "id": "286d15e3",
   "metadata": {},
   "outputs": [
    {
     "name": "stderr",
     "output_type": "stream",
     "text": [
      "C:\\Users\\Akash Pagi\\AppData\\Local\\Temp\\ipykernel_14516\\2781145530.py:1: FutureWarning: The squeeze argument has been deprecated and will be removed in a future version. Append .squeeze(\"columns\") to the call to squeeze.\n",
      "\n",
      "\n",
      "  m = pd.read_csv('DATASETS/S16/bollywood.csv', index_col='movie', squeeze=True)\n"
     ]
    },
    {
     "name": "stdout",
     "output_type": "stream",
     "text": [
      "movie\n",
      "Uri: The Surgical Strike                   Vicky Kaushal\n",
      "Battalion 609                                Vicky Ahuja\n",
      "The Accidental Prime Minister (film)         Anupam Kher\n",
      "Why Cheat India                            Emraan Hashmi\n",
      "Evening Shadows                         Mona Ambegaonkar\n",
      "                                              ...       \n",
      "Hum Tumhare Hain Sanam                    Shah Rukh Khan\n",
      "Aankhen (2002 film)                     Amitabh Bachchan\n",
      "Saathiya (film)                             Vivek Oberoi\n",
      "Company (film)                                Ajay Devgn\n",
      "Awara Paagal Deewana                        Akshay Kumar\n",
      "Name: lead, Length: 1500, dtype: object\n",
      "<class 'pandas.core.series.Series'>\n"
     ]
    }
   ],
   "source": [
    "m = pd.read_csv('DATASETS/S16/bollywood.csv', index_col='movie', squeeze=True)\n",
    "print(m)\n",
    "print(type(m))"
   ]
  },
  {
   "cell_type": "markdown",
   "id": "52f96d68",
   "metadata": {},
   "source": [
    "**count():**\n",
    "- Count the non-null elements in the Series."
   ]
  },
  {
   "cell_type": "code",
   "execution_count": 5,
   "id": "4872e224",
   "metadata": {},
   "outputs": [
    {
     "name": "stdout",
     "output_type": "stream",
     "text": [
      "215\n",
      "365\n"
     ]
    }
   ],
   "source": [
    "print(vk.count())\n",
    "print(subs.count())"
   ]
  },
  {
   "cell_type": "markdown",
   "id": "66fc99a5",
   "metadata": {},
   "source": [
    "**sum():**\n",
    "- the sum() method is used to calculate the sum of all the elements in a Series"
   ]
  },
  {
   "cell_type": "code",
   "execution_count": 6,
   "id": "7405115d",
   "metadata": {},
   "outputs": [
    {
     "name": "stdout",
     "output_type": "stream",
     "text": [
      "49510\n"
     ]
    }
   ],
   "source": [
    "print(subs.sum())"
   ]
  },
  {
   "cell_type": "markdown",
   "id": "1baf7809",
   "metadata": {},
   "source": [
    "**product():**\n",
    "- The product() method in Pandas Series is used to calculate the product of all elements in the Series. \n",
    "- It multiplies all the values together and returns the result."
   ]
  },
  {
   "cell_type": "code",
   "execution_count": 7,
   "id": "b573042b",
   "metadata": {},
   "outputs": [
    {
     "name": "stdout",
     "output_type": "stream",
     "text": [
      "0\n",
      "0\n"
     ]
    }
   ],
   "source": [
    "print(subs.product())\n",
    "print(vk.product())"
   ]
  },
  {
   "cell_type": "markdown",
   "id": "06ab40f8",
   "metadata": {},
   "source": [
    "**mean():** \n",
    "- This method calculates the mean (average) of the elements in a Series."
   ]
  },
  {
   "cell_type": "code",
   "execution_count": 8,
   "id": "426d0964",
   "metadata": {},
   "outputs": [
    {
     "name": "stdout",
     "output_type": "stream",
     "text": [
      "average yt subs of campusx channel: 135.64383561643837\n",
      "average ipl runs of virat kohli: 30.855813953488372\n"
     ]
    }
   ],
   "source": [
    "print('average yt subs of campusx channel:',subs.mean())\n",
    "print('average ipl runs of virat kohli:',vk.mean())"
   ]
  },
  {
   "cell_type": "markdown",
   "id": "a6f4f169",
   "metadata": {},
   "source": [
    "**median():** \n",
    "- The median() method calculates the median of the elements in a Series, which is the middle value when the data is sorted. It's a measure of central tendency."
   ]
  },
  {
   "cell_type": "code",
   "execution_count": 9,
   "id": "af1dbcf7",
   "metadata": {},
   "outputs": [
    {
     "name": "stdout",
     "output_type": "stream",
     "text": [
      "123.0\n",
      "24.0\n"
     ]
    }
   ],
   "source": [
    "print(subs.median())\n",
    "print(vk.median())"
   ]
  },
  {
   "cell_type": "markdown",
   "id": "858b7176",
   "metadata": {},
   "source": [
    "**mode():** \n",
    "- The mode() method returns the mode(s) of the elements in a Series, which is the most frequently occurring value(s)."
   ]
  },
  {
   "cell_type": "code",
   "execution_count": 10,
   "id": "7c852cec",
   "metadata": {},
   "outputs": [
    {
     "name": "stdout",
     "output_type": "stream",
     "text": [
      "Most frequent lead actor :\n",
      "0    Akshay Kumar\n",
      "Name: lead, dtype: object\n"
     ]
    }
   ],
   "source": [
    "print('Most frequent lead actor :')\n",
    "print(m.mode())"
   ]
  },
  {
   "cell_type": "markdown",
   "id": "108d532a",
   "metadata": {},
   "source": [
    "**std():** \n",
    "- The std() method computes the standard deviation of the elements in a Series, which measures the spread or dispersion of the data."
   ]
  },
  {
   "cell_type": "code",
   "execution_count": 11,
   "id": "97801ee8",
   "metadata": {},
   "outputs": [
    {
     "name": "stdout",
     "output_type": "stream",
     "text": [
      "26.22980132830278\n"
     ]
    }
   ],
   "source": [
    "print(vk.std())"
   ]
  },
  {
   "cell_type": "markdown",
   "id": "18d77e9f",
   "metadata": {},
   "source": [
    "**var():** \n",
    "- The var() method calculates the variance of the elements in a Series, which is the average of the squared differences from the mean."
   ]
  },
  {
   "cell_type": "code",
   "execution_count": 12,
   "id": "5e226e68",
   "metadata": {},
   "outputs": [
    {
     "name": "stdout",
     "output_type": "stream",
     "text": [
      "3928.1585127201565\n",
      "688.0024777222343\n"
     ]
    }
   ],
   "source": [
    "print(subs.var())\n",
    "print(vk.var())"
   ]
  },
  {
   "cell_type": "markdown",
   "id": "07dec992",
   "metadata": {},
   "source": [
    "**min():**\n",
    "- The min() method returns the minimum value in a Series or DataFrame."
   ]
  },
  {
   "cell_type": "code",
   "execution_count": 13,
   "id": "53c5680b",
   "metadata": {},
   "outputs": [
    {
     "name": "stdout",
     "output_type": "stream",
     "text": [
      "minimum subs: 33\n",
      "minimum runs: 0\n"
     ]
    }
   ],
   "source": [
    "print('minimum subs:',subs.min())\n",
    "print('minimum runs:',vk.min())"
   ]
  },
  {
   "cell_type": "markdown",
   "id": "42d59351",
   "metadata": {},
   "source": [
    "**max():**\n",
    "- The max() method returns the maximum value in a Series or DataFrame."
   ]
  },
  {
   "cell_type": "code",
   "execution_count": 14,
   "id": "4bf9bcfd",
   "metadata": {},
   "outputs": [
    {
     "name": "stdout",
     "output_type": "stream",
     "text": [
      "maximum subs: 396\n",
      "maximum runs: 113\n"
     ]
    }
   ],
   "source": [
    "print('maximum subs:',subs.max())\n",
    "print('maximum runs:',vk.max())"
   ]
  },
  {
   "cell_type": "markdown",
   "id": "0895a571",
   "metadata": {},
   "source": [
    "**describe():**\n",
    "- The describe() method in Pandas is a convenient function to generate descriptive statistics of a numeric Series or DataFrame. \n",
    "- It provides a summary of various statistical measures, giving you insights into the data's distribution and central tendency.\n",
    "\n",
    "- The describe() method provides the following statistics:\n",
    "\n",
    "    - **count:** The number of non-null elements in the Series.\n",
    "    - **mean:** The mean (average) of the Series.\n",
    "    - **std:** The standard deviation, which measures the spread of the data.\n",
    "    - **min:** The minimum value in the Series.\n",
    "    - **25%:** The 25th percentile (lower quartile).\n",
    "    - **50%:** The median (50th percentile).\n",
    "    - **75%:** The 75th percentile (upper quartile).\n",
    "    - **max:** The maximum value in the Series.\n",
    "    \n",
    "- **Note:** the describe() works on numeric data"
   ]
  },
  {
   "cell_type": "code",
   "execution_count": 15,
   "id": "117ef650",
   "metadata": {},
   "outputs": [
    {
     "name": "stdout",
     "output_type": "stream",
     "text": [
      "count    215.000000\n",
      "mean      30.855814\n",
      "std       26.229801\n",
      "min        0.000000\n",
      "25%        9.000000\n",
      "50%       24.000000\n",
      "75%       48.000000\n",
      "max      113.000000\n",
      "Name: runs, dtype: float64\n"
     ]
    }
   ],
   "source": [
    "print(vk.describe())"
   ]
  },
  {
   "cell_type": "code",
   "execution_count": 16,
   "id": "65bf3a9f",
   "metadata": {},
   "outputs": [
    {
     "name": "stdout",
     "output_type": "stream",
     "text": [
      "count    365.000000\n",
      "mean     135.643836\n",
      "std       62.675023\n",
      "min       33.000000\n",
      "25%       88.000000\n",
      "50%      123.000000\n",
      "75%      177.000000\n",
      "max      396.000000\n",
      "Name: Subscribers gained, dtype: float64\n"
     ]
    }
   ],
   "source": [
    "print(subs.describe())"
   ]
  },
  {
   "cell_type": "markdown",
   "id": "0febf0e1",
   "metadata": {},
   "source": [
    "**Indexing in Series:**"
   ]
  },
  {
   "cell_type": "code",
   "execution_count": 2,
   "id": "3dcaf57f",
   "metadata": {},
   "outputs": [
    {
     "name": "stdout",
     "output_type": "stream",
     "text": [
      "0       48\n",
      "1       57\n",
      "2       40\n",
      "3       43\n",
      "4       44\n",
      "      ... \n",
      "360    231\n",
      "361    226\n",
      "362    155\n",
      "363    144\n",
      "364    172\n",
      "Name: Subscribers gained, Length: 365, dtype: int64\n",
      "<class 'pandas.core.series.Series'>\n"
     ]
    },
    {
     "name": "stderr",
     "output_type": "stream",
     "text": [
      "C:\\Users\\Akash Pagi\\AppData\\Local\\Temp\\ipykernel_16108\\2235976868.py:2: FutureWarning: The squeeze argument has been deprecated and will be removed in a future version. Append .squeeze(\"columns\") to the call to squeeze.\n",
      "\n",
      "\n",
      "  subs = pd.read_csv('DATASETS/S16/subs.csv', squeeze=True)\n"
     ]
    }
   ],
   "source": [
    "import pandas as pd\n",
    "subs = pd.read_csv('DATASETS/S16/subs.csv', squeeze=True)\n",
    "print(subs)\n",
    "print(type(subs))"
   ]
  },
  {
   "cell_type": "code",
   "execution_count": 3,
   "id": "dc9ab874",
   "metadata": {},
   "outputs": [
    {
     "name": "stdout",
     "output_type": "stream",
     "text": [
      "match_no\n",
      "1       1\n",
      "2      23\n",
      "3      13\n",
      "4      12\n",
      "5       1\n",
      "       ..\n",
      "211     0\n",
      "212    20\n",
      "213    73\n",
      "214    25\n",
      "215     7\n",
      "Name: runs, Length: 215, dtype: int64\n",
      "<class 'pandas.core.series.Series'>\n"
     ]
    },
    {
     "name": "stderr",
     "output_type": "stream",
     "text": [
      "C:\\Users\\Akash Pagi\\AppData\\Local\\Temp\\ipykernel_16108\\1927180952.py:1: FutureWarning: The squeeze argument has been deprecated and will be removed in a future version. Append .squeeze(\"columns\") to the call to squeeze.\n",
      "\n",
      "\n",
      "  vk = pd.read_csv('DATASETS/S16/kohli_ipl.csv', index_col='match_no', squeeze=True)\n"
     ]
    }
   ],
   "source": [
    "vk = pd.read_csv('DATASETS/S16/kohli_ipl.csv', index_col='match_no', squeeze=True)\n",
    "print(vk)\n",
    "print(type(vk))"
   ]
  },
  {
   "cell_type": "code",
   "execution_count": 54,
   "id": "ab8ad917",
   "metadata": {},
   "outputs": [
    {
     "name": "stdout",
     "output_type": "stream",
     "text": [
      "movie\n",
      "Uri: The Surgical Strike                   Vicky Kaushal\n",
      "Battalion 609                                Vicky Ahuja\n",
      "The Accidental Prime Minister (film)         Anupam Kher\n",
      "Why Cheat India                            Emraan Hashmi\n",
      "Evening Shadows                         Mona Ambegaonkar\n",
      "                                              ...       \n",
      "Hum Tumhare Hain Sanam                    Shah Rukh Khan\n",
      "Aankhen (2002 film)                     Amitabh Bachchan\n",
      "Saathiya (film)                             Vivek Oberoi\n",
      "Company (film)                                Ajay Devgn\n",
      "Awara Paagal Deewana                        Akshay Kumar\n",
      "Name: lead, Length: 1500, dtype: object\n",
      "<class 'pandas.core.series.Series'>\n"
     ]
    },
    {
     "name": "stderr",
     "output_type": "stream",
     "text": [
      "C:\\Users\\Akash Pagi\\AppData\\Local\\Temp\\ipykernel_16108\\2781145530.py:1: FutureWarning: The squeeze argument has been deprecated and will be removed in a future version. Append .squeeze(\"columns\") to the call to squeeze.\n",
      "\n",
      "\n",
      "  m = pd.read_csv('DATASETS/S16/bollywood.csv', index_col='movie', squeeze=True)\n"
     ]
    }
   ],
   "source": [
    "m = pd.read_csv('DATASETS/S16/bollywood.csv', index_col='movie', squeeze=True)\n",
    "print(m)\n",
    "print(type(m))"
   ]
  },
  {
   "cell_type": "code",
   "execution_count": 5,
   "id": "9695b839",
   "metadata": {},
   "outputs": [
    {
     "name": "stdout",
     "output_type": "stream",
     "text": [
      "0    10\n",
      "1    20\n",
      "2    40\n",
      "3    50\n",
      "dtype: int64\n"
     ]
    }
   ],
   "source": [
    "#Positive Indexing in series:\n",
    "import pandas as pd\n",
    "series = pd.Series([10,20,40,50])\n",
    "print(series)"
   ]
  },
  {
   "cell_type": "markdown",
   "id": "25f32a38",
   "metadata": {},
   "source": [
    "**Note:** Positive indexing works but negative indexing not works"
   ]
  },
  {
   "cell_type": "code",
   "execution_count": 6,
   "id": "38c898ff",
   "metadata": {},
   "outputs": [
    {
     "name": "stdout",
     "output_type": "stream",
     "text": [
      "10\n",
      "20\n"
     ]
    }
   ],
   "source": [
    "print(series[0])\n",
    "print(series[1])\n",
    "#print(series[5]) # ValueError & KeyError "
   ]
  },
  {
   "cell_type": "code",
   "execution_count": 7,
   "id": "b26f6381",
   "metadata": {},
   "outputs": [],
   "source": [
    "#Negative Indexing in sereis:\n",
    "#It is not working on series\n",
    "#print(series[-1]) # ValueError & KeyError "
   ]
  },
  {
   "cell_type": "markdown",
   "id": "536fb09e",
   "metadata": {},
   "source": [
    "**Note:**  Here movie name act as index or we can provide index number"
   ]
  },
  {
   "cell_type": "code",
   "execution_count": 8,
   "id": "4489ce14",
   "metadata": {},
   "outputs": [
    {
     "name": "stdout",
     "output_type": "stream",
     "text": [
      "Vicky Kaushal\n",
      "Vicky Ahuja\n",
      "Akshay Kumar\n"
     ]
    }
   ],
   "source": [
    "# bollywood.csv dataset\n",
    "# Both positive and negative is possible\n",
    "print(m['Uri: The Surgical Strike'])\n",
    "print(m[1])\n",
    "print(m[-1])"
   ]
  },
  {
   "cell_type": "markdown",
   "id": "10cee4c4",
   "metadata": {},
   "source": [
    "**Indexing with labels:**"
   ]
  },
  {
   "cell_type": "code",
   "execution_count": 9,
   "id": "9829827f",
   "metadata": {},
   "outputs": [
    {
     "name": "stdout",
     "output_type": "stream",
     "text": [
      "Vicky Kaushal\n"
     ]
    }
   ],
   "source": [
    "# movie name is label for index\n",
    "print(m['Uri: The Surgical Strike'])"
   ]
  },
  {
   "cell_type": "markdown",
   "id": "93ce3097",
   "metadata": {},
   "source": [
    "**Slicing:**\n",
    "- Slicing a series it's similar to python object slicing."
   ]
  },
  {
   "cell_type": "code",
   "execution_count": 15,
   "id": "f022e06c",
   "metadata": {},
   "outputs": [
    {
     "name": "stdout",
     "output_type": "stream",
     "text": [
      "match_no\n",
      "5     1\n",
      "6     9\n",
      "7    34\n",
      "8     0\n",
      "Name: runs, dtype: int64\n",
      "match_no\n",
      "2    23\n",
      "4    12\n",
      "6     9\n",
      "8     0\n",
      "Name: runs, dtype: int64\n"
     ]
    },
    {
     "name": "stderr",
     "output_type": "stream",
     "text": [
      "C:\\Users\\Akash Pagi\\AppData\\Local\\Temp\\ipykernel_16108\\172697915.py:2: FutureWarning: The behavior of `series[i:j]` with an integer-dtype index is deprecated. In a future version, this will be treated as *label-based* indexing, consistent with e.g. `series[i]` lookups. To retain the old behavior, use `series.iloc[i:j]`. To get the future behavior, use `series.loc[i:j]`.\n",
      "  print(vk[4:8])\n",
      "C:\\Users\\Akash Pagi\\AppData\\Local\\Temp\\ipykernel_16108\\172697915.py:3: FutureWarning: The behavior of `series[i:j]` with an integer-dtype index is deprecated. In a future version, this will be treated as *label-based* indexing, consistent with e.g. `series[i]` lookups. To retain the old behavior, use `series.iloc[i:j]`. To get the future behavior, use `series.loc[i:j]`.\n",
      "  print(vk[1:8:2])\n"
     ]
    }
   ],
   "source": [
    "# Positive slicing\n",
    "print(vk[4:8])\n",
    "print(vk[1:8:2])"
   ]
  },
  {
   "cell_type": "code",
   "execution_count": 11,
   "id": "056b2dac",
   "metadata": {},
   "outputs": [
    {
     "name": "stdout",
     "output_type": "stream",
     "text": [
      "movie\n",
      "Hum Tumhare Hain Sanam      Shah Rukh Khan\n",
      "Aankhen (2002 film)       Amitabh Bachchan\n",
      "Saathiya (film)               Vivek Oberoi\n",
      "Company (film)                  Ajay Devgn\n",
      "Awara Paagal Deewana          Akshay Kumar\n",
      "Name: lead, dtype: object\n"
     ]
    }
   ],
   "source": [
    "# negative slicing \n",
    "print(m[-5:]) # last 5 movies "
   ]
  },
  {
   "cell_type": "code",
   "execution_count": 12,
   "id": "17cd53f0",
   "metadata": {},
   "outputs": [
    {
     "name": "stdout",
     "output_type": "stream",
     "text": [
      "match_no\n",
      "212    20\n",
      "213    73\n",
      "214    25\n",
      "215     7\n",
      "Name: runs, dtype: int64\n"
     ]
    },
    {
     "name": "stderr",
     "output_type": "stream",
     "text": [
      "C:\\Users\\Akash Pagi\\AppData\\Local\\Temp\\ipykernel_16108\\3379503773.py:2: FutureWarning: The behavior of `series[i:j]` with an integer-dtype index is deprecated. In a future version, this will be treated as *label-based* indexing, consistent with e.g. `series[i]` lookups. To retain the old behavior, use `series.iloc[i:j]`. To get the future behavior, use `series.loc[i:j]`.\n",
      "  print(vk[-4:])\n"
     ]
    }
   ],
   "source": [
    "# Virat kohli last 5 ipl matches run \n",
    "print(vk[-4:]) "
   ]
  },
  {
   "cell_type": "markdown",
   "id": "c7274e92",
   "metadata": {},
   "source": [
    "**Fancy indexing:**|"
   ]
  },
  {
   "cell_type": "code",
   "execution_count": 13,
   "id": "33cbbebf",
   "metadata": {},
   "outputs": [
    {
     "name": "stdout",
     "output_type": "stream",
     "text": [
      "match_no\n",
      "4    12\n",
      "3    13\n",
      "7    34\n",
      "Name: runs, dtype: int64\n",
      "movie\n",
      "Evening Shadows    Mona Ambegaonkar\n",
      "Fraud Saiyaan          Arshad Warsi\n",
      "Amavas                    Ali Asgar\n",
      "Name: lead, dtype: object\n",
      "9    74\n",
      "6    33\n",
      "Name: Subscribers gained, dtype: int64\n"
     ]
    }
   ],
   "source": [
    "print(vk[[4,3,7]])\n",
    "print(m[[4,6,10]])\n",
    "print(subs[[9,6]])"
   ]
  },
  {
   "cell_type": "markdown",
   "id": "f327910d",
   "metadata": {},
   "source": [
    "**Editing Pandas Series:(Optional)**\n",
    "\n",
    "Editing a Pandas Series involves modifying the data within the Series or changing its values or index labels.\n",
    "Here are some common operations for editing Pandas Series:"
   ]
  },
  {
   "cell_type": "code",
   "execution_count": 24,
   "id": "7a900da4",
   "metadata": {},
   "outputs": [
    {
     "name": "stdout",
     "output_type": "stream",
     "text": [
      "C++       58\n",
      "Python    93\n",
      "NumPy     89\n",
      "Java      60\n",
      "dtype: int64\n"
     ]
    }
   ],
   "source": [
    "import pandas as pd\n",
    "marks = [58,93,89,60]\n",
    "subjects = ['C++','Python','NumPy','Java']\n",
    "student_marks = pd.Series(marks, index=subjects)\n",
    "print(student_marks)"
   ]
  },
  {
   "cell_type": "code",
   "execution_count": 26,
   "id": "969042ac",
   "metadata": {},
   "outputs": [
    {
     "name": "stdout",
     "output_type": "stream",
     "text": [
      "C++       90\n",
      "Python    93\n",
      "NumPy     89\n",
      "Java      60\n",
      "dtype: int64\n"
     ]
    }
   ],
   "source": [
    "# Change a specific value\n",
    "student_marks[0] = 90\n",
    "print(student_marks)"
   ]
  },
  {
   "cell_type": "code",
   "execution_count": 27,
   "id": "1243c74c",
   "metadata": {},
   "outputs": [
    {
     "name": "stdout",
     "output_type": "stream",
     "text": [
      "C++           90\n",
      "Python        93\n",
      "NumPy         89\n",
      "Java          60\n",
      "JavaScript    90\n",
      "dtype: int64\n"
     ]
    }
   ],
   "source": [
    "# what if an index does not exist\n",
    "student_marks['JavaScript'] = 90\n",
    "print(student_marks)"
   ]
  },
  {
   "cell_type": "code",
   "execution_count": 33,
   "id": "f53d75dd",
   "metadata": {},
   "outputs": [
    {
     "name": "stdout",
     "output_type": "stream",
     "text": [
      "match_no\n",
      "1     90\n",
      "2     70\n",
      "3    100\n",
      "4     12\n",
      "Name: runs, dtype: int64\n"
     ]
    },
    {
     "name": "stderr",
     "output_type": "stream",
     "text": [
      "C:\\Users\\Akash Pagi\\AppData\\Local\\Temp\\ipykernel_16108\\2370768700.py:3: FutureWarning: The behavior of `series[i:j]` with an integer-dtype index is deprecated. In a future version, this will be treated as *label-based* indexing, consistent with e.g. `series[i]` lookups. To retain the old behavior, use `series.iloc[i:j]`. To get the future behavior, use `series.loc[i:j]`.\n",
      "  vk[0:3] = [90,70,100]\n"
     ]
    }
   ],
   "source": [
    "# Using slicing:\n",
    "# changing the vk ipl runs\n",
    "vk[0:3] = [90,70,100]\n",
    "print(vk.head(4))"
   ]
  },
  {
   "cell_type": "code",
   "execution_count": 34,
   "id": "11e5314b",
   "metadata": {},
   "outputs": [
    {
     "name": "stdout",
     "output_type": "stream",
     "text": [
      "match_no\n",
      "1    70\n",
      "2    70\n",
      "3    70\n",
      "4    70\n",
      "Name: runs, dtype: int64\n"
     ]
    }
   ],
   "source": [
    "# Fancy indexing:\n",
    "vk[[1,2,3,4]] = [70,70,70,70]\n",
    "print(vk.head(4))"
   ]
  },
  {
   "cell_type": "code",
   "execution_count": 39,
   "id": "4d3b98d5",
   "metadata": {},
   "outputs": [
    {
     "name": "stdout",
     "output_type": "stream",
     "text": [
      "movie\n",
      "Uri: The Surgical Strike                Vicky Kaushal\n",
      "Battalion 609                             Salman Khan\n",
      "The Accidental Prime Minister (film)      Anupam Kher\n",
      "Why Cheat India                         Emraan Hashmi\n",
      "Name: lead, dtype: object\n"
     ]
    }
   ],
   "source": [
    "# using index label\n",
    "m['Battalion 609'] = 'Salman Khan'\n",
    "print(m.head(4))"
   ]
  },
  {
   "cell_type": "markdown",
   "id": "ad7ff799",
   "metadata": {},
   "source": [
    "**Note:** Most of the time, real world data is only reading purpose. "
   ]
  },
  {
   "cell_type": "markdown",
   "id": "a8d1d0ef",
   "metadata": {},
   "source": [
    "**Series with Python Functionalities:**"
   ]
  },
  {
   "cell_type": "code",
   "execution_count": 42,
   "id": "6564cd10",
   "metadata": {},
   "outputs": [
    {
     "name": "stdout",
     "output_type": "stream",
     "text": [
      "365\n",
      "<class 'pandas.core.series.Series'>\n",
      "33\n",
      "396\n"
     ]
    }
   ],
   "source": [
    "# len/type/dir/sorted/max/min\n",
    "print(len(subs))\n",
    "print(type(subs))\n",
    "#print(dir(subs))\n",
    "#print(sorted(subs))\n",
    "print(min(subs))\n",
    "print(max(subs))"
   ]
  },
  {
   "cell_type": "markdown",
   "id": "2875a94c",
   "metadata": {},
   "source": [
    "**type conversion:**"
   ]
  },
  {
   "cell_type": "code",
   "execution_count": 45,
   "id": "5bb8d72b",
   "metadata": {},
   "outputs": [
    {
     "name": "stdout",
     "output_type": "stream",
     "text": [
      "[90, 93, 89, 60, 90]\n"
     ]
    }
   ],
   "source": [
    "print(list(student_marks))"
   ]
  },
  {
   "cell_type": "code",
   "execution_count": 46,
   "id": "7b52448d",
   "metadata": {},
   "outputs": [
    {
     "name": "stdout",
     "output_type": "stream",
     "text": [
      "{'C++': 90, 'Python': 93, 'NumPy': 89, 'Java': 60, 'JavaScript': 90}\n"
     ]
    }
   ],
   "source": [
    "print(dict(student_marks))"
   ]
  },
  {
   "cell_type": "markdown",
   "id": "3f590545",
   "metadata": {},
   "source": [
    "**membership operator:**\n",
    "- It works on index values"
   ]
  },
  {
   "cell_type": "code",
   "execution_count": 55,
   "id": "dcadef65",
   "metadata": {},
   "outputs": [
    {
     "data": {
      "text/plain": [
       "movie\n",
       "Uri: The Surgical Strike                   Vicky Kaushal\n",
       "Battalion 609                                Vicky Ahuja\n",
       "The Accidental Prime Minister (film)         Anupam Kher\n",
       "Why Cheat India                            Emraan Hashmi\n",
       "Evening Shadows                         Mona Ambegaonkar\n",
       "                                              ...       \n",
       "Hum Tumhare Hain Sanam                    Shah Rukh Khan\n",
       "Aankhen (2002 film)                     Amitabh Bachchan\n",
       "Saathiya (film)                             Vivek Oberoi\n",
       "Company (film)                                Ajay Devgn\n",
       "Awara Paagal Deewana                        Akshay Kumar\n",
       "Name: lead, Length: 1500, dtype: object"
      ]
     },
     "execution_count": 55,
     "metadata": {},
     "output_type": "execute_result"
    }
   ],
   "source": [
    "m"
   ]
  },
  {
   "cell_type": "code",
   "execution_count": 58,
   "id": "f4be46b6",
   "metadata": {},
   "outputs": [
    {
     "name": "stdout",
     "output_type": "stream",
     "text": [
      "True\n",
      "False\n"
     ]
    }
   ],
   "source": [
    "print('Company (film)' in m)\n",
    "print('Evening' in m)"
   ]
  },
  {
   "cell_type": "markdown",
   "id": "147bfec5",
   "metadata": {},
   "source": [
    "**Looping:**"
   ]
  },
  {
   "cell_type": "code",
   "execution_count": 66,
   "id": "06d5cc22",
   "metadata": {},
   "outputs": [
    {
     "name": "stdout",
     "output_type": "stream",
     "text": [
      "C++\n",
      "Python\n",
      "NumPy\n",
      "Java\n",
      "JavaScript\n"
     ]
    }
   ],
   "source": [
    "for i in student_marks.index:\n",
    "    print(i)"
   ]
  },
  {
   "cell_type": "markdown",
   "id": "c3baca8d",
   "metadata": {},
   "source": [
    "**Arthimatic operator:**"
   ]
  },
  {
   "cell_type": "code",
   "execution_count": 68,
   "id": "4d4865b8",
   "metadata": {},
   "outputs": [
    {
     "name": "stdout",
     "output_type": "stream",
     "text": [
      "C++           90\n",
      "Python        93\n",
      "NumPy         89\n",
      "Java          60\n",
      "JavaScript    90\n",
      "dtype: int64\n"
     ]
    }
   ],
   "source": [
    "print(student_marks)"
   ]
  },
  {
   "cell_type": "code",
   "execution_count": 69,
   "id": "3cea7720",
   "metadata": {},
   "outputs": [
    {
     "name": "stdout",
     "output_type": "stream",
     "text": [
      "C++           10\n",
      "Python         7\n",
      "NumPy         11\n",
      "Java          40\n",
      "JavaScript    10\n",
      "dtype: int64\n"
     ]
    }
   ],
   "source": [
    "# remaining marks to get out of \n",
    "# It's like broadcasting\n",
    "print(100 - student_marks)"
   ]
  },
  {
   "cell_type": "markdown",
   "id": "0495c2d1",
   "metadata": {},
   "source": [
    "**Relational operator :**"
   ]
  },
  {
   "cell_type": "code",
   "execution_count": 75,
   "id": "f798988f",
   "metadata": {},
   "outputs": [
    {
     "name": "stdout",
     "output_type": "stream",
     "text": [
      "match_no\n",
      "1       True\n",
      "2       True\n",
      "3       True\n",
      "4       True\n",
      "5      False\n",
      "       ...  \n",
      "211    False\n",
      "212    False\n",
      "213     True\n",
      "214    False\n",
      "215    False\n",
      "Name: runs, Length: 215, dtype: bool\n"
     ]
    }
   ],
   "source": [
    "# vk hits more than or equal to 50 runs\n",
    "print(vk >= 50)"
   ]
  },
  {
   "cell_type": "markdown",
   "id": "f73db1c7",
   "metadata": {},
   "source": [
    "**Boolean Indexing on Series:**"
   ]
  },
  {
   "cell_type": "code",
   "execution_count": 78,
   "id": "cc6f1fdc",
   "metadata": {},
   "outputs": [
    {
     "name": "stdout",
     "output_type": "stream",
     "text": [
      "match_no\n",
      "1       70\n",
      "2       70\n",
      "3       70\n",
      "4       70\n",
      "15      50\n",
      "34      58\n",
      "41      71\n",
      "44      56\n",
      "45      67\n",
      "52      70\n",
      "57      57\n",
      "68      73\n",
      "71      51\n",
      "73      58\n",
      "74      65\n",
      "80      57\n",
      "81      93\n",
      "82      99\n",
      "85      56\n",
      "97      67\n",
      "99      73\n",
      "103     51\n",
      "104     62\n",
      "110     82\n",
      "116     75\n",
      "117     79\n",
      "119     80\n",
      "120    100\n",
      "122     52\n",
      "123    108\n",
      "126    109\n",
      "127     75\n",
      "128    113\n",
      "129     54\n",
      "131     54\n",
      "132     62\n",
      "134     64\n",
      "137     55\n",
      "141     58\n",
      "144     57\n",
      "145     92\n",
      "148     68\n",
      "152     70\n",
      "160     84\n",
      "162     67\n",
      "164    100\n",
      "175     72\n",
      "178     90\n",
      "182     50\n",
      "188     72\n",
      "197     51\n",
      "198     53\n",
      "209     58\n",
      "213     73\n",
      "Name: runs, dtype: int64\n",
      "54\n"
     ]
    }
   ],
   "source": [
    "# Find no of 50's and 100's scored by kohli\n",
    "vk_score = vk[vk >= 50]\n",
    "print(vk_score)\n",
    "print(vk_score.size)"
   ]
  },
  {
   "cell_type": "code",
   "execution_count": 81,
   "id": "368f03f9",
   "metadata": {},
   "outputs": [
    {
     "name": "stdout",
     "output_type": "stream",
     "text": [
      "match_no\n",
      "8      0\n",
      "87     0\n",
      "91     0\n",
      "93     0\n",
      "130    0\n",
      "135    0\n",
      "206    0\n",
      "207    0\n",
      "211    0\n",
      "Name: runs, dtype: int64\n",
      "9\n"
     ]
    }
   ],
   "source": [
    "# find number of ducks(zeros)\n",
    "print(vk[vk==0])\n",
    "print(vk[vk==0].size)"
   ]
  },
  {
   "cell_type": "code",
   "execution_count": 83,
   "id": "fe766255",
   "metadata": {},
   "outputs": [
    {
     "name": "stdout",
     "output_type": "stream",
     "text": [
      "59\n"
     ]
    }
   ],
   "source": [
    "# Count number of day when I had more than 200 subs a day\n",
    "print(subs[subs > 200].size)"
   ]
  },
  {
   "cell_type": "code",
   "execution_count": 89,
   "id": "4c3c9a12",
   "metadata": {},
   "outputs": [
    {
     "name": "stdout",
     "output_type": "stream",
     "text": [
      "Akshay Kumar        48\n",
      "Amitabh Bachchan    45\n",
      "Ajay Devgn          38\n",
      "Salman Khan         31\n",
      "Sanjay Dutt         26\n",
      "Shah Rukh Khan      22\n",
      "Emraan Hashmi       21\n",
      "Name: lead, dtype: int64\n"
     ]
    }
   ],
   "source": [
    "# find actors who have done more than 20 movies\n",
    "m_count = m.value_counts()\n",
    "print(m_count[m_count > 20])"
   ]
  },
  {
   "cell_type": "markdown",
   "id": "6a6c8b33",
   "metadata": {},
   "source": [
    "**Plotting Graphs on Series:**"
   ]
  },
  {
   "cell_type": "code",
   "execution_count": null,
   "id": "1880987c",
   "metadata": {},
   "outputs": [],
   "source": []
  },
  {
   "cell_type": "code",
   "execution_count": null,
   "id": "4b4be571",
   "metadata": {},
   "outputs": [],
   "source": []
  },
  {
   "cell_type": "code",
   "execution_count": null,
   "id": "fbcf460f",
   "metadata": {},
   "outputs": [],
   "source": []
  },
  {
   "cell_type": "code",
   "execution_count": null,
   "id": "f46f8313",
   "metadata": {},
   "outputs": [],
   "source": []
  },
  {
   "cell_type": "markdown",
   "id": "bf7d107b",
   "metadata": {},
   "source": [
    "**Some Important Series Methods:**"
   ]
  },
  {
   "cell_type": "code",
   "execution_count": null,
   "id": "2e83b639",
   "metadata": {},
   "outputs": [],
   "source": [
    "# astype\n",
    "# between\n",
    "# clip\n",
    "# drop_duplicates\n",
    "# isnull\n",
    "# dropna\n",
    "# fillna\n",
    "# isin\n",
    "# apply\n",
    "# copy"
   ]
  },
  {
   "cell_type": "code",
   "execution_count": null,
   "id": "fe187554",
   "metadata": {},
   "outputs": [],
   "source": []
  },
  {
   "cell_type": "code",
   "execution_count": null,
   "id": "2380e832",
   "metadata": {},
   "outputs": [],
   "source": []
  },
  {
   "cell_type": "code",
   "execution_count": null,
   "id": "a956454d",
   "metadata": {},
   "outputs": [],
   "source": []
  },
  {
   "cell_type": "code",
   "execution_count": null,
   "id": "840af6bd",
   "metadata": {},
   "outputs": [],
   "source": []
  },
  {
   "cell_type": "code",
   "execution_count": null,
   "id": "fcd169ed",
   "metadata": {},
   "outputs": [],
   "source": []
  }
 ],
 "metadata": {
  "kernelspec": {
   "display_name": "Python 3 (ipykernel)",
   "language": "python",
   "name": "python3"
  },
  "language_info": {
   "codemirror_mode": {
    "name": "ipython",
    "version": 3
   },
   "file_extension": ".py",
   "mimetype": "text/x-python",
   "name": "python",
   "nbconvert_exporter": "python",
   "pygments_lexer": "ipython3",
   "version": "3.10.7"
  }
 },
 "nbformat": 4,
 "nbformat_minor": 5
}
