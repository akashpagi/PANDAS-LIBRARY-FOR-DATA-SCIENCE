{
 "cells": [
  {
   "cell_type": "markdown",
   "id": "eb40bdbc",
   "metadata": {},
   "source": [
    "### SESSION 16 - PANDAS SERIES"
   ]
  },
  {
   "cell_type": "markdown",
   "id": "68ba6a54",
   "metadata": {},
   "source": [
    "### What is Pandas\n",
    "- Pandas is a fast, powerful, flexible and easy to use open source data analysis and manipulation tool, built on top of the Python programming language.\n",
    "- https://pandas.pydata.org/about/index.html\n"
   ]
  },
  {
   "cell_type": "markdown",
   "id": "b2ffda83",
   "metadata": {},
   "source": [
    "### Pandas Series\n",
    "- A Pandas Series is like a column in a table. It is a 1-D array holding data of any type.\n",
    "- Each value in a pandas series is associated with the index. \n",
    "- The default index value of it is from 0 to number – 1, or you can specify your own index values.\n",
    "- **Syntax : pd.Series( data, index, name )**\n",
    "- Index generate automatically if you want to generate custom index we can use `index` parameters\n",
    "\n",
    "### Importing Pandas\n"
   ]
  },
  {
   "cell_type": "code",
   "execution_count": 2,
   "id": "3f59470d",
   "metadata": {},
   "outputs": [],
   "source": [
    "import numpy as np\n",
    "import pandas as pd"
   ]
  },
  {
   "cell_type": "code",
   "execution_count": 59,
   "id": "53d1d21e",
   "metadata": {},
   "outputs": [
    {
     "name": "stdout",
     "output_type": "stream",
     "text": [
      "1.5.0\n",
      "Requirement already satisfied: pandas in c:\\python311\\lib\\site-packages (2.1.0)\n",
      "Requirement already satisfied: numpy>=1.23.2 in c:\\python311\\lib\\site-packages (from pandas) (1.24.2)\n",
      "Requirement already satisfied: python-dateutil>=2.8.2 in c:\\python311\\lib\\site-packages (from pandas) (2.8.2)\n",
      "Requirement already satisfied: pytz>=2020.1 in c:\\python311\\lib\\site-packages (from pandas) (2023.3)\n",
      "Requirement already satisfied: tzdata>=2022.1 in c:\\python311\\lib\\site-packages (from pandas) (2023.3)\n",
      "Requirement already satisfied: six>=1.5 in c:\\python311\\lib\\site-packages (from python-dateutil>=2.8.2->pandas) (1.16.0)\n",
      "Requirement already satisfied: pandas in c:\\python311\\lib\\site-packages (2.1.0)\n",
      "Requirement already satisfied: numpy>=1.23.2 in c:\\python311\\lib\\site-packages (from pandas) (1.24.2)\n",
      "Requirement already satisfied: python-dateutil>=2.8.2 in c:\\python311\\lib\\site-packages (from pandas) (2.8.2)\n",
      "Requirement already satisfied: pytz>=2020.1 in c:\\python311\\lib\\site-packages (from pandas) (2023.3)\n",
      "Requirement already satisfied: tzdata>=2022.1 in c:\\python311\\lib\\site-packages (from pandas) (2023.3)\n",
      "Requirement already satisfied: six>=1.5 in c:\\python311\\lib\\site-packages (from python-dateutil>=2.8.2->pandas) (1.16.0)\n"
     ]
    }
   ],
   "source": [
    "# checking pandas versrion\n",
    "import pandas as pd\n",
    "print(pd.__version__)\n",
    "\n",
    "# installing pandas library in jupyter notebook\n",
    "!pip install pandas\n",
    "\n",
    "# upgrading the pandas versionlibrary in jupyter notebook\n",
    "!pip install --upgrade pandas"
   ]
  },
  {
   "cell_type": "markdown",
   "id": "3ba947dd",
   "metadata": {},
   "source": [
    "**Create a Series from lists:**\n",
    "1. string\n",
    "2. integers\n",
    "3. custom index\n",
    "4. setting a name"
   ]
  },
  {
   "cell_type": "code",
   "execution_count": 60,
   "id": "f1613c75",
   "metadata": {},
   "outputs": [
    {
     "name": "stdout",
     "output_type": "stream",
     "text": [
      "0       India\n",
      "1       Nepal\n",
      "2    Srilanka\n",
      "3      Bhutan\n",
      "dtype: object\n"
     ]
    }
   ],
   "source": [
    "# string\n",
    "countries = ['India', 'Nepal', 'Srilanka', 'Bhutan']\n",
    "print(pd.Series(countries))\n",
    "# Note : dtype : object all countries data type and we consider as string dtype"
   ]
  },
  {
   "cell_type": "code",
   "execution_count": 61,
   "id": "2d80f859",
   "metadata": {},
   "outputs": [
    {
     "name": "stdout",
     "output_type": "stream",
     "text": [
      "0     54\n",
      "1     76\n",
      "2    100\n",
      "3     74\n",
      "dtype: int64\n"
     ]
    }
   ],
   "source": [
    "# integer\n",
    "runs = [54,76,100,74]\n",
    "print(pd.Series(runs))"
   ]
  },
  {
   "cell_type": "code",
   "execution_count": 62,
   "id": "30595014",
   "metadata": {},
   "outputs": [
    {
     "name": "stdout",
     "output_type": "stream",
     "text": [
      "C++       58\n",
      "Python    93\n",
      "NumPy     89\n",
      "Java      60\n",
      "dtype: int64\n"
     ]
    }
   ],
   "source": [
    "# Custom index\n",
    "marks = [58,93,89,60]\n",
    "subjects = ['C++','Python','NumPy','Java']\n",
    "print(pd.Series(marks, index=subjects))"
   ]
  },
  {
   "cell_type": "markdown",
   "id": "682ef8a6",
   "metadata": {},
   "source": [
    "**Create a Series from Dictionary:**"
   ]
  },
  {
   "cell_type": "code",
   "execution_count": 63,
   "id": "a3c826c2",
   "metadata": {},
   "outputs": [
    {
     "data": {
      "text/plain": [
       "maths      78\n",
       "english    70\n",
       "science    89\n",
       "Name: student score, dtype: int64"
      ]
     },
     "execution_count": 63,
     "metadata": {},
     "output_type": "execute_result"
    }
   ],
   "source": [
    "import pandas as pd\n",
    "marks = {\n",
    "    'maths':78,\n",
    "    'english': 70,\n",
    "    'science': 89\n",
    "}\n",
    "pd.Series(marks, name='student score')"
   ]
  },
  {
   "cell_type": "markdown",
   "id": "50018fed",
   "metadata": {},
   "source": [
    "### Series Attribute :\n",
    "- In Pandas, a Series object has several important attributes that is commonly used attributes of a Pandas Series include:"
   ]
  },
  {
   "cell_type": "markdown",
   "id": "6fc355cc",
   "metadata": {},
   "source": [
    "**size:**\n",
    "- The size attribute returns the number of elements in a Series, including any elements that might contain missing or NaN (Not-a-Number) values."
   ]
  },
  {
   "cell_type": "code",
   "execution_count": 64,
   "id": "9b16f0ae",
   "metadata": {},
   "outputs": [
    {
     "name": "stdout",
     "output_type": "stream",
     "text": [
      "5\n",
      "4\n"
     ]
    }
   ],
   "source": [
    "import pandas as pd\n",
    "data = [10, 20, 30, None, 50]\n",
    "print(pd.Series(data).size) \n",
    "\n",
    "data1 = [10, 20, 30, 50]\n",
    "print(pd.Series(data1).size) "
   ]
  },
  {
   "cell_type": "markdown",
   "id": "9cca357c",
   "metadata": {},
   "source": [
    "**dtype:** \n",
    "- This attribute returns the data type of the elements in the Series. \n",
    "- It can be used to check the data type of the data within the Series."
   ]
  },
  {
   "cell_type": "code",
   "execution_count": 65,
   "id": "30c628ee",
   "metadata": {},
   "outputs": [
    {
     "name": "stdout",
     "output_type": "stream",
     "text": [
      "int64\n"
     ]
    }
   ],
   "source": [
    "import pandas as pd\n",
    "data = [10, 20, 30, 40, 50]\n",
    "print(pd.Series(data).dtype)"
   ]
  },
  {
   "cell_type": "markdown",
   "id": "4c1374a2",
   "metadata": {},
   "source": [
    "**name:** \n",
    "- You can assign a name to a Series when creating it or later using the name attribute. \n",
    "- The name is typically used in the context of DataFrames, where a Series can represent a column.\n"
   ]
  },
  {
   "cell_type": "code",
   "execution_count": 66,
   "id": "d1b82195",
   "metadata": {},
   "outputs": [
    {
     "name": "stdout",
     "output_type": "stream",
     "text": [
      "MyData\n"
     ]
    }
   ],
   "source": [
    "import pandas as pd\n",
    "data = [10, 20, 30, 40, 50]\n",
    "print(pd.Series(data, name='MyData').name)"
   ]
  },
  {
   "cell_type": "markdown",
   "id": "6bd1e507",
   "metadata": {},
   "source": [
    "**is_unique:**\n",
    "- The is_unique attribute returns a boolean value indicating whether all the values in the Series are unique (no duplicates) or not."
   ]
  },
  {
   "cell_type": "code",
   "execution_count": 67,
   "id": "40e9de97",
   "metadata": {},
   "outputs": [
    {
     "name": "stdout",
     "output_type": "stream",
     "text": [
      "True\n",
      "False\n"
     ]
    }
   ],
   "source": [
    "import pandas as pd\n",
    "data1 = [10, 20, 30, 40, 50]\n",
    "print(pd.Series(data).is_unique)  # Returns True\n",
    "\n",
    "data2 = [10, 10, 30, 50, 50]\n",
    "print(pd.Series(data2).is_unique)  # Returns False"
   ]
  },
  {
   "cell_type": "markdown",
   "id": "0771d2e7",
   "metadata": {},
   "source": [
    "**index:** \n",
    "- This attribute returns the index labels associated with the Series. \n",
    "- The index labels can be integers, strings, or any other data type. \n",
    "- If no index labels were explicitly provided when creating the Series, a default integer index will be generated."
   ]
  },
  {
   "cell_type": "code",
   "execution_count": 68,
   "id": "58e47ff8",
   "metadata": {},
   "outputs": [
    {
     "name": "stdout",
     "output_type": "stream",
     "text": [
      "Index(['A', 'B', 'C', 'D', 'E'], dtype='object')\n"
     ]
    }
   ],
   "source": [
    "import pandas as pd\n",
    "data = [10, 20, 30, 40, 50]\n",
    "index_labels = ['A', 'B', 'C', 'D', 'E']\n",
    "print(pd.Series(data, index=index_labels).index)"
   ]
  },
  {
   "cell_type": "markdown",
   "id": "8afee6d4",
   "metadata": {},
   "source": [
    "**values:** \n",
    "- This attribute returns the data in the Series as a NumPy array.\n"
   ]
  },
  {
   "cell_type": "code",
   "execution_count": 69,
   "id": "8acc0fa7",
   "metadata": {},
   "outputs": [
    {
     "name": "stdout",
     "output_type": "stream",
     "text": [
      "[78 70 89]\n"
     ]
    }
   ],
   "source": [
    "import pandas as pd\n",
    "marks = {'maths':78,'english': 70,'science': 89}\n",
    "print(pd.Series(marks).values)"
   ]
  },
  {
   "cell_type": "markdown",
   "id": "4150a737",
   "metadata": {},
   "source": [
    "### Series using read_csv():\n",
    "\n",
    "- **squeeze=True :** \n",
    "    - to avoid DataFrame\n",
    "    - specifies that the result should be squeezed into a Series if it has only one column.\n",
    "- **index_col :**\n",
    "    - used to specify which column in the CSV file should be used as the index for the resulting DataFrame.\n",
    "    - The index is a way to uniquely identify each row in the DataFrame. \n",
    "    - By default, if you don't specify the index_col parameter, Pandas will create a default integer index starting from 0."
   ]
  },
  {
   "cell_type": "code",
   "execution_count": 70,
   "id": "9d0102df",
   "metadata": {},
   "outputs": [
    {
     "name": "stderr",
     "output_type": "stream",
     "text": [
      "C:\\Users\\Akash Pagi\\AppData\\Local\\Temp\\ipykernel_3524\\2235976868.py:2: FutureWarning: The squeeze argument has been deprecated and will be removed in a future version. Append .squeeze(\"columns\") to the call to squeeze.\n",
      "\n",
      "\n",
      "  subs = pd.read_csv('DATASETS/S16/subs.csv', squeeze=True)\n"
     ]
    },
    {
     "name": "stdout",
     "output_type": "stream",
     "text": [
      "0       48\n",
      "1       57\n",
      "2       40\n",
      "3       43\n",
      "4       44\n",
      "      ... \n",
      "360    231\n",
      "361    226\n",
      "362    155\n",
      "363    144\n",
      "364    172\n",
      "Name: Subscribers gained, Length: 365, dtype: int64\n",
      "<class 'pandas.core.series.Series'>\n"
     ]
    }
   ],
   "source": [
    "import pandas as pd\n",
    "subs = pd.read_csv('DATASETS/S16/subs.csv', squeeze=True)\n",
    "print(subs)\n",
    "print(type(subs))"
   ]
  },
  {
   "cell_type": "code",
   "execution_count": 71,
   "id": "f14b5f30",
   "metadata": {},
   "outputs": [
    {
     "name": "stdout",
     "output_type": "stream",
     "text": [
      "match_no\n",
      "1       1\n",
      "2      23\n",
      "3      13\n",
      "4      12\n",
      "5       1\n",
      "       ..\n",
      "211     0\n",
      "212    20\n",
      "213    73\n",
      "214    25\n",
      "215     7\n",
      "Name: runs, Length: 215, dtype: int64\n",
      "<class 'pandas.core.series.Series'>\n"
     ]
    },
    {
     "name": "stderr",
     "output_type": "stream",
     "text": [
      "C:\\Users\\Akash Pagi\\AppData\\Local\\Temp\\ipykernel_3524\\1927180952.py:1: FutureWarning: The squeeze argument has been deprecated and will be removed in a future version. Append .squeeze(\"columns\") to the call to squeeze.\n",
      "\n",
      "\n",
      "  vk = pd.read_csv('DATASETS/S16/kohli_ipl.csv', index_col='match_no', squeeze=True)\n"
     ]
    }
   ],
   "source": [
    "vk = pd.read_csv('DATASETS/S16/kohli_ipl.csv', index_col='match_no', squeeze=True)\n",
    "print(vk)\n",
    "print(type(vk))"
   ]
  },
  {
   "cell_type": "code",
   "execution_count": 72,
   "id": "883e3ad5",
   "metadata": {},
   "outputs": [
    {
     "name": "stdout",
     "output_type": "stream",
     "text": [
      "movie\n",
      "Uri: The Surgical Strike                   Vicky Kaushal\n",
      "Battalion 609                                Vicky Ahuja\n",
      "The Accidental Prime Minister (film)         Anupam Kher\n",
      "Why Cheat India                            Emraan Hashmi\n",
      "Evening Shadows                         Mona Ambegaonkar\n",
      "                                              ...       \n",
      "Hum Tumhare Hain Sanam                    Shah Rukh Khan\n",
      "Aankhen (2002 film)                     Amitabh Bachchan\n",
      "Saathiya (film)                             Vivek Oberoi\n",
      "Company (film)                                Ajay Devgn\n",
      "Awara Paagal Deewana                        Akshay Kumar\n",
      "Name: lead, Length: 1500, dtype: object\n",
      "<class 'pandas.core.series.Series'>\n"
     ]
    },
    {
     "name": "stderr",
     "output_type": "stream",
     "text": [
      "C:\\Users\\Akash Pagi\\AppData\\Local\\Temp\\ipykernel_3524\\2781145530.py:1: FutureWarning: The squeeze argument has been deprecated and will be removed in a future version. Append .squeeze(\"columns\") to the call to squeeze.\n",
      "\n",
      "\n",
      "  m = pd.read_csv('DATASETS/S16/bollywood.csv', index_col='movie', squeeze=True)\n"
     ]
    }
   ],
   "source": [
    "m = pd.read_csv('DATASETS/S16/bollywood.csv', index_col='movie', squeeze=True)\n",
    "print(m)\n",
    "print(type(m))"
   ]
  },
  {
   "cell_type": "markdown",
   "id": "70849741",
   "metadata": {},
   "source": [
    "### Series Methods:"
   ]
  },
  {
   "cell_type": "markdown",
   "id": "710a544a",
   "metadata": {},
   "source": [
    "**head():**\n",
    "- The head() method is used to display the first few rows (default is 5) of a DataFrame or Series.\n",
    "- if we provide negative number as parameter then return all rows."
   ]
  },
  {
   "cell_type": "code",
   "execution_count": 73,
   "id": "c3eaf324",
   "metadata": {},
   "outputs": [
    {
     "name": "stdout",
     "output_type": "stream",
     "text": [
      "match_no\n",
      "1     1\n",
      "2    23\n",
      "3    13\n",
      "4    12\n",
      "5     1\n",
      "Name: runs, dtype: int64\n",
      "match_no\n",
      "1     1\n",
      "2    23\n",
      "Name: runs, dtype: int64\n"
     ]
    }
   ],
   "source": [
    "# head()\n",
    "print(vk.head()) # default is 5\n",
    "print(vk.head(2))\n",
    "#print(vk.head(-2)) "
   ]
  },
  {
   "cell_type": "markdown",
   "id": "3bddfa59",
   "metadata": {},
   "source": [
    "**tail():**\n",
    "- The tail() method is used to display the last few rows (default is 5) of a DataFrame or Series."
   ]
  },
  {
   "cell_type": "code",
   "execution_count": 74,
   "id": "54bc4ae8",
   "metadata": {},
   "outputs": [
    {
     "name": "stdout",
     "output_type": "stream",
     "text": [
      "match_no\n",
      "213    73\n",
      "214    25\n",
      "215     7\n",
      "Name: runs, dtype: int64\n"
     ]
    }
   ],
   "source": [
    "import pandas as pd\n",
    "#print(vk.tail()) # default is 5\n",
    "print(vk.tail(3)) # specific number"
   ]
  },
  {
   "cell_type": "markdown",
   "id": "755ff4cd",
   "metadata": {},
   "source": [
    "**sample()**\n",
    "- The sample() method in Pandas is used to randomly select a specified number of rows (default is 1) or elements from a DataFrame or Series. \n",
    "- This is particularly useful when you want to obtain a random sample from your data for various purposes, such as data exploration, analysis, or testing.\n",
    "- If you have biased in your datasets then we can use this method."
   ]
  },
  {
   "cell_type": "code",
   "execution_count": 75,
   "id": "48407cec",
   "metadata": {},
   "outputs": [
    {
     "name": "stdout",
     "output_type": "stream",
     "text": [
      "match_no\n",
      "157    46\n",
      "Name: runs, dtype: int64\n",
      "match_no\n",
      "74     65\n",
      "201    12\n",
      "158     3\n",
      "Name: runs, dtype: int64\n"
     ]
    }
   ],
   "source": [
    "print(vk.sample()) \n",
    "# 3 randoms row form dataset\n",
    "print(vk.sample(3)) "
   ]
  },
  {
   "cell_type": "markdown",
   "id": "26ddc7fc",
   "metadata": {},
   "source": [
    "**value_counts() function:**\n",
    "- the value_counts() function in Pandas to count the frequency of values that occur multiple times in a Series."
   ]
  },
  {
   "cell_type": "code",
   "execution_count": 76,
   "id": "4bc848f7",
   "metadata": {},
   "outputs": [
    {
     "name": "stdout",
     "output_type": "stream",
     "text": [
      "Akshay Kumar        48\n",
      "Amitabh Bachchan    45\n",
      "Ajay Devgn          38\n",
      "Salman Khan         31\n",
      "Sanjay Dutt         26\n",
      "                    ..\n",
      "Diganth              1\n",
      "Parveen Kaur         1\n",
      "Seema Azmi           1\n",
      "Akanksha Puri        1\n",
      "Edwin Fernandes      1\n",
      "Name: lead, Length: 566, dtype: int64\n"
     ]
    }
   ],
   "source": [
    "print(m.value_counts())"
   ]
  },
  {
   "cell_type": "markdown",
   "id": "95a87487",
   "metadata": {},
   "source": [
    "**sort_values() function:**\n",
    "- sort_values() is used to sort the values within a Pandas Series.\n",
    "- By default, it sorts the values in ascending order, but you can specify the sorting order using the ascending parameter, where **ascending=True** sorts in ascending order, and **ascending=False** sorts in descending order\n",
    "- **syntax: series.sort_values(ascending, inplace)**\n",
    "    - **inplace:** \n",
    "        - The inplace parameter, when set to True, performs the sorting operation in-place, meaning it modifies the original Series, and the sorted result replaces the original data. \n",
    "        - If inplace is set to False (or not specified, as False is the default), it returns a new Series with the sorted values while leaving the original Series unchanged."
   ]
  },
  {
   "cell_type": "code",
   "execution_count": 77,
   "id": "d992cbf3",
   "metadata": {},
   "outputs": [
    {
     "name": "stdout",
     "output_type": "stream",
     "text": [
      "match_no\n",
      "128    113\n",
      "126    109\n",
      "123    108\n",
      "164    100\n",
      "120    100\n",
      "      ... \n",
      "93       0\n",
      "211      0\n",
      "130      0\n",
      "8        0\n",
      "135      0\n",
      "Name: runs, Length: 215, dtype: int64\n"
     ]
    }
   ],
   "source": [
    "#print(vk.sort_values()) # defualt ascending=True\n",
    "print(vk.sort_values(ascending=False))"
   ]
  },
  {
   "cell_type": "markdown",
   "id": "112eebc6",
   "metadata": {},
   "source": [
    "**Method chaining :**\n",
    "- Method chaining Pandas Series refers to the practice of applying multiple operations or methods to a Series in a single, concise line of code. \n",
    "- This approach is both efficient and readable, making it easier to perform complex data manipulations and transformations."
   ]
  },
  {
   "cell_type": "code",
   "execution_count": 78,
   "id": "c29e9e86",
   "metadata": {},
   "outputs": [
    {
     "name": "stdout",
     "output_type": "stream",
     "text": [
      "113\n"
     ]
    }
   ],
   "source": [
    "# method chaining\n",
    "print(vk.sort_values(ascending=False).head(1).values[0])"
   ]
  },
  {
   "cell_type": "code",
   "execution_count": 79,
   "id": "59ca3de6",
   "metadata": {},
   "outputs": [],
   "source": [
    "# with inplace=True for permanet changes in series\n",
    "#vk.sort_values(inplace=True)"
   ]
  },
  {
   "cell_type": "code",
   "execution_count": 80,
   "id": "a261c7e7",
   "metadata": {},
   "outputs": [],
   "source": [
    "#vk"
   ]
  },
  {
   "cell_type": "markdown",
   "id": "198a9915",
   "metadata": {},
   "source": [
    "**sort_index():** \n",
    "- the sort_index() method in Pandas Series is similar in concept to the sort_values() method, but **instead of sorting the values within the Series, it sorts the index (row labels) of the Series.** \n",
    "- Both methods allow you to control the sorting order, either ascending or descending, and both can be used with the inplace parameter to modify the original Series.\n",
    "- **syntax: series.sort_(data,index inplace)**"
   ]
  },
  {
   "cell_type": "code",
   "execution_count": 83,
   "id": "aec167f1",
   "metadata": {},
   "outputs": [
    {
     "name": "stdout",
     "output_type": "stream",
     "text": [
      "match_no\n",
      "1       1\n",
      "2      23\n",
      "3      13\n",
      "4      12\n",
      "5       1\n",
      "       ..\n",
      "211     0\n",
      "212    20\n",
      "213    73\n",
      "214    25\n",
      "215     7\n",
      "Name: runs, Length: 215, dtype: int64\n",
      "None\n"
     ]
    }
   ],
   "source": [
    "# defualt ascending\n",
    "print(vk.sort_index())\n",
    "# dscending\n",
    "print(vk.sort_index(ascending=False,inplace=True))"
   ]
  },
  {
   "cell_type": "code",
   "execution_count": 84,
   "id": "f16f856e",
   "metadata": {},
   "outputs": [],
   "source": [
    "# with inplace=True for permanent changes in series\n",
    "#vk.sort_index(inplace=True)"
   ]
  },
  {
   "cell_type": "markdown",
   "id": "1c9b4801",
   "metadata": {},
   "source": [
    "**Series Mathematical Methods :**\n",
    "Common statistical methods in Pandas Series for analyzing data:"
   ]
  },
  {
   "cell_type": "code",
   "execution_count": 85,
   "id": "5e0b4c38",
   "metadata": {},
   "outputs": [
    {
     "name": "stdout",
     "output_type": "stream",
     "text": [
      "0       48\n",
      "1       57\n",
      "2       40\n",
      "3       43\n",
      "4       44\n",
      "      ... \n",
      "360    231\n",
      "361    226\n",
      "362    155\n",
      "363    144\n",
      "364    172\n",
      "Name: Subscribers gained, Length: 365, dtype: int64\n",
      "<class 'pandas.core.series.Series'>\n"
     ]
    },
    {
     "name": "stderr",
     "output_type": "stream",
     "text": [
      "C:\\Users\\Akash Pagi\\AppData\\Local\\Temp\\ipykernel_3524\\2046111153.py:2: FutureWarning: The squeeze argument has been deprecated and will be removed in a future version. Append .squeeze(\"columns\") to the call to squeeze.\n",
      "\n",
      "\n",
      "  subs = pd.read_csv('DATASETS/S16/subs.csv',squeeze=True)\n"
     ]
    }
   ],
   "source": [
    "import pandas as pd\n",
    "subs = pd.read_csv('DATASETS/S16/subs.csv',squeeze=True)\n",
    "print(subs)\n",
    "print(type(subs))"
   ]
  },
  {
   "cell_type": "code",
   "execution_count": 86,
   "id": "40ebca0c",
   "metadata": {},
   "outputs": [
    {
     "name": "stdout",
     "output_type": "stream",
     "text": [
      "match_no\n",
      "1       1\n",
      "2      23\n",
      "3      13\n",
      "4      12\n",
      "5       1\n",
      "       ..\n",
      "211     0\n",
      "212    20\n",
      "213    73\n",
      "214    25\n",
      "215     7\n",
      "Name: runs, Length: 215, dtype: int64\n",
      "<class 'pandas.core.series.Series'>\n"
     ]
    },
    {
     "name": "stderr",
     "output_type": "stream",
     "text": [
      "C:\\Users\\Akash Pagi\\AppData\\Local\\Temp\\ipykernel_3524\\240583641.py:1: FutureWarning: The squeeze argument has been deprecated and will be removed in a future version. Append .squeeze(\"columns\") to the call to squeeze.\n",
      "\n",
      "\n",
      "  vk = pd.read_csv('DATASETS/S16/kohli_ipl.csv', index_col='match_no',squeeze=True)\n"
     ]
    }
   ],
   "source": [
    "vk = pd.read_csv('DATASETS/S16/kohli_ipl.csv', index_col='match_no',squeeze=True)\n",
    "print(vk)\n",
    "print(type(vk))"
   ]
  },
  {
   "cell_type": "code",
   "execution_count": 87,
   "id": "8b80e9f5",
   "metadata": {},
   "outputs": [
    {
     "name": "stdout",
     "output_type": "stream",
     "text": [
      "movie\n",
      "Uri: The Surgical Strike                   Vicky Kaushal\n",
      "Battalion 609                                Vicky Ahuja\n",
      "The Accidental Prime Minister (film)         Anupam Kher\n",
      "Why Cheat India                            Emraan Hashmi\n",
      "Evening Shadows                         Mona Ambegaonkar\n",
      "                                              ...       \n",
      "Hum Tumhare Hain Sanam                    Shah Rukh Khan\n",
      "Aankhen (2002 film)                     Amitabh Bachchan\n",
      "Saathiya (film)                             Vivek Oberoi\n",
      "Company (film)                                Ajay Devgn\n",
      "Awara Paagal Deewana                        Akshay Kumar\n",
      "Name: lead, Length: 1500, dtype: object\n",
      "<class 'pandas.core.series.Series'>\n"
     ]
    },
    {
     "name": "stderr",
     "output_type": "stream",
     "text": [
      "C:\\Users\\Akash Pagi\\AppData\\Local\\Temp\\ipykernel_3524\\2781145530.py:1: FutureWarning: The squeeze argument has been deprecated and will be removed in a future version. Append .squeeze(\"columns\") to the call to squeeze.\n",
      "\n",
      "\n",
      "  m = pd.read_csv('DATASETS/S16/bollywood.csv', index_col='movie', squeeze=True)\n"
     ]
    }
   ],
   "source": [
    "m = pd.read_csv('DATASETS/S16/bollywood.csv', index_col='movie', squeeze=True)\n",
    "print(m)\n",
    "print(type(m))"
   ]
  },
  {
   "cell_type": "markdown",
   "id": "52f96d68",
   "metadata": {},
   "source": [
    "**count():**\n",
    "- Count the non-null elements in the Series."
   ]
  },
  {
   "cell_type": "code",
   "execution_count": 88,
   "id": "4872e224",
   "metadata": {},
   "outputs": [
    {
     "name": "stdout",
     "output_type": "stream",
     "text": [
      "215\n",
      "365\n"
     ]
    }
   ],
   "source": [
    "print(vk.count())\n",
    "print(subs.count())"
   ]
  },
  {
   "cell_type": "markdown",
   "id": "7e494013",
   "metadata": {},
   "source": [
    "**sum():**\n",
    "- the sum() method is used to calculate the sum of all the elements in a Series"
   ]
  },
  {
   "cell_type": "code",
   "execution_count": 24,
   "id": "7405115d",
   "metadata": {},
   "outputs": [
    {
     "name": "stdout",
     "output_type": "stream",
     "text": [
      "49510\n"
     ]
    }
   ],
   "source": [
    "print(subs.sum())"
   ]
  },
  {
   "cell_type": "markdown",
   "id": "707ff714",
   "metadata": {},
   "source": [
    "**product():**\n",
    "- The product() method in Pandas Series is used to calculate the product of all elements in the Series. \n",
    "- It multiplies all the values together and returns the result."
   ]
  },
  {
   "cell_type": "code",
   "execution_count": 29,
   "id": "b573042b",
   "metadata": {},
   "outputs": [
    {
     "name": "stdout",
     "output_type": "stream",
     "text": [
      "0\n",
      "0\n"
     ]
    }
   ],
   "source": [
    "print(subs.product())\n",
    "print(vk.product())"
   ]
  },
  {
   "cell_type": "markdown",
   "id": "51e94256",
   "metadata": {},
   "source": [
    "**mean():** \n",
    "- This method calculates the mean (average) of the elements in a Series."
   ]
  },
  {
   "cell_type": "code",
   "execution_count": 96,
   "id": "426d0964",
   "metadata": {},
   "outputs": [
    {
     "name": "stdout",
     "output_type": "stream",
     "text": [
      "average yt subs of campusx channel: 135.64383561643837\n",
      "average ipl runs of virat kohli: 30.855813953488372\n"
     ]
    }
   ],
   "source": [
    "print('average yt subs of campusx channel:',subs.mean())\n",
    "print('average ipl runs of virat kohli:',vk.mean())"
   ]
  },
  {
   "cell_type": "markdown",
   "id": "23c6b6d4",
   "metadata": {},
   "source": [
    "**median():** \n",
    "- The median() method calculates the median of the elements in a Series, which is the middle value when the data is sorted. It's a measure of central tendency."
   ]
  },
  {
   "cell_type": "code",
   "execution_count": 36,
   "id": "af1dbcf7",
   "metadata": {},
   "outputs": [
    {
     "name": "stdout",
     "output_type": "stream",
     "text": [
      "123.0\n",
      "24.0\n"
     ]
    }
   ],
   "source": [
    "print(subs.median())\n",
    "print(vk.median())"
   ]
  },
  {
   "cell_type": "markdown",
   "id": "f632d1ee",
   "metadata": {},
   "source": [
    "**mode():** \n",
    "- The mode() method returns the mode(s) of the elements in a Series, which is the most frequently occurring value(s)."
   ]
  },
  {
   "cell_type": "code",
   "execution_count": 41,
   "id": "7c852cec",
   "metadata": {},
   "outputs": [
    {
     "name": "stdout",
     "output_type": "stream",
     "text": [
      "Most frequent lead actor :\n",
      "0    Akshay Kumar\n",
      "Name: lead, dtype: object\n"
     ]
    }
   ],
   "source": [
    "print('Most frequent lead actor :')\n",
    "print(m.mode())"
   ]
  },
  {
   "cell_type": "markdown",
   "id": "3dffee54",
   "metadata": {},
   "source": [
    "**std():** \n",
    "- The std() method computes the standard deviation of the elements in a Series, which measures the spread or dispersion of the data."
   ]
  },
  {
   "cell_type": "code",
   "execution_count": 45,
   "id": "97801ee8",
   "metadata": {},
   "outputs": [
    {
     "name": "stdout",
     "output_type": "stream",
     "text": [
      "26.22980132830278\n"
     ]
    }
   ],
   "source": [
    "print(vk.std())"
   ]
  },
  {
   "cell_type": "markdown",
   "id": "beb8be72",
   "metadata": {},
   "source": [
    "**var():** \n",
    "- The var() method calculates the variance of the elements in a Series, which is the average of the squared differences from the mean."
   ]
  },
  {
   "cell_type": "code",
   "execution_count": 55,
   "id": "4531f7f6",
   "metadata": {},
   "outputs": [
    {
     "name": "stdout",
     "output_type": "stream",
     "text": [
      "3928.1585127201565\n",
      "688.0024777222343\n"
     ]
    }
   ],
   "source": [
    "print(subs.var())\n",
    "print(vk.var())"
   ]
  },
  {
   "cell_type": "markdown",
   "id": "f2b3eaba",
   "metadata": {},
   "source": [
    "**min():**\n",
    "- The min() method returns the minimum value in a Series or DataFrame."
   ]
  },
  {
   "cell_type": "code",
   "execution_count": 93,
   "id": "949f4e98",
   "metadata": {},
   "outputs": [
    {
     "name": "stdout",
     "output_type": "stream",
     "text": [
      "minimum subs: 33\n",
      "minimum runs: 0\n"
     ]
    }
   ],
   "source": [
    "print('minimum subs:',subs.min())\n",
    "print('minimum runs:',vk.min())"
   ]
  },
  {
   "cell_type": "markdown",
   "id": "9f33a415",
   "metadata": {},
   "source": [
    "**max():**\n",
    "- The max() method returns the maximum value in a Series or DataFrame."
   ]
  },
  {
   "cell_type": "code",
   "execution_count": 94,
   "id": "0fc9a804",
   "metadata": {},
   "outputs": [
    {
     "name": "stdout",
     "output_type": "stream",
     "text": [
      "maximum subs: 396\n",
      "maximum runs: 113\n"
     ]
    }
   ],
   "source": [
    "print('maximum subs:',subs.max())\n",
    "print('maximum runs:',vk.max())"
   ]
  },
  {
   "cell_type": "markdown",
   "id": "a895eff1",
   "metadata": {},
   "source": [
    "**describe():**\n",
    "- The describe() method in Pandas is a convenient function to generate descriptive statistics of a numeric Series or DataFrame. \n",
    "- It provides a summary of various statistical measures, giving you insights into the data's distribution and central tendency.\n",
    "\n",
    "- The describe() method provides the following statistics:\n",
    "\n",
    "    - **count:** The number of non-null elements in the Series.\n",
    "    - **mean:** The mean (average) of the Series.\n",
    "    - **std:** The standard deviation, which measures the spread of the data.\n",
    "    - **min:** The minimum value in the Series.\n",
    "    - **25%:** The 25th percentile (lower quartile).\n",
    "    - **50%:** The median (50th percentile).\n",
    "    - **75%:** The 75th percentile (upper quartile).\n",
    "    - **max:** The maximum value in the Series.\n",
    "    \n",
    "- **Note:** the describe() works on numeric data"
   ]
  },
  {
   "cell_type": "code",
   "execution_count": 95,
   "id": "117ef650",
   "metadata": {},
   "outputs": [
    {
     "name": "stdout",
     "output_type": "stream",
     "text": [
      "count    215.000000\n",
      "mean      30.855814\n",
      "std       26.229801\n",
      "min        0.000000\n",
      "25%        9.000000\n",
      "50%       24.000000\n",
      "75%       48.000000\n",
      "max      113.000000\n",
      "Name: runs, dtype: float64\n"
     ]
    }
   ],
   "source": [
    "print(vk.describe())"
   ]
  },
  {
   "cell_type": "code",
   "execution_count": 46,
   "id": "65bf3a9f",
   "metadata": {},
   "outputs": [
    {
     "name": "stdout",
     "output_type": "stream",
     "text": [
      "count    365.000000\n",
      "mean     135.643836\n",
      "std       62.675023\n",
      "min       33.000000\n",
      "25%       88.000000\n",
      "50%      123.000000\n",
      "75%      177.000000\n",
      "max      396.000000\n",
      "Name: Subscribers gained, dtype: float64\n"
     ]
    }
   ],
   "source": [
    "print(subs.describe())"
   ]
  },
  {
   "cell_type": "markdown",
   "id": "b6b042e5",
   "metadata": {},
   "source": [
    "**Series Indexing:**"
   ]
  },
  {
   "cell_type": "code",
   "execution_count": null,
   "id": "f8a857c0",
   "metadata": {},
   "outputs": [],
   "source": []
  },
  {
   "cell_type": "code",
   "execution_count": null,
   "id": "6c5cacac",
   "metadata": {},
   "outputs": [],
   "source": []
  },
  {
   "cell_type": "code",
   "execution_count": null,
   "id": "4489ce14",
   "metadata": {},
   "outputs": [],
   "source": []
  },
  {
   "cell_type": "code",
   "execution_count": null,
   "id": "ac736164",
   "metadata": {},
   "outputs": [],
   "source": []
  },
  {
   "cell_type": "code",
   "execution_count": null,
   "id": "60186066",
   "metadata": {},
   "outputs": [],
   "source": []
  },
  {
   "cell_type": "code",
   "execution_count": null,
   "id": "f022e06c",
   "metadata": {},
   "outputs": [],
   "source": []
  },
  {
   "cell_type": "code",
   "execution_count": null,
   "id": "056b2dac",
   "metadata": {},
   "outputs": [],
   "source": []
  },
  {
   "cell_type": "code",
   "execution_count": null,
   "id": "17cd53f0",
   "metadata": {},
   "outputs": [],
   "source": []
  },
  {
   "cell_type": "code",
   "execution_count": null,
   "id": "6ef58b69",
   "metadata": {},
   "outputs": [],
   "source": []
  },
  {
   "cell_type": "code",
   "execution_count": null,
   "id": "33cbbebf",
   "metadata": {},
   "outputs": [],
   "source": []
  },
  {
   "cell_type": "code",
   "execution_count": null,
   "id": "9016a763",
   "metadata": {},
   "outputs": [],
   "source": []
  },
  {
   "cell_type": "code",
   "execution_count": null,
   "id": "fec67a4e",
   "metadata": {},
   "outputs": [],
   "source": []
  },
  {
   "cell_type": "code",
   "execution_count": null,
   "id": "7a900da4",
   "metadata": {},
   "outputs": [],
   "source": []
  },
  {
   "cell_type": "code",
   "execution_count": null,
   "id": "969042ac",
   "metadata": {},
   "outputs": [],
   "source": []
  },
  {
   "cell_type": "code",
   "execution_count": null,
   "id": "1243c74c",
   "metadata": {},
   "outputs": [],
   "source": []
  },
  {
   "cell_type": "code",
   "execution_count": null,
   "id": "f53d75dd",
   "metadata": {},
   "outputs": [],
   "source": []
  },
  {
   "cell_type": "code",
   "execution_count": null,
   "id": "11e5314b",
   "metadata": {},
   "outputs": [],
   "source": []
  },
  {
   "cell_type": "code",
   "execution_count": null,
   "id": "4d3b98d5",
   "metadata": {},
   "outputs": [],
   "source": []
  },
  {
   "cell_type": "code",
   "execution_count": null,
   "id": "8b33c490",
   "metadata": {},
   "outputs": [],
   "source": []
  },
  {
   "cell_type": "code",
   "execution_count": null,
   "id": "3651bb3a",
   "metadata": {},
   "outputs": [],
   "source": []
  },
  {
   "cell_type": "code",
   "execution_count": null,
   "id": "6564cd10",
   "metadata": {},
   "outputs": [],
   "source": []
  },
  {
   "cell_type": "code",
   "execution_count": null,
   "id": "2a8c5373",
   "metadata": {},
   "outputs": [],
   "source": []
  },
  {
   "cell_type": "code",
   "execution_count": null,
   "id": "5bb8d72b",
   "metadata": {},
   "outputs": [],
   "source": []
  },
  {
   "cell_type": "code",
   "execution_count": null,
   "id": "7b52448d",
   "metadata": {},
   "outputs": [],
   "source": []
  },
  {
   "cell_type": "code",
   "execution_count": null,
   "id": "b0fde075",
   "metadata": {},
   "outputs": [],
   "source": []
  },
  {
   "cell_type": "code",
   "execution_count": null,
   "id": "f4be46b6",
   "metadata": {},
   "outputs": [],
   "source": []
  },
  {
   "cell_type": "code",
   "execution_count": null,
   "id": "d1938b40",
   "metadata": {},
   "outputs": [],
   "source": []
  },
  {
   "cell_type": "code",
   "execution_count": null,
   "id": "06d5cc22",
   "metadata": {},
   "outputs": [],
   "source": []
  },
  {
   "cell_type": "code",
   "execution_count": null,
   "id": "6873ad22",
   "metadata": {},
   "outputs": [],
   "source": []
  },
  {
   "cell_type": "code",
   "execution_count": null,
   "id": "4d4865b8",
   "metadata": {},
   "outputs": [],
   "source": []
  },
  {
   "cell_type": "code",
   "execution_count": null,
   "id": "3cea7720",
   "metadata": {},
   "outputs": [],
   "source": []
  },
  {
   "cell_type": "code",
   "execution_count": null,
   "id": "aa04c242",
   "metadata": {},
   "outputs": [],
   "source": []
  },
  {
   "cell_type": "code",
   "execution_count": null,
   "id": "f798988f",
   "metadata": {},
   "outputs": [],
   "source": []
  },
  {
   "cell_type": "code",
   "execution_count": null,
   "id": "de04a5be",
   "metadata": {},
   "outputs": [],
   "source": []
  },
  {
   "cell_type": "code",
   "execution_count": null,
   "id": "cc6f1fdc",
   "metadata": {},
   "outputs": [],
   "source": []
  },
  {
   "cell_type": "code",
   "execution_count": null,
   "id": "368f03f9",
   "metadata": {},
   "outputs": [],
   "source": []
  }
 ],
 "metadata": {
  "kernelspec": {
   "display_name": "Python 3 (ipykernel)",
   "language": "python",
   "name": "python3"
  },
  "language_info": {
   "codemirror_mode": {
    "name": "ipython",
    "version": 3
   },
   "file_extension": ".py",
   "mimetype": "text/x-python",
   "name": "python",
   "nbconvert_exporter": "python",
   "pygments_lexer": "ipython3",
   "version": "3.10.7"
  }
 },
 "nbformat": 4,
 "nbformat_minor": 5
}
