{
 "cells": [
  {
   "cell_type": "code",
   "execution_count": 36,
   "metadata": {
    "id": "PlcdriLvtyhC"
   },
   "outputs": [],
   "source": [
    "import numpy as np\n",
    "import pandas as pd\n",
    "\n",
    "# to visualize all the column, run the below code\n",
    "pd.options.display.max_columns = None\n",
    "# to show all the records, use the below code\n",
    "# pd.options.display.max_rows = None"
   ]
  },
  {
   "cell_type": "markdown",
   "metadata": {
    "id": "YZvQ-2fzt318"
   },
   "source": [
    "## Fifa Worldcup - 2022 dataset.\n",
    "\n",
    "You can find the dataset from [here](https://www.kaggle.com/datasets/sayanroy729/fifa-worldcup-2022-results).\n",
    "\n",
    "Also you can directly use an url to read the dataset by using `pd.read_csv()` method. Check the below code cell."
   ]
  },
  {
   "cell_type": "code",
   "execution_count": 37,
   "metadata": {
    "id": "tGy1_cUruB4I"
   },
   "outputs": [],
   "source": [
    "# To get the details about the dataset, please visit\n",
    "# https://www.kaggle.com/datasets/sayanroy729/fifa-worldcup-2022-results\n",
    "\n",
    "url = \"https://docs.google.com/spreadsheets/d/e/2PACX-1vT3D_x_4DS6d51LKJ7ze1sxT5WpV5uiSVOFYHLwBiGru6vFyVv5h5-83AwFjxWYiWfCDjDAaarHAV-k/pub?gid=0&single=true&output=csv\"\n",
    "df = pd.read_csv(url)\n",
    "df.head()\n",
    "# 5\n",
    "df.drop(columns=[\"Sl. No\", \"Match No.\", \"Red Cards\", \"Pts\"], inplace=True)"
   ]
  },
  {
   "cell_type": "markdown",
   "metadata": {
    "id": "gTisVyJHuLB9"
   },
   "source": [
    "### `Q-1:` Use the football dataset. Find out the total percentages that each team made on target. Display the result as a python dictionary where the keys are the team list and the values are the percentage values. Round off the percentage values up to 2 decimal places.\n",
    "\n",
    "*Help:*\n",
    "- First, find out how many total teams are participated in this worldcup. For that, you can use `unique()` method on the column \"Team\" or \"Against\".\n",
    "- Loop through the teams list that you have found in previous section, and then filter the dataset according to that. After filtering the dataset, find out total attempts sum and total on target sum.\n",
    "- After getting these values, find out the percentage by total on target divided by total attempts and multiply by 100. And store to a python dictionary where the key will be the team name and the values will be the percentages.\n",
    "- At the end,sort the dictionary by the values (not by the keys) and print the result.\n"
   ]
  },
  {
   "cell_type": "markdown",
   "metadata": {
    "id": "8myJwFm_uOy6"
   },
   "source": [
    "\n",
    "**Sample Output:**\n",
    "```bash\n",
    "{'Costa Rica': 54.55,\n",
    " 'Cameroon': 51.85,\n",
    " 'Ecuador': 48.15,\n",
    " 'Argentina': 46.99,\n",
    " 'Brazil': 45.56,\n",
    " 'England': 45.0,\n",
    " 'Portugal': 40.32,\n",
    " 'Ghana': 40.0,\n",
    " 'Netherlands': 39.02,\n",
    " 'Korea Republic': 36.73,\n",
    " 'Australia': 36.0,\n",
    " 'Mexico': 34.88,\n",
    " 'Croatia': 34.78,\n",
    " 'Germany': 34.33,\n",
    " 'France': 32.97,\n",
    " 'Spain': 32.69,\n",
    " 'Belgium': 32.35,\n",
    " 'Serbia': 32.26,\n",
    " 'Iran': 31.43,\n",
    " 'Uruguay': 31.25,\n",
    " 'United States': 31.11,\n",
    " 'Saudi Arabia': 31.03,\n",
    " 'Senegal': 30.77,\n",
    " 'Denmark': 30.56,\n",
    " 'Switzerland': 30.56,\n",
    " 'Japan': 30.23,\n",
    " 'Wales': 29.17,\n",
    " 'Qatar': 28.57,\n",
    " 'Morocco': 28.3,\n",
    " 'Tunisia': 26.67,\n",
    " 'Poland': 25.0,\n",
    " 'Canada': 17.65}\n",
    "```"
   ]
  },
  {
   "cell_type": "code",
   "execution_count": 38,
   "metadata": {
    "id": "qwN5G6s-uH16"
   },
   "outputs": [
    {
     "data": {
      "text/plain": [
       "{'Costa Rica': 54.55,\n",
       " 'Cameroon': 51.85,\n",
       " 'Ecuador': 48.15,\n",
       " 'Argentina': 46.15,\n",
       " 'Brazil': 45.56,\n",
       " 'England': 45.0,\n",
       " 'Portugal': 40.32,\n",
       " 'Ghana': 40.0,\n",
       " 'Netherlands': 39.02,\n",
       " 'Korea Republic': 36.73,\n",
       " 'Australia': 36.0,\n",
       " 'Mexico': 34.88,\n",
       " 'France': 34.65,\n",
       " 'Germany': 34.33,\n",
       " 'Croatia': 33.73,\n",
       " 'Spain': 32.69,\n",
       " 'Belgium': 32.35,\n",
       " 'Serbia': 32.26,\n",
       " 'Iran': 31.43,\n",
       " 'Uruguay': 31.25,\n",
       " 'United States': 31.11,\n",
       " 'Saudi Arabia': 31.03,\n",
       " 'Senegal': 30.77,\n",
       " 'Denmark': 30.56,\n",
       " 'Switzerland': 30.56,\n",
       " 'Japan': 30.23,\n",
       " 'Wales': 29.17,\n",
       " 'Qatar': 28.57,\n",
       " 'Morocco': 28.33,\n",
       " 'Tunisia': 26.67,\n",
       " 'Poland': 25.0,\n",
       " 'Canada': 17.65}"
      ]
     },
     "execution_count": 38,
     "metadata": {},
     "output_type": "execute_result"
    }
   ],
   "source": [
    "teams = df['Team'].unique()\n",
    "percentage = {}\n",
    "for team in teams:\n",
    "    total_attempts = df[df['Team'] == team]['Total Attempts'].sum()\n",
    "    total_target = df[df['Team'] == team]['On Target'].sum()\n",
    "    percentage[team] = round( total_target / total_attempts * 100, 2)\n",
    "dict(sorted(percentage.items(), key = lambda x:x[1], reverse=True))"
   ]
  },
  {
   "cell_type": "markdown",
   "metadata": {
    "id": "AzbkiZMduTok"
   },
   "source": [
    "### `Q-2:` Find out how many times the teams are played in this Fifa Worldcup-2022. On top of this, find out the ranks of the teams.\n",
    "\n",
    "Note: The `DataFrame.rank()` method takes an optiinal parameter named `method`. This parameter takes different values, but one of them is `average` which is by-default. So, when you do the rank, you will get some 2.5 like floating values. But if you change the value as `first`, then you will get in integers but the datatype will be float. So, try with `method=\"first\"` parameter."
   ]
  },
  {
   "cell_type": "code",
   "execution_count": 39,
   "metadata": {
    "id": "YJRkSElguWlL"
   },
   "outputs": [
    {
     "data": {
      "text/plain": [
       "Morocco           29.0\n",
       "Croatia           30.0\n",
       "Argentina         31.0\n",
       "France            32.0\n",
       "England           25.0\n",
       "Brazil            26.0\n",
       "Netherlands       27.0\n",
       "Portugal          28.0\n",
       "Poland            17.0\n",
       "Japan             18.0\n",
       "Switzerland       19.0\n",
       "Australia         20.0\n",
       "Korea Republic    21.0\n",
       "United States     22.0\n",
       "Senegal           23.0\n",
       "Spain             24.0\n",
       "Cameroon           1.0\n",
       "Uruguay            2.0\n",
       "Belgium            3.0\n",
       "Ghana              4.0\n",
       "Canada             5.0\n",
       "Qatar              6.0\n",
       "Costa Rica         7.0\n",
       "Germany            8.0\n",
       "Ecuador            9.0\n",
       "Mexico            10.0\n",
       "Tunisia           11.0\n",
       "Denmark           12.0\n",
       "Saudi Arabia      13.0\n",
       "Wales             14.0\n",
       "Iran              15.0\n",
       "Serbia            16.0\n",
       "Name: Team, dtype: float64"
      ]
     },
     "execution_count": 39,
     "metadata": {},
     "output_type": "execute_result"
    }
   ],
   "source": [
    "df['Team'].value_counts().rank(method='first')"
   ]
  },
  {
   "cell_type": "markdown",
   "metadata": {
    "id": "056FDiXOuYQB"
   },
   "source": [
    "### `Q-3:` Find out these below topics:\n",
    "- The information about the Fifa worldcup dataset.\n",
    "- The description about the Fifa worldcup dataset\n",
    "- Check is there any missing values, if there is any missing values, fill that value with the average value for that particular column.\n",
    "- Drop all the duplicate rows permanently.\n",
    "- Drop the columns: \"Sl No\", \"Match No.\", \"Red Cards\" and \"Pts\" permanently."
   ]
  },
  {
   "cell_type": "code",
   "execution_count": 40,
   "metadata": {
    "id": "0_TE4B26uaVS"
   },
   "outputs": [
    {
     "name": "stdout",
     "output_type": "stream",
     "text": [
      "<class 'pandas.core.frame.DataFrame'>\n",
      "RangeIndex: 128 entries, 0 to 127\n",
      "Data columns (total 34 columns):\n",
      " #   Column                           Non-Null Count  Dtype \n",
      "---  ------                           --------------  ----- \n",
      " 0   Team                             128 non-null    object\n",
      " 1   Against                          128 non-null    object\n",
      " 2   Group                            128 non-null    object\n",
      " 3   Goal                             128 non-null    int64 \n",
      " 4   Possession (%)                   128 non-null    int64 \n",
      " 5   Inside Penalty Area              128 non-null    int64 \n",
      " 6   Outside Penalty Area             128 non-null    int64 \n",
      " 7   Assists                          128 non-null    int64 \n",
      " 8   Total Attempts                   128 non-null    int64 \n",
      " 9   On Target                        128 non-null    int64 \n",
      " 10  Off Target                       128 non-null    int64 \n",
      " 11  Target in Penalty                128 non-null    int64 \n",
      " 12  Target from Outside              128 non-null    int64 \n",
      " 13  Left Channel                     128 non-null    int64 \n",
      " 14  Left Inside Channel              128 non-null    int64 \n",
      " 15  Central Channel                  128 non-null    int64 \n",
      " 16  Right Inside Channel             128 non-null    int64 \n",
      " 17  Right Channel                    128 non-null    int64 \n",
      " 18  Receptions MD                    128 non-null    int64 \n",
      " 19  Receptions D                     128 non-null    int64 \n",
      " 20  Attempted Line Breaks            128 non-null    int64 \n",
      " 21  Completed Line Breaks            128 non-null    int64 \n",
      " 22  Attempted Defensive Line Breaks  128 non-null    int64 \n",
      " 23  Completed Defensive Line Breaks  128 non-null    int64 \n",
      " 24  Yellow Cards                     128 non-null    int64 \n",
      " 25  Fouls Against                    128 non-null    int64 \n",
      " 26  Offsides                         128 non-null    int64 \n",
      " 27  Passes                           128 non-null    int64 \n",
      " 28  Passes Completed                 128 non-null    int64 \n",
      " 29  Crosses                          128 non-null    int64 \n",
      " 30  Crosses Completed                128 non-null    int64 \n",
      " 31  Corners                          128 non-null    int64 \n",
      " 32  Free Kicks                       128 non-null    int64 \n",
      " 33  Penalties Scored                 128 non-null    int64 \n",
      "dtypes: int64(31), object(3)\n",
      "memory usage: 34.1+ KB\n",
      "None\n",
      "             Goal  Possession (%)  Inside Penalty Area  Outside Penalty Area  \\\n",
      "count  128.000000      128.000000           128.000000            128.000000   \n",
      "mean     1.343750       43.476562             1.203125              0.117188   \n",
      "std      1.342448       11.442403             1.324270              0.322907   \n",
      "min      0.000000       14.000000             0.000000              0.000000   \n",
      "25%      0.000000       35.000000             0.000000              0.000000   \n",
      "50%      1.000000       45.000000             1.000000              0.000000   \n",
      "75%      2.000000       51.000000             2.000000              0.000000   \n",
      "max      7.000000       78.000000             7.000000              1.000000   \n",
      "\n",
      "          Assists  Total Attempts   On Target  Off Target  Target in Penalty  \\\n",
      "count  128.000000      128.000000  128.000000  128.000000         128.000000   \n",
      "mean     0.914062       11.257812    4.007812    4.835938           6.914062   \n",
      "std      1.150333        5.406683    2.588576    2.610630           3.998085   \n",
      "min      0.000000        0.000000    0.000000    0.000000           0.000000   \n",
      "25%      0.000000        7.750000    2.000000    3.000000           4.000000   \n",
      "50%      1.000000       10.000000    4.000000    4.000000           6.000000   \n",
      "75%      1.000000       14.000000    6.000000    6.000000           9.000000   \n",
      "max      6.000000       32.000000   13.000000   17.000000          24.000000   \n",
      "\n",
      "       Target from Outside  Left Channel  Left Inside Channel  \\\n",
      "count           128.000000    128.000000           128.000000   \n",
      "mean              4.343750     13.562500             4.671875   \n",
      "std               2.733397      6.901729             2.886595   \n",
      "min               0.000000      2.000000             0.000000   \n",
      "25%               3.000000      8.000000             2.000000   \n",
      "50%               4.000000     12.000000             4.500000   \n",
      "75%               5.000000     18.000000             7.000000   \n",
      "max              15.000000     36.000000            13.000000   \n",
      "\n",
      "       Central Channel  Right Inside Channel  Right Channel  Receptions MD  \\\n",
      "count       128.000000            128.000000     128.000000     128.000000   \n",
      "mean          4.906250              4.648438      12.234375      92.703125   \n",
      "std           3.080131              2.936573       6.176517      29.440547   \n",
      "min           0.000000              0.000000       1.000000      32.000000   \n",
      "25%           3.000000              3.000000       8.000000      72.750000   \n",
      "50%           4.000000              4.000000      11.000000      93.000000   \n",
      "75%           6.250000              6.000000      16.250000     111.250000   \n",
      "max          16.000000             19.000000      29.000000     186.000000   \n",
      "\n",
      "       Receptions D  Attempted Line Breaks  Completed Line Breaks  \\\n",
      "count    128.000000             128.000000             128.000000   \n",
      "mean      12.453125             169.281250             109.476562   \n",
      "std       18.152399              34.120661              30.776298   \n",
      "min        0.000000              56.000000              19.000000   \n",
      "25%        7.000000             149.500000              87.750000   \n",
      "50%        9.000000             170.500000             106.000000   \n",
      "75%       14.000000             188.000000             129.000000   \n",
      "max      192.000000             259.000000             192.000000   \n",
      "\n",
      "       Attempted Defensive Line Breaks  Completed Defensive Line Breaks  \\\n",
      "count                       128.000000                       128.000000   \n",
      "mean                         14.812500                         8.265625   \n",
      "std                           7.230458                         5.101311   \n",
      "min                           1.000000                         0.000000   \n",
      "25%                          10.000000                         5.000000   \n",
      "50%                          15.000000                         8.000000   \n",
      "75%                          20.000000                        11.000000   \n",
      "max                          40.000000                        27.000000   \n",
      "\n",
      "       Yellow Cards  Fouls Against    Offsides       Passes  Passes Completed  \\\n",
      "count    128.000000     128.000000  128.000000   128.000000        128.000000   \n",
      "mean       1.726562      12.320312    1.976562   502.859375        430.929688   \n",
      "std        1.514834       4.691983    1.731891   160.160487        160.893724   \n",
      "min        0.000000       0.000000    0.000000   225.000000        156.000000   \n",
      "25%        1.000000       9.000000    1.000000   398.250000        323.250000   \n",
      "50%        2.000000      12.000000    2.000000   495.500000        419.000000   \n",
      "75%        2.000000      15.000000    3.000000   589.500000        519.750000   \n",
      "max        8.000000      30.000000   10.000000  1070.000000        994.000000   \n",
      "\n",
      "          Crosses  Crosses Completed     Corners  Free Kicks  Penalties Scored  \n",
      "count  128.000000         128.000000  128.000000  128.000000        128.000000  \n",
      "mean    19.523438           4.898438    4.468750   14.250000          0.335938  \n",
      "std      8.596799           3.520111    2.774852    4.712189          0.941412  \n",
      "min      4.000000           0.000000    0.000000    5.000000          0.000000  \n",
      "25%     13.000000           3.000000    2.000000   11.000000          0.000000  \n",
      "50%     19.000000           4.000000    4.000000   14.000000          0.000000  \n",
      "75%     24.000000           6.000000    6.000000   17.000000          0.000000  \n",
      "max     53.000000          25.000000   14.000000   30.000000          5.000000  \n",
      "Team                               0\n",
      "Against                            0\n",
      "Group                              0\n",
      "Goal                               0\n",
      "Possession (%)                     0\n",
      "Inside Penalty Area                0\n",
      "Outside Penalty Area               0\n",
      "Assists                            0\n",
      "Total Attempts                     0\n",
      "On Target                          0\n",
      "Off Target                         0\n",
      "Target in Penalty                  0\n",
      "Target from Outside                0\n",
      "Left Channel                       0\n",
      "Left Inside Channel                0\n",
      "Central Channel                    0\n",
      "Right Inside Channel               0\n",
      "Right Channel                      0\n",
      "Receptions MD                      0\n",
      "Receptions D                       0\n",
      "Attempted Line Breaks              0\n",
      "Completed Line Breaks              0\n",
      "Attempted Defensive Line Breaks    0\n",
      "Completed Defensive Line Breaks    0\n",
      "Yellow Cards                       0\n",
      "Fouls Against                      0\n",
      "Offsides                           0\n",
      "Passes                             0\n",
      "Passes Completed                   0\n",
      "Crosses                            0\n",
      "Crosses Completed                  0\n",
      "Corners                            0\n",
      "Free Kicks                         0\n",
      "Penalties Scored                   0\n",
      "dtype: int64\n"
     ]
    },
    {
     "ename": "KeyError",
     "evalue": "\"['Sl. No', 'Match No.', 'Red Cards', 'Pts'] not found in axis\"",
     "output_type": "error",
     "traceback": [
      "\u001b[1;31m---------------------------------------------------------------------------\u001b[0m",
      "\u001b[1;31mKeyError\u001b[0m                                  Traceback (most recent call last)",
      "Cell \u001b[1;32mIn [40], line 5\u001b[0m\n\u001b[0;32m      3\u001b[0m \u001b[38;5;28mprint\u001b[39m(df\u001b[38;5;241m.\u001b[39misna()\u001b[38;5;241m.\u001b[39msum())\n\u001b[0;32m      4\u001b[0m df\u001b[38;5;241m.\u001b[39mdrop_duplicates(inplace\u001b[38;5;241m=\u001b[39m\u001b[38;5;28;01mTrue\u001b[39;00m)\n\u001b[1;32m----> 5\u001b[0m df\u001b[38;5;241m.\u001b[39mdrop(columns\u001b[38;5;241m=\u001b[39m[\u001b[38;5;124m\"\u001b[39m\u001b[38;5;124mSl. No\u001b[39m\u001b[38;5;124m\"\u001b[39m, \u001b[38;5;124m\"\u001b[39m\u001b[38;5;124mMatch No.\u001b[39m\u001b[38;5;124m\"\u001b[39m, \u001b[38;5;124m\"\u001b[39m\u001b[38;5;124mRed Cards\u001b[39m\u001b[38;5;124m\"\u001b[39m, \u001b[38;5;124m\"\u001b[39m\u001b[38;5;124mPts\u001b[39m\u001b[38;5;124m\"\u001b[39m], inplace\u001b[38;5;241m=\u001b[39m\u001b[38;5;28;01mTrue\u001b[39;00m)\n",
      "File \u001b[1;32mC:\\Python310\\lib\\site-packages\\pandas\\util\\_decorators.py:317\u001b[0m, in \u001b[0;36mdeprecate_nonkeyword_arguments.<locals>.decorate.<locals>.wrapper\u001b[1;34m(*args, **kwargs)\u001b[0m\n\u001b[0;32m    311\u001b[0m \u001b[38;5;28;01mif\u001b[39;00m \u001b[38;5;28mlen\u001b[39m(args) \u001b[38;5;241m>\u001b[39m num_allow_args:\n\u001b[0;32m    312\u001b[0m     warnings\u001b[38;5;241m.\u001b[39mwarn(\n\u001b[0;32m    313\u001b[0m         msg\u001b[38;5;241m.\u001b[39mformat(arguments\u001b[38;5;241m=\u001b[39marguments),\n\u001b[0;32m    314\u001b[0m         \u001b[38;5;167;01mFutureWarning\u001b[39;00m,\n\u001b[0;32m    315\u001b[0m         stacklevel\u001b[38;5;241m=\u001b[39mfind_stack_level(inspect\u001b[38;5;241m.\u001b[39mcurrentframe()),\n\u001b[0;32m    316\u001b[0m     )\n\u001b[1;32m--> 317\u001b[0m \u001b[38;5;28;01mreturn\u001b[39;00m func(\u001b[38;5;241m*\u001b[39margs, \u001b[38;5;241m*\u001b[39m\u001b[38;5;241m*\u001b[39mkwargs)\n",
      "File \u001b[1;32mC:\\Python310\\lib\\site-packages\\pandas\\core\\frame.py:5391\u001b[0m, in \u001b[0;36mDataFrame.drop\u001b[1;34m(self, labels, axis, index, columns, level, inplace, errors)\u001b[0m\n\u001b[0;32m   5243\u001b[0m \u001b[38;5;129m@deprecate_nonkeyword_arguments\u001b[39m(version\u001b[38;5;241m=\u001b[39m\u001b[38;5;28;01mNone\u001b[39;00m, allowed_args\u001b[38;5;241m=\u001b[39m[\u001b[38;5;124m\"\u001b[39m\u001b[38;5;124mself\u001b[39m\u001b[38;5;124m\"\u001b[39m, \u001b[38;5;124m\"\u001b[39m\u001b[38;5;124mlabels\u001b[39m\u001b[38;5;124m\"\u001b[39m])\n\u001b[0;32m   5244\u001b[0m \u001b[38;5;28;01mdef\u001b[39;00m \u001b[38;5;21mdrop\u001b[39m(  \u001b[38;5;66;03m# type: ignore[override]\u001b[39;00m\n\u001b[0;32m   5245\u001b[0m     \u001b[38;5;28mself\u001b[39m,\n\u001b[1;32m   (...)\u001b[0m\n\u001b[0;32m   5252\u001b[0m     errors: IgnoreRaise \u001b[38;5;241m=\u001b[39m \u001b[38;5;124m\"\u001b[39m\u001b[38;5;124mraise\u001b[39m\u001b[38;5;124m\"\u001b[39m,\n\u001b[0;32m   5253\u001b[0m ) \u001b[38;5;241m-\u001b[39m\u001b[38;5;241m>\u001b[39m DataFrame \u001b[38;5;241m|\u001b[39m \u001b[38;5;28;01mNone\u001b[39;00m:\n\u001b[0;32m   5254\u001b[0m     \u001b[38;5;124;03m\"\"\"\u001b[39;00m\n\u001b[0;32m   5255\u001b[0m \u001b[38;5;124;03m    Drop specified labels from rows or columns.\u001b[39;00m\n\u001b[0;32m   5256\u001b[0m \n\u001b[1;32m   (...)\u001b[0m\n\u001b[0;32m   5389\u001b[0m \u001b[38;5;124;03m            weight  1.0     0.8\u001b[39;00m\n\u001b[0;32m   5390\u001b[0m \u001b[38;5;124;03m    \"\"\"\u001b[39;00m\n\u001b[1;32m-> 5391\u001b[0m     \u001b[38;5;28;01mreturn\u001b[39;00m \u001b[38;5;28;43msuper\u001b[39;49m\u001b[43m(\u001b[49m\u001b[43m)\u001b[49m\u001b[38;5;241;43m.\u001b[39;49m\u001b[43mdrop\u001b[49m\u001b[43m(\u001b[49m\n\u001b[0;32m   5392\u001b[0m \u001b[43m        \u001b[49m\u001b[43mlabels\u001b[49m\u001b[38;5;241;43m=\u001b[39;49m\u001b[43mlabels\u001b[49m\u001b[43m,\u001b[49m\n\u001b[0;32m   5393\u001b[0m \u001b[43m        \u001b[49m\u001b[43maxis\u001b[49m\u001b[38;5;241;43m=\u001b[39;49m\u001b[43maxis\u001b[49m\u001b[43m,\u001b[49m\n\u001b[0;32m   5394\u001b[0m \u001b[43m        \u001b[49m\u001b[43mindex\u001b[49m\u001b[38;5;241;43m=\u001b[39;49m\u001b[43mindex\u001b[49m\u001b[43m,\u001b[49m\n\u001b[0;32m   5395\u001b[0m \u001b[43m        \u001b[49m\u001b[43mcolumns\u001b[49m\u001b[38;5;241;43m=\u001b[39;49m\u001b[43mcolumns\u001b[49m\u001b[43m,\u001b[49m\n\u001b[0;32m   5396\u001b[0m \u001b[43m        \u001b[49m\u001b[43mlevel\u001b[49m\u001b[38;5;241;43m=\u001b[39;49m\u001b[43mlevel\u001b[49m\u001b[43m,\u001b[49m\n\u001b[0;32m   5397\u001b[0m \u001b[43m        \u001b[49m\u001b[43minplace\u001b[49m\u001b[38;5;241;43m=\u001b[39;49m\u001b[43minplace\u001b[49m\u001b[43m,\u001b[49m\n\u001b[0;32m   5398\u001b[0m \u001b[43m        \u001b[49m\u001b[43merrors\u001b[49m\u001b[38;5;241;43m=\u001b[39;49m\u001b[43merrors\u001b[49m\u001b[43m,\u001b[49m\n\u001b[0;32m   5399\u001b[0m \u001b[43m    \u001b[49m\u001b[43m)\u001b[49m\n",
      "File \u001b[1;32mC:\\Python310\\lib\\site-packages\\pandas\\util\\_decorators.py:317\u001b[0m, in \u001b[0;36mdeprecate_nonkeyword_arguments.<locals>.decorate.<locals>.wrapper\u001b[1;34m(*args, **kwargs)\u001b[0m\n\u001b[0;32m    311\u001b[0m \u001b[38;5;28;01mif\u001b[39;00m \u001b[38;5;28mlen\u001b[39m(args) \u001b[38;5;241m>\u001b[39m num_allow_args:\n\u001b[0;32m    312\u001b[0m     warnings\u001b[38;5;241m.\u001b[39mwarn(\n\u001b[0;32m    313\u001b[0m         msg\u001b[38;5;241m.\u001b[39mformat(arguments\u001b[38;5;241m=\u001b[39marguments),\n\u001b[0;32m    314\u001b[0m         \u001b[38;5;167;01mFutureWarning\u001b[39;00m,\n\u001b[0;32m    315\u001b[0m         stacklevel\u001b[38;5;241m=\u001b[39mfind_stack_level(inspect\u001b[38;5;241m.\u001b[39mcurrentframe()),\n\u001b[0;32m    316\u001b[0m     )\n\u001b[1;32m--> 317\u001b[0m \u001b[38;5;28;01mreturn\u001b[39;00m func(\u001b[38;5;241m*\u001b[39margs, \u001b[38;5;241m*\u001b[39m\u001b[38;5;241m*\u001b[39mkwargs)\n",
      "File \u001b[1;32mC:\\Python310\\lib\\site-packages\\pandas\\core\\generic.py:4510\u001b[0m, in \u001b[0;36mNDFrame.drop\u001b[1;34m(self, labels, axis, index, columns, level, inplace, errors)\u001b[0m\n\u001b[0;32m   4508\u001b[0m \u001b[38;5;28;01mfor\u001b[39;00m axis, labels \u001b[38;5;129;01min\u001b[39;00m axes\u001b[38;5;241m.\u001b[39mitems():\n\u001b[0;32m   4509\u001b[0m     \u001b[38;5;28;01mif\u001b[39;00m labels \u001b[38;5;129;01mis\u001b[39;00m \u001b[38;5;129;01mnot\u001b[39;00m \u001b[38;5;28;01mNone\u001b[39;00m:\n\u001b[1;32m-> 4510\u001b[0m         obj \u001b[38;5;241m=\u001b[39m \u001b[43mobj\u001b[49m\u001b[38;5;241;43m.\u001b[39;49m\u001b[43m_drop_axis\u001b[49m\u001b[43m(\u001b[49m\u001b[43mlabels\u001b[49m\u001b[43m,\u001b[49m\u001b[43m \u001b[49m\u001b[43maxis\u001b[49m\u001b[43m,\u001b[49m\u001b[43m \u001b[49m\u001b[43mlevel\u001b[49m\u001b[38;5;241;43m=\u001b[39;49m\u001b[43mlevel\u001b[49m\u001b[43m,\u001b[49m\u001b[43m \u001b[49m\u001b[43merrors\u001b[49m\u001b[38;5;241;43m=\u001b[39;49m\u001b[43merrors\u001b[49m\u001b[43m)\u001b[49m\n\u001b[0;32m   4512\u001b[0m \u001b[38;5;28;01mif\u001b[39;00m inplace:\n\u001b[0;32m   4513\u001b[0m     \u001b[38;5;28mself\u001b[39m\u001b[38;5;241m.\u001b[39m_update_inplace(obj)\n",
      "File \u001b[1;32mC:\\Python310\\lib\\site-packages\\pandas\\core\\generic.py:4551\u001b[0m, in \u001b[0;36mNDFrame._drop_axis\u001b[1;34m(self, labels, axis, level, errors, only_slice)\u001b[0m\n\u001b[0;32m   4549\u001b[0m         new_axis \u001b[38;5;241m=\u001b[39m axis\u001b[38;5;241m.\u001b[39mdrop(labels, level\u001b[38;5;241m=\u001b[39mlevel, errors\u001b[38;5;241m=\u001b[39merrors)\n\u001b[0;32m   4550\u001b[0m     \u001b[38;5;28;01melse\u001b[39;00m:\n\u001b[1;32m-> 4551\u001b[0m         new_axis \u001b[38;5;241m=\u001b[39m \u001b[43maxis\u001b[49m\u001b[38;5;241;43m.\u001b[39;49m\u001b[43mdrop\u001b[49m\u001b[43m(\u001b[49m\u001b[43mlabels\u001b[49m\u001b[43m,\u001b[49m\u001b[43m \u001b[49m\u001b[43merrors\u001b[49m\u001b[38;5;241;43m=\u001b[39;49m\u001b[43merrors\u001b[49m\u001b[43m)\u001b[49m\n\u001b[0;32m   4552\u001b[0m     indexer \u001b[38;5;241m=\u001b[39m axis\u001b[38;5;241m.\u001b[39mget_indexer(new_axis)\n\u001b[0;32m   4554\u001b[0m \u001b[38;5;66;03m# Case for non-unique axis\u001b[39;00m\n\u001b[0;32m   4555\u001b[0m \u001b[38;5;28;01melse\u001b[39;00m:\n",
      "File \u001b[1;32mC:\\Python310\\lib\\site-packages\\pandas\\core\\indexes\\base.py:6972\u001b[0m, in \u001b[0;36mIndex.drop\u001b[1;34m(self, labels, errors)\u001b[0m\n\u001b[0;32m   6970\u001b[0m \u001b[38;5;28;01mif\u001b[39;00m mask\u001b[38;5;241m.\u001b[39many():\n\u001b[0;32m   6971\u001b[0m     \u001b[38;5;28;01mif\u001b[39;00m errors \u001b[38;5;241m!=\u001b[39m \u001b[38;5;124m\"\u001b[39m\u001b[38;5;124mignore\u001b[39m\u001b[38;5;124m\"\u001b[39m:\n\u001b[1;32m-> 6972\u001b[0m         \u001b[38;5;28;01mraise\u001b[39;00m \u001b[38;5;167;01mKeyError\u001b[39;00m(\u001b[38;5;124mf\u001b[39m\u001b[38;5;124m\"\u001b[39m\u001b[38;5;132;01m{\u001b[39;00m\u001b[38;5;28mlist\u001b[39m(labels[mask])\u001b[38;5;132;01m}\u001b[39;00m\u001b[38;5;124m not found in axis\u001b[39m\u001b[38;5;124m\"\u001b[39m)\n\u001b[0;32m   6973\u001b[0m     indexer \u001b[38;5;241m=\u001b[39m indexer[\u001b[38;5;241m~\u001b[39mmask]\n\u001b[0;32m   6974\u001b[0m \u001b[38;5;28;01mreturn\u001b[39;00m \u001b[38;5;28mself\u001b[39m\u001b[38;5;241m.\u001b[39mdelete(indexer)\n",
      "\u001b[1;31mKeyError\u001b[0m: \"['Sl. No', 'Match No.', 'Red Cards', 'Pts'] not found in axis\""
     ]
    }
   ],
   "source": [
    "print(df.info())\n",
    "print(df.describe())\n",
    "print(df.isna().sum())\n",
    "df.drop_duplicates(inplace=True)\n",
    "df.drop(columns=[\"Sl. No\", \"Match No.\", \"Red Cards\", \"Pts\"], inplace=True)"
   ]
  },
  {
   "cell_type": "code",
   "execution_count": 34,
   "metadata": {},
   "outputs": [],
   "source": [
    "# 4\n",
    "df.drop_duplicates(inplace=True)"
   ]
  },
  {
   "cell_type": "code",
   "execution_count": 35,
   "metadata": {},
   "outputs": [
    {
     "ename": "KeyError",
     "evalue": "\"['Sl. No', 'Match No.', 'Red Cards', 'Pts'] not found in axis\"",
     "output_type": "error",
     "traceback": [
      "\u001b[1;31m---------------------------------------------------------------------------\u001b[0m",
      "\u001b[1;31mKeyError\u001b[0m                                  Traceback (most recent call last)",
      "Cell \u001b[1;32mIn [35], line 2\u001b[0m\n\u001b[0;32m      1\u001b[0m \u001b[38;5;66;03m# 5\u001b[39;00m\n\u001b[1;32m----> 2\u001b[0m df\u001b[38;5;241m.\u001b[39mdrop(columns\u001b[38;5;241m=\u001b[39m[\u001b[38;5;124m\"\u001b[39m\u001b[38;5;124mSl. No\u001b[39m\u001b[38;5;124m\"\u001b[39m, \u001b[38;5;124m\"\u001b[39m\u001b[38;5;124mMatch No.\u001b[39m\u001b[38;5;124m\"\u001b[39m, \u001b[38;5;124m\"\u001b[39m\u001b[38;5;124mRed Cards\u001b[39m\u001b[38;5;124m\"\u001b[39m, \u001b[38;5;124m\"\u001b[39m\u001b[38;5;124mPts\u001b[39m\u001b[38;5;124m\"\u001b[39m], inplace\u001b[38;5;241m=\u001b[39m\u001b[38;5;28;01mTrue\u001b[39;00m)\n",
      "File \u001b[1;32mC:\\Python310\\lib\\site-packages\\pandas\\util\\_decorators.py:317\u001b[0m, in \u001b[0;36mdeprecate_nonkeyword_arguments.<locals>.decorate.<locals>.wrapper\u001b[1;34m(*args, **kwargs)\u001b[0m\n\u001b[0;32m    311\u001b[0m \u001b[38;5;28;01mif\u001b[39;00m \u001b[38;5;28mlen\u001b[39m(args) \u001b[38;5;241m>\u001b[39m num_allow_args:\n\u001b[0;32m    312\u001b[0m     warnings\u001b[38;5;241m.\u001b[39mwarn(\n\u001b[0;32m    313\u001b[0m         msg\u001b[38;5;241m.\u001b[39mformat(arguments\u001b[38;5;241m=\u001b[39marguments),\n\u001b[0;32m    314\u001b[0m         \u001b[38;5;167;01mFutureWarning\u001b[39;00m,\n\u001b[0;32m    315\u001b[0m         stacklevel\u001b[38;5;241m=\u001b[39mfind_stack_level(inspect\u001b[38;5;241m.\u001b[39mcurrentframe()),\n\u001b[0;32m    316\u001b[0m     )\n\u001b[1;32m--> 317\u001b[0m \u001b[38;5;28;01mreturn\u001b[39;00m func(\u001b[38;5;241m*\u001b[39margs, \u001b[38;5;241m*\u001b[39m\u001b[38;5;241m*\u001b[39mkwargs)\n",
      "File \u001b[1;32mC:\\Python310\\lib\\site-packages\\pandas\\core\\frame.py:5391\u001b[0m, in \u001b[0;36mDataFrame.drop\u001b[1;34m(self, labels, axis, index, columns, level, inplace, errors)\u001b[0m\n\u001b[0;32m   5243\u001b[0m \u001b[38;5;129m@deprecate_nonkeyword_arguments\u001b[39m(version\u001b[38;5;241m=\u001b[39m\u001b[38;5;28;01mNone\u001b[39;00m, allowed_args\u001b[38;5;241m=\u001b[39m[\u001b[38;5;124m\"\u001b[39m\u001b[38;5;124mself\u001b[39m\u001b[38;5;124m\"\u001b[39m, \u001b[38;5;124m\"\u001b[39m\u001b[38;5;124mlabels\u001b[39m\u001b[38;5;124m\"\u001b[39m])\n\u001b[0;32m   5244\u001b[0m \u001b[38;5;28;01mdef\u001b[39;00m \u001b[38;5;21mdrop\u001b[39m(  \u001b[38;5;66;03m# type: ignore[override]\u001b[39;00m\n\u001b[0;32m   5245\u001b[0m     \u001b[38;5;28mself\u001b[39m,\n\u001b[1;32m   (...)\u001b[0m\n\u001b[0;32m   5252\u001b[0m     errors: IgnoreRaise \u001b[38;5;241m=\u001b[39m \u001b[38;5;124m\"\u001b[39m\u001b[38;5;124mraise\u001b[39m\u001b[38;5;124m\"\u001b[39m,\n\u001b[0;32m   5253\u001b[0m ) \u001b[38;5;241m-\u001b[39m\u001b[38;5;241m>\u001b[39m DataFrame \u001b[38;5;241m|\u001b[39m \u001b[38;5;28;01mNone\u001b[39;00m:\n\u001b[0;32m   5254\u001b[0m     \u001b[38;5;124;03m\"\"\"\u001b[39;00m\n\u001b[0;32m   5255\u001b[0m \u001b[38;5;124;03m    Drop specified labels from rows or columns.\u001b[39;00m\n\u001b[0;32m   5256\u001b[0m \n\u001b[1;32m   (...)\u001b[0m\n\u001b[0;32m   5389\u001b[0m \u001b[38;5;124;03m            weight  1.0     0.8\u001b[39;00m\n\u001b[0;32m   5390\u001b[0m \u001b[38;5;124;03m    \"\"\"\u001b[39;00m\n\u001b[1;32m-> 5391\u001b[0m     \u001b[38;5;28;01mreturn\u001b[39;00m \u001b[38;5;28;43msuper\u001b[39;49m\u001b[43m(\u001b[49m\u001b[43m)\u001b[49m\u001b[38;5;241;43m.\u001b[39;49m\u001b[43mdrop\u001b[49m\u001b[43m(\u001b[49m\n\u001b[0;32m   5392\u001b[0m \u001b[43m        \u001b[49m\u001b[43mlabels\u001b[49m\u001b[38;5;241;43m=\u001b[39;49m\u001b[43mlabels\u001b[49m\u001b[43m,\u001b[49m\n\u001b[0;32m   5393\u001b[0m \u001b[43m        \u001b[49m\u001b[43maxis\u001b[49m\u001b[38;5;241;43m=\u001b[39;49m\u001b[43maxis\u001b[49m\u001b[43m,\u001b[49m\n\u001b[0;32m   5394\u001b[0m \u001b[43m        \u001b[49m\u001b[43mindex\u001b[49m\u001b[38;5;241;43m=\u001b[39;49m\u001b[43mindex\u001b[49m\u001b[43m,\u001b[49m\n\u001b[0;32m   5395\u001b[0m \u001b[43m        \u001b[49m\u001b[43mcolumns\u001b[49m\u001b[38;5;241;43m=\u001b[39;49m\u001b[43mcolumns\u001b[49m\u001b[43m,\u001b[49m\n\u001b[0;32m   5396\u001b[0m \u001b[43m        \u001b[49m\u001b[43mlevel\u001b[49m\u001b[38;5;241;43m=\u001b[39;49m\u001b[43mlevel\u001b[49m\u001b[43m,\u001b[49m\n\u001b[0;32m   5397\u001b[0m \u001b[43m        \u001b[49m\u001b[43minplace\u001b[49m\u001b[38;5;241;43m=\u001b[39;49m\u001b[43minplace\u001b[49m\u001b[43m,\u001b[49m\n\u001b[0;32m   5398\u001b[0m \u001b[43m        \u001b[49m\u001b[43merrors\u001b[49m\u001b[38;5;241;43m=\u001b[39;49m\u001b[43merrors\u001b[49m\u001b[43m,\u001b[49m\n\u001b[0;32m   5399\u001b[0m \u001b[43m    \u001b[49m\u001b[43m)\u001b[49m\n",
      "File \u001b[1;32mC:\\Python310\\lib\\site-packages\\pandas\\util\\_decorators.py:317\u001b[0m, in \u001b[0;36mdeprecate_nonkeyword_arguments.<locals>.decorate.<locals>.wrapper\u001b[1;34m(*args, **kwargs)\u001b[0m\n\u001b[0;32m    311\u001b[0m \u001b[38;5;28;01mif\u001b[39;00m \u001b[38;5;28mlen\u001b[39m(args) \u001b[38;5;241m>\u001b[39m num_allow_args:\n\u001b[0;32m    312\u001b[0m     warnings\u001b[38;5;241m.\u001b[39mwarn(\n\u001b[0;32m    313\u001b[0m         msg\u001b[38;5;241m.\u001b[39mformat(arguments\u001b[38;5;241m=\u001b[39marguments),\n\u001b[0;32m    314\u001b[0m         \u001b[38;5;167;01mFutureWarning\u001b[39;00m,\n\u001b[0;32m    315\u001b[0m         stacklevel\u001b[38;5;241m=\u001b[39mfind_stack_level(inspect\u001b[38;5;241m.\u001b[39mcurrentframe()),\n\u001b[0;32m    316\u001b[0m     )\n\u001b[1;32m--> 317\u001b[0m \u001b[38;5;28;01mreturn\u001b[39;00m func(\u001b[38;5;241m*\u001b[39margs, \u001b[38;5;241m*\u001b[39m\u001b[38;5;241m*\u001b[39mkwargs)\n",
      "File \u001b[1;32mC:\\Python310\\lib\\site-packages\\pandas\\core\\generic.py:4510\u001b[0m, in \u001b[0;36mNDFrame.drop\u001b[1;34m(self, labels, axis, index, columns, level, inplace, errors)\u001b[0m\n\u001b[0;32m   4508\u001b[0m \u001b[38;5;28;01mfor\u001b[39;00m axis, labels \u001b[38;5;129;01min\u001b[39;00m axes\u001b[38;5;241m.\u001b[39mitems():\n\u001b[0;32m   4509\u001b[0m     \u001b[38;5;28;01mif\u001b[39;00m labels \u001b[38;5;129;01mis\u001b[39;00m \u001b[38;5;129;01mnot\u001b[39;00m \u001b[38;5;28;01mNone\u001b[39;00m:\n\u001b[1;32m-> 4510\u001b[0m         obj \u001b[38;5;241m=\u001b[39m \u001b[43mobj\u001b[49m\u001b[38;5;241;43m.\u001b[39;49m\u001b[43m_drop_axis\u001b[49m\u001b[43m(\u001b[49m\u001b[43mlabels\u001b[49m\u001b[43m,\u001b[49m\u001b[43m \u001b[49m\u001b[43maxis\u001b[49m\u001b[43m,\u001b[49m\u001b[43m \u001b[49m\u001b[43mlevel\u001b[49m\u001b[38;5;241;43m=\u001b[39;49m\u001b[43mlevel\u001b[49m\u001b[43m,\u001b[49m\u001b[43m \u001b[49m\u001b[43merrors\u001b[49m\u001b[38;5;241;43m=\u001b[39;49m\u001b[43merrors\u001b[49m\u001b[43m)\u001b[49m\n\u001b[0;32m   4512\u001b[0m \u001b[38;5;28;01mif\u001b[39;00m inplace:\n\u001b[0;32m   4513\u001b[0m     \u001b[38;5;28mself\u001b[39m\u001b[38;5;241m.\u001b[39m_update_inplace(obj)\n",
      "File \u001b[1;32mC:\\Python310\\lib\\site-packages\\pandas\\core\\generic.py:4551\u001b[0m, in \u001b[0;36mNDFrame._drop_axis\u001b[1;34m(self, labels, axis, level, errors, only_slice)\u001b[0m\n\u001b[0;32m   4549\u001b[0m         new_axis \u001b[38;5;241m=\u001b[39m axis\u001b[38;5;241m.\u001b[39mdrop(labels, level\u001b[38;5;241m=\u001b[39mlevel, errors\u001b[38;5;241m=\u001b[39merrors)\n\u001b[0;32m   4550\u001b[0m     \u001b[38;5;28;01melse\u001b[39;00m:\n\u001b[1;32m-> 4551\u001b[0m         new_axis \u001b[38;5;241m=\u001b[39m \u001b[43maxis\u001b[49m\u001b[38;5;241;43m.\u001b[39;49m\u001b[43mdrop\u001b[49m\u001b[43m(\u001b[49m\u001b[43mlabels\u001b[49m\u001b[43m,\u001b[49m\u001b[43m \u001b[49m\u001b[43merrors\u001b[49m\u001b[38;5;241;43m=\u001b[39;49m\u001b[43merrors\u001b[49m\u001b[43m)\u001b[49m\n\u001b[0;32m   4552\u001b[0m     indexer \u001b[38;5;241m=\u001b[39m axis\u001b[38;5;241m.\u001b[39mget_indexer(new_axis)\n\u001b[0;32m   4554\u001b[0m \u001b[38;5;66;03m# Case for non-unique axis\u001b[39;00m\n\u001b[0;32m   4555\u001b[0m \u001b[38;5;28;01melse\u001b[39;00m:\n",
      "File \u001b[1;32mC:\\Python310\\lib\\site-packages\\pandas\\core\\indexes\\base.py:6972\u001b[0m, in \u001b[0;36mIndex.drop\u001b[1;34m(self, labels, errors)\u001b[0m\n\u001b[0;32m   6970\u001b[0m \u001b[38;5;28;01mif\u001b[39;00m mask\u001b[38;5;241m.\u001b[39many():\n\u001b[0;32m   6971\u001b[0m     \u001b[38;5;28;01mif\u001b[39;00m errors \u001b[38;5;241m!=\u001b[39m \u001b[38;5;124m\"\u001b[39m\u001b[38;5;124mignore\u001b[39m\u001b[38;5;124m\"\u001b[39m:\n\u001b[1;32m-> 6972\u001b[0m         \u001b[38;5;28;01mraise\u001b[39;00m \u001b[38;5;167;01mKeyError\u001b[39;00m(\u001b[38;5;124mf\u001b[39m\u001b[38;5;124m\"\u001b[39m\u001b[38;5;132;01m{\u001b[39;00m\u001b[38;5;28mlist\u001b[39m(labels[mask])\u001b[38;5;132;01m}\u001b[39;00m\u001b[38;5;124m not found in axis\u001b[39m\u001b[38;5;124m\"\u001b[39m)\n\u001b[0;32m   6973\u001b[0m     indexer \u001b[38;5;241m=\u001b[39m indexer[\u001b[38;5;241m~\u001b[39mmask]\n\u001b[0;32m   6974\u001b[0m \u001b[38;5;28;01mreturn\u001b[39;00m \u001b[38;5;28mself\u001b[39m\u001b[38;5;241m.\u001b[39mdelete(indexer)\n",
      "\u001b[1;31mKeyError\u001b[0m: \"['Sl. No', 'Match No.', 'Red Cards', 'Pts'] not found in axis\""
     ]
    }
   ],
   "source": [
    "# 5\n",
    "df.drop(columns=[\"Sl. No\", \"Match No.\", \"Red Cards\", \"Pts\"], inplace=True)"
   ]
  },
  {
   "cell_type": "markdown",
   "metadata": {
    "id": "8R3X--kyubf4"
   },
   "source": [
    "### `Q-4:` Do these below operations:\n",
    "- Find out the rank based on the \"Team\" column and save the result by adding a new column named \"Rank\".\n",
    "- Change the datatype of this column to integer by using `np.int16`\n",
    "- Set the index of the DataFrame by using this \"Rank\" column permanently.\n",
    "- After that, sort the dataframe based on the \"Rank\" index."
   ]
  },
  {
   "cell_type": "code",
   "execution_count": null,
   "metadata": {
    "id": "l2-4scffuebD"
   },
   "outputs": [],
   "source": [
    "# code here"
   ]
  },
  {
   "cell_type": "markdown",
   "metadata": {
    "id": "J7827-Onufne"
   },
   "source": [
    "## Questions on Titanic dataset.\n",
    "\n",
    "You can get the dataset from [here](https://www.kaggle.com/competitions/titanic). This is the competition page on Kaggle. To download the dataset from here, I guess you have to register for the compition. So, do so and then download the dataset.\n",
    "\n",
    "Also, for now you can use this url to read the dataset like before:\n",
    "- dataset 1: https://docs.google.com/spreadsheets/d/e/2PACX-1vQjh5HzZ1N0SU7ME9ZQRzeVTaXaGsV97rU8R7eAcg53k27GTstJp9cRUOfr55go1GRRvTz1NwvyOnuh/pub?gid=1562145139&single=true&output=csv\n",
    "- dataset 2: https://docs.google.com/spreadsheets/d/e/2PACX-1vQcPvQsSC9aNFogvbUG08nu0bGHlOclGYaOlhND_LE5Ff7ZnHQ5VYzAgpyT5XNklgiT54SsNgHePsUa/pub?gid=1656109608&single=true&output=csv"
   ]
  },
  {
   "cell_type": "markdown",
   "metadata": {
    "id": "bK8hhjGtuoPg"
   },
   "source": [
    "### `Q-5:` Do the below tasks:\n",
    "1. With dataset 1, drop those records which only have missing values of the \"Age\" column permanently.\n",
    "\n",
    "2. With the dataset 2, fill the missing values with 20 to the only \"Age\" column permanently."
   ]
  },
  {
   "cell_type": "code",
   "execution_count": null,
   "metadata": {
    "id": "OzU2N1WaujEV"
   },
   "outputs": [],
   "source": [
    "# code here"
   ]
  },
  {
   "cell_type": "markdown",
   "metadata": {
    "id": "u_za5X6Xuy9O"
   },
   "source": [
    "## Questions on IPL wala dataset\n",
    "\n",
    "matches dataset = https://drive.google.com/file/d/1yKVUuexl6lIKuFQy7uIPgDgXhJ0L4SIg/view?usp=share_link\n",
    "\n",
    "Code to directly use in colab\n",
    "```\n",
    "ipl_matches = \"https://docs.google.com/spreadsheets/d/e/2PACX-1vRy2DUdUbaKx_Co9F0FSnIlyS-8kp4aKv_I0-qzNeghiZHAI_hw94gKG22XTxNJHMFnFVKsO4xWOdIs/pub?gid=1655759976&single=true&output=csv\"\n",
    "\n",
    "```\n",
    "\n",
    "\n"
   ]
  },
  {
   "cell_type": "markdown",
   "metadata": {
    "id": "dUT2nct2u2ET"
   },
   "source": [
    "###`Q-6:` Make a dataframe of each team in IPL with details like - Team Name, Matches Played, Win%, Home Win%, Away Win%.\n",
    "Show sorted dataframe on Win%\n",
    "\n",
    "Replace old team name as new name before performing any tasks.\n",
    "```\n",
    "Delhi Daredevils ->Delhi Capitals\n",
    "Kings XI Punjab -> Punjab Kings\n",
    "Rising Pune Supergiants -> Rising Pune Supergiant\n",
    "```\n",
    "\n",
    "Note: Team1 represents Home team. Exclude not result matches.\n"
   ]
  },
  {
   "cell_type": "code",
   "execution_count": null,
   "metadata": {
    "id": "Y_yr2BgquzeO"
   },
   "outputs": [],
   "source": [
    "# code here"
   ]
  },
  {
   "cell_type": "markdown",
   "metadata": {
    "id": "kfZPOzk5u4Ty"
   },
   "source": [
    "###`Q-7:` Venues with most \"no result\" matches."
   ]
  },
  {
   "cell_type": "code",
   "execution_count": null,
   "metadata": {
    "id": "XYLJXgVwu7MC"
   },
   "outputs": [],
   "source": [
    "# code here"
   ]
  },
  {
   "cell_type": "markdown",
   "metadata": {
    "id": "XWeIf7I6u8T-"
   },
   "source": [
    "###`Q-8:` Player with most appearance in final match.\n",
    "\n",
    "`Team1Players` and `Team2Players` have all players name. It is not a list of players name instead it is str. So handle it as string.\n",
    "\n",
    "Hint: split and strip will help; Make a series of all players in final and do value counts\n"
   ]
  },
  {
   "cell_type": "code",
   "execution_count": null,
   "metadata": {
    "id": "z_OKKz-Eu-dd"
   },
   "outputs": [],
   "source": [
    "# code here"
   ]
  },
  {
   "cell_type": "markdown",
   "metadata": {
    "id": "NUolo2wRu_ex"
   },
   "source": [
    "###`Q-9:` IPL Point Table\n",
    "\n",
    "Make a function `point_table` which take `season` as parameter and show points table in non-ascendng order of points and in ascending order of team name.\n",
    "\n",
    "For winning - 2 Ponits;\n",
    "For loosing - 0 Point\n",
    "For not result both team gets 1 points.\n",
    "\n",
    "Make dataframe which will have\n",
    "`TeamName` `MatchesPlayed` `MatchesWon` `NoResult` `Points`\n",
    "make `TeamName` as index.\n",
    "\n",
    "```\n",
    "season parametr should be one of these->\n",
    "['2022', '2021', '2020/21', '2019', '2018', '2017', '2016', '2015', '2014', '2013', '2012', '2011', '2009/10', '2009', '2007/08']\n",
    "```\n"
   ]
  },
  {
   "cell_type": "markdown",
   "metadata": {
    "id": "j4TSQq6fvFxO"
   },
   "source": [
    "Output of two Top 2 in season 2022\n",
    "```\n",
    "TeamName    MatchesPlayed\tMatchesWon\tNoResult\tPoints\n",
    "\n",
    "Gujarat Titans\t    16\t   12\t       0\t     24\n",
    "Rajasthan Royals\t  17\t   10\t       0\t     20\n",
    "\n",
    "```"
   ]
  },
  {
   "cell_type": "code",
   "execution_count": null,
   "metadata": {
    "id": "WdVcgEekvBv6"
   },
   "outputs": [],
   "source": [
    "# code here"
   ]
  },
  {
   "cell_type": "markdown",
   "metadata": {
    "id": "b7bf7YwqvIXj"
   },
   "source": [
    "###`Q-10:` IPL Point Table cont.\n",
    "Extend the above IPL Point Table with an extra column as `SeasonPosition`\n",
    "\n",
    "Team below top 4 after sorting on `Points` and then on `TeamName` Will have same `SeasonPosition` as there rank. use rank function.\n",
    "\n",
    "Teams in Top four will have `SeasonPosition` as:\n",
    "```\n",
    "    'Winner' - Team won final\n",
    "    'Runner' - Team lost Final\n",
    "    3 - Losing Team in Qualifier2\n",
    "    4 - Losing Team in Eliminator\n",
    "```\n",
    "\n",
    "For changing value of pariticular cell use `df.at[row_index, col_label] = value`\n",
    "\n",
    "Output of two Top 2 in season 2022. Your result should have all teams.\n",
    "```\n",
    "TeamName    MatchesPlayed\tMatchesWon\tNoResult\tPoints   SeasonPosition\n",
    "\n",
    "Gujarat Titans\t    16\t   12\t       0\t     24         Winner\n",
    "Rajasthan Royals\t  17\t   10\t       0\t     20         Runner\n",
    "\n",
    "```\n",
    "\n",
    "Note: If you try to chnage value of view of any dataframe a warnig will be shown. To avoid it, make a copy of the dataframe you want to change in by `df.copy()`"
   ]
  },
  {
   "cell_type": "code",
   "execution_count": null,
   "metadata": {
    "id": "ugZsBQiAvI5V"
   },
   "outputs": [],
   "source": [
    "# code here"
   ]
  }
 ],
 "metadata": {
  "colab": {
   "provenance": []
  },
  "kernelspec": {
   "display_name": "Python 3 (ipykernel)",
   "language": "python",
   "name": "python3"
  },
  "language_info": {
   "codemirror_mode": {
    "name": "ipython",
    "version": 3
   },
   "file_extension": ".py",
   "mimetype": "text/x-python",
   "name": "python",
   "nbconvert_exporter": "python",
   "pygments_lexer": "ipython3",
   "version": "3.10.7"
  }
 },
 "nbformat": 4,
 "nbformat_minor": 1
}
