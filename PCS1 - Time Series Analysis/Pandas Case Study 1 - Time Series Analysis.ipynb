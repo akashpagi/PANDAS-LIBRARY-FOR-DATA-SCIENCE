{
 "cells": [
  {
   "cell_type": "markdown",
   "id": "83166f49",
   "metadata": {},
   "source": [
    "### Pandas Case Study 1 - Time Series Analysis"
   ]
  },
  {
   "cell_type": "markdown",
   "id": "bb550379",
   "metadata": {},
   "source": [
    "#### Timedelta Object (Pandas)\n",
    "\n",
    "\n",
    "- Represents a duration, the difference between two dates or times.\n",
    "\n",
    "\n",
    "- In pandas, a Timedelta object represents a duration, which is the difference between two dates, times, or a combination of both. \n",
    "\n",
    "\n",
    "- It is useful to work with time-based data and perform various time-related operations.\n",
    "\n",
    "\n",
    "- We can create a Timedelta object using the pd.Timedelta constructor and provide the duration as an argument, which can be expressed in various units such as days, hours, minutes, seconds, milliseconds, microseconds, and nanoseconds."
   ]
  },
  {
   "cell_type": "code",
   "execution_count": 1,
   "id": "aed18970",
   "metadata": {},
   "outputs": [
    {
     "name": "stdout",
     "output_type": "stream",
     "text": [
      "31 days 00:00:00\n"
     ]
    }
   ],
   "source": [
    "import pandas as pd \n",
    "# Create Timedelta object using Timestamp object\n",
    "td1 = pd.Timestamp('20th Oct 2023')\n",
    "td2 = pd.Timestamp('20th Nov 2023')\n",
    "\n",
    "# diff_td is Timedelta object\n",
    "diff_td = td2 - td1\n",
    "print(diff_td)"
   ]
  },
  {
   "cell_type": "markdown",
   "id": "48fa1f4c",
   "metadata": {},
   "source": [
    "**pd.Timedelta(value, unit):**\n",
    "\n",
    "- The pd.Timedelta() function in pandas is used to create a Timedelta object, which represents a duration or time difference.\n",
    "\n",
    "\n",
    "- We can specify the duration as arguments to this function, using various units such as days, hours, minutes, seconds, milliseconds, microseconds, and nanoseconds.\n",
    "\n",
    "\n",
    "- **Note:** Timedelta is the pandas equivalent of python’s datetime.timedelta and is interchangeable with it in most cases.\n",
    "\n",
    "\n",
    "- **Syntax : pd.Timedelta(value, unit):**\n",
    "    - **value:** The numerical value that represents the duration or time difference.\n",
    "    - **unit:** A string that specifies the unit of time. This can be one of the following:\n",
    "        - 'D' or 'days' for days\n",
    "        - 'H' or 'hours' for hours\n",
    "        - 'T' or 'minutes' for minutes\n",
    "        - 'S' or 'seconds' for seconds\n",
    "        - 'L' or 'milliseconds' for milliseconds\n",
    "        - 'U' or 'microseconds' for microseconds\n",
    "        - 'N' or 'nanoseconds' for nanoseconds"
   ]
  },
  {
   "cell_type": "code",
   "execution_count": 2,
   "id": "a5120a2b",
   "metadata": {},
   "outputs": [
    {
     "data": {
      "text/plain": [
       "Timedelta('2 days 10:35:00')"
      ]
     },
     "execution_count": 2,
     "metadata": {},
     "output_type": "execute_result"
    }
   ],
   "source": [
    "# standalone creation using pd.Timedelta()\n",
    "pd.Timedelta(days=2,hours=10,minutes=35)"
   ]
  },
  {
   "cell_type": "code",
   "execution_count": 3,
   "id": "63385566",
   "metadata": {},
   "outputs": [
    {
     "name": "stdout",
     "output_type": "stream",
     "text": [
      "2023-08-30 02:00:00\n"
     ]
    }
   ],
   "source": [
    "# arithmetic operations\n",
    "td = pd.Timedelta(days=10,hours=2)\n",
    "new_date = pd.Timestamp('2023/08/20') + td\n",
    "print(new_date)"
   ]
  },
  {
   "cell_type": "code",
   "execution_count": 4,
   "id": "f37dc36a",
   "metadata": {},
   "outputs": [
    {
     "name": "stdout",
     "output_type": "stream",
     "text": [
      "DatetimeIndex(['2023-10-20 10:35:00', '2023-10-21 10:35:00',\n",
      "               '2023-10-22 10:35:00', '2023-10-23 10:35:00',\n",
      "               '2023-10-24 10:35:00', '2023-10-25 10:35:00',\n",
      "               '2023-10-26 10:35:00', '2023-10-27 10:35:00'],\n",
      "              dtype='datetime64[ns]', freq='D')\n"
     ]
    }
   ],
   "source": [
    "dates = pd.date_range(start='2023/10/18',\n",
    "                      end='2023/10/25', freq='D')\n",
    "td = pd.Timedelta(days=2,hours=10,minutes=35) \n",
    "print(dates + td)"
   ]
  },
  {
   "cell_type": "code",
   "execution_count": 5,
   "id": "7d2945f3",
   "metadata": {},
   "outputs": [
    {
     "data": {
      "text/html": [
       "<div>\n",
       "<style scoped>\n",
       "    .dataframe tbody tr th:only-of-type {\n",
       "        vertical-align: middle;\n",
       "    }\n",
       "\n",
       "    .dataframe tbody tr th {\n",
       "        vertical-align: top;\n",
       "    }\n",
       "\n",
       "    .dataframe thead th {\n",
       "        text-align: right;\n",
       "    }\n",
       "</style>\n",
       "<table border=\"1\" class=\"dataframe\">\n",
       "  <thead>\n",
       "    <tr style=\"text-align: right;\">\n",
       "      <th></th>\n",
       "      <th>order_date</th>\n",
       "      <th>delivery_date</th>\n",
       "    </tr>\n",
       "  </thead>\n",
       "  <tbody>\n",
       "    <tr>\n",
       "      <th>0</th>\n",
       "      <td>5/24/98</td>\n",
       "      <td>2/5/99</td>\n",
       "    </tr>\n",
       "    <tr>\n",
       "      <th>1</th>\n",
       "      <td>4/22/92</td>\n",
       "      <td>3/6/98</td>\n",
       "    </tr>\n",
       "    <tr>\n",
       "      <th>2</th>\n",
       "      <td>2/10/91</td>\n",
       "      <td>8/26/92</td>\n",
       "    </tr>\n",
       "    <tr>\n",
       "      <th>3</th>\n",
       "      <td>7/21/92</td>\n",
       "      <td>11/20/97</td>\n",
       "    </tr>\n",
       "    <tr>\n",
       "      <th>4</th>\n",
       "      <td>9/2/93</td>\n",
       "      <td>6/10/98</td>\n",
       "    </tr>\n",
       "  </tbody>\n",
       "</table>\n",
       "</div>"
      ],
      "text/plain": [
       "  order_date delivery_date\n",
       "0    5/24/98        2/5/99\n",
       "1    4/22/92        3/6/98\n",
       "2    2/10/91       8/26/92\n",
       "3    7/21/92      11/20/97\n",
       "4     9/2/93       6/10/98"
      ]
     },
     "execution_count": 5,
     "metadata": {},
     "output_type": "execute_result"
    }
   ],
   "source": [
    "# real life example (90's delivery dataset)\n",
    "df = pd.read_csv('deliveries.csv')\n",
    "df.head()"
   ]
  },
  {
   "cell_type": "code",
   "execution_count": 6,
   "id": "b65ca8aa",
   "metadata": {},
   "outputs": [
    {
     "data": {
      "text/plain": [
       "Timedelta('1217 days 22:53:53.532934128')"
      ]
     },
     "execution_count": 6,
     "metadata": {},
     "output_type": "execute_result"
    }
   ],
   "source": [
    "# Calculating avg time period of delivery\n",
    "df['order_date'] = pd.to_datetime(df['order_date'])\n",
    "df['delivery_date'] = pd.to_datetime(df['delivery_date'])\n",
    "# Timedelta\n",
    "df['delivery_time'] = df['delivery_date'] - df['order_date']\n",
    "df['delivery_time'].mean() "
   ]
  },
  {
   "cell_type": "code",
   "execution_count": null,
   "id": "02c2ce12",
   "metadata": {},
   "outputs": [],
   "source": []
  },
  {
   "cell_type": "markdown",
   "id": "44cf924a",
   "metadata": {},
   "source": [
    "### Time Series\n",
    "\n",
    "- A time series is a data set that tracks a sample over time. In particular, a time series allows one to see what factors influence certain variables from period to period. Time series analysis can be useful to see how a given asset, security, or economic variable changes over time.\n",
    "\n",
    "- Examples\n",
    "\n",
    "    - Financial Data (Company stocks)\n",
    "    - Natural Data (Rainfall measurement)\n",
    "    - Event Data (Covid)\n",
    "    - Medical Data (Heart rate monitoring)\n",
    "\n",
    "- Types of Operations done on Time Series\n",
    "\n",
    "    - Time Series Analysis\n",
    "    - Time Series Forecasting"
   ]
  },
  {
   "cell_type": "code",
   "execution_count": 7,
   "id": "a96471d8",
   "metadata": {},
   "outputs": [],
   "source": [
    "import pandas as pd\n",
    "google = pd.read_csv('google.csv')"
   ]
  },
  {
   "cell_type": "code",
   "execution_count": 8,
   "id": "9d1326c0",
   "metadata": {},
   "outputs": [
    {
     "data": {
      "text/html": [
       "<div>\n",
       "<style scoped>\n",
       "    .dataframe tbody tr th:only-of-type {\n",
       "        vertical-align: middle;\n",
       "    }\n",
       "\n",
       "    .dataframe tbody tr th {\n",
       "        vertical-align: top;\n",
       "    }\n",
       "\n",
       "    .dataframe thead th {\n",
       "        text-align: right;\n",
       "    }\n",
       "</style>\n",
       "<table border=\"1\" class=\"dataframe\">\n",
       "  <thead>\n",
       "    <tr style=\"text-align: right;\">\n",
       "      <th></th>\n",
       "      <th>Date</th>\n",
       "      <th>Open</th>\n",
       "      <th>High</th>\n",
       "      <th>Low</th>\n",
       "      <th>Close</th>\n",
       "      <th>Adj Close</th>\n",
       "      <th>Volume</th>\n",
       "    </tr>\n",
       "  </thead>\n",
       "  <tbody>\n",
       "    <tr>\n",
       "      <th>0</th>\n",
       "      <td>2004-08-19</td>\n",
       "      <td>49.813290</td>\n",
       "      <td>51.835709</td>\n",
       "      <td>47.800831</td>\n",
       "      <td>49.982655</td>\n",
       "      <td>49.982655</td>\n",
       "      <td>44871361</td>\n",
       "    </tr>\n",
       "    <tr>\n",
       "      <th>1</th>\n",
       "      <td>2004-08-20</td>\n",
       "      <td>50.316402</td>\n",
       "      <td>54.336334</td>\n",
       "      <td>50.062355</td>\n",
       "      <td>53.952770</td>\n",
       "      <td>53.952770</td>\n",
       "      <td>22942874</td>\n",
       "    </tr>\n",
       "    <tr>\n",
       "      <th>2</th>\n",
       "      <td>2004-08-23</td>\n",
       "      <td>55.168217</td>\n",
       "      <td>56.528118</td>\n",
       "      <td>54.321388</td>\n",
       "      <td>54.495735</td>\n",
       "      <td>54.495735</td>\n",
       "      <td>18342897</td>\n",
       "    </tr>\n",
       "    <tr>\n",
       "      <th>3</th>\n",
       "      <td>2004-08-24</td>\n",
       "      <td>55.412300</td>\n",
       "      <td>55.591629</td>\n",
       "      <td>51.591621</td>\n",
       "      <td>52.239197</td>\n",
       "      <td>52.239197</td>\n",
       "      <td>15319808</td>\n",
       "    </tr>\n",
       "    <tr>\n",
       "      <th>4</th>\n",
       "      <td>2004-08-25</td>\n",
       "      <td>52.284027</td>\n",
       "      <td>53.798351</td>\n",
       "      <td>51.746044</td>\n",
       "      <td>52.802086</td>\n",
       "      <td>52.802086</td>\n",
       "      <td>9232276</td>\n",
       "    </tr>\n",
       "  </tbody>\n",
       "</table>\n",
       "</div>"
      ],
      "text/plain": [
       "         Date       Open       High        Low      Close  Adj Close    Volume\n",
       "0  2004-08-19  49.813290  51.835709  47.800831  49.982655  49.982655  44871361\n",
       "1  2004-08-20  50.316402  54.336334  50.062355  53.952770  53.952770  22942874\n",
       "2  2004-08-23  55.168217  56.528118  54.321388  54.495735  54.495735  18342897\n",
       "3  2004-08-24  55.412300  55.591629  51.591621  52.239197  52.239197  15319808\n",
       "4  2004-08-25  52.284027  53.798351  51.746044  52.802086  52.802086   9232276"
      ]
     },
     "execution_count": 8,
     "metadata": {},
     "output_type": "execute_result"
    }
   ],
   "source": [
    "google.head()"
   ]
  },
  {
   "cell_type": "code",
   "execution_count": 9,
   "id": "c20616e5",
   "metadata": {},
   "outputs": [],
   "source": [
    "# Convert the 'Date' column to datetime\n",
    "google['Date'] = pd.to_datetime(google['Date'])"
   ]
  },
  {
   "cell_type": "code",
   "execution_count": 10,
   "id": "95776c72",
   "metadata": {},
   "outputs": [
    {
     "name": "stdout",
     "output_type": "stream",
     "text": [
      "<class 'pandas.core.frame.DataFrame'>\n",
      "RangeIndex: 4471 entries, 0 to 4470\n",
      "Data columns (total 7 columns):\n",
      " #   Column     Non-Null Count  Dtype         \n",
      "---  ------     --------------  -----         \n",
      " 0   Date       4471 non-null   datetime64[ns]\n",
      " 1   Open       4471 non-null   float64       \n",
      " 2   High       4471 non-null   float64       \n",
      " 3   Low        4471 non-null   float64       \n",
      " 4   Close      4471 non-null   float64       \n",
      " 5   Adj Close  4471 non-null   float64       \n",
      " 6   Volume     4471 non-null   int64         \n",
      "dtypes: datetime64[ns](1), float64(5), int64(1)\n",
      "memory usage: 244.6 KB\n"
     ]
    }
   ],
   "source": [
    "google.info()"
   ]
  },
  {
   "cell_type": "code",
   "execution_count": 11,
   "id": "7cbf8439",
   "metadata": {},
   "outputs": [],
   "source": [
    "# When you work on Time Series data then Make Date column as index\n",
    "google.set_index('Date', inplace=True)"
   ]
  },
  {
   "cell_type": "code",
   "execution_count": 12,
   "id": "7b847bae",
   "metadata": {},
   "outputs": [
    {
     "data": {
      "text/html": [
       "<div>\n",
       "<style scoped>\n",
       "    .dataframe tbody tr th:only-of-type {\n",
       "        vertical-align: middle;\n",
       "    }\n",
       "\n",
       "    .dataframe tbody tr th {\n",
       "        vertical-align: top;\n",
       "    }\n",
       "\n",
       "    .dataframe thead th {\n",
       "        text-align: right;\n",
       "    }\n",
       "</style>\n",
       "<table border=\"1\" class=\"dataframe\">\n",
       "  <thead>\n",
       "    <tr style=\"text-align: right;\">\n",
       "      <th></th>\n",
       "      <th>Open</th>\n",
       "      <th>High</th>\n",
       "      <th>Low</th>\n",
       "      <th>Close</th>\n",
       "      <th>Adj Close</th>\n",
       "      <th>Volume</th>\n",
       "    </tr>\n",
       "    <tr>\n",
       "      <th>Date</th>\n",
       "      <th></th>\n",
       "      <th></th>\n",
       "      <th></th>\n",
       "      <th></th>\n",
       "      <th></th>\n",
       "      <th></th>\n",
       "    </tr>\n",
       "  </thead>\n",
       "  <tbody>\n",
       "    <tr>\n",
       "      <th>2004-08-19</th>\n",
       "      <td>49.813290</td>\n",
       "      <td>51.835709</td>\n",
       "      <td>47.800831</td>\n",
       "      <td>49.982655</td>\n",
       "      <td>49.982655</td>\n",
       "      <td>44871361</td>\n",
       "    </tr>\n",
       "    <tr>\n",
       "      <th>2004-08-20</th>\n",
       "      <td>50.316402</td>\n",
       "      <td>54.336334</td>\n",
       "      <td>50.062355</td>\n",
       "      <td>53.952770</td>\n",
       "      <td>53.952770</td>\n",
       "      <td>22942874</td>\n",
       "    </tr>\n",
       "    <tr>\n",
       "      <th>2004-08-23</th>\n",
       "      <td>55.168217</td>\n",
       "      <td>56.528118</td>\n",
       "      <td>54.321388</td>\n",
       "      <td>54.495735</td>\n",
       "      <td>54.495735</td>\n",
       "      <td>18342897</td>\n",
       "    </tr>\n",
       "    <tr>\n",
       "      <th>2004-08-24</th>\n",
       "      <td>55.412300</td>\n",
       "      <td>55.591629</td>\n",
       "      <td>51.591621</td>\n",
       "      <td>52.239197</td>\n",
       "      <td>52.239197</td>\n",
       "      <td>15319808</td>\n",
       "    </tr>\n",
       "    <tr>\n",
       "      <th>2004-08-25</th>\n",
       "      <td>52.284027</td>\n",
       "      <td>53.798351</td>\n",
       "      <td>51.746044</td>\n",
       "      <td>52.802086</td>\n",
       "      <td>52.802086</td>\n",
       "      <td>9232276</td>\n",
       "    </tr>\n",
       "  </tbody>\n",
       "</table>\n",
       "</div>"
      ],
      "text/plain": [
       "                 Open       High        Low      Close  Adj Close    Volume\n",
       "Date                                                                       \n",
       "2004-08-19  49.813290  51.835709  47.800831  49.982655  49.982655  44871361\n",
       "2004-08-20  50.316402  54.336334  50.062355  53.952770  53.952770  22942874\n",
       "2004-08-23  55.168217  56.528118  54.321388  54.495735  54.495735  18342897\n",
       "2004-08-24  55.412300  55.591629  51.591621  52.239197  52.239197  15319808\n",
       "2004-08-25  52.284027  53.798351  51.746044  52.802086  52.802086   9232276"
      ]
     },
     "execution_count": 12,
     "metadata": {},
     "output_type": "execute_result"
    }
   ],
   "source": [
    "google.head()"
   ]
  },
  {
   "cell_type": "code",
   "execution_count": 13,
   "id": "5ad98a9a",
   "metadata": {},
   "outputs": [
    {
     "data": {
      "text/plain": [
       "Open         4.981329e+01\n",
       "High         5.183571e+01\n",
       "Low          4.780083e+01\n",
       "Close        4.998266e+01\n",
       "Adj Close    4.998266e+01\n",
       "Volume       4.487136e+07\n",
       "Name: 2004-08-19 00:00:00, dtype: float64"
      ]
     },
     "execution_count": 13,
     "metadata": {},
     "output_type": "execute_result"
    }
   ],
   "source": [
    "# fetch a specific date\n",
    "google.loc['2004-08-19']"
   ]
  },
  {
   "cell_type": "code",
   "execution_count": 14,
   "id": "8f2e8841",
   "metadata": {},
   "outputs": [
    {
     "data": {
      "text/html": [
       "<div>\n",
       "<style scoped>\n",
       "    .dataframe tbody tr th:only-of-type {\n",
       "        vertical-align: middle;\n",
       "    }\n",
       "\n",
       "    .dataframe tbody tr th {\n",
       "        vertical-align: top;\n",
       "    }\n",
       "\n",
       "    .dataframe thead th {\n",
       "        text-align: right;\n",
       "    }\n",
       "</style>\n",
       "<table border=\"1\" class=\"dataframe\">\n",
       "  <thead>\n",
       "    <tr style=\"text-align: right;\">\n",
       "      <th></th>\n",
       "      <th>Open</th>\n",
       "      <th>High</th>\n",
       "      <th>Low</th>\n",
       "      <th>Close</th>\n",
       "      <th>Adj Close</th>\n",
       "      <th>Volume</th>\n",
       "    </tr>\n",
       "    <tr>\n",
       "      <th>Date</th>\n",
       "      <th></th>\n",
       "      <th></th>\n",
       "      <th></th>\n",
       "      <th></th>\n",
       "      <th></th>\n",
       "      <th></th>\n",
       "    </tr>\n",
       "  </thead>\n",
       "  <tbody>\n",
       "    <tr>\n",
       "      <th>2004-08-19</th>\n",
       "      <td>49.813290</td>\n",
       "      <td>51.835709</td>\n",
       "      <td>47.800831</td>\n",
       "      <td>49.982655</td>\n",
       "      <td>49.982655</td>\n",
       "      <td>44871361</td>\n",
       "    </tr>\n",
       "    <tr>\n",
       "      <th>2004-08-20</th>\n",
       "      <td>50.316402</td>\n",
       "      <td>54.336334</td>\n",
       "      <td>50.062355</td>\n",
       "      <td>53.952770</td>\n",
       "      <td>53.952770</td>\n",
       "      <td>22942874</td>\n",
       "    </tr>\n",
       "    <tr>\n",
       "      <th>2004-08-23</th>\n",
       "      <td>55.168217</td>\n",
       "      <td>56.528118</td>\n",
       "      <td>54.321388</td>\n",
       "      <td>54.495735</td>\n",
       "      <td>54.495735</td>\n",
       "      <td>18342897</td>\n",
       "    </tr>\n",
       "    <tr>\n",
       "      <th>2004-08-24</th>\n",
       "      <td>55.412300</td>\n",
       "      <td>55.591629</td>\n",
       "      <td>51.591621</td>\n",
       "      <td>52.239197</td>\n",
       "      <td>52.239197</td>\n",
       "      <td>15319808</td>\n",
       "    </tr>\n",
       "    <tr>\n",
       "      <th>2004-08-25</th>\n",
       "      <td>52.284027</td>\n",
       "      <td>53.798351</td>\n",
       "      <td>51.746044</td>\n",
       "      <td>52.802086</td>\n",
       "      <td>52.802086</td>\n",
       "      <td>9232276</td>\n",
       "    </tr>\n",
       "    <tr>\n",
       "      <th>2004-08-26</th>\n",
       "      <td>52.279045</td>\n",
       "      <td>53.773445</td>\n",
       "      <td>52.134586</td>\n",
       "      <td>53.753517</td>\n",
       "      <td>53.753517</td>\n",
       "      <td>7128620</td>\n",
       "    </tr>\n",
       "    <tr>\n",
       "      <th>2004-08-27</th>\n",
       "      <td>53.848164</td>\n",
       "      <td>54.107193</td>\n",
       "      <td>52.647663</td>\n",
       "      <td>52.876804</td>\n",
       "      <td>52.876804</td>\n",
       "      <td>6241307</td>\n",
       "    </tr>\n",
       "    <tr>\n",
       "      <th>2004-08-30</th>\n",
       "      <td>52.443428</td>\n",
       "      <td>52.548038</td>\n",
       "      <td>50.814533</td>\n",
       "      <td>50.814533</td>\n",
       "      <td>50.814533</td>\n",
       "      <td>5221498</td>\n",
       "    </tr>\n",
       "    <tr>\n",
       "      <th>2004-08-31</th>\n",
       "      <td>50.958992</td>\n",
       "      <td>51.661362</td>\n",
       "      <td>50.889256</td>\n",
       "      <td>50.993862</td>\n",
       "      <td>50.993862</td>\n",
       "      <td>4941252</td>\n",
       "    </tr>\n",
       "  </tbody>\n",
       "</table>\n",
       "</div>"
      ],
      "text/plain": [
       "                 Open       High        Low      Close  Adj Close    Volume\n",
       "Date                                                                       \n",
       "2004-08-19  49.813290  51.835709  47.800831  49.982655  49.982655  44871361\n",
       "2004-08-20  50.316402  54.336334  50.062355  53.952770  53.952770  22942874\n",
       "2004-08-23  55.168217  56.528118  54.321388  54.495735  54.495735  18342897\n",
       "2004-08-24  55.412300  55.591629  51.591621  52.239197  52.239197  15319808\n",
       "2004-08-25  52.284027  53.798351  51.746044  52.802086  52.802086   9232276\n",
       "2004-08-26  52.279045  53.773445  52.134586  53.753517  53.753517   7128620\n",
       "2004-08-27  53.848164  54.107193  52.647663  52.876804  52.876804   6241307\n",
       "2004-08-30  52.443428  52.548038  50.814533  50.814533  50.814533   5221498\n",
       "2004-08-31  50.958992  51.661362  50.889256  50.993862  50.993862   4941252"
      ]
     },
     "execution_count": 14,
     "metadata": {},
     "output_type": "execute_result"
    }
   ],
   "source": [
    "# Partial indexing -> select a particular year/month\n",
    "google.loc['2004-08']"
   ]
  },
  {
   "cell_type": "code",
   "execution_count": 15,
   "id": "6469ec12",
   "metadata": {},
   "outputs": [
    {
     "data": {
      "text/html": [
       "<div>\n",
       "<style scoped>\n",
       "    .dataframe tbody tr th:only-of-type {\n",
       "        vertical-align: middle;\n",
       "    }\n",
       "\n",
       "    .dataframe tbody tr th {\n",
       "        vertical-align: top;\n",
       "    }\n",
       "\n",
       "    .dataframe thead th {\n",
       "        text-align: right;\n",
       "    }\n",
       "</style>\n",
       "<table border=\"1\" class=\"dataframe\">\n",
       "  <thead>\n",
       "    <tr style=\"text-align: right;\">\n",
       "      <th></th>\n",
       "      <th>Open</th>\n",
       "      <th>High</th>\n",
       "      <th>Low</th>\n",
       "      <th>Close</th>\n",
       "      <th>Adj Close</th>\n",
       "      <th>Volume</th>\n",
       "    </tr>\n",
       "    <tr>\n",
       "      <th>Date</th>\n",
       "      <th></th>\n",
       "      <th></th>\n",
       "      <th></th>\n",
       "      <th></th>\n",
       "      <th></th>\n",
       "      <th></th>\n",
       "    </tr>\n",
       "  </thead>\n",
       "  <tbody>\n",
       "    <tr>\n",
       "      <th>2022-01-03</th>\n",
       "      <td>2889.510010</td>\n",
       "      <td>2911.000000</td>\n",
       "      <td>2870.050049</td>\n",
       "      <td>2901.489990</td>\n",
       "      <td>2901.489990</td>\n",
       "      <td>1260700</td>\n",
       "    </tr>\n",
       "    <tr>\n",
       "      <th>2022-01-04</th>\n",
       "      <td>2911.010010</td>\n",
       "      <td>2932.199951</td>\n",
       "      <td>2876.322998</td>\n",
       "      <td>2888.330078</td>\n",
       "      <td>2888.330078</td>\n",
       "      <td>1146400</td>\n",
       "    </tr>\n",
       "    <tr>\n",
       "      <th>2022-01-05</th>\n",
       "      <td>2883.620117</td>\n",
       "      <td>2885.959961</td>\n",
       "      <td>2750.469971</td>\n",
       "      <td>2753.070068</td>\n",
       "      <td>2753.070068</td>\n",
       "      <td>2482100</td>\n",
       "    </tr>\n",
       "    <tr>\n",
       "      <th>2022-01-06</th>\n",
       "      <td>2749.949951</td>\n",
       "      <td>2793.719971</td>\n",
       "      <td>2735.270020</td>\n",
       "      <td>2751.020020</td>\n",
       "      <td>2751.020020</td>\n",
       "      <td>1452500</td>\n",
       "    </tr>\n",
       "    <tr>\n",
       "      <th>2022-01-07</th>\n",
       "      <td>2758.100098</td>\n",
       "      <td>2765.094971</td>\n",
       "      <td>2715.780029</td>\n",
       "      <td>2740.090088</td>\n",
       "      <td>2740.090088</td>\n",
       "      <td>970400</td>\n",
       "    </tr>\n",
       "    <tr>\n",
       "      <th>...</th>\n",
       "      <td>...</td>\n",
       "      <td>...</td>\n",
       "      <td>...</td>\n",
       "      <td>...</td>\n",
       "      <td>...</td>\n",
       "      <td>...</td>\n",
       "    </tr>\n",
       "    <tr>\n",
       "      <th>2022-05-16</th>\n",
       "      <td>2307.679932</td>\n",
       "      <td>2332.149902</td>\n",
       "      <td>2286.699951</td>\n",
       "      <td>2295.850098</td>\n",
       "      <td>2295.850098</td>\n",
       "      <td>1164100</td>\n",
       "    </tr>\n",
       "    <tr>\n",
       "      <th>2022-05-17</th>\n",
       "      <td>2344.550049</td>\n",
       "      <td>2344.550049</td>\n",
       "      <td>2306.750000</td>\n",
       "      <td>2334.030029</td>\n",
       "      <td>2334.030029</td>\n",
       "      <td>1078800</td>\n",
       "    </tr>\n",
       "    <tr>\n",
       "      <th>2022-05-18</th>\n",
       "      <td>2304.750000</td>\n",
       "      <td>2313.913086</td>\n",
       "      <td>2242.840088</td>\n",
       "      <td>2248.020020</td>\n",
       "      <td>2248.020020</td>\n",
       "      <td>1399100</td>\n",
       "    </tr>\n",
       "    <tr>\n",
       "      <th>2022-05-19</th>\n",
       "      <td>2236.820068</td>\n",
       "      <td>2271.750000</td>\n",
       "      <td>2209.360107</td>\n",
       "      <td>2214.909912</td>\n",
       "      <td>2214.909912</td>\n",
       "      <td>1459600</td>\n",
       "    </tr>\n",
       "    <tr>\n",
       "      <th>2022-05-20</th>\n",
       "      <td>2241.709961</td>\n",
       "      <td>2251.000000</td>\n",
       "      <td>2127.459961</td>\n",
       "      <td>2186.260010</td>\n",
       "      <td>2186.260010</td>\n",
       "      <td>1878100</td>\n",
       "    </tr>\n",
       "  </tbody>\n",
       "</table>\n",
       "<p>97 rows × 6 columns</p>\n",
       "</div>"
      ],
      "text/plain": [
       "                   Open         High          Low        Close    Adj Close  \\\n",
       "Date                                                                          \n",
       "2022-01-03  2889.510010  2911.000000  2870.050049  2901.489990  2901.489990   \n",
       "2022-01-04  2911.010010  2932.199951  2876.322998  2888.330078  2888.330078   \n",
       "2022-01-05  2883.620117  2885.959961  2750.469971  2753.070068  2753.070068   \n",
       "2022-01-06  2749.949951  2793.719971  2735.270020  2751.020020  2751.020020   \n",
       "2022-01-07  2758.100098  2765.094971  2715.780029  2740.090088  2740.090088   \n",
       "...                 ...          ...          ...          ...          ...   \n",
       "2022-05-16  2307.679932  2332.149902  2286.699951  2295.850098  2295.850098   \n",
       "2022-05-17  2344.550049  2344.550049  2306.750000  2334.030029  2334.030029   \n",
       "2022-05-18  2304.750000  2313.913086  2242.840088  2248.020020  2248.020020   \n",
       "2022-05-19  2236.820068  2271.750000  2209.360107  2214.909912  2214.909912   \n",
       "2022-05-20  2241.709961  2251.000000  2127.459961  2186.260010  2186.260010   \n",
       "\n",
       "             Volume  \n",
       "Date                 \n",
       "2022-01-03  1260700  \n",
       "2022-01-04  1146400  \n",
       "2022-01-05  2482100  \n",
       "2022-01-06  1452500  \n",
       "2022-01-07   970400  \n",
       "...             ...  \n",
       "2022-05-16  1164100  \n",
       "2022-05-17  1078800  \n",
       "2022-05-18  1399100  \n",
       "2022-05-19  1459600  \n",
       "2022-05-20  1878100  \n",
       "\n",
       "[97 rows x 6 columns]"
      ]
     },
     "execution_count": 15,
     "metadata": {},
     "output_type": "execute_result"
    }
   ],
   "source": [
    "google.loc['2022']"
   ]
  },
  {
   "cell_type": "code",
   "execution_count": 16,
   "id": "4d19be38",
   "metadata": {},
   "outputs": [],
   "source": [
    "# Adding new cols\n",
    "import pandas as pd\n",
    "\n",
    "# Assuming 'google' is your DataFrame with a RangeIndex\n",
    "# Convert the index to a DatetimeIndex\n",
    "#google.index = pd.to_datetime(google.index)\n",
    "\n",
    "# Add new columns based on date attributes\n",
    "google['Month'] = google.index.month_name()\n",
    "google['Day'] = google.index.day_name()\n",
    "google['Quarter'] = google.index.quarter\n"
   ]
  },
  {
   "cell_type": "code",
   "execution_count": 17,
   "id": "ea78a41c",
   "metadata": {},
   "outputs": [
    {
     "data": {
      "text/html": [
       "<div>\n",
       "<style scoped>\n",
       "    .dataframe tbody tr th:only-of-type {\n",
       "        vertical-align: middle;\n",
       "    }\n",
       "\n",
       "    .dataframe tbody tr th {\n",
       "        vertical-align: top;\n",
       "    }\n",
       "\n",
       "    .dataframe thead th {\n",
       "        text-align: right;\n",
       "    }\n",
       "</style>\n",
       "<table border=\"1\" class=\"dataframe\">\n",
       "  <thead>\n",
       "    <tr style=\"text-align: right;\">\n",
       "      <th></th>\n",
       "      <th>Open</th>\n",
       "      <th>High</th>\n",
       "      <th>Low</th>\n",
       "      <th>Close</th>\n",
       "      <th>Adj Close</th>\n",
       "      <th>Volume</th>\n",
       "      <th>Month</th>\n",
       "      <th>Day</th>\n",
       "      <th>Quarter</th>\n",
       "    </tr>\n",
       "    <tr>\n",
       "      <th>Date</th>\n",
       "      <th></th>\n",
       "      <th></th>\n",
       "      <th></th>\n",
       "      <th></th>\n",
       "      <th></th>\n",
       "      <th></th>\n",
       "      <th></th>\n",
       "      <th></th>\n",
       "      <th></th>\n",
       "    </tr>\n",
       "  </thead>\n",
       "  <tbody>\n",
       "    <tr>\n",
       "      <th>2004-08-19</th>\n",
       "      <td>49.813290</td>\n",
       "      <td>51.835709</td>\n",
       "      <td>47.800831</td>\n",
       "      <td>49.982655</td>\n",
       "      <td>49.982655</td>\n",
       "      <td>44871361</td>\n",
       "      <td>August</td>\n",
       "      <td>Thursday</td>\n",
       "      <td>3</td>\n",
       "    </tr>\n",
       "    <tr>\n",
       "      <th>2004-08-20</th>\n",
       "      <td>50.316402</td>\n",
       "      <td>54.336334</td>\n",
       "      <td>50.062355</td>\n",
       "      <td>53.952770</td>\n",
       "      <td>53.952770</td>\n",
       "      <td>22942874</td>\n",
       "      <td>August</td>\n",
       "      <td>Friday</td>\n",
       "      <td>3</td>\n",
       "    </tr>\n",
       "    <tr>\n",
       "      <th>2004-08-23</th>\n",
       "      <td>55.168217</td>\n",
       "      <td>56.528118</td>\n",
       "      <td>54.321388</td>\n",
       "      <td>54.495735</td>\n",
       "      <td>54.495735</td>\n",
       "      <td>18342897</td>\n",
       "      <td>August</td>\n",
       "      <td>Monday</td>\n",
       "      <td>3</td>\n",
       "    </tr>\n",
       "    <tr>\n",
       "      <th>2004-08-24</th>\n",
       "      <td>55.412300</td>\n",
       "      <td>55.591629</td>\n",
       "      <td>51.591621</td>\n",
       "      <td>52.239197</td>\n",
       "      <td>52.239197</td>\n",
       "      <td>15319808</td>\n",
       "      <td>August</td>\n",
       "      <td>Tuesday</td>\n",
       "      <td>3</td>\n",
       "    </tr>\n",
       "    <tr>\n",
       "      <th>2004-08-25</th>\n",
       "      <td>52.284027</td>\n",
       "      <td>53.798351</td>\n",
       "      <td>51.746044</td>\n",
       "      <td>52.802086</td>\n",
       "      <td>52.802086</td>\n",
       "      <td>9232276</td>\n",
       "      <td>August</td>\n",
       "      <td>Wednesday</td>\n",
       "      <td>3</td>\n",
       "    </tr>\n",
       "    <tr>\n",
       "      <th>2004-08-26</th>\n",
       "      <td>52.279045</td>\n",
       "      <td>53.773445</td>\n",
       "      <td>52.134586</td>\n",
       "      <td>53.753517</td>\n",
       "      <td>53.753517</td>\n",
       "      <td>7128620</td>\n",
       "      <td>August</td>\n",
       "      <td>Thursday</td>\n",
       "      <td>3</td>\n",
       "    </tr>\n",
       "    <tr>\n",
       "      <th>2004-08-27</th>\n",
       "      <td>53.848164</td>\n",
       "      <td>54.107193</td>\n",
       "      <td>52.647663</td>\n",
       "      <td>52.876804</td>\n",
       "      <td>52.876804</td>\n",
       "      <td>6241307</td>\n",
       "      <td>August</td>\n",
       "      <td>Friday</td>\n",
       "      <td>3</td>\n",
       "    </tr>\n",
       "    <tr>\n",
       "      <th>2004-08-30</th>\n",
       "      <td>52.443428</td>\n",
       "      <td>52.548038</td>\n",
       "      <td>50.814533</td>\n",
       "      <td>50.814533</td>\n",
       "      <td>50.814533</td>\n",
       "      <td>5221498</td>\n",
       "      <td>August</td>\n",
       "      <td>Monday</td>\n",
       "      <td>3</td>\n",
       "    </tr>\n",
       "    <tr>\n",
       "      <th>2004-08-31</th>\n",
       "      <td>50.958992</td>\n",
       "      <td>51.661362</td>\n",
       "      <td>50.889256</td>\n",
       "      <td>50.993862</td>\n",
       "      <td>50.993862</td>\n",
       "      <td>4941252</td>\n",
       "      <td>August</td>\n",
       "      <td>Tuesday</td>\n",
       "      <td>3</td>\n",
       "    </tr>\n",
       "    <tr>\n",
       "      <th>2004-09-01</th>\n",
       "      <td>51.158245</td>\n",
       "      <td>51.292744</td>\n",
       "      <td>49.648903</td>\n",
       "      <td>49.937820</td>\n",
       "      <td>49.937820</td>\n",
       "      <td>9181687</td>\n",
       "      <td>September</td>\n",
       "      <td>Wednesday</td>\n",
       "      <td>3</td>\n",
       "    </tr>\n",
       "  </tbody>\n",
       "</table>\n",
       "</div>"
      ],
      "text/plain": [
       "                 Open       High        Low      Close  Adj Close    Volume  \\\n",
       "Date                                                                          \n",
       "2004-08-19  49.813290  51.835709  47.800831  49.982655  49.982655  44871361   \n",
       "2004-08-20  50.316402  54.336334  50.062355  53.952770  53.952770  22942874   \n",
       "2004-08-23  55.168217  56.528118  54.321388  54.495735  54.495735  18342897   \n",
       "2004-08-24  55.412300  55.591629  51.591621  52.239197  52.239197  15319808   \n",
       "2004-08-25  52.284027  53.798351  51.746044  52.802086  52.802086   9232276   \n",
       "2004-08-26  52.279045  53.773445  52.134586  53.753517  53.753517   7128620   \n",
       "2004-08-27  53.848164  54.107193  52.647663  52.876804  52.876804   6241307   \n",
       "2004-08-30  52.443428  52.548038  50.814533  50.814533  50.814533   5221498   \n",
       "2004-08-31  50.958992  51.661362  50.889256  50.993862  50.993862   4941252   \n",
       "2004-09-01  51.158245  51.292744  49.648903  49.937820  49.937820   9181687   \n",
       "\n",
       "                Month        Day  Quarter  \n",
       "Date                                       \n",
       "2004-08-19     August   Thursday        3  \n",
       "2004-08-20     August     Friday        3  \n",
       "2004-08-23     August     Monday        3  \n",
       "2004-08-24     August    Tuesday        3  \n",
       "2004-08-25     August  Wednesday        3  \n",
       "2004-08-26     August   Thursday        3  \n",
       "2004-08-27     August     Friday        3  \n",
       "2004-08-30     August     Monday        3  \n",
       "2004-08-31     August    Tuesday        3  \n",
       "2004-09-01  September  Wednesday        3  "
      ]
     },
     "execution_count": 17,
     "metadata": {},
     "output_type": "execute_result"
    }
   ],
   "source": [
    "google.head(10)"
   ]
  },
  {
   "cell_type": "code",
   "execution_count": 18,
   "id": "a8e90c2a",
   "metadata": {},
   "outputs": [
    {
     "data": {
      "text/html": [
       "<div>\n",
       "<style scoped>\n",
       "    .dataframe tbody tr th:only-of-type {\n",
       "        vertical-align: middle;\n",
       "    }\n",
       "\n",
       "    .dataframe tbody tr th {\n",
       "        vertical-align: top;\n",
       "    }\n",
       "\n",
       "    .dataframe thead th {\n",
       "        text-align: right;\n",
       "    }\n",
       "</style>\n",
       "<table border=\"1\" class=\"dataframe\">\n",
       "  <thead>\n",
       "    <tr style=\"text-align: right;\">\n",
       "      <th></th>\n",
       "      <th>Open</th>\n",
       "      <th>High</th>\n",
       "      <th>Low</th>\n",
       "      <th>Close</th>\n",
       "      <th>Adj Close</th>\n",
       "      <th>Volume</th>\n",
       "      <th>Month</th>\n",
       "      <th>Day</th>\n",
       "      <th>Quarter</th>\n",
       "    </tr>\n",
       "    <tr>\n",
       "      <th>Date</th>\n",
       "      <th></th>\n",
       "      <th></th>\n",
       "      <th></th>\n",
       "      <th></th>\n",
       "      <th></th>\n",
       "      <th></th>\n",
       "      <th></th>\n",
       "      <th></th>\n",
       "      <th></th>\n",
       "    </tr>\n",
       "  </thead>\n",
       "  <tbody>\n",
       "    <tr>\n",
       "      <th>2004-08-19</th>\n",
       "      <td>49.813290</td>\n",
       "      <td>51.835709</td>\n",
       "      <td>47.800831</td>\n",
       "      <td>49.982655</td>\n",
       "      <td>49.982655</td>\n",
       "      <td>44871361</td>\n",
       "      <td>August</td>\n",
       "      <td>Thursday</td>\n",
       "      <td>3</td>\n",
       "    </tr>\n",
       "    <tr>\n",
       "      <th>2004-08-23</th>\n",
       "      <td>55.168217</td>\n",
       "      <td>56.528118</td>\n",
       "      <td>54.321388</td>\n",
       "      <td>54.495735</td>\n",
       "      <td>54.495735</td>\n",
       "      <td>18342897</td>\n",
       "      <td>August</td>\n",
       "      <td>Monday</td>\n",
       "      <td>3</td>\n",
       "    </tr>\n",
       "    <tr>\n",
       "      <th>2004-08-25</th>\n",
       "      <td>52.284027</td>\n",
       "      <td>53.798351</td>\n",
       "      <td>51.746044</td>\n",
       "      <td>52.802086</td>\n",
       "      <td>52.802086</td>\n",
       "      <td>9232276</td>\n",
       "      <td>August</td>\n",
       "      <td>Wednesday</td>\n",
       "      <td>3</td>\n",
       "    </tr>\n",
       "    <tr>\n",
       "      <th>2004-08-27</th>\n",
       "      <td>53.848164</td>\n",
       "      <td>54.107193</td>\n",
       "      <td>52.647663</td>\n",
       "      <td>52.876804</td>\n",
       "      <td>52.876804</td>\n",
       "      <td>6241307</td>\n",
       "      <td>August</td>\n",
       "      <td>Friday</td>\n",
       "      <td>3</td>\n",
       "    </tr>\n",
       "    <tr>\n",
       "      <th>2004-08-31</th>\n",
       "      <td>50.958992</td>\n",
       "      <td>51.661362</td>\n",
       "      <td>50.889256</td>\n",
       "      <td>50.993862</td>\n",
       "      <td>50.993862</td>\n",
       "      <td>4941252</td>\n",
       "      <td>August</td>\n",
       "      <td>Tuesday</td>\n",
       "      <td>3</td>\n",
       "    </tr>\n",
       "    <tr>\n",
       "      <th>...</th>\n",
       "      <td>...</td>\n",
       "      <td>...</td>\n",
       "      <td>...</td>\n",
       "      <td>...</td>\n",
       "      <td>...</td>\n",
       "      <td>...</td>\n",
       "      <td>...</td>\n",
       "      <td>...</td>\n",
       "      <td>...</td>\n",
       "    </tr>\n",
       "    <tr>\n",
       "      <th>2020-05-05</th>\n",
       "      <td>1337.920044</td>\n",
       "      <td>1373.939941</td>\n",
       "      <td>1337.459961</td>\n",
       "      <td>1351.109985</td>\n",
       "      <td>1351.109985</td>\n",
       "      <td>1651500</td>\n",
       "      <td>May</td>\n",
       "      <td>Tuesday</td>\n",
       "      <td>2</td>\n",
       "    </tr>\n",
       "    <tr>\n",
       "      <th>2020-05-07</th>\n",
       "      <td>1365.939941</td>\n",
       "      <td>1377.599976</td>\n",
       "      <td>1355.270020</td>\n",
       "      <td>1372.560059</td>\n",
       "      <td>1372.560059</td>\n",
       "      <td>1397600</td>\n",
       "      <td>May</td>\n",
       "      <td>Thursday</td>\n",
       "      <td>2</td>\n",
       "    </tr>\n",
       "    <tr>\n",
       "      <th>2020-05-11</th>\n",
       "      <td>1378.280029</td>\n",
       "      <td>1416.530029</td>\n",
       "      <td>1377.151978</td>\n",
       "      <td>1403.260010</td>\n",
       "      <td>1403.260010</td>\n",
       "      <td>1412100</td>\n",
       "      <td>May</td>\n",
       "      <td>Monday</td>\n",
       "      <td>2</td>\n",
       "    </tr>\n",
       "    <tr>\n",
       "      <th>2020-05-13</th>\n",
       "      <td>1377.050049</td>\n",
       "      <td>1385.482056</td>\n",
       "      <td>1328.400024</td>\n",
       "      <td>1349.329956</td>\n",
       "      <td>1349.329956</td>\n",
       "      <td>1812600</td>\n",
       "      <td>May</td>\n",
       "      <td>Wednesday</td>\n",
       "      <td>2</td>\n",
       "    </tr>\n",
       "    <tr>\n",
       "      <th>2020-05-15</th>\n",
       "      <td>1350.000000</td>\n",
       "      <td>1374.479980</td>\n",
       "      <td>1339.000000</td>\n",
       "      <td>1373.189941</td>\n",
       "      <td>1373.189941</td>\n",
       "      <td>1707700</td>\n",
       "      <td>May</td>\n",
       "      <td>Friday</td>\n",
       "      <td>2</td>\n",
       "    </tr>\n",
       "  </tbody>\n",
       "</table>\n",
       "<p>1982 rows × 9 columns</p>\n",
       "</div>"
      ],
      "text/plain": [
       "                   Open         High          Low        Close    Adj Close  \\\n",
       "Date                                                                          \n",
       "2004-08-19    49.813290    51.835709    47.800831    49.982655    49.982655   \n",
       "2004-08-23    55.168217    56.528118    54.321388    54.495735    54.495735   \n",
       "2004-08-25    52.284027    53.798351    51.746044    52.802086    52.802086   \n",
       "2004-08-27    53.848164    54.107193    52.647663    52.876804    52.876804   \n",
       "2004-08-31    50.958992    51.661362    50.889256    50.993862    50.993862   \n",
       "...                 ...          ...          ...          ...          ...   \n",
       "2020-05-05  1337.920044  1373.939941  1337.459961  1351.109985  1351.109985   \n",
       "2020-05-07  1365.939941  1377.599976  1355.270020  1372.560059  1372.560059   \n",
       "2020-05-11  1378.280029  1416.530029  1377.151978  1403.260010  1403.260010   \n",
       "2020-05-13  1377.050049  1385.482056  1328.400024  1349.329956  1349.329956   \n",
       "2020-05-15  1350.000000  1374.479980  1339.000000  1373.189941  1373.189941   \n",
       "\n",
       "              Volume   Month        Day  Quarter  \n",
       "Date                                              \n",
       "2004-08-19  44871361  August   Thursday        3  \n",
       "2004-08-23  18342897  August     Monday        3  \n",
       "2004-08-25   9232276  August  Wednesday        3  \n",
       "2004-08-27   6241307  August     Friday        3  \n",
       "2004-08-31   4941252  August    Tuesday        3  \n",
       "...              ...     ...        ...      ...  \n",
       "2020-05-05   1651500     May    Tuesday        2  \n",
       "2020-05-07   1397600     May   Thursday        2  \n",
       "2020-05-11   1412100     May     Monday        2  \n",
       "2020-05-13   1812600     May  Wednesday        2  \n",
       "2020-05-15   1707700     May     Friday        2  \n",
       "\n",
       "[1982 rows x 9 columns]"
      ]
     },
     "execution_count": 18,
     "metadata": {},
     "output_type": "execute_result"
    }
   ],
   "source": [
    "# Slicing\n",
    "# In loc include start and end\n",
    "google.loc['2004-08-19':'2020-05-16':2]\n"
   ]
  },
  {
   "cell_type": "markdown",
   "id": "da973b62",
   "metadata": {},
   "source": [
    "**DateOffset() method:**\n",
    "- In Pandas, you can use the dateOffset class to represent various date offsets or date-related calculations. Date offsets allow you to perform operations like adding or subtracting a specific number of days, months, years, hours, minutes, or other time units from a date or time.\n",
    "\n",
    "- The DateOffset class is part of the Pandas library and is found in the pandas.tseries.offsets module. You can use it to create date offsets and apply them to date or datetime objects.\n",
    "\n",
    "- Here are some common date offsets in Pandas:\n",
    "     - **Day:** Represents a day offset.\n",
    "     - **BusinessDay:** Represents a business day (excluding weekends) offset.\n",
    "     - **Week:** Represents a week offset.\n",
    "     - **MonthEnd:** Represents the last day of a month.\n",
    "     - **YearEnd:** Represents the last day of a year.\n",
    "     - **Hour:** Represents an hour offset.\n",
    "     - **Minute:** Represents a minute offset."
   ]
  },
  {
   "cell_type": "code",
   "execution_count": 19,
   "id": "02b9abbe",
   "metadata": {},
   "outputs": [
    {
     "name": "stdout",
     "output_type": "stream",
     "text": [
      "2023-10-29 00:00:00\n"
     ]
    }
   ],
   "source": [
    "import pandas as pd\n",
    "from pandas.tseries.offsets import Day\n",
    "# Create a date offset of 3 days\n",
    "offset = Day(3)\n",
    "# Create a date\n",
    "date = pd.to_datetime('2023-10-26')\n",
    "# Add the offset to the date\n",
    "new_date = date + offset\n",
    "print(new_date)"
   ]
  },
  {
   "cell_type": "code",
   "execution_count": 20,
   "id": "650b2fc6",
   "metadata": {},
   "outputs": [
    {
     "data": {
      "text/html": [
       "<div>\n",
       "<style scoped>\n",
       "    .dataframe tbody tr th:only-of-type {\n",
       "        vertical-align: middle;\n",
       "    }\n",
       "\n",
       "    .dataframe tbody tr th {\n",
       "        vertical-align: top;\n",
       "    }\n",
       "\n",
       "    .dataframe thead th {\n",
       "        text-align: right;\n",
       "    }\n",
       "</style>\n",
       "<table border=\"1\" class=\"dataframe\">\n",
       "  <thead>\n",
       "    <tr style=\"text-align: right;\">\n",
       "      <th></th>\n",
       "      <th>Open</th>\n",
       "      <th>High</th>\n",
       "      <th>Low</th>\n",
       "      <th>Close</th>\n",
       "      <th>Adj Close</th>\n",
       "      <th>Volume</th>\n",
       "      <th>Month</th>\n",
       "      <th>Day</th>\n",
       "      <th>Quarter</th>\n",
       "    </tr>\n",
       "    <tr>\n",
       "      <th>Date</th>\n",
       "      <th></th>\n",
       "      <th></th>\n",
       "      <th></th>\n",
       "      <th></th>\n",
       "      <th></th>\n",
       "      <th></th>\n",
       "      <th></th>\n",
       "      <th></th>\n",
       "      <th></th>\n",
       "    </tr>\n",
       "  </thead>\n",
       "  <tbody>\n",
       "    <tr>\n",
       "      <th>2007-01-08</th>\n",
       "      <td>242.934418</td>\n",
       "      <td>244.020355</td>\n",
       "      <td>240.199677</td>\n",
       "      <td>240.887100</td>\n",
       "      <td>240.887100</td>\n",
       "      <td>9544441</td>\n",
       "      <td>January</td>\n",
       "      <td>Monday</td>\n",
       "      <td>1</td>\n",
       "    </tr>\n",
       "    <tr>\n",
       "      <th>2008-01-08</th>\n",
       "      <td>325.280762</td>\n",
       "      <td>328.747772</td>\n",
       "      <td>314.321838</td>\n",
       "      <td>314.660583</td>\n",
       "      <td>314.660583</td>\n",
       "      <td>10718225</td>\n",
       "      <td>January</td>\n",
       "      <td>Tuesday</td>\n",
       "      <td>1</td>\n",
       "    </tr>\n",
       "    <tr>\n",
       "      <th>2009-01-08</th>\n",
       "      <td>158.545731</td>\n",
       "      <td>161.987823</td>\n",
       "      <td>158.077484</td>\n",
       "      <td>161.987823</td>\n",
       "      <td>161.987823</td>\n",
       "      <td>7228393</td>\n",
       "      <td>January</td>\n",
       "      <td>Thursday</td>\n",
       "      <td>1</td>\n",
       "    </tr>\n",
       "    <tr>\n",
       "      <th>2010-01-08</th>\n",
       "      <td>294.894653</td>\n",
       "      <td>300.498657</td>\n",
       "      <td>293.455048</td>\n",
       "      <td>299.885956</td>\n",
       "      <td>299.885956</td>\n",
       "      <td>9484016</td>\n",
       "      <td>January</td>\n",
       "      <td>Friday</td>\n",
       "      <td>1</td>\n",
       "    </tr>\n",
       "    <tr>\n",
       "      <th>2013-01-08</th>\n",
       "      <td>366.396667</td>\n",
       "      <td>366.775238</td>\n",
       "      <td>360.862396</td>\n",
       "      <td>365.280823</td>\n",
       "      <td>365.280823</td>\n",
       "      <td>3364765</td>\n",
       "      <td>January</td>\n",
       "      <td>Tuesday</td>\n",
       "      <td>1</td>\n",
       "    </tr>\n",
       "    <tr>\n",
       "      <th>2014-01-08</th>\n",
       "      <td>570.860291</td>\n",
       "      <td>571.517822</td>\n",
       "      <td>564.528992</td>\n",
       "      <td>568.484192</td>\n",
       "      <td>568.484192</td>\n",
       "      <td>4501811</td>\n",
       "      <td>January</td>\n",
       "      <td>Wednesday</td>\n",
       "      <td>1</td>\n",
       "    </tr>\n",
       "    <tr>\n",
       "      <th>2015-01-08</th>\n",
       "      <td>496.626526</td>\n",
       "      <td>502.101471</td>\n",
       "      <td>489.655640</td>\n",
       "      <td>501.303680</td>\n",
       "      <td>501.303680</td>\n",
       "      <td>3353582</td>\n",
       "      <td>January</td>\n",
       "      <td>Thursday</td>\n",
       "      <td>1</td>\n",
       "    </tr>\n",
       "    <tr>\n",
       "      <th>2016-01-08</th>\n",
       "      <td>731.450012</td>\n",
       "      <td>733.229980</td>\n",
       "      <td>713.000000</td>\n",
       "      <td>714.469971</td>\n",
       "      <td>714.469971</td>\n",
       "      <td>2450900</td>\n",
       "      <td>January</td>\n",
       "      <td>Friday</td>\n",
       "      <td>1</td>\n",
       "    </tr>\n",
       "    <tr>\n",
       "      <th>2018-01-08</th>\n",
       "      <td>1102.229980</td>\n",
       "      <td>1111.270020</td>\n",
       "      <td>1101.619995</td>\n",
       "      <td>1106.939941</td>\n",
       "      <td>1106.939941</td>\n",
       "      <td>1047600</td>\n",
       "      <td>January</td>\n",
       "      <td>Monday</td>\n",
       "      <td>1</td>\n",
       "    </tr>\n",
       "    <tr>\n",
       "      <th>2019-01-08</th>\n",
       "      <td>1076.109985</td>\n",
       "      <td>1084.560059</td>\n",
       "      <td>1060.530029</td>\n",
       "      <td>1076.280029</td>\n",
       "      <td>1076.280029</td>\n",
       "      <td>1764900</td>\n",
       "      <td>January</td>\n",
       "      <td>Tuesday</td>\n",
       "      <td>1</td>\n",
       "    </tr>\n",
       "    <tr>\n",
       "      <th>2020-01-08</th>\n",
       "      <td>1392.079956</td>\n",
       "      <td>1411.579956</td>\n",
       "      <td>1390.839966</td>\n",
       "      <td>1404.319946</td>\n",
       "      <td>1404.319946</td>\n",
       "      <td>1528000</td>\n",
       "      <td>January</td>\n",
       "      <td>Wednesday</td>\n",
       "      <td>1</td>\n",
       "    </tr>\n",
       "    <tr>\n",
       "      <th>2021-01-08</th>\n",
       "      <td>1787.979980</td>\n",
       "      <td>1809.839966</td>\n",
       "      <td>1773.535034</td>\n",
       "      <td>1807.209961</td>\n",
       "      <td>1807.209961</td>\n",
       "      <td>2050600</td>\n",
       "      <td>January</td>\n",
       "      <td>Friday</td>\n",
       "      <td>1</td>\n",
       "    </tr>\n",
       "  </tbody>\n",
       "</table>\n",
       "</div>"
      ],
      "text/plain": [
       "                   Open         High          Low        Close    Adj Close  \\\n",
       "Date                                                                          \n",
       "2007-01-08   242.934418   244.020355   240.199677   240.887100   240.887100   \n",
       "2008-01-08   325.280762   328.747772   314.321838   314.660583   314.660583   \n",
       "2009-01-08   158.545731   161.987823   158.077484   161.987823   161.987823   \n",
       "2010-01-08   294.894653   300.498657   293.455048   299.885956   299.885956   \n",
       "2013-01-08   366.396667   366.775238   360.862396   365.280823   365.280823   \n",
       "2014-01-08   570.860291   571.517822   564.528992   568.484192   568.484192   \n",
       "2015-01-08   496.626526   502.101471   489.655640   501.303680   501.303680   \n",
       "2016-01-08   731.450012   733.229980   713.000000   714.469971   714.469971   \n",
       "2018-01-08  1102.229980  1111.270020  1101.619995  1106.939941  1106.939941   \n",
       "2019-01-08  1076.109985  1084.560059  1060.530029  1076.280029  1076.280029   \n",
       "2020-01-08  1392.079956  1411.579956  1390.839966  1404.319946  1404.319946   \n",
       "2021-01-08  1787.979980  1809.839966  1773.535034  1807.209961  1807.209961   \n",
       "\n",
       "              Volume    Month        Day  Quarter  \n",
       "Date                                               \n",
       "2007-01-08   9544441  January     Monday        1  \n",
       "2008-01-08  10718225  January    Tuesday        1  \n",
       "2009-01-08   7228393  January   Thursday        1  \n",
       "2010-01-08   9484016  January     Friday        1  \n",
       "2013-01-08   3364765  January    Tuesday        1  \n",
       "2014-01-08   4501811  January  Wednesday        1  \n",
       "2015-01-08   3353582  January   Thursday        1  \n",
       "2016-01-08   2450900  January     Friday        1  \n",
       "2018-01-08   1047600  January     Monday        1  \n",
       "2019-01-08   1764900  January    Tuesday        1  \n",
       "2020-01-08   1528000  January  Wednesday        1  \n",
       "2021-01-08   2050600  January     Friday        1  "
      ]
     },
     "execution_count": 20,
     "metadata": {},
     "output_type": "execute_result"
    }
   ],
   "source": [
    "# Challege -> fetch info for a particlular date every year -> limitation of timedelta\n",
    "time = pd.date_range(start='2005-1-8', end='2022-1-6', freq=pd.DateOffset(years=1))\n",
    "google[google.index.isin(time)]\n"
   ]
  },
  {
   "cell_type": "code",
   "execution_count": 21,
   "id": "4fd17a1d",
   "metadata": {},
   "outputs": [
    {
     "data": {
      "text/plain": [
       "<AxesSubplot: xlabel='Date'>"
      ]
     },
     "execution_count": 21,
     "metadata": {},
     "output_type": "execute_result"
    },
    {
     "data": {
      "image/png": "[encoded data removed]",
      "text/plain": [
       "<Figure size 640x480 with 1 Axes>"
      ]
     },
     "metadata": {},
     "output_type": "display_data"
    }
   ],
   "source": [
    "google['Close'].plot()"
   ]
  },
  {
   "cell_type": "code",
   "execution_count": 22,
   "id": "8053cef7",
   "metadata": {},
   "outputs": [
    {
     "data": {
      "text/plain": [
       "<AxesSubplot: xlabel='Date'>"
      ]
     },
     "execution_count": 22,
     "metadata": {},
     "output_type": "execute_result"
    },
    {
     "data": {
      "image/png": "[encoded data removed]",
      "text/plain": [
       "<Figure size 640x480 with 1 Axes>"
      ]
     },
     "metadata": {},
     "output_type": "display_data"
    }
   ],
   "source": [
    "# Plot particular year/month/week\n",
    "google.loc['2022']['Open'].plot()"
   ]
  },
  {
   "cell_type": "code",
   "execution_count": 23,
   "id": "e3c06189",
   "metadata": {},
   "outputs": [
    {
     "data": {
      "text/plain": [
       "<AxesSubplot: xlabel='Date'>"
      ]
     },
     "execution_count": 23,
     "metadata": {},
     "output_type": "execute_result"
    },
    {
     "data": {
      "image/png": "[encoded data removed]",
      "text/plain": [
       "<Figure size 640x480 with 1 Axes>"
      ]
     },
     "metadata": {},
     "output_type": "display_data"
    }
   ],
   "source": [
    "# Month trend\n",
    "google.loc['2021-9']['Open'].plot()"
   ]
  },
  {
   "cell_type": "markdown",
   "id": "2a17cb82",
   "metadata": {},
   "source": [
    "**frequncey:**"
   ]
  },
  {
   "cell_type": "code",
   "execution_count": 24,
   "id": "c9ef144b",
   "metadata": {},
   "outputs": [
    {
     "data": {
      "text/plain": [
       "DatetimeIndex(['2004-08-19', '2004-08-20', '2004-08-23', '2004-08-24',\n",
       "               '2004-08-25', '2004-08-26', '2004-08-27', '2004-08-30',\n",
       "               '2004-08-31', '2004-09-01',\n",
       "               ...\n",
       "               '2022-05-09', '2022-05-10', '2022-05-11', '2022-05-12',\n",
       "               '2022-05-13', '2022-05-16', '2022-05-17', '2022-05-18',\n",
       "               '2022-05-19', '2022-05-20'],\n",
       "              dtype='datetime64[ns]', name='Date', length=4471, freq=None)"
      ]
     },
     "execution_count": 24,
     "metadata": {},
     "output_type": "execute_result"
    }
   ],
   "source": [
    "google.index"
   ]
  },
  {
   "cell_type": "markdown",
   "id": "5064fa74",
   "metadata": {},
   "source": [
    "**asfreq() method:** (Controling the frequency fo time series data)\n",
    "- In Pandas, the asfreq method is used to resample time series data. Resampling is the process of changing the frequency of the data in a time series, which means converting it from one frequency (e.g., daily) to another frequency (e.g., monthly or quarterly). \n",
    "\n",
    "- The asfreq method is particularly useful for time series data that's indexed with a DatetimeIndex or PeriodIndex.\n",
    "\n",
    "- The asfreq method allows you to specify the desired frequency (or frequency rule) to which you want to resample your data. It's a common tool for time series data analysis and manipulation. Here's the basic syntax:\n",
    "\n",
    "- **Syntax: DataFrame.asfreq(freq, method=None, how=None, normalize=False)**\n",
    "\n",
    "     - **freq:** The frequency to which you want to resample the data, specified as a string (e.g., 'D' for daily, 'M' for monthly).\n",
    "     - **method:** This is an optional parameter that specifies how to handle missing data when resampling. It can take values like 'pad' or 'ffill' (forward fill), 'bfill' (backward fill), 'nearest', or None. This parameter determines how missing values are filled.\n",
    "     - **how:** This is an optional parameter, and it's mainly used for PeriodIndex. It allows you to specify whether the resampling should be done at the start or end of the period. It can take values like 'start' or 'end'.\n",
    "     - **normalize:** This is an optional parameter that, when set to True, ensures that the resulting DatetimeIndex is in a normalized form. For example, when resampling to a monthly frequency, if normalize is True, the resulting dates will always have day 1."
   ]
  },
  {
   "cell_type": "code",
   "execution_count": 25,
   "id": "107acd6f",
   "metadata": {},
   "outputs": [
    {
     "name": "stdout",
     "output_type": "stream",
     "text": [
      "            Data\n",
      "Date            \n",
      "2023-01-01     0\n",
      "2023-01-08     7\n"
     ]
    }
   ],
   "source": [
    "import pandas as pd\n",
    "import numpy as np\n",
    "# Create a sample time series\n",
    "date_rng = pd.date_range(start='2023-01-01', \n",
    "                         end='2023-01-10', freq='D')\n",
    "data = np.arange(len(date_rng))\n",
    "df = pd.DataFrame({'Date': date_rng, 'Data': data})\n",
    "# Resample the data to a weekly frequency\n",
    "weekly_data = df.set_index('Date').asfreq('W')\n",
    "print(weekly_data)"
   ]
  },
  {
   "cell_type": "code",
   "execution_count": 26,
   "id": "60d85515",
   "metadata": {},
   "outputs": [
    {
     "data": {
      "text/html": [
       "<div>\n",
       "<style scoped>\n",
       "    .dataframe tbody tr th:only-of-type {\n",
       "        vertical-align: middle;\n",
       "    }\n",
       "\n",
       "    .dataframe tbody tr th {\n",
       "        vertical-align: top;\n",
       "    }\n",
       "\n",
       "    .dataframe thead th {\n",
       "        text-align: right;\n",
       "    }\n",
       "</style>\n",
       "<table border=\"1\" class=\"dataframe\">\n",
       "  <thead>\n",
       "    <tr style=\"text-align: right;\">\n",
       "      <th></th>\n",
       "      <th>Open</th>\n",
       "      <th>High</th>\n",
       "      <th>Low</th>\n",
       "      <th>Close</th>\n",
       "      <th>Adj Close</th>\n",
       "      <th>Volume</th>\n",
       "      <th>Month</th>\n",
       "      <th>Day</th>\n",
       "      <th>Quarter</th>\n",
       "    </tr>\n",
       "    <tr>\n",
       "      <th>Date</th>\n",
       "      <th></th>\n",
       "      <th></th>\n",
       "      <th></th>\n",
       "      <th></th>\n",
       "      <th></th>\n",
       "      <th></th>\n",
       "      <th></th>\n",
       "      <th></th>\n",
       "      <th></th>\n",
       "    </tr>\n",
       "  </thead>\n",
       "  <tbody>\n",
       "    <tr>\n",
       "      <th>2004-08-31</th>\n",
       "      <td>50.958992</td>\n",
       "      <td>51.661362</td>\n",
       "      <td>50.889256</td>\n",
       "      <td>50.993862</td>\n",
       "      <td>50.993862</td>\n",
       "      <td>4941252.0</td>\n",
       "      <td>August</td>\n",
       "      <td>Tuesday</td>\n",
       "      <td>3.0</td>\n",
       "    </tr>\n",
       "    <tr>\n",
       "      <th>2004-09-30</th>\n",
       "      <td>64.707458</td>\n",
       "      <td>65.902977</td>\n",
       "      <td>64.259140</td>\n",
       "      <td>64.558022</td>\n",
       "      <td>64.558022</td>\n",
       "      <td>13823420.0</td>\n",
       "      <td>September</td>\n",
       "      <td>Thursday</td>\n",
       "      <td>3.0</td>\n",
       "    </tr>\n",
       "    <tr>\n",
       "      <th>2004-10-31</th>\n",
       "      <td>NaN</td>\n",
       "      <td>NaN</td>\n",
       "      <td>NaN</td>\n",
       "      <td>NaN</td>\n",
       "      <td>NaN</td>\n",
       "      <td>NaN</td>\n",
       "      <td>NaN</td>\n",
       "      <td>NaN</td>\n",
       "      <td>NaN</td>\n",
       "    </tr>\n",
       "    <tr>\n",
       "      <th>2004-11-30</th>\n",
       "      <td>90.017593</td>\n",
       "      <td>91.158318</td>\n",
       "      <td>89.788452</td>\n",
       "      <td>90.650223</td>\n",
       "      <td>90.650223</td>\n",
       "      <td>15457723.0</td>\n",
       "      <td>November</td>\n",
       "      <td>Tuesday</td>\n",
       "      <td>4.0</td>\n",
       "    </tr>\n",
       "    <tr>\n",
       "      <th>2004-12-31</th>\n",
       "      <td>99.243011</td>\n",
       "      <td>99.566795</td>\n",
       "      <td>95.920464</td>\n",
       "      <td>96.035034</td>\n",
       "      <td>96.035034</td>\n",
       "      <td>15394487.0</td>\n",
       "      <td>December</td>\n",
       "      <td>Friday</td>\n",
       "      <td>4.0</td>\n",
       "    </tr>\n",
       "    <tr>\n",
       "      <th>...</th>\n",
       "      <td>...</td>\n",
       "      <td>...</td>\n",
       "      <td>...</td>\n",
       "      <td>...</td>\n",
       "      <td>...</td>\n",
       "      <td>...</td>\n",
       "      <td>...</td>\n",
       "      <td>...</td>\n",
       "      <td>...</td>\n",
       "    </tr>\n",
       "    <tr>\n",
       "      <th>2021-12-31</th>\n",
       "      <td>2910.879883</td>\n",
       "      <td>2927.300049</td>\n",
       "      <td>2893.550049</td>\n",
       "      <td>2893.590088</td>\n",
       "      <td>2893.590088</td>\n",
       "      <td>864900.0</td>\n",
       "      <td>December</td>\n",
       "      <td>Friday</td>\n",
       "      <td>4.0</td>\n",
       "    </tr>\n",
       "    <tr>\n",
       "      <th>2022-01-31</th>\n",
       "      <td>2683.959961</td>\n",
       "      <td>2716.870117</td>\n",
       "      <td>2645.479980</td>\n",
       "      <td>2713.969971</td>\n",
       "      <td>2713.969971</td>\n",
       "      <td>1702800.0</td>\n",
       "      <td>January</td>\n",
       "      <td>Monday</td>\n",
       "      <td>1.0</td>\n",
       "    </tr>\n",
       "    <tr>\n",
       "      <th>2022-02-28</th>\n",
       "      <td>2665.689941</td>\n",
       "      <td>2712.810059</td>\n",
       "      <td>2656.504883</td>\n",
       "      <td>2697.820068</td>\n",
       "      <td>2697.820068</td>\n",
       "      <td>1483800.0</td>\n",
       "      <td>February</td>\n",
       "      <td>Monday</td>\n",
       "      <td>1.0</td>\n",
       "    </tr>\n",
       "    <tr>\n",
       "      <th>2022-03-31</th>\n",
       "      <td>2848.969971</td>\n",
       "      <td>2852.889893</td>\n",
       "      <td>2792.379883</td>\n",
       "      <td>2792.989990</td>\n",
       "      <td>2792.989990</td>\n",
       "      <td>1475800.0</td>\n",
       "      <td>March</td>\n",
       "      <td>Thursday</td>\n",
       "      <td>1.0</td>\n",
       "    </tr>\n",
       "    <tr>\n",
       "      <th>2022-04-30</th>\n",
       "      <td>NaN</td>\n",
       "      <td>NaN</td>\n",
       "      <td>NaN</td>\n",
       "      <td>NaN</td>\n",
       "      <td>NaN</td>\n",
       "      <td>NaN</td>\n",
       "      <td>NaN</td>\n",
       "      <td>NaN</td>\n",
       "      <td>NaN</td>\n",
       "    </tr>\n",
       "  </tbody>\n",
       "</table>\n",
       "<p>213 rows × 9 columns</p>\n",
       "</div>"
      ],
      "text/plain": [
       "                   Open         High          Low        Close    Adj Close  \\\n",
       "Date                                                                          \n",
       "2004-08-31    50.958992    51.661362    50.889256    50.993862    50.993862   \n",
       "2004-09-30    64.707458    65.902977    64.259140    64.558022    64.558022   \n",
       "2004-10-31          NaN          NaN          NaN          NaN          NaN   \n",
       "2004-11-30    90.017593    91.158318    89.788452    90.650223    90.650223   \n",
       "2004-12-31    99.243011    99.566795    95.920464    96.035034    96.035034   \n",
       "...                 ...          ...          ...          ...          ...   \n",
       "2021-12-31  2910.879883  2927.300049  2893.550049  2893.590088  2893.590088   \n",
       "2022-01-31  2683.959961  2716.870117  2645.479980  2713.969971  2713.969971   \n",
       "2022-02-28  2665.689941  2712.810059  2656.504883  2697.820068  2697.820068   \n",
       "2022-03-31  2848.969971  2852.889893  2792.379883  2792.989990  2792.989990   \n",
       "2022-04-30          NaN          NaN          NaN          NaN          NaN   \n",
       "\n",
       "                Volume      Month       Day  Quarter  \n",
       "Date                                                  \n",
       "2004-08-31   4941252.0     August   Tuesday      3.0  \n",
       "2004-09-30  13823420.0  September  Thursday      3.0  \n",
       "2004-10-31         NaN        NaN       NaN      NaN  \n",
       "2004-11-30  15457723.0   November   Tuesday      4.0  \n",
       "2004-12-31  15394487.0   December    Friday      4.0  \n",
       "...                ...        ...       ...      ...  \n",
       "2021-12-31    864900.0   December    Friday      4.0  \n",
       "2022-01-31   1702800.0    January    Monday      1.0  \n",
       "2022-02-28   1483800.0   February    Monday      1.0  \n",
       "2022-03-31   1475800.0      March  Thursday      1.0  \n",
       "2022-04-30         NaN        NaN       NaN      NaN  \n",
       "\n",
       "[213 rows x 9 columns]"
      ]
     },
     "execution_count": 26,
     "metadata": {},
     "output_type": "execute_result"
    }
   ],
   "source": [
    "google.asfreq('D')# Days\n",
    "google.asfreq('B')#Business dat\n",
    "google.asfreq('Q')\n",
    "google.asfreq('Y')# Year\n",
    "google.asfreq('M') # Month\n"
   ]
  },
  {
   "cell_type": "code",
   "execution_count": 27,
   "id": "04e4e4e6",
   "metadata": {},
   "outputs": [
    {
     "data": {
      "text/plain": [
       "<AxesSubplot: xlabel='Quarter'>"
      ]
     },
     "execution_count": 27,
     "metadata": {},
     "output_type": "execute_result"
    },
    {
     "data": {
      "image/png": "[encoded data removed]",
      "text/plain": [
       "<Figure size 640x480 with 1 Axes>"
      ]
     },
     "metadata": {},
     "output_type": "display_data"
    }
   ],
   "source": [
    "# quaterly trend\n",
    "google.groupby('Quarter')['Open'].sum().plot()"
   ]
  },
  {
   "cell_type": "code",
   "execution_count": 28,
   "id": "4fd4bc5a",
   "metadata": {},
   "outputs": [
    {
     "data": {
      "text/plain": [
       "Month\n",
       "April        AxesSubplot(0.125,0.2;0.775x0.68)\n",
       "August       AxesSubplot(0.125,0.2;0.775x0.68)\n",
       "December     AxesSubplot(0.125,0.2;0.775x0.68)\n",
       "February     AxesSubplot(0.125,0.2;0.775x0.68)\n",
       "January      AxesSubplot(0.125,0.2;0.775x0.68)\n",
       "July         AxesSubplot(0.125,0.2;0.775x0.68)\n",
       "June         AxesSubplot(0.125,0.2;0.775x0.68)\n",
       "March        AxesSubplot(0.125,0.2;0.775x0.68)\n",
       "May          AxesSubplot(0.125,0.2;0.775x0.68)\n",
       "November     AxesSubplot(0.125,0.2;0.775x0.68)\n",
       "October      AxesSubplot(0.125,0.2;0.775x0.68)\n",
       "September    AxesSubplot(0.125,0.2;0.775x0.68)\n",
       "Name: Open, dtype: object"
      ]
     },
     "execution_count": 28,
     "metadata": {},
     "output_type": "execute_result"
    },
    {
     "data": {
      "image/png": "[encoded data removed]",
      "text/plain": [
       "<Figure size 640x480 with 1 Axes>"
      ]
     },
     "metadata": {},
     "output_type": "display_data"
    }
   ],
   "source": [
    "# Montly trend\n",
    "google.groupby('Month')['Open'].plot()"
   ]
  },
  {
   "cell_type": "code",
   "execution_count": null,
   "id": "883e1bfd",
   "metadata": {},
   "outputs": [],
   "source": [
    "# viz all cols together"
   ]
  },
  {
   "cell_type": "markdown",
   "id": "55c37918",
   "metadata": {},
   "source": [
    "### Resampling\n",
    "- Resampling involves changing the frequency of your time series observations.\n",
    "\n",
    "**Two types of resampling are:**\n",
    "\n",
    "- **Upsampling**: \n",
    "    - Where you increase the frequency of the samples, such as from minutes to seconds.\n",
    "    - Used in rare cases\n",
    "- **Downsampling**: \n",
    "    - Where you decrease the frequency of the samples, such as from days to months.\n",
    "    - Used in most of the time"
   ]
  },
  {
   "cell_type": "code",
   "execution_count": 38,
   "id": "71a7685a",
   "metadata": {},
   "outputs": [],
   "source": [
    "# Downloading\n",
    "# Here somany noise are here because of noise we can't find out pattren"
   ]
  },
  {
   "cell_type": "code",
   "execution_count": 42,
   "id": "952a4ba7",
   "metadata": {},
   "outputs": [
    {
     "data": {
      "text/plain": [
       "<AxesSubplot: xlabel='Date'>"
      ]
     },
     "execution_count": 42,
     "metadata": {},
     "output_type": "execute_result"
    },
    {
     "data": {
      "image/png": "[encoded data removed]",
      "text/plain": [
       "<Figure size 640x480 with 1 Axes>"
      ]
     },
     "metadata": {},
     "output_type": "display_data"
    }
   ],
   "source": [
    "google['Close'].plot()\n",
    "google['Close'].resample('Y').mean().plot()"
   ]
  },
  {
   "cell_type": "code",
   "execution_count": 56,
   "id": "c0ac6480",
   "metadata": {},
   "outputs": [
    {
     "data": {
      "text/plain": [
       "<AxesSubplot: xlabel='Date'>"
      ]
     },
     "execution_count": 56,
     "metadata": {},
     "output_type": "execute_result"
    },
    {
     "data": {
      "image/png": "[encoded data removed]",
      "text/plain": [
       "<Figure size 640x480 with 1 Axes>"
      ]
     },
     "metadata": {},
     "output_type": "display_data"
    }
   ],
   "source": [
    "# Upsampling > increase in frequency\n",
    "# Opposite to Downsampling\n",
    "google['Close'].resample('12H').interpolate(method='linear', order=2).plot()"
   ]
  },
  {
   "cell_type": "markdown",
   "id": "143dd9ea",
   "metadata": {},
   "source": [
    "### Rolling Window(Smoothing)\n",
    "- Time series data in original format can be quite volatile, especially on smaller aggregation levels. \n",
    "- The concept of rolling, or moving averages is a useful technique for smoothing time series data. "
   ]
  },
  {
   "cell_type": "code",
   "execution_count": 62,
   "id": "fe953145",
   "metadata": {},
   "outputs": [
    {
     "data": {
      "text/plain": [
       "Date\n",
       "2004-08-19      49.982655\n",
       "2004-08-20      53.952770\n",
       "2004-08-23      54.495735\n",
       "2004-08-24      52.239197\n",
       "2004-08-25      52.802086\n",
       "                 ...     \n",
       "2022-05-16    2295.850098\n",
       "2022-05-17    2334.030029\n",
       "2022-05-18    2248.020020\n",
       "2022-05-19    2214.909912\n",
       "2022-05-20    2186.260010\n",
       "Name: Close, Length: 4471, dtype: float64"
      ]
     },
     "execution_count": 62,
     "metadata": {},
     "output_type": "execute_result"
    }
   ],
   "source": [
    "# Normal\n",
    "google['Close']"
   ]
  },
  {
   "cell_type": "code",
   "execution_count": 71,
   "id": "2fca3466",
   "metadata": {},
   "outputs": [
    {
     "data": {
      "text/plain": [
       "<AxesSubplot: xlabel='Date'>"
      ]
     },
     "execution_count": 71,
     "metadata": {},
     "output_type": "execute_result"
    },
    {
     "data": {
      "image/png": "[encoded data removed]",
      "text/plain": [
       "<Figure size 640x480 with 1 Axes>"
      ]
     },
     "metadata": {},
     "output_type": "display_data"
    }
   ],
   "source": [
    "# Rolling/Moving average\n",
    "google['Close'].plot()\n",
    "google['Close'].rolling(120).mean().plot()"
   ]
  },
  {
   "cell_type": "code",
   "execution_count": 75,
   "id": "2528d046",
   "metadata": {},
   "outputs": [
    {
     "data": {
      "text/plain": [
       "<AxesSubplot: xlabel='Date'>"
      ]
     },
     "execution_count": 75,
     "metadata": {},
     "output_type": "execute_result"
    },
    {
     "data": {
      "image/png": "[encoded data removed]",
      "text/plain": [
       "<Figure size 640x480 with 1 Axes>"
      ]
     },
     "metadata": {},
     "output_type": "display_data"
    }
   ],
   "source": [
    "# Expotenial Moving Average\n",
    "google['Close'].plot()\n",
    "google['Close'].rolling(7).mean().plot()\n",
    "google['Close'].ewm(7).mean().plot()"
   ]
  },
  {
   "cell_type": "markdown",
   "id": "cee0dd6c",
   "metadata": {},
   "source": [
    "### Shifting\n",
    "- The shift() function is Pandas is used to, well, shift the entire series up or down by the desired number of periods."
   ]
  },
  {
   "cell_type": "code",
   "execution_count": 80,
   "id": "adb2813d",
   "metadata": {},
   "outputs": [
    {
     "data": {
      "text/plain": [
       "Date\n",
       "2004-08-19      49.813290\n",
       "2004-08-20      50.316402\n",
       "2004-08-23      55.168217\n",
       "2004-08-24      55.412300\n",
       "2004-08-25      52.284027\n",
       "                 ...     \n",
       "2022-05-16    2307.679932\n",
       "2022-05-17    2344.550049\n",
       "2022-05-18    2304.750000\n",
       "2022-05-19    2236.820068\n",
       "2022-05-20    2241.709961\n",
       "Name: Open, Length: 4471, dtype: float64"
      ]
     },
     "execution_count": 80,
     "metadata": {},
     "output_type": "execute_result"
    }
   ],
   "source": [
    "google['Open']"
   ]
  },
  {
   "cell_type": "code",
   "execution_count": 79,
   "id": "427ed248",
   "metadata": {},
   "outputs": [
    {
     "data": {
      "text/plain": [
       "Date\n",
       "2004-08-19            NaN\n",
       "2004-08-20      49.813290\n",
       "2004-08-23      50.316402\n",
       "2004-08-24      55.168217\n",
       "2004-08-25      55.412300\n",
       "                 ...     \n",
       "2022-05-16    2296.909912\n",
       "2022-05-17    2307.679932\n",
       "2022-05-18    2344.550049\n",
       "2022-05-19    2304.750000\n",
       "2022-05-20    2236.820068\n",
       "Name: Open, Length: 4471, dtype: float64"
      ]
     },
     "execution_count": 79,
     "metadata": {},
     "output_type": "execute_result"
    }
   ],
   "source": [
    "google['Open'].shift(1)"
   ]
  },
  {
   "cell_type": "code",
   "execution_count": 81,
   "id": "14d1e772",
   "metadata": {},
   "outputs": [
    {
     "data": {
      "text/plain": [
       "Date\n",
       "2004-08-19            NaN\n",
       "2004-08-20            NaN\n",
       "2004-08-23      49.813290\n",
       "2004-08-24      50.316402\n",
       "2004-08-25      55.168217\n",
       "                 ...     \n",
       "2022-05-16    2238.760010\n",
       "2022-05-17    2296.909912\n",
       "2022-05-18    2307.679932\n",
       "2022-05-19    2344.550049\n",
       "2022-05-20    2304.750000\n",
       "Name: Open, Length: 4471, dtype: float64"
      ]
     },
     "execution_count": 81,
     "metadata": {},
     "output_type": "execute_result"
    }
   ],
   "source": [
    "google['Open'].shift(2)"
   ]
  },
  {
   "cell_type": "code",
   "execution_count": 82,
   "id": "e0f116cc",
   "metadata": {},
   "outputs": [
    {
     "data": {
      "text/plain": [
       "Date\n",
       "2004-08-19            NaN\n",
       "2004-08-20            NaN\n",
       "2004-08-23            NaN\n",
       "2004-08-24            NaN\n",
       "2004-08-25            NaN\n",
       "                 ...     \n",
       "2022-05-16    2266.070068\n",
       "2022-05-17    2320.810059\n",
       "2022-05-18    2274.209961\n",
       "2022-05-19    2238.760010\n",
       "2022-05-20    2296.909912\n",
       "Name: Open, Length: 4471, dtype: float64"
      ]
     },
     "execution_count": 82,
     "metadata": {},
     "output_type": "execute_result"
    }
   ],
   "source": [
    "google['Open'].shift(5)"
   ]
  },
  {
   "cell_type": "code",
   "execution_count": 83,
   "id": "d9cfed87",
   "metadata": {},
   "outputs": [
    {
     "data": {
      "text/plain": [
       "Date\n",
       "2004-08-19    52.279045\n",
       "2004-08-20    53.848164\n",
       "2004-08-23    52.443428\n",
       "2004-08-24    50.958992\n",
       "2004-08-25    51.158245\n",
       "                ...    \n",
       "2022-05-16          NaN\n",
       "2022-05-17          NaN\n",
       "2022-05-18          NaN\n",
       "2022-05-19          NaN\n",
       "2022-05-20          NaN\n",
       "Name: Open, Length: 4471, dtype: float64"
      ]
     },
     "execution_count": 83,
     "metadata": {},
     "output_type": "execute_result"
    }
   ],
   "source": [
    "google['Open'].shift(-5)"
   ]
  },
  {
   "cell_type": "code",
   "execution_count": 96,
   "id": "ac9b2227",
   "metadata": {},
   "outputs": [
    {
     "data": {
      "text/html": [
       "<div>\n",
       "<style scoped>\n",
       "    .dataframe tbody tr th:only-of-type {\n",
       "        vertical-align: middle;\n",
       "    }\n",
       "\n",
       "    .dataframe tbody tr th {\n",
       "        vertical-align: top;\n",
       "    }\n",
       "\n",
       "    .dataframe thead th {\n",
       "        text-align: right;\n",
       "    }\n",
       "</style>\n",
       "<table border=\"1\" class=\"dataframe\">\n",
       "  <thead>\n",
       "    <tr style=\"text-align: right;\">\n",
       "      <th></th>\n",
       "      <th>user_id</th>\n",
       "      <th>login_time</th>\n",
       "    </tr>\n",
       "  </thead>\n",
       "  <tbody>\n",
       "    <tr>\n",
       "      <th>0</th>\n",
       "      <td>466</td>\n",
       "      <td>2017-01-07 18:24:07</td>\n",
       "    </tr>\n",
       "    <tr>\n",
       "      <th>1</th>\n",
       "      <td>466</td>\n",
       "      <td>2017-01-07 18:24:55</td>\n",
       "    </tr>\n",
       "    <tr>\n",
       "      <th>2</th>\n",
       "      <td>458</td>\n",
       "      <td>2017-01-07 18:25:18</td>\n",
       "    </tr>\n",
       "    <tr>\n",
       "      <th>3</th>\n",
       "      <td>458</td>\n",
       "      <td>2017-01-07 18:26:21</td>\n",
       "    </tr>\n",
       "    <tr>\n",
       "      <th>4</th>\n",
       "      <td>592</td>\n",
       "      <td>2017-01-07 19:09:59</td>\n",
       "    </tr>\n",
       "    <tr>\n",
       "      <th>...</th>\n",
       "      <td>...</td>\n",
       "      <td>...</td>\n",
       "    </tr>\n",
       "    <tr>\n",
       "      <th>2998</th>\n",
       "      <td>1307</td>\n",
       "      <td>2018-01-04 10:48:28</td>\n",
       "    </tr>\n",
       "    <tr>\n",
       "      <th>2999</th>\n",
       "      <td>1230</td>\n",
       "      <td>2018-01-04 11:22:00</td>\n",
       "    </tr>\n",
       "    <tr>\n",
       "      <th>3000</th>\n",
       "      <td>1307</td>\n",
       "      <td>2018-01-04 13:13:44</td>\n",
       "    </tr>\n",
       "    <tr>\n",
       "      <th>3001</th>\n",
       "      <td>1307</td>\n",
       "      <td>2018-01-04 13:13:45</td>\n",
       "    </tr>\n",
       "    <tr>\n",
       "      <th>3002</th>\n",
       "      <td>1224</td>\n",
       "      <td>2018-01-04 14:10:04</td>\n",
       "    </tr>\n",
       "  </tbody>\n",
       "</table>\n",
       "<p>3003 rows × 2 columns</p>\n",
       "</div>"
      ],
      "text/plain": [
       "      user_id           login_time\n",
       "0         466  2017-01-07 18:24:07\n",
       "1         466  2017-01-07 18:24:55\n",
       "2         458  2017-01-07 18:25:18\n",
       "3         458  2017-01-07 18:26:21\n",
       "4         592  2017-01-07 19:09:59\n",
       "...       ...                  ...\n",
       "2998     1307  2018-01-04 10:48:28\n",
       "2999     1230  2018-01-04 11:22:00\n",
       "3000     1307  2018-01-04 13:13:44\n",
       "3001     1307  2018-01-04 13:13:45\n",
       "3002     1224  2018-01-04 14:10:04\n",
       "\n",
       "[3003 rows x 2 columns]"
      ]
     },
     "execution_count": 96,
     "metadata": {},
     "output_type": "execute_result"
    }
   ],
   "source": [
    "# shift example\n",
    "df = pd.read_csv('login.csv',header=None)\n",
    "df = df[[1,2]]\n",
    "df.rename(columns={1:'user_id',2:'login_time'}, inplace=True)\n",
    "df"
   ]
  },
  {
   "cell_type": "code",
   "execution_count": 97,
   "id": "929401b5",
   "metadata": {},
   "outputs": [
    {
     "data": {
      "text/plain": [
       "413     222\n",
       "458     208\n",
       "492     162\n",
       "882     140\n",
       "592     122\n",
       "       ... \n",
       "1043      1\n",
       "1045      1\n",
       "1047      1\n",
       "1048      1\n",
       "880       1\n",
       "Name: user_id, Length: 433, dtype: int64"
      ]
     },
     "execution_count": 97,
     "metadata": {},
     "output_type": "execute_result"
    }
   ],
   "source": [
    "df['user_id'].value_counts()"
   ]
  },
  {
   "cell_type": "code",
   "execution_count": 113,
   "id": "b4cfaf3c",
   "metadata": {},
   "outputs": [
    {
     "data": {
      "text/html": [
       "<div>\n",
       "<style scoped>\n",
       "    .dataframe tbody tr th:only-of-type {\n",
       "        vertical-align: middle;\n",
       "    }\n",
       "\n",
       "    .dataframe tbody tr th {\n",
       "        vertical-align: top;\n",
       "    }\n",
       "\n",
       "    .dataframe thead th {\n",
       "        text-align: right;\n",
       "    }\n",
       "</style>\n",
       "<table border=\"1\" class=\"dataframe\">\n",
       "  <thead>\n",
       "    <tr style=\"text-align: right;\">\n",
       "      <th></th>\n",
       "      <th>user_id</th>\n",
       "      <th>login_time</th>\n",
       "    </tr>\n",
       "  </thead>\n",
       "  <tbody>\n",
       "    <tr>\n",
       "      <th>4</th>\n",
       "      <td>592</td>\n",
       "      <td>2017-01-07 19:09:59</td>\n",
       "    </tr>\n",
       "    <tr>\n",
       "      <th>6</th>\n",
       "      <td>592</td>\n",
       "      <td>2017-01-08 09:14:27</td>\n",
       "    </tr>\n",
       "    <tr>\n",
       "      <th>7</th>\n",
       "      <td>592</td>\n",
       "      <td>2017-01-08 11:18:08</td>\n",
       "    </tr>\n",
       "    <tr>\n",
       "      <th>13</th>\n",
       "      <td>592</td>\n",
       "      <td>2017-01-09 12:47:22</td>\n",
       "    </tr>\n",
       "    <tr>\n",
       "      <th>20</th>\n",
       "      <td>592</td>\n",
       "      <td>2017-01-09 16:31:07</td>\n",
       "    </tr>\n",
       "  </tbody>\n",
       "</table>\n",
       "</div>"
      ],
      "text/plain": [
       "    user_id           login_time\n",
       "4       592  2017-01-07 19:09:59\n",
       "6       592  2017-01-08 09:14:27\n",
       "7       592  2017-01-08 11:18:08\n",
       "13      592  2017-01-09 12:47:22\n",
       "20      592  2017-01-09 16:31:07"
      ]
     },
     "execution_count": 113,
     "metadata": {},
     "output_type": "execute_result"
    }
   ],
   "source": [
    "user_df = df[df['user_id'] == 592]\n",
    "user_df.head()"
   ]
  },
  {
   "cell_type": "code",
   "execution_count": 114,
   "id": "949dbd76",
   "metadata": {},
   "outputs": [
    {
     "name": "stdout",
     "output_type": "stream",
     "text": [
      "<class 'pandas.core.frame.DataFrame'>\n",
      "Int64Index: 122 entries, 4 to 2949\n",
      "Data columns (total 2 columns):\n",
      " #   Column      Non-Null Count  Dtype \n",
      "---  ------      --------------  ----- \n",
      " 0   user_id     122 non-null    int64 \n",
      " 1   login_time  122 non-null    object\n",
      "dtypes: int64(1), object(1)\n",
      "memory usage: 2.9+ KB\n"
     ]
    }
   ],
   "source": [
    "user_df.info()"
   ]
  },
  {
   "cell_type": "code",
   "execution_count": 115,
   "id": "ca5b30c0",
   "metadata": {},
   "outputs": [
    {
     "name": "stderr",
     "output_type": "stream",
     "text": [
      "C:\\Users\\Akash Pagi\\AppData\\Local\\Temp\\ipykernel_10740\\3275549453.py:1: SettingWithCopyWarning: \n",
      "A value is trying to be set on a copy of a slice from a DataFrame.\n",
      "Try using .loc[row_indexer,col_indexer] = value instead\n",
      "\n",
      "See the caveats in the documentation: https://pandas.pydata.org/pandas-docs/stable/user_guide/indexing.html#returning-a-view-versus-a-copy\n",
      "  user_df['login_time'] = pd.to_datetime(user_df['login_time'])\n"
     ]
    }
   ],
   "source": [
    "user_df['login_time'] = pd.to_datetime(user_df['login_time'])"
   ]
  },
  {
   "cell_type": "code",
   "execution_count": 116,
   "id": "aea3f720",
   "metadata": {},
   "outputs": [
    {
     "name": "stdout",
     "output_type": "stream",
     "text": [
      "<class 'pandas.core.frame.DataFrame'>\n",
      "Int64Index: 122 entries, 4 to 2949\n",
      "Data columns (total 2 columns):\n",
      " #   Column      Non-Null Count  Dtype         \n",
      "---  ------      --------------  -----         \n",
      " 0   user_id     122 non-null    int64         \n",
      " 1   login_time  122 non-null    datetime64[ns]\n",
      "dtypes: datetime64[ns](1), int64(1)\n",
      "memory usage: 2.9 KB\n"
     ]
    }
   ],
   "source": [
    "user_df.info()"
   ]
  },
  {
   "cell_type": "code",
   "execution_count": 117,
   "id": "f7449fd7",
   "metadata": {},
   "outputs": [
    {
     "name": "stderr",
     "output_type": "stream",
     "text": [
      "C:\\Users\\Akash Pagi\\AppData\\Local\\Temp\\ipykernel_10740\\3509294578.py:1: SettingWithCopyWarning: \n",
      "A value is trying to be set on a copy of a slice from a DataFrame.\n",
      "Try using .loc[row_indexer,col_indexer] = value instead\n",
      "\n",
      "See the caveats in the documentation: https://pandas.pydata.org/pandas-docs/stable/user_guide/indexing.html#returning-a-view-versus-a-copy\n",
      "  user_df['shifted'] = user_df['login_time'].shift(1)\n"
     ]
    }
   ],
   "source": [
    "user_df['shifted'] = user_df['login_time'].shift(1)"
   ]
  },
  {
   "cell_type": "code",
   "execution_count": 118,
   "id": "6d775a48",
   "metadata": {},
   "outputs": [
    {
     "data": {
      "text/html": [
       "<div>\n",
       "<style scoped>\n",
       "    .dataframe tbody tr th:only-of-type {\n",
       "        vertical-align: middle;\n",
       "    }\n",
       "\n",
       "    .dataframe tbody tr th {\n",
       "        vertical-align: top;\n",
       "    }\n",
       "\n",
       "    .dataframe thead th {\n",
       "        text-align: right;\n",
       "    }\n",
       "</style>\n",
       "<table border=\"1\" class=\"dataframe\">\n",
       "  <thead>\n",
       "    <tr style=\"text-align: right;\">\n",
       "      <th></th>\n",
       "      <th>user_id</th>\n",
       "      <th>login_time</th>\n",
       "      <th>shifted</th>\n",
       "    </tr>\n",
       "  </thead>\n",
       "  <tbody>\n",
       "    <tr>\n",
       "      <th>4</th>\n",
       "      <td>592</td>\n",
       "      <td>2017-01-07 19:09:59</td>\n",
       "      <td>NaT</td>\n",
       "    </tr>\n",
       "    <tr>\n",
       "      <th>6</th>\n",
       "      <td>592</td>\n",
       "      <td>2017-01-08 09:14:27</td>\n",
       "      <td>2017-01-07 19:09:59</td>\n",
       "    </tr>\n",
       "    <tr>\n",
       "      <th>7</th>\n",
       "      <td>592</td>\n",
       "      <td>2017-01-08 11:18:08</td>\n",
       "      <td>2017-01-08 09:14:27</td>\n",
       "    </tr>\n",
       "    <tr>\n",
       "      <th>13</th>\n",
       "      <td>592</td>\n",
       "      <td>2017-01-09 12:47:22</td>\n",
       "      <td>2017-01-08 11:18:08</td>\n",
       "    </tr>\n",
       "    <tr>\n",
       "      <th>20</th>\n",
       "      <td>592</td>\n",
       "      <td>2017-01-09 16:31:07</td>\n",
       "      <td>2017-01-09 12:47:22</td>\n",
       "    </tr>\n",
       "    <tr>\n",
       "      <th>...</th>\n",
       "      <td>...</td>\n",
       "      <td>...</td>\n",
       "      <td>...</td>\n",
       "    </tr>\n",
       "    <tr>\n",
       "      <th>2851</th>\n",
       "      <td>592</td>\n",
       "      <td>2017-12-18 10:09:19</td>\n",
       "      <td>2017-12-16 14:50:52</td>\n",
       "    </tr>\n",
       "    <tr>\n",
       "      <th>2855</th>\n",
       "      <td>592</td>\n",
       "      <td>2017-12-18 15:45:53</td>\n",
       "      <td>2017-12-18 10:09:19</td>\n",
       "    </tr>\n",
       "    <tr>\n",
       "      <th>2856</th>\n",
       "      <td>592</td>\n",
       "      <td>2017-12-18 16:25:28</td>\n",
       "      <td>2017-12-18 15:45:53</td>\n",
       "    </tr>\n",
       "    <tr>\n",
       "      <th>2925</th>\n",
       "      <td>592</td>\n",
       "      <td>2017-12-26 10:32:00</td>\n",
       "      <td>2017-12-18 16:25:28</td>\n",
       "    </tr>\n",
       "    <tr>\n",
       "      <th>2949</th>\n",
       "      <td>592</td>\n",
       "      <td>2017-12-28 18:20:41</td>\n",
       "      <td>2017-12-26 10:32:00</td>\n",
       "    </tr>\n",
       "  </tbody>\n",
       "</table>\n",
       "<p>122 rows × 3 columns</p>\n",
       "</div>"
      ],
      "text/plain": [
       "      user_id          login_time             shifted\n",
       "4         592 2017-01-07 19:09:59                 NaT\n",
       "6         592 2017-01-08 09:14:27 2017-01-07 19:09:59\n",
       "7         592 2017-01-08 11:18:08 2017-01-08 09:14:27\n",
       "13        592 2017-01-09 12:47:22 2017-01-08 11:18:08\n",
       "20        592 2017-01-09 16:31:07 2017-01-09 12:47:22\n",
       "...       ...                 ...                 ...\n",
       "2851      592 2017-12-18 10:09:19 2017-12-16 14:50:52\n",
       "2855      592 2017-12-18 15:45:53 2017-12-18 10:09:19\n",
       "2856      592 2017-12-18 16:25:28 2017-12-18 15:45:53\n",
       "2925      592 2017-12-26 10:32:00 2017-12-18 16:25:28\n",
       "2949      592 2017-12-28 18:20:41 2017-12-26 10:32:00\n",
       "\n",
       "[122 rows x 3 columns]"
      ]
     },
     "execution_count": 118,
     "metadata": {},
     "output_type": "execute_result"
    }
   ],
   "source": [
    "user_df"
   ]
  },
  {
   "cell_type": "code",
   "execution_count": 119,
   "id": "355b49df",
   "metadata": {},
   "outputs": [
    {
     "data": {
      "text/plain": [
       "Timedelta('2 days 22:24:23.157024793')"
      ]
     },
     "execution_count": 119,
     "metadata": {},
     "output_type": "execute_result"
    }
   ],
   "source": [
    "(user_df['login_time'] - user_df['shifted']).mean()"
   ]
  },
  {
   "cell_type": "code",
   "execution_count": null,
   "id": "8a1c4d9c",
   "metadata": {},
   "outputs": [],
   "source": []
  }
 ],
 "metadata": {
  "kernelspec": {
   "display_name": "Python 3 (ipykernel)",
   "language": "python",
   "name": "python3"
  },
  "language_info": {
   "codemirror_mode": {
    "name": "ipython",
    "version": 3
   },
   "file_extension": ".py",
   "mimetype": "text/x-python",
   "name": "python",
   "nbconvert_exporter": "python",
   "pygments_lexer": "ipython3",
   "version": "3.10.7"
  }
 },
 "nbformat": 4,
 "nbformat_minor": 5
}
