{
  "cells": [
    {
      "cell_type": "markdown",
      "metadata": {
        "id": "iIqQU6-kBe78"
      },
      "source": [
        "### More Important Functions"
      ]
    },
    {
      "cell_type": "code",
      "execution_count": 18,
      "metadata": {
        "id": "zfZByuB2BhlM"
      },
      "outputs": [],
      "source": [
        "# value_counts\n",
        "# sort_values\n",
        "# rank\n",
        "# sort index\n",
        "# set index\n",
        "# rename index -> rename\n",
        "# reset index\n",
        "# unique & nunique\n",
        "# isnull/notnull/hasnans\n",
        "# dropna\n",
        "# fillna\n",
        "# drop_duplicates\n",
        "# drop\n",
        "# apply\n",
        "# isin\n",
        "# corr\n",
        "# nlargest -> nsmallest\n",
        "# insert\n",
        "# copy"
      ]
    },
    {
      "cell_type": "code",
      "execution_count": 23,
      "metadata": {
        "id": "s7KlmQ7nLaGa"
      },
      "outputs": [],
      "source": [
        "import numpy as np\n",
        "import pandas as pd"
      ]
    },
    {
      "cell_type": "code",
      "execution_count": 24,
      "metadata": {
        "colab": {
          "base_uri": "https://localhost:8080/"
        },
        "id": "WGI25O2PNurz",
        "outputId": "0fe21aa7-4eb2-4f4a-ccbd-03a479f327bf"
      },
      "outputs": [],
      "source": [
        "a = pd.Series([1,1,1,2,2,3])\n"
      ]
    },
    {
      "cell_type": "code",
      "execution_count": 26,
      "metadata": {
        "colab": {
          "base_uri": "https://localhost:8080/",
          "height": 206
        },
        "id": "aSJ6ResTCziD",
        "outputId": "43f320ba-23e2-4695-c1f0-c84defae23b5"
      },
      "outputs": [],
      "source": [
        "# value_counts(series and dataframe)\n",
        "\n",
        "\n",
        "marks = pd.DataFrame([\n",
        "    [100,80,10],\n",
        "    [90,70,7],\n",
        "    [120,100,14],\n",
        "    [80,70,14],\n",
        "    [80,70,14]\n",
        "],columns=['iq','marks','package'])\n",
        "\n"
      ]
    },
    {
      "cell_type": "code",
      "execution_count": null,
      "metadata": {
        "colab": {
          "base_uri": "https://localhost:8080/"
        },
        "id": "vWFFv-cwkoiZ",
        "outputId": "040c7e8c-b94f-4679-f50c-e527d1d0ac10"
      },
      "outputs": [],
      "source": []
    },
    {
      "cell_type": "code",
      "execution_count": null,
      "metadata": {
        "colab": {
          "base_uri": "https://localhost:8080/"
        },
        "id": "zkqZtTYkObc0",
        "outputId": "b3f6725e-363e-4d66-f23b-840bcaffc991"
      },
      "outputs": [],
      "source": []
    },
    {
      "cell_type": "code",
      "execution_count": 27,
      "metadata": {
        "id": "hOmw9I-qjdhX"
      },
      "outputs": [],
      "source": [
        "# find which player has won most potm -> in finals and qualifiers"
      ]
    },
    {
      "cell_type": "code",
      "execution_count": 28,
      "metadata": {
        "colab": {
          "base_uri": "https://localhost:8080/",
          "height": 265
        },
        "id": "O7JY3_rHjePc",
        "outputId": "a58e0ac9-6470-4810-c747-8f2578b2b60d"
      },
      "outputs": [],
      "source": [
        "# Toss decision plot\n"
      ]
    },
    {
      "cell_type": "code",
      "execution_count": 29,
      "metadata": {
        "colab": {
          "base_uri": "https://localhost:8080/"
        },
        "id": "VtH_GWk8jgJj",
        "outputId": "3dd9559b-e239-4f1e-d7a3-9c156f740720"
      },
      "outputs": [],
      "source": [
        "# how many matches each team has played\n"
      ]
    },
    {
      "cell_type": "code",
      "execution_count": 30,
      "metadata": {
        "id": "krNDbB43jjhq"
      },
      "outputs": [],
      "source": [
        "# sort_values(series and dataframe) -> ascending -> na_position -> inplace -> multiple cols"
      ]
    },
    {
      "cell_type": "code",
      "execution_count": null,
      "metadata": {
        "colab": {
          "base_uri": "https://localhost:8080/"
        },
        "id": "XiOrO1gvlYp1",
        "outputId": "3255ece1-21f7-42f1-9da7-02d41eff6244"
      },
      "outputs": [],
      "source": []
    },
    {
      "cell_type": "code",
      "execution_count": null,
      "metadata": {
        "colab": {
          "base_uri": "https://localhost:8080/"
        },
        "id": "gFXmWgPzlZPE",
        "outputId": "669d7760-4182-43ee-f3cc-8488071c17a6"
      },
      "outputs": [],
      "source": []
    },
    {
      "cell_type": "code",
      "execution_count": null,
      "metadata": {
        "colab": {
          "base_uri": "https://localhost:8080/",
          "height": 534
        },
        "id": "8Ab_cQ4gRXgI",
        "outputId": "597b56b5-171e-46bd-b27d-86e08a124cb8"
      },
      "outputs": [],
      "source": []
    },
    {
      "cell_type": "code",
      "execution_count": null,
      "metadata": {
        "colab": {
          "base_uri": "https://localhost:8080/",
          "height": 1000
        },
        "id": "L_lOP127RvHy",
        "outputId": "db3ae2f5-801a-4680-ed9c-1b223cd71867"
      },
      "outputs": [],
      "source": []
    },
    {
      "cell_type": "code",
      "execution_count": null,
      "metadata": {
        "id": "6Cf5-Ru1SKJV"
      },
      "outputs": [],
      "source": []
    },
    {
      "cell_type": "code",
      "execution_count": 31,
      "metadata": {
        "colab": {
          "base_uri": "https://localhost:8080/",
          "height": 363
        },
        "id": "FoJL7JtVlaCy",
        "outputId": "7b349820-bbd3-40f5-908c-b371be83bcca"
      },
      "outputs": [],
      "source": [
        "students = pd.DataFrame(\n",
        "    {\n",
        "        'name':['nitish','ankit','rupesh',np.nan,'mrityunjay',np.nan,'rishabh',np.nan,'aditya',np.nan],\n",
        "        'college':['bit','iit','vit',np.nan,np.nan,'vlsi','ssit',np.nan,np.nan,'git'],\n",
        "        'branch':['eee','it','cse',np.nan,'me','ce','civ','cse','bio',np.nan],\n",
        "        'cgpa':[6.66,8.25,6.41,np.nan,5.6,9.0,7.4,10,7.4,np.nan],\n",
        "        'package':[4,5,6,np.nan,6,7,8,9,np.nan,np.nan]\n",
        "\n",
        "    }\n",
        ")\n",
        "\n"
      ]
    },
    {
      "cell_type": "code",
      "execution_count": null,
      "metadata": {
        "id": "bxhztsOrldb8"
      },
      "outputs": [],
      "source": []
    },
    {
      "cell_type": "code",
      "execution_count": null,
      "metadata": {
        "colab": {
          "base_uri": "https://localhost:8080/",
          "height": 363
        },
        "id": "4JMrJTLGluUQ",
        "outputId": "746f17eb-a1c5-4cdc-9722-95bd65647a44"
      },
      "outputs": [],
      "source": []
    },
    {
      "cell_type": "code",
      "execution_count": null,
      "metadata": {
        "colab": {
          "base_uri": "https://localhost:8080/",
          "height": 1000
        },
        "id": "oBQnvzOJlu2L",
        "outputId": "0745c607-d196-4d12-af31-1d87feea1e8a"
      },
      "outputs": [],
      "source": []
    },
    {
      "cell_type": "code",
      "execution_count": null,
      "metadata": {
        "id": "geTcsZhclvEB"
      },
      "outputs": [],
      "source": []
    },
    {
      "cell_type": "code",
      "execution_count": 33,
      "metadata": {
        "colab": {
          "base_uri": "https://localhost:8080/",
          "height": 206
        },
        "id": "WlC_BHqlMN3C",
        "outputId": "bb119f73-4d37-4b8e-865a-d400004b0e87"
      },
      "outputs": [],
      "source": [
        "# rank(series)\n",
        "\n"
      ]
    },
    {
      "cell_type": "code",
      "execution_count": null,
      "metadata": {
        "colab": {
          "base_uri": "https://localhost:8080/",
          "height": 424
        },
        "id": "Ehdl60Z9U7Cp",
        "outputId": "e43bdfdf-6964-4750-d26e-596d40716a54"
      },
      "outputs": [],
      "source": []
    },
    {
      "cell_type": "code",
      "execution_count": 34,
      "metadata": {
        "id": "vwb7jkpKMZuz"
      },
      "outputs": [],
      "source": [
        "# sort_index(series and dataframe)"
      ]
    },
    {
      "cell_type": "code",
      "execution_count": 35,
      "metadata": {
        "colab": {
          "base_uri": "https://localhost:8080/"
        },
        "id": "ziyCGxPzmbzF",
        "outputId": "7dc6c890-8550-4148-cdac-535931df1ee9"
      },
      "outputs": [],
      "source": [
        "marks = {\n",
        "    'maths':67,\n",
        "    'english':57,\n",
        "    'science':89,\n",
        "    'hindi':100\n",
        "}\n",
        "\n",
        "marks_series = pd.Series(marks)\n"
      ]
    },
    {
      "cell_type": "code",
      "execution_count": null,
      "metadata": {
        "colab": {
          "base_uri": "https://localhost:8080/"
        },
        "id": "d35HQWSUmecP",
        "outputId": "06985391-65a5-40fc-b903-f83cfdff3917"
      },
      "outputs": [],
      "source": []
    },
    {
      "cell_type": "code",
      "execution_count": null,
      "metadata": {
        "colab": {
          "base_uri": "https://localhost:8080/",
          "height": 1000
        },
        "id": "sQqF4EUFmmQQ",
        "outputId": "6f228758-8277-4877-d681-ff9cd1f26e47"
      },
      "outputs": [],
      "source": []
    },
    {
      "cell_type": "code",
      "execution_count": 38,
      "metadata": {
        "id": "SUMW3wTWPnA1"
      },
      "outputs": [],
      "source": [
        "# set_index(dataframe) -> inplace\n"
      ]
    },
    {
      "cell_type": "code",
      "execution_count": null,
      "metadata": {
        "colab": {
          "base_uri": "https://localhost:8080/",
          "height": 455
        },
        "id": "efTH7QG6XetU",
        "outputId": "f09b8fee-73df-42d6-a3a4-40ce45f2248e"
      },
      "outputs": [],
      "source": []
    },
    {
      "cell_type": "code",
      "execution_count": 39,
      "metadata": {
        "colab": {
          "base_uri": "https://localhost:8080/",
          "height": 424
        },
        "id": "l0YXu8glPs6C",
        "outputId": "e7d65464-0a49-4a51-8268-1e9f6844d66f"
      },
      "outputs": [],
      "source": [
        "# reset_index(series + dataframe) -> drop parameter\n"
      ]
    },
    {
      "cell_type": "code",
      "execution_count": null,
      "metadata": {
        "colab": {
          "base_uri": "https://localhost:8080/",
          "height": 455
        },
        "id": "jT6ZoXxaX7NX",
        "outputId": "a25df4bf-7d56-4c46-e4b8-3e45977e82b5"
      },
      "outputs": [],
      "source": []
    },
    {
      "cell_type": "code",
      "execution_count": 40,
      "metadata": {
        "colab": {
          "base_uri": "https://localhost:8080/",
          "height": 455
        },
        "id": "_I9ofkl2Puf7",
        "outputId": "d2dd8c81-2b57-4763-f750-77cdcafed33c"
      },
      "outputs": [],
      "source": [
        "# how to replace existing index without loosing\n"
      ]
    },
    {
      "cell_type": "code",
      "execution_count": 41,
      "metadata": {
        "colab": {
          "base_uri": "https://localhost:8080/",
          "height": 175
        },
        "id": "-UfAG2wVP0TA",
        "outputId": "c6ef86ef-bcf7-4dcd-b541-8a2ee081c67d"
      },
      "outputs": [],
      "source": [
        "# series to dataframe using reset_index\n"
      ]
    },
    {
      "cell_type": "code",
      "execution_count": 42,
      "metadata": {
        "id": "NU8hWAHMP5hP"
      },
      "outputs": [],
      "source": [
        "# rename(dataframe) -> index"
      ]
    },
    {
      "cell_type": "code",
      "execution_count": null,
      "metadata": {
        "id": "v16dzAaznTuj"
      },
      "outputs": [],
      "source": []
    },
    {
      "cell_type": "code",
      "execution_count": null,
      "metadata": {
        "id": "n1lzS_PXZW1-"
      },
      "outputs": [],
      "source": []
    },
    {
      "cell_type": "code",
      "execution_count": null,
      "metadata": {
        "colab": {
          "base_uri": "https://localhost:8080/",
          "height": 1000
        },
        "id": "2HheqRNuZsEf",
        "outputId": "4d71f7aa-cdc0-42ca-c9d8-6fa452a70f5b"
      },
      "outputs": [],
      "source": []
    },
    {
      "cell_type": "code",
      "execution_count": 43,
      "metadata": {
        "colab": {
          "base_uri": "https://localhost:8080/"
        },
        "id": "GagYsIZZQK4o",
        "outputId": "33361077-2cc9-4c4c-d992-5050aa425a94"
      },
      "outputs": [],
      "source": [
        "# unique(series)\n",
        "temp = pd.Series([1,1,2,2,3,3,4,4,5,5,np.nan,np.nan])\n"
      ]
    },
    {
      "cell_type": "code",
      "execution_count": null,
      "metadata": {
        "colab": {
          "base_uri": "https://localhost:8080/"
        },
        "id": "NWe9wG82a_bq",
        "outputId": "1be4bb02-9cc0-4b41-9b91-85cd05ab0d50"
      },
      "outputs": [],
      "source": []
    },
    {
      "cell_type": "code",
      "execution_count": null,
      "metadata": {
        "colab": {
          "base_uri": "https://localhost:8080/"
        },
        "id": "DG9ijZAobDuj",
        "outputId": "5320465e-2a84-4fc3-e070-bd5b473cfb1d"
      },
      "outputs": [],
      "source": []
    },
    {
      "cell_type": "code",
      "execution_count": null,
      "metadata": {
        "colab": {
          "base_uri": "https://localhost:8080/"
        },
        "id": "9J2T615Eaf1b",
        "outputId": "0c756ea3-4429-43c0-98d1-79362e93fdaf"
      },
      "outputs": [],
      "source": []
    },
    {
      "cell_type": "code",
      "execution_count": 44,
      "metadata": {
        "colab": {
          "base_uri": "https://localhost:8080/"
        },
        "id": "hiX_j-rTQNS5",
        "outputId": "f3a076d7-65f9-49e8-bb92-1f4a56315837"
      },
      "outputs": [],
      "source": [
        "# nunique(series + dataframe) -> does not count nan -> dropna parameter\n"
      ]
    },
    {
      "cell_type": "code",
      "execution_count": 45,
      "metadata": {
        "colab": {
          "base_uri": "https://localhost:8080/"
        },
        "id": "4g5WbZuSQ0lC",
        "outputId": "7eb66452-303b-49a6-be59-15e03bcb95c7"
      },
      "outputs": [],
      "source": [
        "# isnull(series + dataframe)\n"
      ]
    },
    {
      "cell_type": "code",
      "execution_count": 46,
      "metadata": {
        "colab": {
          "base_uri": "https://localhost:8080/"
        },
        "id": "iJ-7VqopQ2Tt",
        "outputId": "010b1d5e-d802-4a6a-b1f9-88d34c4a077f"
      },
      "outputs": [],
      "source": [
        "# notnull(series + dataframe)\n"
      ]
    },
    {
      "cell_type": "code",
      "execution_count": 47,
      "metadata": {
        "colab": {
          "base_uri": "https://localhost:8080/"
        },
        "id": "GH7I6KsFQ2c7",
        "outputId": "4f657a06-e855-419e-96aa-be5c8693adfb"
      },
      "outputs": [],
      "source": [
        "# hasnans(series)\n"
      ]
    },
    {
      "cell_type": "code",
      "execution_count": null,
      "metadata": {
        "colab": {
          "base_uri": "https://localhost:8080/",
          "height": 363
        },
        "id": "qVuMAhc3Q9oQ",
        "outputId": "0ecfe342-a6c5-4b4b-e2e6-c4d6cb4db8a3"
      },
      "outputs": [],
      "source": []
    },
    {
      "cell_type": "code",
      "execution_count": null,
      "metadata": {
        "colab": {
          "base_uri": "https://localhost:8080/",
          "height": 363
        },
        "id": "bN4cuHbPcjmk",
        "outputId": "1ede4141-dbfa-4f52-f84c-ed8538083c94"
      },
      "outputs": [],
      "source": []
    },
    {
      "cell_type": "code",
      "execution_count": null,
      "metadata": {
        "colab": {
          "base_uri": "https://localhost:8080/",
          "height": 363
        },
        "id": "2AclH6odcrdA",
        "outputId": "b5ccab0b-254e-4169-de2b-ef639b70d94c"
      },
      "outputs": [],
      "source": []
    },
    {
      "cell_type": "code",
      "execution_count": 48,
      "metadata": {
        "colab": {
          "base_uri": "https://localhost:8080/"
        },
        "id": "rpPj3JtpThgN",
        "outputId": "ef48d2e8-802c-40ed-85ae-fe87b4804404"
      },
      "outputs": [],
      "source": [
        "# dropna(series + dataframe) -> how parameter -> works like or\n"
      ]
    },
    {
      "cell_type": "code",
      "execution_count": null,
      "metadata": {
        "colab": {
          "base_uri": "https://localhost:8080/",
          "height": 363
        },
        "id": "bOGltM7vdTss",
        "outputId": "f7e444e2-6658-434c-ddb7-95ac296fe9df"
      },
      "outputs": [],
      "source": []
    },
    {
      "cell_type": "code",
      "execution_count": null,
      "metadata": {
        "colab": {
          "base_uri": "https://localhost:8080/",
          "height": 175
        },
        "id": "arSWeXMtdYzv",
        "outputId": "85dcbefb-6e4d-45e7-b909-2e68ff28282b"
      },
      "outputs": [],
      "source": []
    },
    {
      "cell_type": "code",
      "execution_count": null,
      "metadata": {
        "colab": {
          "base_uri": "https://localhost:8080/",
          "height": 332
        },
        "id": "3X9ljZeLd4UK",
        "outputId": "845dc8fa-bab8-406e-bbe9-ccb2e3d5bbc1"
      },
      "outputs": [],
      "source": []
    },
    {
      "cell_type": "code",
      "execution_count": null,
      "metadata": {
        "colab": {
          "base_uri": "https://localhost:8080/",
          "height": 238
        },
        "id": "LFhSmSL5eKMl",
        "outputId": "844cdc93-d9ec-4fd9-fcb9-360fa4f5156a"
      },
      "outputs": [],
      "source": []
    },
    {
      "cell_type": "code",
      "execution_count": null,
      "metadata": {
        "colab": {
          "base_uri": "https://localhost:8080/",
          "height": 175
        },
        "id": "Mm-89hI0edOj",
        "outputId": "f422fdc8-e144-497c-a177-f78cab315c6e"
      },
      "outputs": [],
      "source": []
    },
    {
      "cell_type": "code",
      "execution_count": null,
      "metadata": {
        "colab": {
          "base_uri": "https://localhost:8080/",
          "height": 363
        },
        "id": "-PbkdgyMeq9A",
        "outputId": "f3a80cc2-929d-4103-922e-3ddad691990c"
      },
      "outputs": [],
      "source": []
    },
    {
      "cell_type": "code",
      "execution_count": 49,
      "metadata": {
        "colab": {
          "base_uri": "https://localhost:8080/"
        },
        "id": "JgBwIs6mUFae",
        "outputId": "2d6affbe-bedd-489f-ffed-10121ed07fbe"
      },
      "outputs": [],
      "source": [
        "# fillna(series + dataframe)\n"
      ]
    },
    {
      "cell_type": "code",
      "execution_count": null,
      "metadata": {
        "colab": {
          "base_uri": "https://localhost:8080/",
          "height": 363
        },
        "id": "I5oN2BBvfaKl",
        "outputId": "d2c7128d-78b4-4305-a1ad-cc419fb25681"
      },
      "outputs": [],
      "source": []
    },
    {
      "cell_type": "code",
      "execution_count": null,
      "metadata": {
        "colab": {
          "base_uri": "https://localhost:8080/"
        },
        "id": "mQ3aVH6Pfgqf",
        "outputId": "a0962449-1805-4057-9696-a5d17af7050f"
      },
      "outputs": [],
      "source": []
    },
    {
      "cell_type": "code",
      "execution_count": null,
      "metadata": {
        "colab": {
          "base_uri": "https://localhost:8080/"
        },
        "id": "v1xwVI8Sf9Pc",
        "outputId": "d36e9188-a2b0-4cc3-cf1d-b20357fbfeb3"
      },
      "outputs": [],
      "source": []
    },
    {
      "cell_type": "code",
      "execution_count": 50,
      "metadata": {
        "id": "PCMDqTW8dA_o"
      },
      "outputs": [],
      "source": [
        "# drop_duplicates(series + dataframe) -> works like and -> duplicated()"
      ]
    },
    {
      "cell_type": "code",
      "execution_count": 51,
      "metadata": {
        "colab": {
          "base_uri": "https://localhost:8080/"
        },
        "id": "77UU4W7yfeHx",
        "outputId": "93f00155-1201-4e6b-94c6-e597933cf520"
      },
      "outputs": [],
      "source": [
        "temp = pd.Series([1,1,1,2,3,3,4,4])\n"
      ]
    },
    {
      "cell_type": "code",
      "execution_count": null,
      "metadata": {
        "colab": {
          "base_uri": "https://localhost:8080/",
          "height": 175
        },
        "id": "wjihxgavg6Ls",
        "outputId": "beb98133-9aad-4356-fc34-619c8315e1fe"
      },
      "outputs": [],
      "source": []
    },
    {
      "cell_type": "code",
      "execution_count": 52,
      "metadata": {
        "colab": {
          "base_uri": "https://localhost:8080/",
          "height": 595
        },
        "id": "Rr2yJC-Mx6GM",
        "outputId": "71fece6a-12db-444e-f2db-fd9356e24d65"
      },
      "outputs": [],
      "source": [
        "# find the last match played by virat kohli in Delhi\n",
        "\n"
      ]
    },
    {
      "cell_type": "code",
      "execution_count": null,
      "metadata": {
        "id": "D1AVaT9riAb8"
      },
      "outputs": [],
      "source": []
    },
    {
      "cell_type": "code",
      "execution_count": null,
      "metadata": {
        "colab": {
          "base_uri": "https://localhost:8080/",
          "height": 226
        },
        "id": "LVhe_jDeiKEe",
        "outputId": "cd1afc7c-b1ef-4b70-ed76-072af294e82f"
      },
      "outputs": [],
      "source": []
    },
    {
      "cell_type": "code",
      "execution_count": null,
      "metadata": {
        "id": "xaeLIE7djliq"
      },
      "outputs": [],
      "source": []
    },
    {
      "cell_type": "code",
      "execution_count": 53,
      "metadata": {
        "colab": {
          "base_uri": "https://localhost:8080/"
        },
        "id": "AbhwaQ4zdE_O",
        "outputId": "3757e328-94be-4c6c-9df4-3e228f3a103e"
      },
      "outputs": [],
      "source": [
        "# drop(series + dataframe)\n",
        "temp = pd.Series([10,2,3,16,45,78,10])\n"
      ]
    },
    {
      "cell_type": "code",
      "execution_count": null,
      "metadata": {
        "colab": {
          "base_uri": "https://localhost:8080/"
        },
        "id": "qCnmQfTPkL0w",
        "outputId": "d2535f47-00e9-4486-9a64-72ab90bfcb0e"
      },
      "outputs": [],
      "source": []
    },
    {
      "cell_type": "code",
      "execution_count": null,
      "metadata": {
        "colab": {
          "base_uri": "https://localhost:8080/",
          "height": 363
        },
        "id": "GpFipY9SkVwy",
        "outputId": "a50a8467-8aad-4a83-8360-022f9ce8808c"
      },
      "outputs": [],
      "source": []
    },
    {
      "cell_type": "code",
      "execution_count": null,
      "metadata": {
        "colab": {
          "base_uri": "https://localhost:8080/",
          "height": 363
        },
        "id": "l52NuwJWkgVW",
        "outputId": "dc3dddeb-7026-444f-ae1d-76b79fc9bfdb"
      },
      "outputs": [],
      "source": []
    },
    {
      "cell_type": "code",
      "execution_count": null,
      "metadata": {
        "colab": {
          "base_uri": "https://localhost:8080/",
          "height": 332
        },
        "id": "k8UrDhrxkw5r",
        "outputId": "7e147774-f3ad-47a1-bf83-cbd6bbdd520a"
      },
      "outputs": [],
      "source": []
    },
    {
      "cell_type": "code",
      "execution_count": 54,
      "metadata": {
        "colab": {
          "base_uri": "https://localhost:8080/"
        },
        "id": "VkG-j3F8dH63",
        "outputId": "702dfff4-f1a1-430a-a7f9-cdd669099eef"
      },
      "outputs": [],
      "source": [
        "# apply(series + dataframe)\n",
        "temp = pd.Series([10,20,30,40,50])\n",
        "\n"
      ]
    },
    {
      "cell_type": "code",
      "execution_count": null,
      "metadata": {
        "id": "ItBi1nfilifX"
      },
      "outputs": [],
      "source": []
    },
    {
      "cell_type": "code",
      "execution_count": null,
      "metadata": {
        "colab": {
          "base_uri": "https://localhost:8080/"
        },
        "id": "6SnDZfgwlp44",
        "outputId": "1bc0662b-9608-4789-b215-7916253f2da5"
      },
      "outputs": [],
      "source": []
    },
    {
      "cell_type": "code",
      "execution_count": 17,
      "metadata": {
        "colab": {
          "base_uri": "https://localhost:8080/",
          "height": 206
        },
        "id": "XR2VChWwsk0l",
        "outputId": "206f6286-2b94-4625-8903-86c607f7aff9"
      },
      "outputs": [],
      "source": [
        "points_df = pd.DataFrame(\n",
        "    {\n",
        "        '1st point':[(3,4),(-6,5),(0,0),(-10,1),(4,5)],\n",
        "        '2nd point':[(-3,4),(0,0),(2,2),(10,10),(1,1)]\n",
        "    }\n",
        ")\n"
      ]
    },
    {
      "cell_type": "code",
      "execution_count": null,
      "metadata": {
        "id": "433L0BROwez1"
      },
      "outputs": [],
      "source": []
    },
    {
      "cell_type": "code",
      "execution_count": null,
      "metadata": {
        "colab": {
          "base_uri": "https://localhost:8080/",
          "height": 206
        },
        "id": "nayU_FCJwa9y",
        "outputId": "4a3dd087-aca7-4045-b1df-6c82bd8462c4"
      },
      "outputs": [],
      "source": []
    },
    {
      "cell_type": "code",
      "execution_count": null,
      "metadata": {
        "id": "wsSKjfcydWVN"
      },
      "outputs": [],
      "source": [
        "# isin(series)"
      ]
    },
    {
      "cell_type": "code",
      "execution_count": null,
      "metadata": {
        "id": "ARh8vDLSseKF"
      },
      "outputs": [],
      "source": []
    },
    {
      "cell_type": "code",
      "execution_count": null,
      "metadata": {
        "id": "AWAdysi4dd1M"
      },
      "outputs": [],
      "source": [
        "# corr"
      ]
    },
    {
      "cell_type": "code",
      "execution_count": null,
      "metadata": {
        "id": "Z0qHNEJRscCN"
      },
      "outputs": [],
      "source": []
    },
    {
      "cell_type": "code",
      "execution_count": null,
      "metadata": {
        "id": "MPF8Pn6MomTo"
      },
      "outputs": [],
      "source": []
    },
    {
      "cell_type": "code",
      "execution_count": null,
      "metadata": {
        "id": "XRG3dD2pedKK"
      },
      "outputs": [],
      "source": [
        "# nlargest and nsmallest(series and dataframe)"
      ]
    },
    {
      "cell_type": "code",
      "execution_count": null,
      "metadata": {
        "id": "stQY7t9ln_xH"
      },
      "outputs": [],
      "source": [
        "# insert(dataframe)\n"
      ]
    },
    {
      "cell_type": "code",
      "execution_count": null,
      "metadata": {
        "id": "F_wK8QGM55eB"
      },
      "outputs": [],
      "source": []
    },
    {
      "cell_type": "code",
      "execution_count": null,
      "metadata": {
        "id": "XryRkCyjes0C"
      },
      "outputs": [],
      "source": [
        "# copy(series + dataframe)"
      ]
    },
    {
      "cell_type": "code",
      "execution_count": null,
      "metadata": {
        "id": "n0L2Z15Ye2wn"
      },
      "outputs": [],
      "source": []
    }
  ],
  "metadata": {
    "colab": {
      "provenance": []
    },
    "kernelspec": {
      "display_name": "Python 3",
      "name": "python3"
    },
    "language_info": {
      "codemirror_mode": {
        "name": "ipython",
        "version": 3
      },
      "file_extension": ".py",
      "mimetype": "text/x-python",
      "name": "python",
      "nbconvert_exporter": "python",
      "pygments_lexer": "ipython3",
      "version": "3.11.4"
    }
  },
  "nbformat": 4,
  "nbformat_minor": 0
}
