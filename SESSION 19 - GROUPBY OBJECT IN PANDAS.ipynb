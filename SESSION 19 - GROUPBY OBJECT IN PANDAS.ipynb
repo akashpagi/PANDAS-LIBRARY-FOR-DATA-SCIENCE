{
 "cells": [
  {
   "cell_type": "markdown",
   "id": "33bbffb3",
   "metadata": {},
   "source": [
    "### SESSION 19 - GROUPBY OBJECT IN PANDAS"
   ]
  },
  {
   "cell_type": "code",
   "execution_count": 2,
   "id": "b46e420a",
   "metadata": {},
   "outputs": [],
   "source": [
    "import numpy as np\n",
    "import pandas as pd"
   ]
  },
  {
   "cell_type": "markdown",
   "id": "15383347",
   "metadata": {},
   "source": [
    "**WHAT IS PANDAS GROUPBY?**\n",
    "- Pandas groupby splits all the records from your data set into different categories or groups so that you can analyze the data by these groups. \n",
    "- When you use the .groupby() function on any categorical column of DataFrame, it returns a GroupBy object, which you can use other methods on to group the data. \n",
    "- **Generally we two types of columns in datasets numerical and categorical**\n",
    "- **Numerical Columns:**\n",
    "    - Numerical columns contain data that consists of numbers. These numbers can be integers or floating-point numbers (decimals).\n",
    "    - Examples of numerical columns include columns like \"Age,\" \"Salary,\" \"Temperature,\" \"Number of Items Sold,\" and \"Height.\n",
    "\n",
    "- **Categorical Columns:**\n",
    "    - Categorical columns contain data that represents categories or discrete values. These values are often labels or strings.\n",
    "    - Categorical columns include columns like \"Gender\" (with values like \"Male\" and \"Female\"), \"Product Category\" (with values like \"Electronics,\" \"Clothing,\" and \"Furniture\"), and \"Country\" (with values like \"USA,\" \"Canada,\" and \"UK\").\n",
    "\n",
    "- **Note : Groupby() always apply on Categorical columns**\n",
    "\n",
    "\n",
    "\n",
    "- **Syntax: DataFrame.groupby(by=None, axis=0, level=None, as_index=True, sort=True, group_keys=True, squeeze=False, **kwargs)**\n",
    "    - **by :** mapping, function, str, or iterable\n",
    "    - **axis :** int, default 0\n",
    "    - **level :** If the axis is a MultiIndex (hierarchical), group by a particular level or levels\n",
    "    - **as_index :** For aggregated output, return object with group labels as the index. Only relevant for DataFrame input. as_index=False is effectively “SQL-style” grouped output\n",
    "    - **sort :** Sort group keys. Get better performance by turning this off. Note this does not influence the order of observations within each group. groupby preserves the order of rows within each group.\n",
    "    - **group_keys :** When calling apply, add group keys to index to identify pieces\n",
    "    - **squeeze :** Reduce the dimensionality of the return type if possible, otherwise return a consistent type"
   ]
  },
  {
   "cell_type": "code",
   "execution_count": 3,
   "id": "7371e9c4",
   "metadata": {},
   "outputs": [],
   "source": [
    "movies = pd.read_csv('DATASETS/S19/imdb-top-1000.csv')"
   ]
  },
  {
   "cell_type": "code",
   "execution_count": 5,
   "id": "9a986977",
   "metadata": {},
   "outputs": [
    {
     "data": {
      "text/html": [
       "<div>\n",
       "<style scoped>\n",
       "    .dataframe tbody tr th:only-of-type {\n",
       "        vertical-align: middle;\n",
       "    }\n",
       "\n",
       "    .dataframe tbody tr th {\n",
       "        vertical-align: top;\n",
       "    }\n",
       "\n",
       "    .dataframe thead th {\n",
       "        text-align: right;\n",
       "    }\n",
       "</style>\n",
       "<table border=\"1\" class=\"dataframe\">\n",
       "  <thead>\n",
       "    <tr style=\"text-align: right;\">\n",
       "      <th></th>\n",
       "      <th>Series_Title</th>\n",
       "      <th>Released_Year</th>\n",
       "      <th>Runtime</th>\n",
       "      <th>Genre</th>\n",
       "      <th>IMDB_Rating</th>\n",
       "      <th>Director</th>\n",
       "      <th>Star1</th>\n",
       "      <th>No_of_Votes</th>\n",
       "      <th>Gross</th>\n",
       "      <th>Metascore</th>\n",
       "    </tr>\n",
       "  </thead>\n",
       "  <tbody>\n",
       "    <tr>\n",
       "      <th>0</th>\n",
       "      <td>The Shawshank Redemption</td>\n",
       "      <td>1994</td>\n",
       "      <td>142</td>\n",
       "      <td>Drama</td>\n",
       "      <td>9.3</td>\n",
       "      <td>Frank Darabont</td>\n",
       "      <td>Tim Robbins</td>\n",
       "      <td>2343110</td>\n",
       "      <td>28341469.0</td>\n",
       "      <td>80.0</td>\n",
       "    </tr>\n",
       "    <tr>\n",
       "      <th>1</th>\n",
       "      <td>The Godfather</td>\n",
       "      <td>1972</td>\n",
       "      <td>175</td>\n",
       "      <td>Crime</td>\n",
       "      <td>9.2</td>\n",
       "      <td>Francis Ford Coppola</td>\n",
       "      <td>Marlon Brando</td>\n",
       "      <td>1620367</td>\n",
       "      <td>134966411.0</td>\n",
       "      <td>100.0</td>\n",
       "    </tr>\n",
       "    <tr>\n",
       "      <th>2</th>\n",
       "      <td>The Dark Knight</td>\n",
       "      <td>2008</td>\n",
       "      <td>152</td>\n",
       "      <td>Action</td>\n",
       "      <td>9.0</td>\n",
       "      <td>Christopher Nolan</td>\n",
       "      <td>Christian Bale</td>\n",
       "      <td>2303232</td>\n",
       "      <td>534858444.0</td>\n",
       "      <td>84.0</td>\n",
       "    </tr>\n",
       "    <tr>\n",
       "      <th>3</th>\n",
       "      <td>The Godfather: Part II</td>\n",
       "      <td>1974</td>\n",
       "      <td>202</td>\n",
       "      <td>Crime</td>\n",
       "      <td>9.0</td>\n",
       "      <td>Francis Ford Coppola</td>\n",
       "      <td>Al Pacino</td>\n",
       "      <td>1129952</td>\n",
       "      <td>57300000.0</td>\n",
       "      <td>90.0</td>\n",
       "    </tr>\n",
       "    <tr>\n",
       "      <th>4</th>\n",
       "      <td>12 Angry Men</td>\n",
       "      <td>1957</td>\n",
       "      <td>96</td>\n",
       "      <td>Crime</td>\n",
       "      <td>9.0</td>\n",
       "      <td>Sidney Lumet</td>\n",
       "      <td>Henry Fonda</td>\n",
       "      <td>689845</td>\n",
       "      <td>4360000.0</td>\n",
       "      <td>96.0</td>\n",
       "    </tr>\n",
       "    <tr>\n",
       "      <th>5</th>\n",
       "      <td>The Lord of the Rings: The Return of the King</td>\n",
       "      <td>2003</td>\n",
       "      <td>201</td>\n",
       "      <td>Action</td>\n",
       "      <td>8.9</td>\n",
       "      <td>Peter Jackson</td>\n",
       "      <td>Elijah Wood</td>\n",
       "      <td>1642758</td>\n",
       "      <td>377845905.0</td>\n",
       "      <td>94.0</td>\n",
       "    </tr>\n",
       "    <tr>\n",
       "      <th>6</th>\n",
       "      <td>Pulp Fiction</td>\n",
       "      <td>1994</td>\n",
       "      <td>154</td>\n",
       "      <td>Crime</td>\n",
       "      <td>8.9</td>\n",
       "      <td>Quentin Tarantino</td>\n",
       "      <td>John Travolta</td>\n",
       "      <td>1826188</td>\n",
       "      <td>107928762.0</td>\n",
       "      <td>94.0</td>\n",
       "    </tr>\n",
       "    <tr>\n",
       "      <th>7</th>\n",
       "      <td>Schindler's List</td>\n",
       "      <td>1993</td>\n",
       "      <td>195</td>\n",
       "      <td>Biography</td>\n",
       "      <td>8.9</td>\n",
       "      <td>Steven Spielberg</td>\n",
       "      <td>Liam Neeson</td>\n",
       "      <td>1213505</td>\n",
       "      <td>96898818.0</td>\n",
       "      <td>94.0</td>\n",
       "    </tr>\n",
       "    <tr>\n",
       "      <th>8</th>\n",
       "      <td>Inception</td>\n",
       "      <td>2010</td>\n",
       "      <td>148</td>\n",
       "      <td>Action</td>\n",
       "      <td>8.8</td>\n",
       "      <td>Christopher Nolan</td>\n",
       "      <td>Leonardo DiCaprio</td>\n",
       "      <td>2067042</td>\n",
       "      <td>292576195.0</td>\n",
       "      <td>74.0</td>\n",
       "    </tr>\n",
       "    <tr>\n",
       "      <th>9</th>\n",
       "      <td>Fight Club</td>\n",
       "      <td>1999</td>\n",
       "      <td>139</td>\n",
       "      <td>Drama</td>\n",
       "      <td>8.8</td>\n",
       "      <td>David Fincher</td>\n",
       "      <td>Brad Pitt</td>\n",
       "      <td>1854740</td>\n",
       "      <td>37030102.0</td>\n",
       "      <td>66.0</td>\n",
       "    </tr>\n",
       "    <tr>\n",
       "      <th>10</th>\n",
       "      <td>The Lord of the Rings: The Fellowship of the Ring</td>\n",
       "      <td>2001</td>\n",
       "      <td>178</td>\n",
       "      <td>Action</td>\n",
       "      <td>8.8</td>\n",
       "      <td>Peter Jackson</td>\n",
       "      <td>Elijah Wood</td>\n",
       "      <td>1661481</td>\n",
       "      <td>315544750.0</td>\n",
       "      <td>92.0</td>\n",
       "    </tr>\n",
       "    <tr>\n",
       "      <th>11</th>\n",
       "      <td>Forrest Gump</td>\n",
       "      <td>1994</td>\n",
       "      <td>142</td>\n",
       "      <td>Drama</td>\n",
       "      <td>8.8</td>\n",
       "      <td>Robert Zemeckis</td>\n",
       "      <td>Tom Hanks</td>\n",
       "      <td>1809221</td>\n",
       "      <td>330252182.0</td>\n",
       "      <td>82.0</td>\n",
       "    </tr>\n",
       "    <tr>\n",
       "      <th>12</th>\n",
       "      <td>Il buono, il brutto, il cattivo</td>\n",
       "      <td>1966</td>\n",
       "      <td>161</td>\n",
       "      <td>Western</td>\n",
       "      <td>8.8</td>\n",
       "      <td>Sergio Leone</td>\n",
       "      <td>Clint Eastwood</td>\n",
       "      <td>688390</td>\n",
       "      <td>6100000.0</td>\n",
       "      <td>90.0</td>\n",
       "    </tr>\n",
       "    <tr>\n",
       "      <th>13</th>\n",
       "      <td>The Lord of the Rings: The Two Towers</td>\n",
       "      <td>2002</td>\n",
       "      <td>179</td>\n",
       "      <td>Action</td>\n",
       "      <td>8.7</td>\n",
       "      <td>Peter Jackson</td>\n",
       "      <td>Elijah Wood</td>\n",
       "      <td>1485555</td>\n",
       "      <td>342551365.0</td>\n",
       "      <td>87.0</td>\n",
       "    </tr>\n",
       "    <tr>\n",
       "      <th>14</th>\n",
       "      <td>The Matrix</td>\n",
       "      <td>1999</td>\n",
       "      <td>136</td>\n",
       "      <td>Action</td>\n",
       "      <td>8.7</td>\n",
       "      <td>Lana Wachowski</td>\n",
       "      <td>Lilly Wachowski</td>\n",
       "      <td>1676426</td>\n",
       "      <td>171479930.0</td>\n",
       "      <td>73.0</td>\n",
       "    </tr>\n",
       "    <tr>\n",
       "      <th>15</th>\n",
       "      <td>Goodfellas</td>\n",
       "      <td>1990</td>\n",
       "      <td>146</td>\n",
       "      <td>Biography</td>\n",
       "      <td>8.7</td>\n",
       "      <td>Martin Scorsese</td>\n",
       "      <td>Robert De Niro</td>\n",
       "      <td>1020727</td>\n",
       "      <td>46836394.0</td>\n",
       "      <td>90.0</td>\n",
       "    </tr>\n",
       "    <tr>\n",
       "      <th>16</th>\n",
       "      <td>Star Wars: Episode V - The Empire Strikes Back</td>\n",
       "      <td>1980</td>\n",
       "      <td>124</td>\n",
       "      <td>Action</td>\n",
       "      <td>8.7</td>\n",
       "      <td>Irvin Kershner</td>\n",
       "      <td>Mark Hamill</td>\n",
       "      <td>1159315</td>\n",
       "      <td>290475067.0</td>\n",
       "      <td>82.0</td>\n",
       "    </tr>\n",
       "    <tr>\n",
       "      <th>17</th>\n",
       "      <td>One Flew Over the Cuckoo's Nest</td>\n",
       "      <td>1975</td>\n",
       "      <td>133</td>\n",
       "      <td>Drama</td>\n",
       "      <td>8.7</td>\n",
       "      <td>Milos Forman</td>\n",
       "      <td>Jack Nicholson</td>\n",
       "      <td>918088</td>\n",
       "      <td>112000000.0</td>\n",
       "      <td>83.0</td>\n",
       "    </tr>\n",
       "    <tr>\n",
       "      <th>18</th>\n",
       "      <td>Hamilton</td>\n",
       "      <td>2020</td>\n",
       "      <td>160</td>\n",
       "      <td>Biography</td>\n",
       "      <td>8.6</td>\n",
       "      <td>Thomas Kail</td>\n",
       "      <td>Lin-Manuel Miranda</td>\n",
       "      <td>55291</td>\n",
       "      <td>440984783.0</td>\n",
       "      <td>90.0</td>\n",
       "    </tr>\n",
       "    <tr>\n",
       "      <th>19</th>\n",
       "      <td>Gisaengchung</td>\n",
       "      <td>2019</td>\n",
       "      <td>132</td>\n",
       "      <td>Comedy</td>\n",
       "      <td>8.6</td>\n",
       "      <td>Bong Joon Ho</td>\n",
       "      <td>Kang-ho Song</td>\n",
       "      <td>552778</td>\n",
       "      <td>53367844.0</td>\n",
       "      <td>96.0</td>\n",
       "    </tr>\n",
       "  </tbody>\n",
       "</table>\n",
       "</div>"
      ],
      "text/plain": [
       "                                         Series_Title Released_Year  Runtime  \\\n",
       "0                            The Shawshank Redemption          1994      142   \n",
       "1                                       The Godfather          1972      175   \n",
       "2                                     The Dark Knight          2008      152   \n",
       "3                              The Godfather: Part II          1974      202   \n",
       "4                                        12 Angry Men          1957       96   \n",
       "5       The Lord of the Rings: The Return of the King          2003      201   \n",
       "6                                        Pulp Fiction          1994      154   \n",
       "7                                    Schindler's List          1993      195   \n",
       "8                                           Inception          2010      148   \n",
       "9                                          Fight Club          1999      139   \n",
       "10  The Lord of the Rings: The Fellowship of the Ring          2001      178   \n",
       "11                                       Forrest Gump          1994      142   \n",
       "12                    Il buono, il brutto, il cattivo          1966      161   \n",
       "13              The Lord of the Rings: The Two Towers          2002      179   \n",
       "14                                         The Matrix          1999      136   \n",
       "15                                         Goodfellas          1990      146   \n",
       "16     Star Wars: Episode V - The Empire Strikes Back          1980      124   \n",
       "17                    One Flew Over the Cuckoo's Nest          1975      133   \n",
       "18                                           Hamilton          2020      160   \n",
       "19                                       Gisaengchung          2019      132   \n",
       "\n",
       "        Genre  IMDB_Rating              Director               Star1  \\\n",
       "0       Drama          9.3        Frank Darabont         Tim Robbins   \n",
       "1       Crime          9.2  Francis Ford Coppola       Marlon Brando   \n",
       "2      Action          9.0     Christopher Nolan      Christian Bale   \n",
       "3       Crime          9.0  Francis Ford Coppola           Al Pacino   \n",
       "4       Crime          9.0          Sidney Lumet         Henry Fonda   \n",
       "5      Action          8.9         Peter Jackson         Elijah Wood   \n",
       "6       Crime          8.9     Quentin Tarantino       John Travolta   \n",
       "7   Biography          8.9      Steven Spielberg         Liam Neeson   \n",
       "8      Action          8.8     Christopher Nolan   Leonardo DiCaprio   \n",
       "9       Drama          8.8         David Fincher           Brad Pitt   \n",
       "10     Action          8.8         Peter Jackson         Elijah Wood   \n",
       "11      Drama          8.8       Robert Zemeckis           Tom Hanks   \n",
       "12    Western          8.8          Sergio Leone      Clint Eastwood   \n",
       "13     Action          8.7         Peter Jackson         Elijah Wood   \n",
       "14     Action          8.7        Lana Wachowski     Lilly Wachowski   \n",
       "15  Biography          8.7       Martin Scorsese      Robert De Niro   \n",
       "16     Action          8.7        Irvin Kershner         Mark Hamill   \n",
       "17      Drama          8.7          Milos Forman      Jack Nicholson   \n",
       "18  Biography          8.6           Thomas Kail  Lin-Manuel Miranda   \n",
       "19     Comedy          8.6          Bong Joon Ho        Kang-ho Song   \n",
       "\n",
       "    No_of_Votes        Gross  Metascore  \n",
       "0       2343110   28341469.0       80.0  \n",
       "1       1620367  134966411.0      100.0  \n",
       "2       2303232  534858444.0       84.0  \n",
       "3       1129952   57300000.0       90.0  \n",
       "4        689845    4360000.0       96.0  \n",
       "5       1642758  377845905.0       94.0  \n",
       "6       1826188  107928762.0       94.0  \n",
       "7       1213505   96898818.0       94.0  \n",
       "8       2067042  292576195.0       74.0  \n",
       "9       1854740   37030102.0       66.0  \n",
       "10      1661481  315544750.0       92.0  \n",
       "11      1809221  330252182.0       82.0  \n",
       "12       688390    6100000.0       90.0  \n",
       "13      1485555  342551365.0       87.0  \n",
       "14      1676426  171479930.0       73.0  \n",
       "15      1020727   46836394.0       90.0  \n",
       "16      1159315  290475067.0       82.0  \n",
       "17       918088  112000000.0       83.0  \n",
       "18        55291  440984783.0       90.0  \n",
       "19       552778   53367844.0       96.0  "
      ]
     },
     "execution_count": 5,
     "metadata": {},
     "output_type": "execute_result"
    }
   ],
   "source": [
    "movies.head(20)"
   ]
  },
  {
   "cell_type": "markdown",
   "id": "d883c225",
   "metadata": {},
   "source": [
    "m"
   ]
  },
  {
   "cell_type": "code",
   "execution_count": 15,
   "id": "6135e3a8",
   "metadata": {},
   "outputs": [],
   "source": [
    "# creating group by object\n",
    "genres = movies.groupby('Genre')"
   ]
  },
  {
   "cell_type": "code",
   "execution_count": 18,
   "id": "a3a71de4",
   "metadata": {},
   "outputs": [
    {
     "name": "stderr",
     "output_type": "stream",
     "text": [
      "C:\\Users\\Akash Pagi\\AppData\\Local\\Temp\\ipykernel_12500\\771220926.py:2: FutureWarning: The default value of numeric_only in DataFrameGroupBy.mean is deprecated. In a future version, numeric_only will default to False. Either specify numeric_only or select only columns which should be valid for the function.\n",
      "  genres.mean()\n"
     ]
    },
    {
     "data": {
      "text/html": [
       "<div>\n",
       "<style scoped>\n",
       "    .dataframe tbody tr th:only-of-type {\n",
       "        vertical-align: middle;\n",
       "    }\n",
       "\n",
       "    .dataframe tbody tr th {\n",
       "        vertical-align: top;\n",
       "    }\n",
       "\n",
       "    .dataframe thead th {\n",
       "        text-align: right;\n",
       "    }\n",
       "</style>\n",
       "<table border=\"1\" class=\"dataframe\">\n",
       "  <thead>\n",
       "    <tr style=\"text-align: right;\">\n",
       "      <th></th>\n",
       "      <th>Runtime</th>\n",
       "      <th>IMDB_Rating</th>\n",
       "      <th>No_of_Votes</th>\n",
       "      <th>Gross</th>\n",
       "      <th>Metascore</th>\n",
       "    </tr>\n",
       "    <tr>\n",
       "      <th>Genre</th>\n",
       "      <th></th>\n",
       "      <th></th>\n",
       "      <th></th>\n",
       "      <th></th>\n",
       "      <th></th>\n",
       "    </tr>\n",
       "  </thead>\n",
       "  <tbody>\n",
       "    <tr>\n",
       "      <th>Action</th>\n",
       "      <td>129.046512</td>\n",
       "      <td>7.949419</td>\n",
       "      <td>420246.581395</td>\n",
       "      <td>1.897224e+08</td>\n",
       "      <td>73.419580</td>\n",
       "    </tr>\n",
       "    <tr>\n",
       "      <th>Adventure</th>\n",
       "      <td>134.111111</td>\n",
       "      <td>7.937500</td>\n",
       "      <td>313557.819444</td>\n",
       "      <td>1.319017e+08</td>\n",
       "      <td>78.437500</td>\n",
       "    </tr>\n",
       "    <tr>\n",
       "      <th>Animation</th>\n",
       "      <td>99.585366</td>\n",
       "      <td>7.930488</td>\n",
       "      <td>268032.073171</td>\n",
       "      <td>1.784326e+08</td>\n",
       "      <td>81.093333</td>\n",
       "    </tr>\n",
       "    <tr>\n",
       "      <th>Biography</th>\n",
       "      <td>136.022727</td>\n",
       "      <td>7.938636</td>\n",
       "      <td>272805.045455</td>\n",
       "      <td>9.404952e+07</td>\n",
       "      <td>76.240506</td>\n",
       "    </tr>\n",
       "    <tr>\n",
       "      <th>Comedy</th>\n",
       "      <td>112.129032</td>\n",
       "      <td>7.901290</td>\n",
       "      <td>178195.658065</td>\n",
       "      <td>1.010572e+08</td>\n",
       "      <td>78.720000</td>\n",
       "    </tr>\n",
       "    <tr>\n",
       "      <th>Crime</th>\n",
       "      <td>126.392523</td>\n",
       "      <td>8.016822</td>\n",
       "      <td>313398.271028</td>\n",
       "      <td>7.899656e+07</td>\n",
       "      <td>77.080460</td>\n",
       "    </tr>\n",
       "    <tr>\n",
       "      <th>Drama</th>\n",
       "      <td>124.737024</td>\n",
       "      <td>7.957439</td>\n",
       "      <td>212343.612457</td>\n",
       "      <td>1.225259e+08</td>\n",
       "      <td>79.701245</td>\n",
       "    </tr>\n",
       "    <tr>\n",
       "      <th>Family</th>\n",
       "      <td>107.500000</td>\n",
       "      <td>7.800000</td>\n",
       "      <td>275610.500000</td>\n",
       "      <td>2.195553e+08</td>\n",
       "      <td>79.000000</td>\n",
       "    </tr>\n",
       "    <tr>\n",
       "      <th>Fantasy</th>\n",
       "      <td>85.000000</td>\n",
       "      <td>8.000000</td>\n",
       "      <td>73111.000000</td>\n",
       "      <td>3.913633e+08</td>\n",
       "      <td>NaN</td>\n",
       "    </tr>\n",
       "    <tr>\n",
       "      <th>Film-Noir</th>\n",
       "      <td>104.000000</td>\n",
       "      <td>7.966667</td>\n",
       "      <td>122405.000000</td>\n",
       "      <td>4.197018e+07</td>\n",
       "      <td>95.666667</td>\n",
       "    </tr>\n",
       "    <tr>\n",
       "      <th>Horror</th>\n",
       "      <td>102.090909</td>\n",
       "      <td>7.909091</td>\n",
       "      <td>340232.363636</td>\n",
       "      <td>9.405902e+07</td>\n",
       "      <td>80.000000</td>\n",
       "    </tr>\n",
       "    <tr>\n",
       "      <th>Mystery</th>\n",
       "      <td>119.083333</td>\n",
       "      <td>7.975000</td>\n",
       "      <td>350250.333333</td>\n",
       "      <td>1.047014e+08</td>\n",
       "      <td>79.125000</td>\n",
       "    </tr>\n",
       "    <tr>\n",
       "      <th>Thriller</th>\n",
       "      <td>108.000000</td>\n",
       "      <td>7.800000</td>\n",
       "      <td>27733.000000</td>\n",
       "      <td>1.755074e+07</td>\n",
       "      <td>81.000000</td>\n",
       "    </tr>\n",
       "    <tr>\n",
       "      <th>Western</th>\n",
       "      <td>148.250000</td>\n",
       "      <td>8.350000</td>\n",
       "      <td>322416.250000</td>\n",
       "      <td>1.455538e+07</td>\n",
       "      <td>78.250000</td>\n",
       "    </tr>\n",
       "  </tbody>\n",
       "</table>\n",
       "</div>"
      ],
      "text/plain": [
       "              Runtime  IMDB_Rating    No_of_Votes         Gross  Metascore\n",
       "Genre                                                                     \n",
       "Action     129.046512     7.949419  420246.581395  1.897224e+08  73.419580\n",
       "Adventure  134.111111     7.937500  313557.819444  1.319017e+08  78.437500\n",
       "Animation   99.585366     7.930488  268032.073171  1.784326e+08  81.093333\n",
       "Biography  136.022727     7.938636  272805.045455  9.404952e+07  76.240506\n",
       "Comedy     112.129032     7.901290  178195.658065  1.010572e+08  78.720000\n",
       "Crime      126.392523     8.016822  313398.271028  7.899656e+07  77.080460\n",
       "Drama      124.737024     7.957439  212343.612457  1.225259e+08  79.701245\n",
       "Family     107.500000     7.800000  275610.500000  2.195553e+08  79.000000\n",
       "Fantasy     85.000000     8.000000   73111.000000  3.913633e+08        NaN\n",
       "Film-Noir  104.000000     7.966667  122405.000000  4.197018e+07  95.666667\n",
       "Horror     102.090909     7.909091  340232.363636  9.405902e+07  80.000000\n",
       "Mystery    119.083333     7.975000  350250.333333  1.047014e+08  79.125000\n",
       "Thriller   108.000000     7.800000   27733.000000  1.755074e+07  81.000000\n",
       "Western    148.250000     8.350000  322416.250000  1.455538e+07  78.250000"
      ]
     },
     "execution_count": 18,
     "metadata": {},
     "output_type": "execute_result"
    }
   ],
   "source": [
    "# Applying builtIn aggregation function on goupby objects\n",
    "genres.mean() # sum() min() mode() median() std() etc"
   ]
  },
  {
   "cell_type": "code",
   "execution_count": 11,
   "id": "2202efc3",
   "metadata": {},
   "outputs": [
    {
     "name": "stderr",
     "output_type": "stream",
     "text": [
      "C:\\Users\\Akash Pagi\\AppData\\Local\\Temp\\ipykernel_2836\\2013865608.py:2: FutureWarning: The default value of numeric_only in DataFrameGroupBy.sum is deprecated. In a future version, numeric_only will default to False. Either specify numeric_only or select only columns which should be valid for the function.\n",
      "  movies.groupby('Genre').sum()['Gross'].sort_values(ascending=False).head(3)\n"
     ]
    },
    {
     "data": {
      "text/plain": [
       "Genre\n",
       "Drama     3.540997e+10\n",
       "Action    3.263226e+10\n",
       "Comedy    1.566387e+10\n",
       "Name: Gross, dtype: float64"
      ]
     },
     "execution_count": 11,
     "metadata": {},
     "output_type": "execute_result"
    }
   ],
   "source": [
    "# find the top 3 genres by total earning\n",
    "movies.groupby('Genre').sum()['Gross'].sort_values(ascending=False).head(3)"
   ]
  },
  {
   "cell_type": "code",
   "execution_count": 12,
   "id": "6a91baa0",
   "metadata": {},
   "outputs": [
    {
     "data": {
      "text/plain": [
       "Genre\n",
       "Drama     3.540997e+10\n",
       "Action    3.263226e+10\n",
       "Comedy    1.566387e+10\n",
       "Name: Gross, dtype: float64"
      ]
     },
     "execution_count": 12,
     "metadata": {},
     "output_type": "execute_result"
    }
   ],
   "source": [
    "# efficienct way \n",
    "movies.groupby('Genre')['Gross'].sum().sort_values(ascending=False).head(3)"
   ]
  },
  {
   "cell_type": "code",
   "execution_count": 21,
   "id": "6d5c52be",
   "metadata": {},
   "outputs": [
    {
     "data": {
      "text/plain": [
       "Genre\n",
       "Western    8.35\n",
       "Name: IMDB_Rating, dtype: float64"
      ]
     },
     "execution_count": 21,
     "metadata": {},
     "output_type": "execute_result"
    }
   ],
   "source": [
    "# find the genre with highest avgrage IMDB rating\n",
    "movies.groupby('Genre')['IMDB_Rating'].mean().sort_values(ascending=False).head(1)"
   ]
  },
  {
   "cell_type": "code",
   "execution_count": 24,
   "id": "5da02805",
   "metadata": {},
   "outputs": [
    {
     "data": {
      "text/plain": [
       "Director\n",
       "Christopher Nolan    11578345\n",
       "Name: No_of_Votes, dtype: int64"
      ]
     },
     "execution_count": 24,
     "metadata": {},
     "output_type": "execute_result"
    }
   ],
   "source": [
    "# find director with most popularity\n",
    "movies.groupby('Director')['No_of_Votes'].sum().sort_values(ascending=False).head(1)"
   ]
  },
  {
   "cell_type": "code",
   "execution_count": 45,
   "id": "819885a3",
   "metadata": {},
   "outputs": [
    {
     "data": {
      "text/plain": [
       "Star1\n",
       "Tom Hanks         12\n",
       "Robert De Niro    11\n",
       "Clint Eastwood    10\n",
       "Name: Series_Title, dtype: int64"
      ]
     },
     "execution_count": 45,
     "metadata": {},
     "output_type": "execute_result"
    }
   ],
   "source": [
    "# find number of movies done by each actor\n",
    "movies['Star1'].value_counts()\n",
    "movies.groupby('Star1')['Series_Title'].count().sort_values(ascending=False).head(3)"
   ]
  },
  {
   "cell_type": "code",
   "execution_count": null,
   "id": "1ea70a66",
   "metadata": {},
   "outputs": [],
   "source": [
    "# GroupBy Attributes and Methods\n",
    "\n",
    "\n",
    "# first()/last() -> nth item\n",
    "# get_group -> vs filtering\n",
    "# groups\n",
    "# describe\n",
    "# sample\n",
    "# nunique"
   ]
  },
  {
   "cell_type": "markdown",
   "id": "a6a8f052",
   "metadata": {},
   "source": [
    "**len():**\n",
    "- To find the total number of groups created by the groupby operation."
   ]
  },
  {
   "cell_type": "code",
   "execution_count": 51,
   "id": "5ce76207",
   "metadata": {},
   "outputs": [
    {
     "data": {
      "text/plain": [
       "14"
      ]
     },
     "execution_count": 51,
     "metadata": {},
     "output_type": "execute_result"
    }
   ],
   "source": [
    "# find total number of groups -> len\n",
    "len(movies.groupby('Genre'))\n",
    "# movies['Genre'].nunique()"
   ]
  },
  {
   "cell_type": "markdown",
   "id": "06fc0a11",
   "metadata": {},
   "source": [
    "**size():**\n",
    "- To find the number of items in each group."
   ]
  },
  {
   "cell_type": "code",
   "execution_count": 57,
   "id": "10baa4e6",
   "metadata": {},
   "outputs": [
    {
     "data": {
      "text/plain": [
       "Drama        289\n",
       "Action       172\n",
       "Comedy       155\n",
       "Crime        107\n",
       "Biography     88\n",
       "Animation     82\n",
       "Adventure     72\n",
       "Mystery       12\n",
       "Horror        11\n",
       "Western        4\n",
       "Film-Noir      3\n",
       "Fantasy        2\n",
       "Family         2\n",
       "Thriller       1\n",
       "Name: Genre, dtype: int64"
      ]
     },
     "execution_count": 57,
     "metadata": {},
     "output_type": "execute_result"
    }
   ],
   "source": [
    "# find items in each group -> size\n",
    "movies.groupby('Genre').size()\n",
    "movies['Genre'].value_counts()"
   ]
  },
  {
   "cell_type": "markdown",
   "id": "26c3bf85",
   "metadata": {},
   "source": [
    "**first()** and **last():**\n",
    "- To retrieve the first or last item within each group."
   ]
  },
  {
   "cell_type": "code",
   "execution_count": null,
   "id": "ac0c99d6",
   "metadata": {},
   "outputs": [],
   "source": []
  },
  {
   "cell_type": "markdown",
   "id": "452997a2",
   "metadata": {},
   "source": [
    "**get_group():**\n",
    "- To retrieve a specific group by its name, which is useful for selective group access as opposed to filtering"
   ]
  },
  {
   "cell_type": "code",
   "execution_count": null,
   "id": "19397090",
   "metadata": {},
   "outputs": [],
   "source": []
  },
  {
   "cell_type": "markdown",
   "id": "94e02fc2",
   "metadata": {},
   "source": [
    "**groups:**\n",
    "- To access the groups as a dictionary where keys are unique group labels and values are group indices."
   ]
  },
  {
   "cell_type": "code",
   "execution_count": null,
   "id": "52616f25",
   "metadata": {},
   "outputs": [],
   "source": []
  },
  {
   "cell_type": "markdown",
   "id": "43372aa3",
   "metadata": {},
   "source": [
    "**describe():**\n",
    "- To generate descriptive statistics for each group, providing information like mean, std deviation, min, max, and more."
   ]
  },
  {
   "cell_type": "code",
   "execution_count": null,
   "id": "76623e4e",
   "metadata": {},
   "outputs": [],
   "source": []
  },
  {
   "cell_type": "markdown",
   "id": "bac876e0",
   "metadata": {},
   "source": [
    "**nunique():**\n",
    "- To count the number of unique values within each group."
   ]
  },
  {
   "cell_type": "code",
   "execution_count": null,
   "id": "bd3ee6ac",
   "metadata": {},
   "outputs": [],
   "source": []
  },
  {
   "cell_type": "markdown",
   "id": "3c65187b",
   "metadata": {},
   "source": []
  },
  {
   "cell_type": "code",
   "execution_count": null,
   "id": "428af69d",
   "metadata": {},
   "outputs": [],
   "source": []
  },
  {
   "cell_type": "code",
   "execution_count": null,
   "id": "b5a8899b",
   "metadata": {},
   "outputs": [],
   "source": []
  },
  {
   "cell_type": "code",
   "execution_count": null,
   "id": "a80f8542",
   "metadata": {},
   "outputs": [],
   "source": []
  },
  {
   "cell_type": "code",
   "execution_count": null,
   "id": "bca2fc88",
   "metadata": {},
   "outputs": [],
   "source": []
  },
  {
   "cell_type": "code",
   "execution_count": null,
   "id": "7aa6660c",
   "metadata": {},
   "outputs": [],
   "source": []
  },
  {
   "cell_type": "code",
   "execution_count": null,
   "id": "66f47412",
   "metadata": {},
   "outputs": [],
   "source": []
  },
  {
   "cell_type": "code",
   "execution_count": null,
   "id": "b6e6d05a",
   "metadata": {},
   "outputs": [],
   "source": []
  },
  {
   "cell_type": "code",
   "execution_count": null,
   "id": "38f79165",
   "metadata": {},
   "outputs": [],
   "source": []
  },
  {
   "cell_type": "code",
   "execution_count": null,
   "id": "978d7fae",
   "metadata": {},
   "outputs": [],
   "source": []
  }
 ],
 "metadata": {
  "kernelspec": {
   "display_name": "Python 3 (ipykernel)",
   "language": "python",
   "name": "python3"
  },
  "language_info": {
   "codemirror_mode": {
    "name": "ipython",
    "version": 3
   },
   "file_extension": ".py",
   "mimetype": "text/x-python",
   "name": "python",
   "nbconvert_exporter": "python",
   "pygments_lexer": "ipython3",
   "version": "3.10.7"
  }
 },
 "nbformat": 4,
 "nbformat_minor": 5
}
