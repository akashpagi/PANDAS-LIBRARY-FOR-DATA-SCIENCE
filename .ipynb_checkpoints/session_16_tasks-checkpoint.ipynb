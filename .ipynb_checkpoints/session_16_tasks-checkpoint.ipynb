{
 "cells": [
  {
   "cell_type": "code",
   "execution_count": 1,
   "metadata": {
    "id": "zxrbXftDYalU"
   },
   "outputs": [],
   "source": [
    "import numpy as np\n",
    "import pandas as pd"
   ]
  },
  {
   "cell_type": "markdown",
   "metadata": {
    "id": "MetYTZJpYfdz"
   },
   "source": [
    "### `Q-1:` Write a program to create an empty series."
   ]
  },
  {
   "cell_type": "code",
   "execution_count": 2,
   "metadata": {
    "id": "KUcgT935YgC5",
    "scrolled": true
   },
   "outputs": [
    {
     "name": "stdout",
     "output_type": "stream",
     "text": [
      "Series([], dtype: float64)\n"
     ]
    },
    {
     "name": "stderr",
     "output_type": "stream",
     "text": [
      "C:\\Users\\Akash Pagi\\AppData\\Local\\Temp\\ipykernel_1564\\1037242271.py:1: FutureWarning: The default dtype for empty Series will be 'object' instead of 'float64' in a future version. Specify a dtype explicitly to silence this warning.\n",
      "  empty_series = pd.Series()\n",
      "C:\\Users\\Akash Pagi\\AppData\\Local\\Temp\\ipykernel_1564\\1037242271.py:2: FutureWarning: The default dtype for empty Series will be 'object' instead of 'float64' in a future version. Specify a dtype explicitly to silence this warning.\n",
      "  print(pd.Series())\n"
     ]
    }
   ],
   "source": [
    "empty_series = pd.Series()\n",
    "print(pd.Series())"
   ]
  },
  {
   "cell_type": "markdown",
   "metadata": {
    "id": "jw5ybzU6YhOo"
   },
   "source": [
    "### `Q-2:` Write a Pandas program to add, subtract, multiple and divide two Pandas Series."
   ]
  },
  {
   "cell_type": "code",
   "execution_count": 3,
   "metadata": {
    "id": "EF3GgVFjYjwG"
   },
   "outputs": [
    {
     "name": "stdout",
     "output_type": "stream",
     "text": [
      "0    36\n",
      "1     9\n",
      "2    28\n",
      "3     5\n",
      "4    15\n",
      "dtype: int64\n",
      "0    24\n",
      "1     5\n",
      "2    -8\n",
      "3     3\n",
      "4    -5\n",
      "dtype: int64\n",
      "0    180\n",
      "1     14\n",
      "2    180\n",
      "3      4\n",
      "4     50\n",
      "dtype: int64\n",
      "0    5.000000\n",
      "1    3.500000\n",
      "2    0.555556\n",
      "3    4.000000\n",
      "4    0.500000\n",
      "dtype: float64\n"
     ]
    }
   ],
   "source": [
    "a = pd.Series([30,7,10,4,5])\n",
    "b = pd.Series([6,2,18,1,10])\n",
    "print(a+b) # add\n",
    "print(a-b) # substarct\n",
    "print(a*b) # multiple\n",
    "print(a/b) # divide"
   ]
  },
  {
   "cell_type": "markdown",
   "metadata": {
    "id": "TZDp25jeYlB6"
   },
   "source": [
    "### `Q-3` Write a Pandas program to compare the elements of the two Pandas Series.\n",
    "Sample Series: [2, 4, 6, 8, 10], [1, 3, 5, 7, 10]\n",
    "\n"
   ]
  },
  {
   "cell_type": "code",
   "execution_count": 4,
   "metadata": {
    "id": "gFNil8ruYp1y"
   },
   "outputs": [
    {
     "name": "stdout",
     "output_type": "stream",
     "text": [
      "0    False\n",
      "1    False\n",
      "2    False\n",
      "3    False\n",
      "4     True\n",
      "dtype: bool\n",
      "0    False\n",
      "1    False\n",
      "2    False\n",
      "3    False\n",
      "4    False\n",
      "dtype: bool\n",
      "0     True\n",
      "1     True\n",
      "2     True\n",
      "3     True\n",
      "4    False\n",
      "dtype: bool\n",
      "0    True\n",
      "1    True\n",
      "2    True\n",
      "3    True\n",
      "4    True\n",
      "dtype: bool\n",
      "0    False\n",
      "1    False\n",
      "2    False\n",
      "3    False\n",
      "4     True\n",
      "dtype: bool\n"
     ]
    }
   ],
   "source": [
    "a = pd.Series([2, 4, 6, 8, 10])\n",
    "b = pd.Series([1, 3, 5, 7, 10])\n",
    "print(a == b)\n",
    "print(a < b)\n",
    "print(a > b)\n",
    "print(a >= b)\n",
    "print(a <=b)"
   ]
  },
  {
   "cell_type": "markdown",
   "metadata": {
    "id": "HlOBn_N6YrZz"
   },
   "source": [
    "### `Q-5.`Write a function to change the data type of given a column or a Series. Function takes series and data type as input, returns the converted series.\n",
    "```\n",
    "series = pd.Series([1,2,'Python', 2.0, True, 100])\n",
    "change to float type data\n",
    "```\n",
    "Note: Read about pd.to_numeric()"
   ]
  },
  {
   "cell_type": "code",
   "execution_count": 5,
   "metadata": {
    "id": "_SWQJCUJYwXm"
   },
   "outputs": [
    {
     "name": "stdout",
     "output_type": "stream",
     "text": [
      "0      1.0\n",
      "1      2.0\n",
      "2      NaN\n",
      "3      2.0\n",
      "4      1.0\n",
      "5    100.0\n",
      "dtype: float64\n"
     ]
    }
   ],
   "source": [
    "def changeDtype(series):\n",
    "    return pd.to_numeric(series, errors='coerce' )\n",
    "\n",
    "series = pd.Series([1,2,'Python', 2.0, True, 100])\n",
    "print(changeDtype(series))"
   ]
  },
  {
   "cell_type": "markdown",
   "metadata": {
    "id": "PGp3OqRIY0Va"
   },
   "source": [
    "Download data - https://drive.google.com/file/d/1LRhXwbEodeWXtzPhJCX0X9Lf_BECzvqb/view?usp=share_link\n",
    "All Batsman runs series in IPL 2008 to 2022.\n",
    "\n",
    "Below questions are based on this data."
   ]
  },
  {
   "cell_type": "markdown",
   "metadata": {
    "id": "TxFkp-L4Y23d"
   },
   "source": [
    "### `Q-6` Find top 10 most run getter from the series."
   ]
  },
  {
   "cell_type": "code",
   "execution_count": 6,
   "metadata": {
    "id": "muBgocA6Y2Bg"
   },
   "outputs": [
    {
     "name": "stderr",
     "output_type": "stream",
     "text": [
      "C:\\Users\\Akash Pagi\\AppData\\Local\\Temp\\ipykernel_1564\\103744598.py:3: FutureWarning: The squeeze argument has been deprecated and will be removed in a future version. Append .squeeze(\"columns\") to the call to squeeze.\n",
      "\n",
      "\n",
      "  batsman_run = pd.read_csv('DATASETS/S16/batsman_runs_series.csv', squeeze=True)\n"
     ]
    },
    {
     "name": "stdout",
     "output_type": "stream",
     "text": [
      "             batter  batsman_run\n",
      "0    A Ashish Reddy          280\n",
      "1          A Badoni          161\n",
      "2        A Chandila            4\n",
      "3          A Chopra           53\n",
      "4       A Choudhary           25\n",
      "..              ...          ...\n",
      "600      Yash Dayal            0\n",
      "601   Yashpal Singh           47\n",
      "602     Younis Khan            3\n",
      "603    Yuvraj Singh         2754\n",
      "604          Z Khan          117\n",
      "\n",
      "[605 rows x 2 columns]\n"
     ]
    }
   ],
   "source": [
    "import pandas as pd\n",
    "import numpy as np\n",
    "batsman_run = pd.read_csv('DATASETS/S16/batsman_runs_series.csv', squeeze=True)\n",
    "print(batsman_run)"
   ]
  },
  {
   "cell_type": "code",
   "execution_count": 7,
   "metadata": {},
   "outputs": [
    {
     "name": "stdout",
     "output_type": "stream",
     "text": [
      "             batter  batsman_run\n",
      "569         V Kohli         6634\n",
      "462        S Dhawan         6244\n",
      "130       DA Warner         5883\n",
      "430       RG Sharma         5881\n",
      "493        SK Raina         5536\n",
      "27   AB de Villiers         5181\n",
      "108        CH Gayle         4997\n",
      "339        MS Dhoni         4978\n",
      "452      RV Uthappa         4954\n",
      "256      KD Karthik         4377\n"
     ]
    }
   ],
   "source": [
    "# top 10 runs\n",
    "top = batsman_run.sort_values(by='batsman_run', ascending=False)\n",
    "print(top.head(10))"
   ]
  },
  {
   "cell_type": "markdown",
   "metadata": {
    "id": "GzlCFBM_Y83g"
   },
   "source": [
    "### `Q-7` No of players having runs above 3000"
   ]
  },
  {
   "cell_type": "code",
   "execution_count": 8,
   "metadata": {
    "id": "JdNchHRWY1B-"
   },
   "outputs": [
    {
     "name": "stdout",
     "output_type": "stream",
     "text": [
      "20\n"
     ]
    }
   ],
   "source": [
    "above = batsman_run[batsman_run['batsman_run'] > 3000]\n",
    "print(len(above))"
   ]
  },
  {
   "cell_type": "markdown",
   "metadata": {
    "id": "pMBEoCL1Y-vh"
   },
   "source": [
    "### `Q-8` No of players having runs above mean value?"
   ]
  },
  {
   "cell_type": "code",
   "execution_count": 9,
   "metadata": {
    "id": "LgtViVFZZBIu"
   },
   "outputs": [
    {
     "name": "stdout",
     "output_type": "stream",
     "text": [
      "464.42809917355373\n",
      "128\n"
     ]
    }
   ],
   "source": [
    "mean = batsman_run['batsman_run'].mean()\n",
    "print(mean)\n",
    "above_mean = batsman_run [batsman_run['batsman_run'] > mean]\n",
    "print(len(above_mean))"
   ]
  },
  {
   "cell_type": "markdown",
   "metadata": {
    "id": "OAB1CgdgZEqE"
   },
   "source": [
    "Download data - https://drive.google.com/file/d/1QZuZ5bypUInfVvarHACLAi8tXXHvb8xd/view?usp=share_link\n",
    "\n",
    "file name - items.csv\n",
    "\n"
   ]
  },
  {
   "cell_type": "code",
   "execution_count": 10,
   "metadata": {},
   "outputs": [
    {
     "name": "stdout",
     "output_type": "stream",
     "text": [
      "                                  item_name item_price\n",
      "0              Chips and Fresh Tomato Salsa     $2.39 \n",
      "1                                      Izze     $3.39 \n",
      "2                          Nantucket Nectar     $3.39 \n",
      "3     Chips and Tomatillo-Green Chili Salsa     $2.39 \n",
      "4                              Chicken Bowl    $16.98 \n",
      "...                                     ...        ...\n",
      "4617                          Steak Burrito    $11.75 \n",
      "4618                          Steak Burrito    $11.75 \n",
      "4619                     Chicken Salad Bowl    $11.25 \n",
      "4620                     Chicken Salad Bowl     $8.75 \n",
      "4621                     Chicken Salad Bowl     $8.75 \n",
      "\n",
      "[4622 rows x 2 columns]\n"
     ]
    },
    {
     "name": "stderr",
     "output_type": "stream",
     "text": [
      "C:\\Users\\Akash Pagi\\AppData\\Local\\Temp\\ipykernel_1564\\83822851.py:3: FutureWarning: The squeeze argument has been deprecated and will be removed in a future version. Append .squeeze(\"columns\") to the call to squeeze.\n",
      "\n",
      "\n",
      "  data = pd.read_csv('DATASETS/S16/items.csv', squeeze=True)\n"
     ]
    }
   ],
   "source": [
    "import pandas as pd\n",
    "import numpy as np\n",
    "data = pd.read_csv('DATASETS/S16/items.csv', squeeze=True)\n",
    "print(data)"
   ]
  },
  {
   "cell_type": "markdown",
   "metadata": {
    "id": "1UTQQImxZGLu"
   },
   "source": [
    "### `Q-9`\n",
    "    i. Read `items.csv` making `item_name` as index.\n",
    "    ii. Show no of nan values\n",
    "    ii. Item price is given in $, so convert it to rupees without currency symbol.\n",
    "    iii. Make data type of newly made series as float.\n",
    "    iv. Fill nan with mean of the series\n",
    "\n",
    "\n",
    "How csv file looks\n",
    "\n",
    "```\n",
    "item_name\titem_price\n",
    "Chips and Fresh Tomato Salsa\t$2.39\n",
    "Izze\t$3.39\n",
    "Nantucket Nectar\t$3.39\n",
    "Chips and Tomatillo-Green Chili Salsa\t$2.39\n",
    "Chicken Bowl\t$16.98\n",
    "\n",
    "```"
   ]
  },
  {
   "cell_type": "code",
   "execution_count": 16,
   "metadata": {},
   "outputs": [
    {
     "name": "stdout",
     "output_type": "stream",
     "text": [
      "item_name\n",
      "Chips and Fresh Tomato Salsa              $2.39 \n",
      "Izze                                      $3.39 \n",
      "Nantucket Nectar                          $3.39 \n",
      "Chips and Tomatillo-Green Chili Salsa     $2.39 \n",
      "Chicken Bowl                             $16.98 \n",
      "                                          ...   \n",
      "Steak Burrito                            $11.75 \n",
      "Steak Burrito                            $11.75 \n",
      "Chicken Salad Bowl                       $11.25 \n",
      "Chicken Salad Bowl                        $8.75 \n",
      "Chicken Salad Bowl                        $8.75 \n",
      "Name: item_price, Length: 4622, dtype: object\n"
     ]
    }
   ],
   "source": [
    "# Read `items.csv` making `item_name` as index.\n",
    "import pandas as pd\n",
    "items = pd.read_csv('DATASETS/S16/items.csv',index_col='item_name').squeeze('columns')\n",
    "print(items)"
   ]
  },
  {
   "cell_type": "code",
   "execution_count": 17,
   "metadata": {},
   "outputs": [
    {
     "name": "stdout",
     "output_type": "stream",
     "text": [
      "50\n"
     ]
    }
   ],
   "source": [
    "print(items.isnull().sum())\n",
    "#print(items.isna().sum())"
   ]
  },
  {
   "cell_type": "code",
   "execution_count": 27,
   "metadata": {},
   "outputs": [
    {
     "name": "stdout",
     "output_type": "stream",
     "text": [
      "item_name\n",
      "Chips and Fresh Tomato Salsa              198.8002\n",
      "Izze                                      281.9802\n",
      "Nantucket Nectar                          281.9802\n",
      "Chips and Tomatillo-Green Chili Salsa     198.8002\n",
      "Chicken Bowl                             1412.3964\n",
      "                                           ...    \n",
      "Steak Burrito                             977.3650\n",
      "Steak Burrito                             977.3650\n",
      "Chicken Salad Bowl                        935.7750\n",
      "Chicken Salad Bowl                        727.8250\n",
      "Chicken Salad Bowl                        727.8250\n",
      "Name: item_price, Length: 4622, dtype: float64\n"
     ]
    }
   ],
   "source": [
    "# Item price is given in $, so convert it to rupees without currency symbol.\n",
    "def doller_to_rupees(dollers):\n",
    "    try:\n",
    "        rupees = dollers[1:]\n",
    "    except:\n",
    "        rupees = dollers\n",
    "    return float(rupees)*83.18\n",
    "\n",
    "print(items.apply(doller_to_rupees))"
   ]
  },
  {
   "cell_type": "code",
   "execution_count": 29,
   "metadata": {
    "id": "1xaWkoMJZFNK"
   },
   "outputs": [
    {
     "name": "stdout",
     "output_type": "stream",
     "text": [
      "item_name\n",
      "Chips and Fresh Tomato Salsa              198.8002\n",
      "Izze                                      281.9802\n",
      "Nantucket Nectar                          281.9802\n",
      "Chips and Tomatillo-Green Chili Salsa     198.8002\n",
      "Chicken Bowl                             1412.3964\n",
      "                                           ...    \n",
      "Steak Burrito                             977.3650\n",
      "Steak Burrito                             977.3650\n",
      "Chicken Salad Bowl                        935.7750\n",
      "Chicken Salad Bowl                        727.8250\n",
      "Chicken Salad Bowl                        727.8250\n",
      "Name: item_price, Length: 4622, dtype: float64\n"
     ]
    }
   ],
   "source": [
    "# Make data type of newly made series as float\n",
    "items = items.apply(doller_to_rupees)\n",
    "print(items)"
   ]
  },
  {
   "cell_type": "code",
   "execution_count": 30,
   "metadata": {},
   "outputs": [
    {
     "name": "stdout",
     "output_type": "stream",
     "text": [
      "item_name\n",
      "Chips and Fresh Tomato Salsa              198.8002\n",
      "Izze                                      281.9802\n",
      "Nantucket Nectar                          281.9802\n",
      "Chips and Tomatillo-Green Chili Salsa     198.8002\n",
      "Chicken Bowl                             1412.3964\n",
      "                                           ...    \n",
      "Steak Burrito                             977.3650\n",
      "Steak Burrito                             977.3650\n",
      "Chicken Salad Bowl                        935.7750\n",
      "Chicken Salad Bowl                        727.8250\n",
      "Chicken Salad Bowl                        727.8250\n",
      "Name: item_price, Length: 4622, dtype: float64\n"
     ]
    }
   ],
   "source": [
    "# Fill nan with mean of the series\n",
    "print(items.fillna(items.mean()))"
   ]
  },
  {
   "cell_type": "markdown",
   "metadata": {
    "id": "UHc_4e9cZK8r"
   },
   "source": [
    "### `Q-10`:\n",
    "    i. Find mean price\n",
    "    ii. Find 30th and 6th percentile value\n",
    "    iii. Plot Histogram on price with bin size 50\n",
    "    iv. No of items price lies between [1000 to 2000]\n",
    "\n"
   ]
  },
  {
   "cell_type": "code",
   "execution_count": 31,
   "metadata": {
    "id": "Eh3xX9FpZNmE"
   },
   "outputs": [
    {
     "name": "stdout",
     "output_type": "stream",
     "text": [
      "620.7749598425197\n"
     ]
    }
   ],
   "source": [
    "# find mean price\n",
    "print(items.mean())"
   ]
  },
  {
   "cell_type": "code",
   "execution_count": 38,
   "metadata": {},
   "outputs": [
    {
     "name": "stdout",
     "output_type": "stream",
     "text": [
      "\n",
      "30th percentile: 370.15100000000007\n",
      "6th percentile: 103.97500000000001\n"
     ]
    }
   ],
   "source": [
    "#  Find 30th and 6th percentile value\n",
    "print()\n",
    "print('30th percentile:',items.quantile(q=0.30))\n",
    "print('6th percentile:',items.quantile(q=0.06))"
   ]
  },
  {
   "cell_type": "code",
   "execution_count": 47,
   "metadata": {},
   "outputs": [
    {
     "name": "stdout",
     "output_type": "stream",
     "text": [
      "AxesSubplot(0.125,0.11;0.775x0.77)\n"
     ]
    },
    {
     "data": {
      "image/png": "[encoded data removed]",
      "text/plain": [
       "<Figure size 640x480 with 1 Axes>"
      ]
     },
     "metadata": {},
     "output_type": "display_data"
    }
   ],
   "source": [
    "#Plot Histogram on price with bin size 50\n",
    "print(items.plot.hist(bins=50))"
   ]
  },
  {
   "cell_type": "code",
   "execution_count": 46,
   "metadata": {},
   "outputs": [
    {
     "name": "stdout",
     "output_type": "stream",
     "text": [
      "116\n"
     ]
    }
   ],
   "source": [
    "# No of items price lies between [1000 to 2000]\n",
    "print(items[items.between(1000,2000)].count())"
   ]
  },
  {
   "cell_type": "code",
   "execution_count": null,
   "metadata": {},
   "outputs": [],
   "source": []
  },
  {
   "cell_type": "code",
   "execution_count": null,
   "metadata": {},
   "outputs": [],
   "source": []
  }
 ],
 "metadata": {
  "colab": {
   "provenance": []
  },
  "kernelspec": {
   "display_name": "Python 3 (ipykernel)",
   "language": "python",
   "name": "python3"
  },
  "language_info": {
   "codemirror_mode": {
    "name": "ipython",
    "version": 3
   },
   "file_extension": ".py",
   "mimetype": "text/x-python",
   "name": "python",
   "nbconvert_exporter": "python",
   "pygments_lexer": "ipython3",
   "version": "3.10.7"
  }
 },
 "nbformat": 4,
 "nbformat_minor": 1
}
