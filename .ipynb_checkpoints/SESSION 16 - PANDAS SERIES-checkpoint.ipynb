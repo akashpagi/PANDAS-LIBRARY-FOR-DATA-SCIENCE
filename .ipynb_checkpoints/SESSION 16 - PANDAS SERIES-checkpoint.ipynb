{
 "cells": [
  {
   "cell_type": "markdown",
   "id": "eb40bdbc",
   "metadata": {},
   "source": [
    "### SESSION 16 - PANDAS SERIES"
   ]
  },
  {
   "cell_type": "markdown",
   "id": "0625da35",
   "metadata": {},
   "source": [
    "### What is Pandas\n",
    "- Pandas is a fast, powerful, flexible and easy to use open source data analysis and manipulation tool, built on top of the Python programming language.\n",
    "- https://pandas.pydata.org/about/index.html\n"
   ]
  },
  {
   "cell_type": "markdown",
   "id": "b2ffda83",
   "metadata": {},
   "source": [
    "### Pandas Series\n",
    "- A Pandas Series is like a column in a table. It is a 1-D array holding data of any type.\n",
    "- Each value in a pandas series is associated with the index. \n",
    "- The default index value of it is from 0 to number – 1, or you can specify your own index values.\n",
    "- **Syntax : pd.Series( data, index, name )**\n",
    "- Index generate automatically if you want to generate custom index we can use `index` parameters\n",
    "\n",
    "#### Basic data structure in pandas\n",
    "Pandas provide two types of classes for handling data:\n",
    "- **Series**\n",
    "- **DataFrame**"
   ]
  },
  {
   "cell_type": "markdown",
   "id": "1f8e0dd1",
   "metadata": {},
   "source": [
    "#### Importing Pandas\n",
    "There are different way to import pandas library:\n",
    "\n",
    "Most common way is with `import` statement with alias:\n",
    "- **import pandas as pd**\n",
    "\n",
    "Importing all the function and class:\n",
    "- **from pandas import ***\n",
    "\n",
    "Importing the specific function and class library:\n",
    "- **from pandas import DataFrame, read_csv**\n"
   ]
  },
  {
   "cell_type": "markdown",
   "id": "05f1e87d",
   "metadata": {},
   "source": [
    "**Installing pandas library**"
   ]
  },
  {
   "cell_type": "code",
   "execution_count": 1,
   "id": "e769c1aa",
   "metadata": {},
   "outputs": [
    {
     "name": "stdout",
     "output_type": "stream",
     "text": [
      "Requirement already satisfied: pandas in c:\\python311\\lib\\site-packages (2.1.0)\n",
      "Requirement already satisfied: numpy>=1.23.2 in c:\\python311\\lib\\site-packages (from pandas) (1.24.2)\n",
      "Requirement already satisfied: python-dateutil>=2.8.2 in c:\\python311\\lib\\site-packages (from pandas) (2.8.2)\n",
      "Requirement already satisfied: pytz>=2020.1 in c:\\python311\\lib\\site-packages (from pandas) (2023.3)\n",
      "Requirement already satisfied: tzdata>=2022.1 in c:\\python311\\lib\\site-packages (from pandas) (2023.3)\n",
      "Requirement already satisfied: six>=1.5 in c:\\python311\\lib\\site-packages (from python-dateutil>=2.8.2->pandas) (1.16.0)\n"
     ]
    }
   ],
   "source": [
    "# installing pandas library in jupyter notebook\n",
    "!pip install pandas"
   ]
  },
  {
   "cell_type": "markdown",
   "id": "65383506",
   "metadata": {},
   "source": [
    "**Checking pandas version**"
   ]
  },
  {
   "cell_type": "code",
   "execution_count": 2,
   "id": "0056b820",
   "metadata": {},
   "outputs": [
    {
     "name": "stdout",
     "output_type": "stream",
     "text": [
      "1.5.0\n"
     ]
    }
   ],
   "source": [
    "# checking pandas versrion\n",
    "import pandas as pd\n",
    "print(pd.__version__)"
   ]
  },
  {
   "cell_type": "markdown",
   "id": "0ce7c274",
   "metadata": {},
   "source": [
    "**Upgrading the pandas library version:**"
   ]
  },
  {
   "cell_type": "code",
   "execution_count": 3,
   "id": "cf09acc6",
   "metadata": {},
   "outputs": [
    {
     "name": "stdout",
     "output_type": "stream",
     "text": [
      "Requirement already satisfied: pandas in c:\\python311\\lib\\site-packages (2.1.0)\n",
      "Requirement already satisfied: numpy>=1.23.2 in c:\\python311\\lib\\site-packages (from pandas) (1.24.2)\n",
      "Requirement already satisfied: python-dateutil>=2.8.2 in c:\\python311\\lib\\site-packages (from pandas) (2.8.2)\n",
      "Requirement already satisfied: pytz>=2020.1 in c:\\python311\\lib\\site-packages (from pandas) (2023.3)\n",
      "Requirement already satisfied: tzdata>=2022.1 in c:\\python311\\lib\\site-packages (from pandas) (2023.3)\n",
      "Requirement already satisfied: six>=1.5 in c:\\python311\\lib\\site-packages (from python-dateutil>=2.8.2->pandas) (1.16.0)\n"
     ]
    },
    {
     "name": "stderr",
     "output_type": "stream",
     "text": [
      "WARNING: Retrying (Retry(total=4, connect=None, read=None, redirect=None, status=None)) after connection broken by 'NewConnectionError('<pip._vendor.urllib3.connection.HTTPSConnection object at 0x000002A35667FFD0>: Failed to establish a new connection: [Errno 11001] getaddrinfo failed')': /simple/pandas/\n",
      "WARNING: Retrying (Retry(total=3, connect=None, read=None, redirect=None, status=None)) after connection broken by 'NewConnectionError('<pip._vendor.urllib3.connection.HTTPSConnection object at 0x000002A359D94950>: Failed to establish a new connection: [Errno 11001] getaddrinfo failed')': /simple/pandas/\n",
      "WARNING: Retrying (Retry(total=2, connect=None, read=None, redirect=None, status=None)) after connection broken by 'NewConnectionError('<pip._vendor.urllib3.connection.HTTPSConnection object at 0x000002A359D95110>: Failed to establish a new connection: [Errno 11001] getaddrinfo failed')': /simple/pandas/\n",
      "WARNING: Retrying (Retry(total=1, connect=None, read=None, redirect=None, status=None)) after connection broken by 'NewConnectionError('<pip._vendor.urllib3.connection.HTTPSConnection object at 0x000002A359D95F50>: Failed to establish a new connection: [Errno 11001] getaddrinfo failed')': /simple/pandas/\n",
      "WARNING: Retrying (Retry(total=0, connect=None, read=None, redirect=None, status=None)) after connection broken by 'NewConnectionError('<pip._vendor.urllib3.connection.HTTPSConnection object at 0x000002A359D96650>: Failed to establish a new connection: [Errno 11001] getaddrinfo failed')': /simple/pandas/\n"
     ]
    }
   ],
   "source": [
    "# upgrading the pandas library version in jupyter notebook\n",
    "!pip install --upgrade pandas"
   ]
  },
  {
   "cell_type": "markdown",
   "id": "3ba947dd",
   "metadata": {},
   "source": [
    "**Create a Series from lists:**\n",
    "1. string\n",
    "2. integers\n",
    "3. custom index\n",
    "4. setting a name"
   ]
  },
  {
   "cell_type": "code",
   "execution_count": 4,
   "id": "f1613c75",
   "metadata": {},
   "outputs": [
    {
     "name": "stdout",
     "output_type": "stream",
     "text": [
      "0       India\n",
      "1       Nepal\n",
      "2    Srilanka\n",
      "3      Bhutan\n",
      "dtype: object\n"
     ]
    }
   ],
   "source": [
    "# string\n",
    "countries = ['India', 'Nepal', 'Srilanka', 'Bhutan']\n",
    "print(pd.Series(countries))\n",
    "# Note : dtype : object all countries data type and we consider as string dtype"
   ]
  },
  {
   "cell_type": "code",
   "execution_count": 5,
   "id": "2d80f859",
   "metadata": {},
   "outputs": [
    {
     "name": "stdout",
     "output_type": "stream",
     "text": [
      "0     54\n",
      "1     76\n",
      "2    100\n",
      "3     74\n",
      "dtype: int64\n"
     ]
    }
   ],
   "source": [
    "# integer\n",
    "runs = [54,76,100,74]\n",
    "print(pd.Series(runs))"
   ]
  },
  {
   "cell_type": "code",
   "execution_count": 6,
   "id": "30595014",
   "metadata": {},
   "outputs": [
    {
     "name": "stdout",
     "output_type": "stream",
     "text": [
      "C++       58\n",
      "Python    93\n",
      "R         89\n",
      "Java      60\n",
      "Name: student, dtype: int64\n"
     ]
    }
   ],
   "source": [
    "# Custom index and name\n",
    "import pandas as pd\n",
    "marks = [ 58, 93, 89, 60 ]\n",
    "subjects = [ 'C++' , 'Python', 'R', 'Java' ]\n",
    "print(pd.Series(marks, index=subjects, name='student'))\n"
   ]
  },
  {
   "cell_type": "markdown",
   "id": "682ef8a6",
   "metadata": {},
   "source": [
    "**Create a Series from Dictionary:**"
   ]
  },
  {
   "cell_type": "code",
   "execution_count": 7,
   "id": "a3c826c2",
   "metadata": {},
   "outputs": [
    {
     "data": {
      "text/plain": [
       "maths      78\n",
       "english    70\n",
       "science    89\n",
       "Name: student score, dtype: int64"
      ]
     },
     "execution_count": 7,
     "metadata": {},
     "output_type": "execute_result"
    }
   ],
   "source": [
    "import pandas as pd\n",
    "marks = {\n",
    "    'maths':78,\n",
    "    'english': 70,\n",
    "    'science': 89\n",
    "}\n",
    "pd.Series(marks, name='student score')"
   ]
  },
  {
   "cell_type": "markdown",
   "id": "50018fed",
   "metadata": {},
   "source": [
    "### Series Attribute :\n",
    "- In Pandas, a Series object has several important attributes that is commonly used attributes of a Pandas Series include:"
   ]
  },
  {
   "cell_type": "markdown",
   "id": "6fc355cc",
   "metadata": {},
   "source": [
    "**size:**\n",
    "- The size attribute returns the number of elements in a Series, including any elements that might contain missing or NaN (Not-a-Number) values."
   ]
  },
  {
   "cell_type": "code",
   "execution_count": 8,
   "id": "9b16f0ae",
   "metadata": {},
   "outputs": [
    {
     "name": "stdout",
     "output_type": "stream",
     "text": [
      "5\n",
      "4\n"
     ]
    }
   ],
   "source": [
    "import pandas as pd\n",
    "data = [10, 20, 30, None, 50]\n",
    "print(pd.Series(data).size) \n",
    "\n",
    "data1 = [10, 20, 30, 50]\n",
    "print(pd.Series(data1).size) "
   ]
  },
  {
   "cell_type": "markdown",
   "id": "9cca357c",
   "metadata": {},
   "source": [
    "**dtype:** \n",
    "- This attribute returns the data type of the elements in the Series. \n",
    "- It can be used to check the data type of the data within the Series."
   ]
  },
  {
   "cell_type": "code",
   "execution_count": 9,
   "id": "30c628ee",
   "metadata": {},
   "outputs": [
    {
     "name": "stdout",
     "output_type": "stream",
     "text": [
      "int64\n"
     ]
    }
   ],
   "source": [
    "import pandas as pd\n",
    "data = [10, 20, 30, 40, 50]\n",
    "print(pd.Series(data).dtype)"
   ]
  },
  {
   "cell_type": "markdown",
   "id": "4c1374a2",
   "metadata": {},
   "source": [
    "**name:** \n",
    "- You can assign a name to a Series when creating it or later using the name attribute. \n",
    "- The name is typically used in the context of DataFrames, where a Series can represent a column.\n"
   ]
  },
  {
   "cell_type": "code",
   "execution_count": 10,
   "id": "d1b82195",
   "metadata": {},
   "outputs": [
    {
     "name": "stdout",
     "output_type": "stream",
     "text": [
      "MyData\n"
     ]
    }
   ],
   "source": [
    "import pandas as pd\n",
    "data = [10, 20, 30, 40, 50]\n",
    "print(pd.Series(data, name='MyData').name)"
   ]
  },
  {
   "cell_type": "markdown",
   "id": "6bd1e507",
   "metadata": {},
   "source": [
    "**is_unique:**\n",
    "- The is_unique attribute returns a boolean value indicating whether all the values in the Series are unique (no duplicates) or not."
   ]
  },
  {
   "cell_type": "code",
   "execution_count": 11,
   "id": "40e9de97",
   "metadata": {},
   "outputs": [
    {
     "name": "stdout",
     "output_type": "stream",
     "text": [
      "True\n",
      "False\n"
     ]
    }
   ],
   "source": [
    "import pandas as pd\n",
    "data1 = [10, 20, 30, 40, 50]\n",
    "print(pd.Series(data).is_unique)  # Returns True\n",
    "\n",
    "data2 = [10, 10, 30, 50, 50]\n",
    "print(pd.Series(data2).is_unique)  # Returns False"
   ]
  },
  {
   "cell_type": "markdown",
   "id": "0771d2e7",
   "metadata": {},
   "source": [
    "**index:** \n",
    "- This attribute returns the index labels associated with the Series. \n",
    "- The index labels can be integers, strings, or any other data type. \n",
    "- If no index labels were explicitly provided when creating the Series, a default integer index will be generated."
   ]
  },
  {
   "cell_type": "code",
   "execution_count": 12,
   "id": "58e47ff8",
   "metadata": {},
   "outputs": [
    {
     "name": "stdout",
     "output_type": "stream",
     "text": [
      "Index(['A', 'B', 'C', 'D', 'E'], dtype='object')\n"
     ]
    }
   ],
   "source": [
    "import pandas as pd\n",
    "data = [10, 20, 30, 40, 50]\n",
    "index_labels = ['A', 'B', 'C', 'D', 'E']\n",
    "print(pd.Series(data, index=index_labels).index)"
   ]
  },
  {
   "cell_type": "markdown",
   "id": "8afee6d4",
   "metadata": {},
   "source": [
    "**values:** \n",
    "- This attribute returns the data in the Series as a NumPy array.\n"
   ]
  },
  {
   "cell_type": "code",
   "execution_count": 13,
   "id": "8acc0fa7",
   "metadata": {},
   "outputs": [
    {
     "name": "stdout",
     "output_type": "stream",
     "text": [
      "[78 70 89]\n"
     ]
    }
   ],
   "source": [
    "import pandas as pd\n",
    "marks = {'maths':78,'english': 70,'science': 89}\n",
    "print(pd.Series(marks).values)"
   ]
  },
  {
   "cell_type": "markdown",
   "id": "4150a737",
   "metadata": {},
   "source": [
    "### Series using read_csv():\n",
    "\n",
    "- **squeeze=True :** \n",
    "    - to avoid DataFrame\n",
    "    - specifies that the result should be squeezed into a Series if it has only one column.\n",
    "- **index_col :**\n",
    "    - used to specify which column in the CSV file should be used as the index for the resulting DataFrame.\n",
    "    - The index is a way to uniquely identify each row in the DataFrame. \n",
    "    - By default, if you don't specify the index_col parameter, Pandas will create a default integer index starting from 0."
   ]
  },
  {
   "cell_type": "code",
   "execution_count": 14,
   "id": "9d0102df",
   "metadata": {},
   "outputs": [
    {
     "name": "stdout",
     "output_type": "stream",
     "text": [
      "0       48\n",
      "1       57\n",
      "2       40\n",
      "3       43\n",
      "4       44\n",
      "      ... \n",
      "360    231\n",
      "361    226\n",
      "362    155\n",
      "363    144\n",
      "364    172\n",
      "Name: Subscribers gained, Length: 365, dtype: int64\n",
      "<class 'pandas.core.series.Series'>\n"
     ]
    },
    {
     "name": "stderr",
     "output_type": "stream",
     "text": [
      "C:\\Users\\Akash Pagi\\AppData\\Local\\Temp\\ipykernel_8072\\2235976868.py:2: FutureWarning: The squeeze argument has been deprecated and will be removed in a future version. Append .squeeze(\"columns\") to the call to squeeze.\n",
      "\n",
      "\n",
      "  subs = pd.read_csv('DATASETS/S16/subs.csv', squeeze=True)\n"
     ]
    }
   ],
   "source": [
    "import pandas as pd\n",
    "subs = pd.read_csv('DATASETS/S16/subs.csv', squeeze=True)\n",
    "print(subs)\n",
    "print(type(subs))"
   ]
  },
  {
   "cell_type": "code",
   "execution_count": 14,
   "id": "f14b5f30",
   "metadata": {},
   "outputs": [
    {
     "name": "stdout",
     "output_type": "stream",
     "text": [
      "match_no\n",
      "1       1\n",
      "2      23\n",
      "3      13\n",
      "4      12\n",
      "5       1\n",
      "       ..\n",
      "211     0\n",
      "212    20\n",
      "213    73\n",
      "214    25\n",
      "215     7\n",
      "Name: runs, Length: 215, dtype: int64\n",
      "<class 'pandas.core.series.Series'>\n"
     ]
    },
    {
     "name": "stderr",
     "output_type": "stream",
     "text": [
      "C:\\Users\\Akash Pagi\\AppData\\Local\\Temp\\ipykernel_168\\1927180952.py:1: FutureWarning: The squeeze argument has been deprecated and will be removed in a future version. Append .squeeze(\"columns\") to the call to squeeze.\n",
      "\n",
      "\n",
      "  vk = pd.read_csv('DATASETS/S16/kohli_ipl.csv', index_col='match_no', squeeze=True)\n"
     ]
    }
   ],
   "source": [
    "vk = pd.read_csv('DATASETS/S16/kohli_ipl.csv', index_col='match_no', squeeze=True)\n",
    "print(vk)\n",
    "print(type(vk))"
   ]
  },
  {
   "cell_type": "code",
   "execution_count": 15,
   "id": "883e3ad5",
   "metadata": {},
   "outputs": [
    {
     "name": "stderr",
     "output_type": "stream",
     "text": [
      "C:\\Users\\Akash Pagi\\AppData\\Local\\Temp\\ipykernel_8072\\2781145530.py:1: FutureWarning: The squeeze argument has been deprecated and will be removed in a future version. Append .squeeze(\"columns\") to the call to squeeze.\n",
      "\n",
      "\n",
      "  m = pd.read_csv('DATASETS/S16/bollywood.csv', index_col='movie', squeeze=True)\n"
     ]
    },
    {
     "name": "stdout",
     "output_type": "stream",
     "text": [
      "movie\n",
      "Uri: The Surgical Strike                   Vicky Kaushal\n",
      "Battalion 609                                Vicky Ahuja\n",
      "The Accidental Prime Minister (film)         Anupam Kher\n",
      "Why Cheat India                            Emraan Hashmi\n",
      "Evening Shadows                         Mona Ambegaonkar\n",
      "                                              ...       \n",
      "Hum Tumhare Hain Sanam                    Shah Rukh Khan\n",
      "Aankhen (2002 film)                     Amitabh Bachchan\n",
      "Saathiya (film)                             Vivek Oberoi\n",
      "Company (film)                                Ajay Devgn\n",
      "Awara Paagal Deewana                        Akshay Kumar\n",
      "Name: lead, Length: 1500, dtype: object\n",
      "<class 'pandas.core.series.Series'>\n"
     ]
    }
   ],
   "source": [
    "m = pd.read_csv('DATASETS/S16/bollywood.csv', index_col='movie', squeeze=True)\n",
    "print(m)\n",
    "print(type(m))"
   ]
  },
  {
   "cell_type": "markdown",
   "id": "70849741",
   "metadata": {},
   "source": [
    "### Series Methods:"
   ]
  },
  {
   "cell_type": "markdown",
   "id": "710a544a",
   "metadata": {},
   "source": [
    "**head():**\n",
    "- The head() method is used to display the first few rows (default is 5) of a DataFrame or Series.\n",
    "- if we provide negative number as parameter then return all rows."
   ]
  },
  {
   "cell_type": "code",
   "execution_count": 16,
   "id": "c3eaf324",
   "metadata": {},
   "outputs": [
    {
     "ename": "NameError",
     "evalue": "name 'vk' is not defined",
     "output_type": "error",
     "traceback": [
      "\u001b[1;31m---------------------------------------------------------------------------\u001b[0m",
      "\u001b[1;31mNameError\u001b[0m                                 Traceback (most recent call last)",
      "Cell \u001b[1;32mIn [16], line 2\u001b[0m\n\u001b[0;32m      1\u001b[0m \u001b[38;5;66;03m# head()\u001b[39;00m\n\u001b[1;32m----> 2\u001b[0m \u001b[38;5;28mprint\u001b[39m(vk\u001b[38;5;241m.\u001b[39mhead()) \n\u001b[0;32m      3\u001b[0m \u001b[38;5;28mprint\u001b[39m(vk\u001b[38;5;241m.\u001b[39mhead(\u001b[38;5;241m2\u001b[39m))\n",
      "\u001b[1;31mNameError\u001b[0m: name 'vk' is not defined"
     ]
    }
   ],
   "source": [
    "# head()\n",
    "print(vk.head()) \n",
    "print(vk.head(2))\n",
    "#print(vk.head(-2)) "
   ]
  },
  {
   "cell_type": "markdown",
   "id": "3bddfa59",
   "metadata": {},
   "source": [
    "**tail():**\n",
    "- The tail() method is used to display the last few rows (default is 5) of a DataFrame or Series."
   ]
  },
  {
   "cell_type": "code",
   "execution_count": null,
   "id": "54bc4ae8",
   "metadata": {},
   "outputs": [],
   "source": [
    "import pandas as pd\n",
    "print(vk.tail()) # default is 5\n",
    "print(vk.tail(2)) # specific number"
   ]
  },
  {
   "cell_type": "markdown",
   "id": "755ff4cd",
   "metadata": {},
   "source": [
    "**sample()**\n",
    "- The sample() method in Pandas is used to randomly select a specified number of rows (default is 1) or elements from a DataFrame or Series. \n",
    "- This is particularly useful when you want to obtain a random sample from your data for various purposes, such as data exploration, analysis, or testing.\n",
    "- If you have biased in your datasets then we can use this method."
   ]
  },
  {
   "cell_type": "code",
   "execution_count": null,
   "id": "48407cec",
   "metadata": {},
   "outputs": [],
   "source": [
    "print(vk.sample()) \n",
    "#3 randoms row form dataset\n",
    "print(vk.sample(3)) "
   ]
  },
  {
   "cell_type": "markdown",
   "id": "26ddc7fc",
   "metadata": {},
   "source": [
    "**value_counts() function:**\n",
    "- the value_counts() function in Pandas to count the frequency of values that occur multiple times in a Series."
   ]
  },
  {
   "cell_type": "code",
   "execution_count": null,
   "id": "4bc848f7",
   "metadata": {},
   "outputs": [],
   "source": [
    "print(m.value_counts())"
   ]
  },
  {
   "cell_type": "markdown",
   "id": "95a87487",
   "metadata": {},
   "source": [
    "**sort_values() function:**\n",
    "- sort_values() is used to sort the values within a Pandas Series.\n",
    "- By default, it sorts the values in ascending order, but you can specify the sorting order using the ascending parameter, where **ascending=True** sorts in ascending order, and **ascending=False** sorts in descending order\n",
    "- **syntax: series.sort_values(by, ascending, inplace)**\n",
    "    - **inplace:** \n",
    "        - The inplace parameter, when set to True, performs the sorting operation in-place, meaning it modifies the original Series, and the sorted result replaces the original data. \n",
    "        - If inplace is set to False (or not specified, as False is the default), it returns a new Series with the sorted values while leaving the original Series unchanged."
   ]
  },
  {
   "cell_type": "code",
   "execution_count": null,
   "id": "d992cbf3",
   "metadata": {},
   "outputs": [],
   "source": [
    "print(vk.sort_values()) # defualt ascending=True\n",
    "print(vk.sort_values(ascending=False))"
   ]
  },
  {
   "cell_type": "markdown",
   "id": "112eebc6",
   "metadata": {},
   "source": [
    "**Method chaining :**\n",
    "- Method chaining Pandas Series refers to the practice of applying multiple operations or methods to a Series in a single, concise line of code. \n",
    "- This approach is both efficient and readable, making it easier to perform complex data manipulations and transformations."
   ]
  },
  {
   "cell_type": "code",
   "execution_count": null,
   "id": "c29e9e86",
   "metadata": {},
   "outputs": [],
   "source": [
    "# method chaining\n",
    "print(vk.sort_values(ascending=False).head(1).values[0])"
   ]
  },
  {
   "cell_type": "code",
   "execution_count": null,
   "id": "59ca3de6",
   "metadata": {},
   "outputs": [],
   "source": [
    "# with inplace=True for permanent changes in series\n",
    "#vk.sort_values(ascending=False,inplace=True)"
   ]
  },
  {
   "cell_type": "code",
   "execution_count": null,
   "id": "a261c7e7",
   "metadata": {},
   "outputs": [],
   "source": [
    "#vk"
   ]
  },
  {
   "cell_type": "markdown",
   "id": "198a9915",
   "metadata": {},
   "source": [
    "**sort_index():** \n",
    "- the sort_index() method in Pandas Series is similar in concept to the sort_values() method, but **instead of sorting the values within the Series, it sorts the index (row labels) of the Series.** \n",
    "- Both methods allow you to control the sorting order, either ascending or descending, and both can be used with the inplace parameter to modify the original Series.\n",
    "- **syntax: series.sort_index(data,index inplace)**"
   ]
  },
  {
   "cell_type": "code",
   "execution_count": null,
   "id": "aec167f1",
   "metadata": {},
   "outputs": [],
   "source": [
    "# defualt ascending\n",
    "print(vk.sort_index())\n",
    "# dscending\n",
    "vk.sort_index(ascending=False)"
   ]
  },
  {
   "cell_type": "code",
   "execution_count": null,
   "id": "f16f856e",
   "metadata": {},
   "outputs": [],
   "source": [
    "# with inplace=True for permanent changes in series\n",
    "vk.sort_index(ascending=False,inplace=True)"
   ]
  },
  {
   "cell_type": "code",
   "execution_count": null,
   "id": "5ea59be7",
   "metadata": {},
   "outputs": [],
   "source": [
    "print(vk)"
   ]
  },
  {
   "cell_type": "markdown",
   "id": "1c9b4801",
   "metadata": {},
   "source": [
    "**Series Mathematical Methods :**\n",
    "\n",
    "Common statistical methods in Pandas Series for analyzing data:"
   ]
  },
  {
   "cell_type": "code",
   "execution_count": null,
   "id": "c1e6454f",
   "metadata": {},
   "outputs": [],
   "source": [
    "import pandas as pd\n",
    "subs = pd.read_csv('DATASETS/S16/subs.csv',squeeze=True)\n",
    "print(subs)\n",
    "print(type(subs))"
   ]
  },
  {
   "cell_type": "code",
   "execution_count": null,
   "id": "0345e765",
   "metadata": {},
   "outputs": [],
   "source": [
    "vk = pd.read_csv('DATASETS/S16/kohli_ipl.csv', index_col='match_no',squeeze=True)\n",
    "print(vk)\n",
    "print(type(vk))"
   ]
  },
  {
   "cell_type": "code",
   "execution_count": null,
   "id": "286d15e3",
   "metadata": {},
   "outputs": [],
   "source": [
    "m = pd.read_csv('DATASETS/S16/bollywood.csv', index_col='movie', squeeze=True)\n",
    "print(m)\n",
    "print(type(m))"
   ]
  },
  {
   "cell_type": "markdown",
   "id": "52f96d68",
   "metadata": {},
   "source": [
    "**count():**\n",
    "- Count the non-null elements in the Series."
   ]
  },
  {
   "cell_type": "code",
   "execution_count": null,
   "id": "4872e224",
   "metadata": {},
   "outputs": [],
   "source": [
    "print(vk.count())\n",
    "print(subs.count())"
   ]
  },
  {
   "cell_type": "markdown",
   "id": "66fc99a5",
   "metadata": {},
   "source": [
    "**sum():**\n",
    "- the sum() method is used to calculate the sum of all the elements in a Series"
   ]
  },
  {
   "cell_type": "code",
   "execution_count": null,
   "id": "7405115d",
   "metadata": {},
   "outputs": [],
   "source": [
    "print(subs.sum())"
   ]
  },
  {
   "cell_type": "markdown",
   "id": "1baf7809",
   "metadata": {},
   "source": [
    "**product():**\n",
    "- The product() method in Pandas Series is used to calculate the product of all elements in the Series. \n",
    "- It multiplies all the values together and returns the result."
   ]
  },
  {
   "cell_type": "code",
   "execution_count": null,
   "id": "b573042b",
   "metadata": {},
   "outputs": [],
   "source": [
    "print(subs.product())\n",
    "print(vk.product())"
   ]
  },
  {
   "cell_type": "markdown",
   "id": "06ab40f8",
   "metadata": {},
   "source": [
    "**mean():** \n",
    "- This method calculates the mean (average) of the elements in a Series."
   ]
  },
  {
   "cell_type": "code",
   "execution_count": null,
   "id": "426d0964",
   "metadata": {},
   "outputs": [],
   "source": [
    "print('average yt subs of campusx channel:',subs.mean())\n",
    "print('average ipl runs of virat kohli:',vk.mean())"
   ]
  },
  {
   "cell_type": "markdown",
   "id": "a6f4f169",
   "metadata": {},
   "source": [
    "**median():** \n",
    "- The median() method calculates the median of the elements in a Series, which is the middle value when the data is sorted. It's a measure of central tendency."
   ]
  },
  {
   "cell_type": "code",
   "execution_count": null,
   "id": "af1dbcf7",
   "metadata": {},
   "outputs": [],
   "source": [
    "print(subs.median())\n",
    "print(vk.median())"
   ]
  },
  {
   "cell_type": "markdown",
   "id": "858b7176",
   "metadata": {},
   "source": [
    "**mode():** \n",
    "- The mode() method returns the mode(s) of the elements in a Series, which is the most frequently occurring value(s)."
   ]
  },
  {
   "cell_type": "code",
   "execution_count": null,
   "id": "7c852cec",
   "metadata": {},
   "outputs": [],
   "source": [
    "print('Most frequent lead actor :')\n",
    "print(m.mode())"
   ]
  },
  {
   "cell_type": "markdown",
   "id": "108d532a",
   "metadata": {},
   "source": [
    "**std():** \n",
    "- The std() method computes the standard deviation of the elements in a Series, which measures the spread or dispersion of the data."
   ]
  },
  {
   "cell_type": "code",
   "execution_count": null,
   "id": "97801ee8",
   "metadata": {},
   "outputs": [],
   "source": [
    "print(vk.std())"
   ]
  },
  {
   "cell_type": "markdown",
   "id": "18d77e9f",
   "metadata": {},
   "source": [
    "**var():** \n",
    "- The var() method calculates the variance of the elements in a Series, which is the average of the squared differences from the mean."
   ]
  },
  {
   "cell_type": "code",
   "execution_count": null,
   "id": "5e226e68",
   "metadata": {},
   "outputs": [],
   "source": [
    "print(subs.var())\n",
    "print(vk.var())"
   ]
  },
  {
   "cell_type": "markdown",
   "id": "07dec992",
   "metadata": {},
   "source": [
    "**min():**\n",
    "- The min() method returns the minimum value in a Series or DataFrame."
   ]
  },
  {
   "cell_type": "code",
   "execution_count": null,
   "id": "53c5680b",
   "metadata": {},
   "outputs": [],
   "source": [
    "print('minimum subs:',subs.min())\n",
    "print('minimum runs:',vk.min())"
   ]
  },
  {
   "cell_type": "markdown",
   "id": "42d59351",
   "metadata": {},
   "source": [
    "**max():**\n",
    "- The max() method returns the maximum value in a Series or DataFrame."
   ]
  },
  {
   "cell_type": "code",
   "execution_count": null,
   "id": "4bf9bcfd",
   "metadata": {},
   "outputs": [],
   "source": [
    "print('maximum subs:',subs.max())\n",
    "print('maximum runs:',vk.max())"
   ]
  },
  {
   "cell_type": "markdown",
   "id": "0895a571",
   "metadata": {},
   "source": [
    "**describe():**\n",
    "- The describe() method in Pandas is a convenient function to generate descriptive statistics of a numeric Series or DataFrame. \n",
    "- It provides a summary of various statistical measures, giving you insights into the data's distribution and central tendency.\n",
    "\n",
    "- The describe() method provides the following statistics:\n",
    "\n",
    "    - **count:** The number of non-null elements in the Series.\n",
    "    - **mean:** The mean (average) of the Series.\n",
    "    - **std:** The standard deviation, which measures the spread of the data.\n",
    "    - **min:** The minimum value in the Series.\n",
    "    - **25%:** The 25th percentile (lower quartile).\n",
    "    - **50%:** The median (50th percentile).\n",
    "    - **75%:** The 75th percentile (upper quartile).\n",
    "    - **max:** The maximum value in the Series.\n",
    "    \n",
    "- **Note:** the describe() works on numeric data"
   ]
  },
  {
   "cell_type": "code",
   "execution_count": null,
   "id": "117ef650",
   "metadata": {},
   "outputs": [],
   "source": [
    "print(vk.describe())"
   ]
  },
  {
   "cell_type": "code",
   "execution_count": null,
   "id": "65bf3a9f",
   "metadata": {},
   "outputs": [],
   "source": [
    "print(subs.describe())"
   ]
  },
  {
   "cell_type": "markdown",
   "id": "0febf0e1",
   "metadata": {},
   "source": [
    "**Indexing in Series:**"
   ]
  },
  {
   "cell_type": "code",
   "execution_count": null,
   "id": "3dcaf57f",
   "metadata": {},
   "outputs": [],
   "source": [
    "import pandas as pd\n",
    "subs = pd.read_csv('DATASETS/S16/subs.csv', squeeze=True)\n",
    "print(subs)\n",
    "print(type(subs))"
   ]
  },
  {
   "cell_type": "code",
   "execution_count": null,
   "id": "dc9ab874",
   "metadata": {},
   "outputs": [],
   "source": [
    "vk = pd.read_csv('DATASETS/S16/kohli_ipl.csv', index_col='match_no', squeeze=True)\n",
    "print(vk)\n",
    "print(type(vk))"
   ]
  },
  {
   "cell_type": "code",
   "execution_count": null,
   "id": "ab8ad917",
   "metadata": {},
   "outputs": [],
   "source": [
    "m = pd.read_csv('DATASETS/S16/bollywood.csv', index_col='movie', squeeze=True)\n",
    "print(m)\n",
    "print(type(m))"
   ]
  },
  {
   "cell_type": "code",
   "execution_count": null,
   "id": "9695b839",
   "metadata": {},
   "outputs": [],
   "source": [
    "#Positive Indexing in series:\n",
    "import pandas as pd\n",
    "series = pd.Series([10,20,40,50])\n",
    "print(series)"
   ]
  },
  {
   "cell_type": "markdown",
   "id": "25f32a38",
   "metadata": {},
   "source": [
    "**Note:** Positive indexing works but negative indexing not works"
   ]
  },
  {
   "cell_type": "code",
   "execution_count": null,
   "id": "38c898ff",
   "metadata": {},
   "outputs": [],
   "source": [
    "print(series[0])\n",
    "print(series[1])\n",
    "#print(series[5]) # ValueError & KeyError "
   ]
  },
  {
   "cell_type": "code",
   "execution_count": null,
   "id": "b26f6381",
   "metadata": {},
   "outputs": [],
   "source": [
    "#Negative Indexing in sereis:\n",
    "#It is not working on series\n",
    "#print(series[-1]) # ValueError & KeyError "
   ]
  },
  {
   "cell_type": "markdown",
   "id": "536fb09e",
   "metadata": {},
   "source": [
    "**Note:**  Here movie name act as index or we can provide index number"
   ]
  },
  {
   "cell_type": "code",
   "execution_count": null,
   "id": "4489ce14",
   "metadata": {},
   "outputs": [],
   "source": [
    "# bollywood.csv dataset\n",
    "# Both positive and negative is possible\n",
    "print(m['Uri: The Surgical Strike'])\n",
    "print(m[1])\n",
    "print(m[-1])"
   ]
  },
  {
   "cell_type": "markdown",
   "id": "10cee4c4",
   "metadata": {},
   "source": [
    "**Indexing with labels:**"
   ]
  },
  {
   "cell_type": "code",
   "execution_count": null,
   "id": "9829827f",
   "metadata": {},
   "outputs": [],
   "source": [
    "# movie name is label for index\n",
    "print(m['Uri: The Surgical Strike'])"
   ]
  },
  {
   "cell_type": "markdown",
   "id": "93ce3097",
   "metadata": {},
   "source": [
    "**Slicing:**\n",
    "- Slicing a series it's similar to python object slicing."
   ]
  },
  {
   "cell_type": "code",
   "execution_count": null,
   "id": "f022e06c",
   "metadata": {},
   "outputs": [],
   "source": [
    "# Positive slicing\n",
    "print(vk[4:8])\n",
    "print(vk[1:8:2])"
   ]
  },
  {
   "cell_type": "code",
   "execution_count": null,
   "id": "056b2dac",
   "metadata": {},
   "outputs": [],
   "source": [
    "# negative slicing \n",
    "print(m[-5:]) # last 5 movies "
   ]
  },
  {
   "cell_type": "code",
   "execution_count": null,
   "id": "17cd53f0",
   "metadata": {},
   "outputs": [],
   "source": [
    "# Virat kohli last 5 ipl matches run \n",
    "print(vk[-4:]) "
   ]
  },
  {
   "cell_type": "markdown",
   "id": "c7274e92",
   "metadata": {},
   "source": [
    "**Fancy indexing:**|"
   ]
  },
  {
   "cell_type": "code",
   "execution_count": null,
   "id": "33cbbebf",
   "metadata": {},
   "outputs": [],
   "source": [
    "print(vk[[4,3,7]])\n",
    "print(m[[4,6,10]])\n",
    "print(subs[[9,6]])"
   ]
  },
  {
   "cell_type": "markdown",
   "id": "f327910d",
   "metadata": {},
   "source": [
    "**Editing Pandas Series:(Optional)**\n",
    "\n",
    "Editing a Pandas Series involves modifying the data within the Series or changing its values or index labels.\n",
    "Here are some common operations for editing Pandas Series:"
   ]
  },
  {
   "cell_type": "code",
   "execution_count": null,
   "id": "7a900da4",
   "metadata": {},
   "outputs": [],
   "source": [
    "import pandas as pd\n",
    "marks = [58,93,89,60]\n",
    "subjects = ['C++','Python','NumPy','Java']\n",
    "student_marks = pd.Series(marks, index=subjects)\n",
    "print(student_marks)"
   ]
  },
  {
   "cell_type": "code",
   "execution_count": null,
   "id": "969042ac",
   "metadata": {},
   "outputs": [],
   "source": [
    "# Change a specific value\n",
    "student_marks[0] = 90\n",
    "print(student_marks)"
   ]
  },
  {
   "cell_type": "code",
   "execution_count": null,
   "id": "1243c74c",
   "metadata": {},
   "outputs": [],
   "source": [
    "# what if an index does not exist\n",
    "student_marks['JavaScript'] = 90\n",
    "print(student_marks)"
   ]
  },
  {
   "cell_type": "code",
   "execution_count": null,
   "id": "f53d75dd",
   "metadata": {},
   "outputs": [],
   "source": [
    "# Using slicing:\n",
    "# changing the vk ipl runs\n",
    "vk[0:3] = [90,70,100]\n",
    "print(vk.head(4))"
   ]
  },
  {
   "cell_type": "code",
   "execution_count": null,
   "id": "11e5314b",
   "metadata": {},
   "outputs": [],
   "source": [
    "# Fancy indexing:\n",
    "vk[[1,2,3,4]] = [70,70,70,70]\n",
    "print(vk.head(4))"
   ]
  },
  {
   "cell_type": "code",
   "execution_count": null,
   "id": "4d3b98d5",
   "metadata": {},
   "outputs": [],
   "source": [
    "# using index label\n",
    "m['Battalion 609'] = 'Salman Khan'\n",
    "print(m.head(4))"
   ]
  },
  {
   "cell_type": "markdown",
   "id": "ad7ff799",
   "metadata": {},
   "source": [
    "**Note:** Most of the time, real world data is only reading purpose. "
   ]
  },
  {
   "cell_type": "markdown",
   "id": "f1e52230",
   "metadata": {},
   "source": [
    "**Series with Python Functionalities:**"
   ]
  },
  {
   "cell_type": "code",
   "execution_count": null,
   "id": "6564cd10",
   "metadata": {},
   "outputs": [],
   "source": [
    "# len/type/dir/sorted/max/min\n",
    "print(len(subs))\n",
    "print(type(subs))\n",
    "#print(dir(subs))\n",
    "#print(sorted(subs))\n",
    "print(min(subs))\n",
    "print(max(subs))"
   ]
  },
  {
   "cell_type": "markdown",
   "id": "a3bcdfcb",
   "metadata": {},
   "source": [
    "**type conversion:**"
   ]
  },
  {
   "cell_type": "code",
   "execution_count": null,
   "id": "5bb8d72b",
   "metadata": {},
   "outputs": [],
   "source": [
    "print(list(student_marks))"
   ]
  },
  {
   "cell_type": "code",
   "execution_count": null,
   "id": "7b52448d",
   "metadata": {},
   "outputs": [],
   "source": [
    "print(dict(student_marks))"
   ]
  },
  {
   "cell_type": "markdown",
   "id": "098178f0",
   "metadata": {},
   "source": [
    "**membership operator:**\n",
    "- It works on index values"
   ]
  },
  {
   "cell_type": "code",
   "execution_count": null,
   "id": "33bd36a1",
   "metadata": {},
   "outputs": [],
   "source": [
    "m"
   ]
  },
  {
   "cell_type": "code",
   "execution_count": null,
   "id": "f4be46b6",
   "metadata": {},
   "outputs": [],
   "source": [
    "print('Company (film)' in m)\n",
    "print('Evening' in m)"
   ]
  },
  {
   "cell_type": "markdown",
   "id": "66bdbfda",
   "metadata": {},
   "source": [
    "**Looping:**"
   ]
  },
  {
   "cell_type": "code",
   "execution_count": null,
   "id": "06d5cc22",
   "metadata": {},
   "outputs": [],
   "source": [
    "for i in student_marks.index:\n",
    "    print(i)"
   ]
  },
  {
   "cell_type": "markdown",
   "id": "f62d6a3c",
   "metadata": {},
   "source": [
    "**Arthimatic operator:**"
   ]
  },
  {
   "cell_type": "code",
   "execution_count": null,
   "id": "4d4865b8",
   "metadata": {},
   "outputs": [],
   "source": [
    "print(student_marks)"
   ]
  },
  {
   "cell_type": "code",
   "execution_count": null,
   "id": "3cea7720",
   "metadata": {},
   "outputs": [],
   "source": [
    "# remaining marks to get out of \n",
    "# It's like broadcasting\n",
    "print(100 - student_marks)"
   ]
  },
  {
   "cell_type": "markdown",
   "id": "e53f1fc1",
   "metadata": {},
   "source": [
    "**Relational operator :**"
   ]
  },
  {
   "cell_type": "code",
   "execution_count": null,
   "id": "f798988f",
   "metadata": {},
   "outputs": [],
   "source": [
    "# vk hits more than or equal to 50 runs\n",
    "print(vk >= 50)"
   ]
  },
  {
   "cell_type": "markdown",
   "id": "fd44e0b3",
   "metadata": {},
   "source": [
    "**Boolean Indexing on Series:**"
   ]
  },
  {
   "cell_type": "code",
   "execution_count": null,
   "id": "cc6f1fdc",
   "metadata": {},
   "outputs": [],
   "source": [
    "# Find no of 50's and 100's scored by kohli\n",
    "vk_score = vk[vk >= 50]\n",
    "print(vk_score.size)"
   ]
  },
  {
   "cell_type": "code",
   "execution_count": null,
   "id": "368f03f9",
   "metadata": {},
   "outputs": [],
   "source": [
    "# find number of ducks(zeros)\n",
    "print(vk[vk==0])\n",
    "print(vk[vk==0].size)"
   ]
  },
  {
   "cell_type": "code",
   "execution_count": null,
   "id": "0992e0c0",
   "metadata": {},
   "outputs": [],
   "source": [
    "# Count number of day when I had more than 200 subs a day\n",
    "print(subs[subs > 200].size)"
   ]
  },
  {
   "cell_type": "code",
   "execution_count": null,
   "id": "86e3c942",
   "metadata": {},
   "outputs": [],
   "source": [
    "# find actors who have done more than 20 movies\n",
    "m_count = m.value_counts()\n",
    "print(m_count[m_count > 20])"
   ]
  },
  {
   "cell_type": "markdown",
   "id": "6a891177",
   "metadata": {},
   "source": [
    "**Plotting Graphs on Series:**"
   ]
  },
  {
   "cell_type": "code",
   "execution_count": null,
   "id": "ded2611a",
   "metadata": {},
   "outputs": [],
   "source": [
    "#\n",
    "subs.plot()"
   ]
  },
  {
   "cell_type": "code",
   "execution_count": null,
   "id": "85317f3c",
   "metadata": {},
   "outputs": [],
   "source": [
    "m.value_counts().head(10).plot(kind='pie')"
   ]
  },
  {
   "cell_type": "code",
   "execution_count": null,
   "id": "95ab8edf",
   "metadata": {},
   "outputs": [],
   "source": [
    "m.value_counts().head(10).plot(kind='bar')"
   ]
  },
  {
   "cell_type": "markdown",
   "id": "765faee9",
   "metadata": {},
   "source": [
    "**Some Important Series Methods:**\n",
    "\n",
    "These are some common methods and functions available for working with Pandas Series in Python:\n"
   ]
  },
  {
   "cell_type": "code",
   "execution_count": 23,
   "id": "d4b1623f",
   "metadata": {},
   "outputs": [
    {
     "name": "stdout",
     "output_type": "stream",
     "text": [
      "movie\n",
      "Uri: The Surgical Strike                   Vicky Kaushal\n",
      "Battalion 609                                Vicky Ahuja\n",
      "The Accidental Prime Minister (film)         Anupam Kher\n",
      "Why Cheat India                            Emraan Hashmi\n",
      "Evening Shadows                         Mona Ambegaonkar\n",
      "                                              ...       \n",
      "Hum Tumhare Hain Sanam                    Shah Rukh Khan\n",
      "Aankhen (2002 film)                     Amitabh Bachchan\n",
      "Saathiya (film)                             Vivek Oberoi\n",
      "Company (film)                                Ajay Devgn\n",
      "Awara Paagal Deewana                        Akshay Kumar\n",
      "Name: lead, Length: 1500, dtype: object\n"
     ]
    },
    {
     "name": "stderr",
     "output_type": "stream",
     "text": [
      "C:\\Users\\Akash Pagi\\AppData\\Local\\Temp\\ipykernel_8072\\1543187988.py:2: FutureWarning: The squeeze argument has been deprecated and will be removed in a future version. Append .squeeze(\"columns\") to the call to squeeze.\n",
      "\n",
      "\n",
      "  m = pd.read_csv('DATASETS/S16/bollywood.csv', index_col='movie', squeeze=True)\n"
     ]
    }
   ],
   "source": [
    "import pandas as pd\n",
    "m = pd.read_csv('DATASETS/S16/bollywood.csv', index_col='movie', squeeze=True)\n",
    "print(m)"
   ]
  },
  {
   "cell_type": "code",
   "execution_count": 24,
   "id": "8d6d4277",
   "metadata": {},
   "outputs": [
    {
     "name": "stdout",
     "output_type": "stream",
     "text": [
      "match_no\n",
      "1       1\n",
      "2      23\n",
      "3      13\n",
      "4      12\n",
      "5       1\n",
      "       ..\n",
      "211     0\n",
      "212    20\n",
      "213    73\n",
      "214    25\n",
      "215     7\n",
      "Name: runs, Length: 215, dtype: int64\n"
     ]
    },
    {
     "name": "stderr",
     "output_type": "stream",
     "text": [
      "C:\\Users\\Akash Pagi\\AppData\\Local\\Temp\\ipykernel_8072\\1951621658.py:2: FutureWarning: The squeeze argument has been deprecated and will be removed in a future version. Append .squeeze(\"columns\") to the call to squeeze.\n",
      "\n",
      "\n",
      "  vk = pd.read_csv('DATASETS/S16/kohli_ipl.csv', index_col='match_no', squeeze=True)\n"
     ]
    }
   ],
   "source": [
    "import pandas as pd\n",
    "vk = pd.read_csv('DATASETS/S16/kohli_ipl.csv', index_col='match_no', squeeze=True)\n",
    "print(vk)"
   ]
  },
  {
   "cell_type": "code",
   "execution_count": 25,
   "id": "e9a66d76",
   "metadata": {},
   "outputs": [
    {
     "name": "stdout",
     "output_type": "stream",
     "text": [
      "0       48\n",
      "1       57\n",
      "2       40\n",
      "3       43\n",
      "4       44\n",
      "      ... \n",
      "360    231\n",
      "361    226\n",
      "362    155\n",
      "363    144\n",
      "364    172\n",
      "Name: Subscribers gained, Length: 365, dtype: int64\n"
     ]
    },
    {
     "name": "stderr",
     "output_type": "stream",
     "text": [
      "C:\\Users\\Akash Pagi\\AppData\\Local\\Temp\\ipykernel_8072\\712133196.py:2: FutureWarning: The squeeze argument has been deprecated and will be removed in a future version. Append .squeeze(\"columns\") to the call to squeeze.\n",
      "\n",
      "\n",
      "  subs = pd.read_csv('DATASETS/S16/subs.csv', squeeze=True)\n"
     ]
    }
   ],
   "source": [
    "import pandas as pd\n",
    "subs = pd.read_csv('DATASETS/S16/subs.csv', squeeze=True)\n",
    "print(subs)"
   ]
  },
  {
   "cell_type": "markdown",
   "id": "daba2933",
   "metadata": {},
   "source": [
    "**astype():**\n",
    "- This method is used to cast the data type of the elements in a Series to the specified data type (e.g., int, float, str).\n",
    "- Useful to reduce the memory space\n",
    "Example: series.astype(float)\n",
    "- **Syntax: series.astype(dtype)**"
   ]
  },
  {
   "cell_type": "code",
   "execution_count": 26,
   "id": "a1bdbde1",
   "metadata": {},
   "outputs": [
    {
     "name": "stdout",
     "output_type": "stream",
     "text": [
      "Original size of dataset: 3456\n",
      "Reduce size of dataset: 2596\n"
     ]
    }
   ],
   "source": [
    "import sys\n",
    "print('Original size of dataset:',sys.getsizeof(vk))\n",
    "vk_size = vk.astype('int32')\n",
    "print('Reduce size of dataset:',sys.getsizeof(vk_size))"
   ]
  },
  {
   "cell_type": "markdown",
   "id": "d4ff60ee",
   "metadata": {},
   "source": [
    "**between():**\n",
    "- Checks if each element in the Series falls within the specified range. \n",
    "- Returns a boolean Series.\n",
    "- **Syntax: series.between(left, right, inclusive=True)**\n"
   ]
  },
  {
   "cell_type": "code",
   "execution_count": 47,
   "id": "77e3c4f8",
   "metadata": {},
   "outputs": [
    {
     "name": "stdout",
     "output_type": "stream",
     "text": [
      "match_no\n",
      "1      False\n",
      "2      False\n",
      "3      False\n",
      "4      False\n",
      "5      False\n",
      "       ...  \n",
      "211    False\n",
      "212    False\n",
      "213     True\n",
      "214    False\n",
      "215    False\n",
      "Name: runs, Length: 215, dtype: bool\n",
      "match_no\n",
      "15      50\n",
      "34      58\n",
      "41      71\n",
      "44      56\n",
      "45      67\n",
      "52      70\n",
      "57      57\n",
      "68      73\n",
      "71      51\n",
      "73      58\n",
      "74      65\n",
      "80      57\n",
      "81      93\n",
      "82      99\n",
      "85      56\n",
      "97      67\n",
      "99      73\n",
      "103     51\n",
      "104     62\n",
      "110     82\n",
      "116     75\n",
      "117     79\n",
      "119     80\n",
      "120    100\n",
      "122     52\n",
      "127     75\n",
      "129     54\n",
      "131     54\n",
      "132     62\n",
      "134     64\n",
      "137     55\n",
      "141     58\n",
      "144     57\n",
      "145     92\n",
      "148     68\n",
      "152     70\n",
      "160     84\n",
      "162     67\n",
      "164    100\n",
      "175     72\n",
      "178     90\n",
      "182     50\n",
      "188     72\n",
      "197     51\n",
      "198     53\n",
      "209     58\n",
      "213     73\n",
      "Name: runs, dtype: int64\n"
     ]
    }
   ],
   "source": [
    "print(vk.between(50,100)) # return boolean value\n",
    "print(vk[vk.between(50, 100)]) # values"
   ]
  },
  {
   "cell_type": "code",
   "execution_count": 49,
   "id": "d4279b00",
   "metadata": {},
   "outputs": [
    {
     "name": "stdout",
     "output_type": "stream",
     "text": [
      "match_no\n",
      "1      False\n",
      "2      False\n",
      "3      False\n",
      "4      False\n",
      "5      False\n",
      "       ...  \n",
      "211    False\n",
      "212    False\n",
      "213    False\n",
      "214    False\n",
      "215    False\n",
      "Name: runs, Length: 215, dtype: bool\n",
      "match_no\n",
      "82      99\n",
      "120    100\n",
      "123    108\n",
      "126    109\n",
      "164    100\n",
      "Name: runs, dtype: int64\n"
     ]
    }
   ],
   "source": [
    "print(vk.between(95,110)) # return boolean value\n",
    "print(vk[vk.between(95, 110)]) # values"
   ]
  },
  {
   "cell_type": "markdown",
   "id": "89de232a",
   "metadata": {},
   "source": [
    "**clip():**\n",
    "- Clips values in the Series to be within the specified lower and upper bounds.\n",
    "- **Syntax: series.clip(lower, upper)**"
   ]
  },
  {
   "cell_type": "code",
   "execution_count": 35,
   "id": "a5fc293c",
   "metadata": {},
   "outputs": [
    {
     "name": "stdout",
     "output_type": "stream",
     "text": [
      "0      100\n",
      "1      100\n",
      "2      100\n",
      "3      100\n",
      "4      100\n",
      "      ... \n",
      "360    160\n",
      "361    160\n",
      "362    155\n",
      "363    144\n",
      "364    160\n",
      "Name: Subscribers gained, Length: 365, dtype: int64\n"
     ]
    }
   ],
   "source": [
    "print(subs.clip(100,160))"
   ]
  },
  {
   "cell_type": "markdown",
   "id": "12b81040",
   "metadata": {},
   "source": [
    "**drop_duplicates():**\n",
    "- Removes duplicate values from the Series.\n",
    "- **Syntax: series.drop_duplicates(keep='first/last', inplace=False)**"
   ]
  },
  {
   "cell_type": "code",
   "execution_count": 36,
   "id": "3885eeb0",
   "metadata": {},
   "outputs": [
    {
     "name": "stdout",
     "output_type": "stream",
     "text": [
      "0    1\n",
      "1    1\n",
      "2    3\n",
      "3    3\n",
      "4    3\n",
      "5    5\n",
      "6    5\n",
      "dtype: int64\n",
      "0    1\n",
      "2    3\n",
      "5    5\n",
      "dtype: int64\n",
      "1    1\n",
      "4    3\n",
      "6    5\n",
      "dtype: int64\n"
     ]
    }
   ],
   "source": [
    "temp = pd.Series([1,1,3,3,3,5,5])\n",
    "print(temp)\n",
    "print(temp.drop_duplicates()) # default first\n",
    "# deleting first occurance\n",
    "print(temp.drop_duplicates(keep='last'))"
   ]
  },
  {
   "cell_type": "markdown",
   "id": "10560b17",
   "metadata": {},
   "source": [
    "**duplicated():**\n",
    "- the duplicated() method is used to identify and mark duplicate values in a Series (column) of a DataFrame.\n",
    "- It returns a Boolean Series \n",
    "- **Syntax: Series.duplicated()**"
   ]
  },
  {
   "cell_type": "code",
   "execution_count": 37,
   "id": "68ce9219",
   "metadata": {},
   "outputs": [
    {
     "name": "stdout",
     "output_type": "stream",
     "text": [
      "0    False\n",
      "1     True\n",
      "2    False\n",
      "3     True\n",
      "4     True\n",
      "5    False\n",
      "6     True\n",
      "dtype: bool\n",
      "Duplicate value count: 4\n"
     ]
    }
   ],
   "source": [
    "temp = pd.Series([1,1,3,3,3,5,5])\n",
    "print(temp.duplicated()) # True menas duplicate\n",
    "print('Duplicate value count:',temp.duplicated().sum())"
   ]
  },
  {
   "cell_type": "markdown",
   "id": "52ca2323",
   "metadata": {},
   "source": [
    "**isnull():**\n",
    "- Returns a boolean Series indicating whether each element is NaN (missing data).\n",
    "- **Syntax: series.isnull()**"
   ]
  },
  {
   "cell_type": "code",
   "execution_count": 39,
   "id": "88f777ee",
   "metadata": {},
   "outputs": [
    {
     "name": "stdout",
     "output_type": "stream",
     "text": [
      "0    1.0\n",
      "1    3.0\n",
      "2    NaN\n",
      "3    NaN\n",
      "4    5.0\n",
      "5    NaN\n",
      "6    7.0\n",
      "7    NaN\n",
      "dtype: float64\n"
     ]
    }
   ],
   "source": [
    "import numpy as np\n",
    "import pandas as pd\n",
    "temp = pd.Series([1,3,np.nan,np.nan,5,np.nan,7,np.nan])\n",
    "print(temp)"
   ]
  },
  {
   "cell_type": "code",
   "execution_count": 40,
   "id": "7cb9f793",
   "metadata": {},
   "outputs": [
    {
     "data": {
      "text/plain": [
       "8"
      ]
     },
     "execution_count": 40,
     "metadata": {},
     "output_type": "execute_result"
    }
   ],
   "source": [
    "temp.size "
   ]
  },
  {
   "cell_type": "code",
   "execution_count": 41,
   "id": "4d657119",
   "metadata": {},
   "outputs": [
    {
     "data": {
      "text/plain": [
       "4"
      ]
     },
     "execution_count": 41,
     "metadata": {},
     "output_type": "execute_result"
    }
   ],
   "source": [
    "temp.count() # return only non-NaN values"
   ]
  },
  {
   "cell_type": "code",
   "execution_count": 42,
   "id": "c975ff18",
   "metadata": {},
   "outputs": [
    {
     "name": "stdout",
     "output_type": "stream",
     "text": [
      "0    False\n",
      "1    False\n",
      "2     True\n",
      "3     True\n",
      "4    False\n",
      "5     True\n",
      "6    False\n",
      "7     True\n",
      "dtype: bool\n",
      "Missing values: 4\n"
     ]
    }
   ],
   "source": [
    "# isnull\n",
    "print(temp.isnull()) # return boolean\n",
    "print('Missing values:',temp.isnull().sum())"
   ]
  },
  {
   "cell_type": "markdown",
   "id": "27f60e0d",
   "metadata": {},
   "source": [
    "**dropna():**\n",
    "- Removes missing (NaN) values from the Series.\n",
    "- **Syntax: series.dropna(axis=0, inplace=False)**"
   ]
  },
  {
   "cell_type": "code",
   "execution_count": 43,
   "id": "ace69435",
   "metadata": {},
   "outputs": [
    {
     "name": "stdout",
     "output_type": "stream",
     "text": [
      "0    1.0\n",
      "1    3.0\n",
      "4    5.0\n",
      "6    7.0\n",
      "dtype: float64\n"
     ]
    }
   ],
   "source": [
    "print(temp.dropna())"
   ]
  },
  {
   "cell_type": "markdown",
   "id": "11d5003b",
   "metadata": {},
   "source": [
    "**fillna():**\n",
    "- Fills missing (NaN) values in the Series with the specified value.\n",
    "- **Syntax: series.fillna(value)**"
   ]
  },
  {
   "cell_type": "code",
   "execution_count": 45,
   "id": "7bd79d1b",
   "metadata": {},
   "outputs": [
    {
     "name": "stdout",
     "output_type": "stream",
     "text": [
      "0    1.0\n",
      "1    3.0\n",
      "2    NaN\n",
      "3    5.0\n",
      "4    NaN\n",
      "5    7.0\n",
      "6    NaN\n",
      "dtype: float64\n",
      "0    1.0\n",
      "1    3.0\n",
      "2    0.0\n",
      "3    5.0\n",
      "4    0.0\n",
      "5    7.0\n",
      "6    0.0\n",
      "dtype: float64\n"
     ]
    }
   ],
   "source": [
    "import numpy as np\n",
    "import pandas as pd\n",
    "temp = pd.Series([1,3,np.nan,5,np.nan,7,np.nan])\n",
    "print(temp)\n",
    "print(temp.fillna(0))"
   ]
  },
  {
   "cell_type": "markdown",
   "id": "80e5e3ad",
   "metadata": {},
   "source": [
    "**isin():**\n",
    "- Checks if each element in the Series is in the provided list of values. \n",
    "- Returns a boolean Series.\n",
    "- **Syntax: series.isin(values)**"
   ]
  },
  {
   "cell_type": "code",
   "execution_count": 46,
   "id": "331f1890",
   "metadata": {},
   "outputs": [
    {
     "name": "stdout",
     "output_type": "stream",
     "text": [
      "match_no\n",
      "1      False\n",
      "2      False\n",
      "3      False\n",
      "4      False\n",
      "5      False\n",
      "       ...  \n",
      "211    False\n",
      "212    False\n",
      "213    False\n",
      "214    False\n",
      "215    False\n",
      "Name: runs, Length: 215, dtype: bool\n",
      "match_no\n",
      "82    99\n",
      "86    49\n",
      "Name: runs, dtype: int64\n"
     ]
    }
   ],
   "source": [
    "print(vk.isin([49,99])) # return boolean\n",
    "print(vk[vk.isin([49,99])]) "
   ]
  },
  {
   "cell_type": "markdown",
   "id": "bd3cdd0f",
   "metadata": {},
   "source": [
    "**apply():**\n",
    "- Applies a given  function to each element in the Series and returns a new Series with the results.\n",
    "- **Syntax: series.apply(func)**"
   ]
  },
  {
   "cell_type": "code",
   "execution_count": null,
   "id": "b1344434",
   "metadata": {},
   "outputs": [],
   "source": [
    "print(m.apply(lambda x:x.split()[0].upper()).head(5))"
   ]
  },
  {
   "cell_type": "code",
   "execution_count": null,
   "id": "400bbff5",
   "metadata": {},
   "outputs": [],
   "source": [
    "# If average subs is more then series values then return good day \n",
    "# if subs less than average then return bad day\n",
    "print('mean',subs.mean())\n",
    "print(subs.apply(lambda x:'Good day' if x> subs.mean() else 'Bad day'))"
   ]
  },
  {
   "cell_type": "markdown",
   "id": "1467dc9a",
   "metadata": {},
   "source": [
    "**copy():**\n",
    "- Creates a deep copy of the Series. \n",
    "- Changes made to the copied Series do not affect the original.\n",
    "- **Syntax: series.copy()**"
   ]
  },
  {
   "cell_type": "code",
   "execution_count": null,
   "id": "057d60ef",
   "metadata": {},
   "outputs": [],
   "source": [
    "print(vk.head())"
   ]
  },
  {
   "cell_type": "code",
   "execution_count": null,
   "id": "abf07c23",
   "metadata": {},
   "outputs": [],
   "source": [
    "new_vk = vk.head().copy()\n",
    "print(new_vk)"
   ]
  },
  {
   "cell_type": "code",
   "execution_count": null,
   "id": "50d653dc",
   "metadata": {},
   "outputs": [],
   "source": [
    "new_vk[1] = 100"
   ]
  },
  {
   "cell_type": "code",
   "execution_count": null,
   "id": "b566ebe6",
   "metadata": {},
   "outputs": [],
   "source": [
    "# vk original data\n",
    "print(vk.head())"
   ]
  },
  {
   "cell_type": "code",
   "execution_count": null,
   "id": "91ed09d5",
   "metadata": {},
   "outputs": [],
   "source": [
    "# modifed new_vk using copy()\n",
    "print(new_vk)"
   ]
  },
  {
   "cell_type": "markdown",
   "id": "c43a92d7",
   "metadata": {},
   "source": [
    "**EXTRA series methods:**"
   ]
  },
  {
   "cell_type": "markdown",
   "id": "2b95958e",
   "metadata": {},
   "source": [
    "**to_numeric():**\n",
    "- the to_numeric() function is used to convert the values in a Series (or DataFrame column) to numeric data types. \n",
    "- This function is particularly useful when you have a Series containing strings or other non-numeric data, and you want to convert them to numeric types like integers or floating-point numbers.\n",
    "- **Syntax: pd.to_numeric(data, errors='coerce', downcast='integer')**\n",
    "    - **raise(default):** Raises an error if any value cannot be converted to a number.\n",
    "    - **coerce:** Replaces non-convertible values with NaN.\n",
    "    - **ignore:** Ignores non-convertible values and leaves them as they are."
   ]
  },
  {
   "cell_type": "code",
   "execution_count": null,
   "id": "3989a9a1",
   "metadata": {},
   "outputs": [],
   "source": [
    "import pandas as pd\n",
    "data = pd.Series(['1', '2', '3.14', 'hello', '5'])\n",
    "numeric_data = pd.to_numeric(data, errors='coerce')\n",
    "print(numeric_data)"
   ]
  },
  {
   "cell_type": "markdown",
   "id": "8d4af85d",
   "metadata": {},
   "source": [
    "**quantile():**\n",
    "- Return value at the given quantile.\n",
    "- q = 0.5 is default\n",
    "- **Syntax: Series.(q=0.5, interpolation)**\n",
    "    - **q:** float or array-like, default 0.5 (50% quantile)\n",
    "    - **interpolation:** {'linear', 'lower', 'higher', 'midpoint', 'nearest'}\n"
   ]
  },
  {
   "cell_type": "code",
   "execution_count": null,
   "id": "991c35e8",
   "metadata": {},
   "outputs": [],
   "source": []
  },
  {
   "cell_type": "code",
   "execution_count": null,
   "id": "a6b3518a",
   "metadata": {},
   "outputs": [],
   "source": []
  },
  {
   "cell_type": "code",
   "execution_count": null,
   "id": "2cd2b85c",
   "metadata": {},
   "outputs": [],
   "source": []
  }
 ],
 "metadata": {
  "kernelspec": {
   "display_name": "Python 3 (ipykernel)",
   "language": "python",
   "name": "python3"
  },
  "language_info": {
   "codemirror_mode": {
    "name": "ipython",
    "version": 3
   },
   "file_extension": ".py",
   "mimetype": "text/x-python",
   "name": "python",
   "nbconvert_exporter": "python",
   "pygments_lexer": "ipython3",
   "version": "3.10.7"
  }
 },
 "nbformat": 4,
 "nbformat_minor": 5
}
