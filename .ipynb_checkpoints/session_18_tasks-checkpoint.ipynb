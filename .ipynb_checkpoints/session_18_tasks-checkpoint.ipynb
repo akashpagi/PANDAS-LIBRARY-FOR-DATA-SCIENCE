{
 "cells": [
  {
   "cell_type": "code",
   "execution_count": 2,
   "metadata": {
    "id": "PlcdriLvtyhC"
   },
   "outputs": [],
   "source": [
    "import numpy as np\n",
    "import pandas as pd\n",
    "\n",
    "# to visualize all the column, run the below code\n",
    "pd.options.display.max_columns = None\n",
    "# to show all the records, use the below code\n",
    "# pd.options.display.max_rows = None"
   ]
  },
  {
   "cell_type": "markdown",
   "metadata": {
    "id": "YZvQ-2fzt318"
   },
   "source": [
    "## Fifa Worldcup - 2022 dataset.\n",
    "\n",
    "You can find the dataset from [here](https://www.kaggle.com/datasets/sayanroy729/fifa-worldcup-2022-results).\n",
    "\n",
    "Also you can directly use an url to read the dataset by using `pd.read_csv()` method. Check the below code cell."
   ]
  },
  {
   "cell_type": "code",
   "execution_count": 3,
   "metadata": {
    "id": "tGy1_cUruB4I"
   },
   "outputs": [
    {
     "data": {
      "text/html": [
       "<div>\n",
       "<style scoped>\n",
       "    .dataframe tbody tr th:only-of-type {\n",
       "        vertical-align: middle;\n",
       "    }\n",
       "\n",
       "    .dataframe tbody tr th {\n",
       "        vertical-align: top;\n",
       "    }\n",
       "\n",
       "    .dataframe thead th {\n",
       "        text-align: right;\n",
       "    }\n",
       "</style>\n",
       "<table border=\"1\" class=\"dataframe\">\n",
       "  <thead>\n",
       "    <tr style=\"text-align: right;\">\n",
       "      <th></th>\n",
       "      <th>Sl. No</th>\n",
       "      <th>Match No.</th>\n",
       "      <th>Team</th>\n",
       "      <th>Against</th>\n",
       "      <th>Group</th>\n",
       "      <th>Goal</th>\n",
       "      <th>Possession (%)</th>\n",
       "      <th>Inside Penalty Area</th>\n",
       "      <th>Outside Penalty Area</th>\n",
       "      <th>Assists</th>\n",
       "      <th>Total Attempts</th>\n",
       "      <th>On Target</th>\n",
       "      <th>Off Target</th>\n",
       "      <th>Target in Penalty</th>\n",
       "      <th>Target from Outside</th>\n",
       "      <th>Left Channel</th>\n",
       "      <th>Left Inside Channel</th>\n",
       "      <th>Central Channel</th>\n",
       "      <th>Right Inside Channel</th>\n",
       "      <th>Right Channel</th>\n",
       "      <th>Receptions MD</th>\n",
       "      <th>Receptions D</th>\n",
       "      <th>Attempted Line Breaks</th>\n",
       "      <th>Completed Line Breaks</th>\n",
       "      <th>Attempted Defensive Line Breaks</th>\n",
       "      <th>Completed Defensive Line Breaks</th>\n",
       "      <th>Yellow Cards</th>\n",
       "      <th>Red Cards</th>\n",
       "      <th>Fouls Against</th>\n",
       "      <th>Offsides</th>\n",
       "      <th>Passes</th>\n",
       "      <th>Passes Completed</th>\n",
       "      <th>Crosses</th>\n",
       "      <th>Crosses Completed</th>\n",
       "      <th>Corners</th>\n",
       "      <th>Free Kicks</th>\n",
       "      <th>Penalties Scored</th>\n",
       "      <th>Pts</th>\n",
       "    </tr>\n",
       "  </thead>\n",
       "  <tbody>\n",
       "    <tr>\n",
       "      <th>0</th>\n",
       "      <td>1</td>\n",
       "      <td>1</td>\n",
       "      <td>Qatar</td>\n",
       "      <td>Ecuador</td>\n",
       "      <td>A</td>\n",
       "      <td>0</td>\n",
       "      <td>40</td>\n",
       "      <td>0</td>\n",
       "      <td>0</td>\n",
       "      <td>0</td>\n",
       "      <td>5</td>\n",
       "      <td>0</td>\n",
       "      <td>5</td>\n",
       "      <td>2</td>\n",
       "      <td>3</td>\n",
       "      <td>15</td>\n",
       "      <td>0</td>\n",
       "      <td>3</td>\n",
       "      <td>1</td>\n",
       "      <td>9</td>\n",
       "      <td>45</td>\n",
       "      <td>5</td>\n",
       "      <td>159</td>\n",
       "      <td>100</td>\n",
       "      <td>6</td>\n",
       "      <td>4</td>\n",
       "      <td>4</td>\n",
       "      <td>0</td>\n",
       "      <td>15</td>\n",
       "      <td>3</td>\n",
       "      <td>453</td>\n",
       "      <td>387</td>\n",
       "      <td>10</td>\n",
       "      <td>5</td>\n",
       "      <td>1</td>\n",
       "      <td>19</td>\n",
       "      <td>0</td>\n",
       "      <td>0</td>\n",
       "    </tr>\n",
       "    <tr>\n",
       "      <th>1</th>\n",
       "      <td>2</td>\n",
       "      <td>1</td>\n",
       "      <td>Ecuador</td>\n",
       "      <td>Qatar</td>\n",
       "      <td>A</td>\n",
       "      <td>2</td>\n",
       "      <td>46</td>\n",
       "      <td>2</td>\n",
       "      <td>0</td>\n",
       "      <td>1</td>\n",
       "      <td>5</td>\n",
       "      <td>5</td>\n",
       "      <td>2</td>\n",
       "      <td>4</td>\n",
       "      <td>1</td>\n",
       "      <td>8</td>\n",
       "      <td>7</td>\n",
       "      <td>6</td>\n",
       "      <td>4</td>\n",
       "      <td>6</td>\n",
       "      <td>55</td>\n",
       "      <td>10</td>\n",
       "      <td>159</td>\n",
       "      <td>103</td>\n",
       "      <td>6</td>\n",
       "      <td>4</td>\n",
       "      <td>2</td>\n",
       "      <td>0</td>\n",
       "      <td>15</td>\n",
       "      <td>4</td>\n",
       "      <td>484</td>\n",
       "      <td>419</td>\n",
       "      <td>26</td>\n",
       "      <td>10</td>\n",
       "      <td>3</td>\n",
       "      <td>17</td>\n",
       "      <td>1</td>\n",
       "      <td>3</td>\n",
       "    </tr>\n",
       "    <tr>\n",
       "      <th>2</th>\n",
       "      <td>3</td>\n",
       "      <td>2</td>\n",
       "      <td>England</td>\n",
       "      <td>Iran</td>\n",
       "      <td>B</td>\n",
       "      <td>6</td>\n",
       "      <td>69</td>\n",
       "      <td>6</td>\n",
       "      <td>0</td>\n",
       "      <td>6</td>\n",
       "      <td>13</td>\n",
       "      <td>7</td>\n",
       "      <td>3</td>\n",
       "      <td>10</td>\n",
       "      <td>3</td>\n",
       "      <td>11</td>\n",
       "      <td>5</td>\n",
       "      <td>2</td>\n",
       "      <td>3</td>\n",
       "      <td>11</td>\n",
       "      <td>72</td>\n",
       "      <td>15</td>\n",
       "      <td>133</td>\n",
       "      <td>94</td>\n",
       "      <td>8</td>\n",
       "      <td>6</td>\n",
       "      <td>0</td>\n",
       "      <td>0</td>\n",
       "      <td>9</td>\n",
       "      <td>2</td>\n",
       "      <td>810</td>\n",
       "      <td>733</td>\n",
       "      <td>29</td>\n",
       "      <td>9</td>\n",
       "      <td>8</td>\n",
       "      <td>16</td>\n",
       "      <td>0</td>\n",
       "      <td>3</td>\n",
       "    </tr>\n",
       "    <tr>\n",
       "      <th>3</th>\n",
       "      <td>4</td>\n",
       "      <td>2</td>\n",
       "      <td>Iran</td>\n",
       "      <td>England</td>\n",
       "      <td>B</td>\n",
       "      <td>2</td>\n",
       "      <td>20</td>\n",
       "      <td>2</td>\n",
       "      <td>0</td>\n",
       "      <td>1</td>\n",
       "      <td>8</td>\n",
       "      <td>3</td>\n",
       "      <td>4</td>\n",
       "      <td>6</td>\n",
       "      <td>2</td>\n",
       "      <td>3</td>\n",
       "      <td>0</td>\n",
       "      <td>3</td>\n",
       "      <td>1</td>\n",
       "      <td>1</td>\n",
       "      <td>34</td>\n",
       "      <td>1</td>\n",
       "      <td>56</td>\n",
       "      <td>19</td>\n",
       "      <td>1</td>\n",
       "      <td>1</td>\n",
       "      <td>2</td>\n",
       "      <td>0</td>\n",
       "      <td>14</td>\n",
       "      <td>2</td>\n",
       "      <td>232</td>\n",
       "      <td>156</td>\n",
       "      <td>11</td>\n",
       "      <td>3</td>\n",
       "      <td>0</td>\n",
       "      <td>10</td>\n",
       "      <td>1</td>\n",
       "      <td>0</td>\n",
       "    </tr>\n",
       "    <tr>\n",
       "      <th>4</th>\n",
       "      <td>5</td>\n",
       "      <td>3</td>\n",
       "      <td>Senegal</td>\n",
       "      <td>Netherlands</td>\n",
       "      <td>A</td>\n",
       "      <td>0</td>\n",
       "      <td>39</td>\n",
       "      <td>0</td>\n",
       "      <td>0</td>\n",
       "      <td>0</td>\n",
       "      <td>15</td>\n",
       "      <td>4</td>\n",
       "      <td>7</td>\n",
       "      <td>8</td>\n",
       "      <td>7</td>\n",
       "      <td>12</td>\n",
       "      <td>4</td>\n",
       "      <td>2</td>\n",
       "      <td>4</td>\n",
       "      <td>13</td>\n",
       "      <td>101</td>\n",
       "      <td>12</td>\n",
       "      <td>143</td>\n",
       "      <td>86</td>\n",
       "      <td>6</td>\n",
       "      <td>6</td>\n",
       "      <td>2</td>\n",
       "      <td>0</td>\n",
       "      <td>13</td>\n",
       "      <td>2</td>\n",
       "      <td>391</td>\n",
       "      <td>326</td>\n",
       "      <td>22</td>\n",
       "      <td>8</td>\n",
       "      <td>6</td>\n",
       "      <td>14</td>\n",
       "      <td>0</td>\n",
       "      <td>0</td>\n",
       "    </tr>\n",
       "  </tbody>\n",
       "</table>\n",
       "</div>"
      ],
      "text/plain": [
       "   Sl. No  Match No.     Team      Against Group  Goal  Possession (%)  \\\n",
       "0       1          1    Qatar      Ecuador     A     0              40   \n",
       "1       2          1  Ecuador        Qatar     A     2              46   \n",
       "2       3          2  England         Iran     B     6              69   \n",
       "3       4          2     Iran      England     B     2              20   \n",
       "4       5          3  Senegal  Netherlands     A     0              39   \n",
       "\n",
       "   Inside Penalty Area  Outside Penalty Area  Assists  Total Attempts  \\\n",
       "0                    0                     0        0               5   \n",
       "1                    2                     0        1               5   \n",
       "2                    6                     0        6              13   \n",
       "3                    2                     0        1               8   \n",
       "4                    0                     0        0              15   \n",
       "\n",
       "   On Target  Off Target  Target in Penalty  Target from Outside  \\\n",
       "0          0           5                  2                    3   \n",
       "1          5           2                  4                    1   \n",
       "2          7           3                 10                    3   \n",
       "3          3           4                  6                    2   \n",
       "4          4           7                  8                    7   \n",
       "\n",
       "   Left Channel  Left Inside Channel  Central Channel  Right Inside Channel  \\\n",
       "0            15                    0                3                     1   \n",
       "1             8                    7                6                     4   \n",
       "2            11                    5                2                     3   \n",
       "3             3                    0                3                     1   \n",
       "4            12                    4                2                     4   \n",
       "\n",
       "   Right Channel  Receptions MD  Receptions D  Attempted Line Breaks  \\\n",
       "0              9             45             5                    159   \n",
       "1              6             55            10                    159   \n",
       "2             11             72            15                    133   \n",
       "3              1             34             1                     56   \n",
       "4             13            101            12                    143   \n",
       "\n",
       "   Completed Line Breaks  Attempted Defensive Line Breaks  \\\n",
       "0                    100                                6   \n",
       "1                    103                                6   \n",
       "2                     94                                8   \n",
       "3                     19                                1   \n",
       "4                     86                                6   \n",
       "\n",
       "   Completed Defensive Line Breaks  Yellow Cards  Red Cards  Fouls Against  \\\n",
       "0                                4             4          0             15   \n",
       "1                                4             2          0             15   \n",
       "2                                6             0          0              9   \n",
       "3                                1             2          0             14   \n",
       "4                                6             2          0             13   \n",
       "\n",
       "   Offsides  Passes  Passes Completed  Crosses  Crosses Completed  Corners  \\\n",
       "0         3     453               387       10                  5        1   \n",
       "1         4     484               419       26                 10        3   \n",
       "2         2     810               733       29                  9        8   \n",
       "3         2     232               156       11                  3        0   \n",
       "4         2     391               326       22                  8        6   \n",
       "\n",
       "   Free Kicks  Penalties Scored  Pts  \n",
       "0          19                 0    0  \n",
       "1          17                 1    3  \n",
       "2          16                 0    3  \n",
       "3          10                 1    0  \n",
       "4          14                 0    0  "
      ]
     },
     "execution_count": 3,
     "metadata": {},
     "output_type": "execute_result"
    }
   ],
   "source": [
    "# To get the details about the dataset, please visit\n",
    "# https://www.kaggle.com/datasets/sayanroy729/fifa-worldcup-2022-results\n",
    "\n",
    "url = \"https://docs.google.com/spreadsheets/d/e/2PACX-1vT3D_x_4DS6d51LKJ7ze1sxT5WpV5uiSVOFYHLwBiGru6vFyVv5h5-83AwFjxWYiWfCDjDAaarHAV-k/pub?gid=0&single=true&output=csv\"\n",
    "df = pd.read_csv(url)\n",
    "df.head()"
   ]
  },
  {
   "cell_type": "markdown",
   "metadata": {
    "id": "gTisVyJHuLB9"
   },
   "source": [
    "### `Q-1:` Use the football dataset. Find out the total percentages that each team made on target. Display the result as a python dictionary where the keys are the team list and the values are the percentage values. Round off the percentage values up to 2 decimal places.\n",
    "\n",
    "*Help:*\n",
    "- First, find out how many total teams are participated in this worldcup. For that, you can use `unique()` method on the column \"Team\" or \"Against\".\n",
    "- Loop through the teams list that you have found in previous section, and then filter the dataset according to that. After filtering the dataset, find out total attempts sum and total on target sum.\n",
    "- After getting these values, find out the percentage by total on target divided by total attempts and multiply by 100. And store to a python dictionary where the key will be the team name and the values will be the percentages.\n",
    "- At the end,sort the dictionary by the values (not by the keys) and print the result.\n"
   ]
  },
  {
   "cell_type": "markdown",
   "metadata": {
    "id": "8myJwFm_uOy6"
   },
   "source": [
    "\n",
    "**Sample Output:**\n",
    "```bash\n",
    "{'Costa Rica': 54.55,\n",
    " 'Cameroon': 51.85,\n",
    " 'Ecuador': 48.15,\n",
    " 'Argentina': 46.99,\n",
    " 'Brazil': 45.56,\n",
    " 'England': 45.0,\n",
    " 'Portugal': 40.32,\n",
    " 'Ghana': 40.0,\n",
    " 'Netherlands': 39.02,\n",
    " 'Korea Republic': 36.73,\n",
    " 'Australia': 36.0,\n",
    " 'Mexico': 34.88,\n",
    " 'Croatia': 34.78,\n",
    " 'Germany': 34.33,\n",
    " 'France': 32.97,\n",
    " 'Spain': 32.69,\n",
    " 'Belgium': 32.35,\n",
    " 'Serbia': 32.26,\n",
    " 'Iran': 31.43,\n",
    " 'Uruguay': 31.25,\n",
    " 'United States': 31.11,\n",
    " 'Saudi Arabia': 31.03,\n",
    " 'Senegal': 30.77,\n",
    " 'Denmark': 30.56,\n",
    " 'Switzerland': 30.56,\n",
    " 'Japan': 30.23,\n",
    " 'Wales': 29.17,\n",
    " 'Qatar': 28.57,\n",
    " 'Morocco': 28.3,\n",
    " 'Tunisia': 26.67,\n",
    " 'Poland': 25.0,\n",
    " 'Canada': 17.65}\n",
    "```"
   ]
  },
  {
   "cell_type": "code",
   "execution_count": 20,
   "metadata": {
    "id": "qwN5G6s-uH16"
   },
   "outputs": [
    {
     "name": "stderr",
     "output_type": "stream",
     "text": [
      "C:\\Users\\Akash Pagi\\AppData\\Local\\Temp\\ipykernel_15320\\1600961844.py:7: RuntimeWarning: divide by zero encountered in longlong_scalars\n",
      "  percentage[team] = round( total_target / total_attempts ** 100, 2)\n"
     ]
    }
   ],
   "source": [
    "teams = df['Team'].unique()\n",
    "percentage = {}\n",
    "\n",
    "for team in teams:\n",
    "    total_attempts = df[df['Team'] == team]['Total Attempts'].sum()\n",
    "    total_target = df[df['Team'] == team]['On Target'].sum()\n",
    "    percentage[team] = round( total_target / total_attempts ** 100, 2)"
   ]
  },
  {
   "cell_type": "markdown",
   "metadata": {
    "id": "AzbkiZMduTok"
   },
   "source": [
    "### `Q-2:` Find out how many times the teams are played in this Fifa Worldcup-2022. On top of this, find out the ranks of the teams.\n",
    "\n",
    "Note: The `DataFrame.rank()` method takes an optiinal parameter named `method`. This parameter takes different values, but one of them is `average` which is by-default. So, when you do the rank, you will get some 2.5 like floating values. But if you change the value as `first`, then you will get in integers but the datatype will be float. So, try with `method=\"first\"` parameter."
   ]
  },
  {
   "cell_type": "code",
   "execution_count": null,
   "metadata": {
    "id": "YJRkSElguWlL"
   },
   "outputs": [],
   "source": [
    "# code here"
   ]
  },
  {
   "cell_type": "markdown",
   "metadata": {
    "id": "056FDiXOuYQB"
   },
   "source": [
    "### `Q-3:` Find out these below topics:\n",
    "- The information about the Fifa worldcup dataset.\n",
    "- The description about the Fifa worldcup dataset\n",
    "- Check is there any missing values, if there is any missing values, fill that value with the average value for that particular column.\n",
    "- Drop all the duplicate rows permanently.\n",
    "- Drop the columns: \"Sl No\", \"Match No.\", \"Red Cards\" and \"Pts\" permanently."
   ]
  },
  {
   "cell_type": "code",
   "execution_count": null,
   "metadata": {
    "id": "0_TE4B26uaVS"
   },
   "outputs": [],
   "source": [
    "# code here"
   ]
  },
  {
   "cell_type": "markdown",
   "metadata": {
    "id": "8R3X--kyubf4"
   },
   "source": [
    "### `Q-4:` Do these below operations:\n",
    "- Find out the rank based on the \"Team\" column and save the result by adding a new column named \"Rank\".\n",
    "- Change the datatype of this column to integer by using `np.int16`\n",
    "- Set the index of the DataFrame by using this \"Rank\" column permanently.\n",
    "- After that, sort the dataframe based on the \"Rank\" index."
   ]
  },
  {
   "cell_type": "code",
   "execution_count": null,
   "metadata": {
    "id": "l2-4scffuebD"
   },
   "outputs": [],
   "source": [
    "# code here"
   ]
  },
  {
   "cell_type": "markdown",
   "metadata": {
    "id": "J7827-Onufne"
   },
   "source": [
    "## Questions on Titanic dataset.\n",
    "\n",
    "You can get the dataset from [here](https://www.kaggle.com/competitions/titanic). This is the competition page on Kaggle. To download the dataset from here, I guess you have to register for the compition. So, do so and then download the dataset.\n",
    "\n",
    "Also, for now you can use this url to read the dataset like before:\n",
    "- dataset 1: https://docs.google.com/spreadsheets/d/e/2PACX-1vQjh5HzZ1N0SU7ME9ZQRzeVTaXaGsV97rU8R7eAcg53k27GTstJp9cRUOfr55go1GRRvTz1NwvyOnuh/pub?gid=1562145139&single=true&output=csv\n",
    "- dataset 2: https://docs.google.com/spreadsheets/d/e/2PACX-1vQcPvQsSC9aNFogvbUG08nu0bGHlOclGYaOlhND_LE5Ff7ZnHQ5VYzAgpyT5XNklgiT54SsNgHePsUa/pub?gid=1656109608&single=true&output=csv"
   ]
  },
  {
   "cell_type": "markdown",
   "metadata": {
    "id": "bK8hhjGtuoPg"
   },
   "source": [
    "### `Q-5:` Do the below tasks:\n",
    "1. With dataset 1, drop those records which only have missing values of the \"Age\" column permanently.\n",
    "\n",
    "2. With the dataset 2, fill the missing values with 20 to the only \"Age\" column permanently."
   ]
  },
  {
   "cell_type": "code",
   "execution_count": null,
   "metadata": {
    "id": "OzU2N1WaujEV"
   },
   "outputs": [],
   "source": [
    "# code here"
   ]
  },
  {
   "cell_type": "markdown",
   "metadata": {
    "id": "u_za5X6Xuy9O"
   },
   "source": [
    "## Questions on IPL wala dataset\n",
    "\n",
    "matches dataset = https://drive.google.com/file/d/1yKVUuexl6lIKuFQy7uIPgDgXhJ0L4SIg/view?usp=share_link\n",
    "\n",
    "Code to directly use in colab\n",
    "```\n",
    "ipl_matches = \"https://docs.google.com/spreadsheets/d/e/2PACX-1vRy2DUdUbaKx_Co9F0FSnIlyS-8kp4aKv_I0-qzNeghiZHAI_hw94gKG22XTxNJHMFnFVKsO4xWOdIs/pub?gid=1655759976&single=true&output=csv\"\n",
    "\n",
    "```\n",
    "\n",
    "\n"
   ]
  },
  {
   "cell_type": "markdown",
   "metadata": {
    "id": "dUT2nct2u2ET"
   },
   "source": [
    "###`Q-6:` Make a dataframe of each team in IPL with details like - Team Name, Matches Played, Win%, Home Win%, Away Win%.\n",
    "Show sorted dataframe on Win%\n",
    "\n",
    "Replace old team name as new name before performing any tasks.\n",
    "```\n",
    "Delhi Daredevils ->Delhi Capitals\n",
    "Kings XI Punjab -> Punjab Kings\n",
    "Rising Pune Supergiants -> Rising Pune Supergiant\n",
    "```\n",
    "\n",
    "Note: Team1 represents Home team. Exclude not result matches.\n"
   ]
  },
  {
   "cell_type": "code",
   "execution_count": null,
   "metadata": {
    "id": "Y_yr2BgquzeO"
   },
   "outputs": [],
   "source": [
    "# code here"
   ]
  },
  {
   "cell_type": "markdown",
   "metadata": {
    "id": "kfZPOzk5u4Ty"
   },
   "source": [
    "###`Q-7:` Venues with most \"no result\" matches."
   ]
  },
  {
   "cell_type": "code",
   "execution_count": null,
   "metadata": {
    "id": "XYLJXgVwu7MC"
   },
   "outputs": [],
   "source": [
    "# code here"
   ]
  },
  {
   "cell_type": "markdown",
   "metadata": {
    "id": "XWeIf7I6u8T-"
   },
   "source": [
    "###`Q-8:` Player with most appearance in final match.\n",
    "\n",
    "`Team1Players` and `Team2Players` have all players name. It is not a list of players name instead it is str. So handle it as string.\n",
    "\n",
    "Hint: split and strip will help; Make a series of all players in final and do value counts\n"
   ]
  },
  {
   "cell_type": "code",
   "execution_count": null,
   "metadata": {
    "id": "z_OKKz-Eu-dd"
   },
   "outputs": [],
   "source": [
    "# code here"
   ]
  },
  {
   "cell_type": "markdown",
   "metadata": {
    "id": "NUolo2wRu_ex"
   },
   "source": [
    "###`Q-9:` IPL Point Table\n",
    "\n",
    "Make a function `point_table` which take `season` as parameter and show points table in non-ascendng order of points and in ascending order of team name.\n",
    "\n",
    "For winning - 2 Ponits;\n",
    "For loosing - 0 Point\n",
    "For not result both team gets 1 points.\n",
    "\n",
    "Make dataframe which will have\n",
    "`TeamName` `MatchesPlayed` `MatchesWon` `NoResult` `Points`\n",
    "make `TeamName` as index.\n",
    "\n",
    "```\n",
    "season parametr should be one of these->\n",
    "['2022', '2021', '2020/21', '2019', '2018', '2017', '2016', '2015', '2014', '2013', '2012', '2011', '2009/10', '2009', '2007/08']\n",
    "```\n"
   ]
  },
  {
   "cell_type": "markdown",
   "metadata": {
    "id": "j4TSQq6fvFxO"
   },
   "source": [
    "Output of two Top 2 in season 2022\n",
    "```\n",
    "TeamName    MatchesPlayed\tMatchesWon\tNoResult\tPoints\n",
    "\n",
    "Gujarat Titans\t    16\t   12\t       0\t     24\n",
    "Rajasthan Royals\t  17\t   10\t       0\t     20\n",
    "\n",
    "```"
   ]
  },
  {
   "cell_type": "code",
   "execution_count": null,
   "metadata": {
    "id": "WdVcgEekvBv6"
   },
   "outputs": [],
   "source": [
    "# code here"
   ]
  },
  {
   "cell_type": "markdown",
   "metadata": {
    "id": "b7bf7YwqvIXj"
   },
   "source": [
    "###`Q-10:` IPL Point Table cont.\n",
    "Extend the above IPL Point Table with an extra column as `SeasonPosition`\n",
    "\n",
    "Team below top 4 after sorting on `Points` and then on `TeamName` Will have same `SeasonPosition` as there rank. use rank function.\n",
    "\n",
    "Teams in Top four will have `SeasonPosition` as:\n",
    "```\n",
    "    'Winner' - Team won final\n",
    "    'Runner' - Team lost Final\n",
    "    3 - Losing Team in Qualifier2\n",
    "    4 - Losing Team in Eliminator\n",
    "```\n",
    "\n",
    "For changing value of pariticular cell use `df.at[row_index, col_label] = value`\n",
    "\n",
    "Output of two Top 2 in season 2022. Your result should have all teams.\n",
    "```\n",
    "TeamName    MatchesPlayed\tMatchesWon\tNoResult\tPoints   SeasonPosition\n",
    "\n",
    "Gujarat Titans\t    16\t   12\t       0\t     24         Winner\n",
    "Rajasthan Royals\t  17\t   10\t       0\t     20         Runner\n",
    "\n",
    "```\n",
    "\n",
    "Note: If you try to chnage value of view of any dataframe a warnig will be shown. To avoid it, make a copy of the dataframe you want to change in by `df.copy()`"
   ]
  },
  {
   "cell_type": "code",
   "execution_count": null,
   "metadata": {
    "id": "ugZsBQiAvI5V"
   },
   "outputs": [],
   "source": [
    "# code here"
   ]
  }
 ],
 "metadata": {
  "colab": {
   "provenance": []
  },
  "kernelspec": {
   "display_name": "Python 3 (ipykernel)",
   "language": "python",
   "name": "python3"
  },
  "language_info": {
   "codemirror_mode": {
    "name": "ipython",
    "version": 3
   },
   "file_extension": ".py",
   "mimetype": "text/x-python",
   "name": "python",
   "nbconvert_exporter": "python",
   "pygments_lexer": "ipython3",
   "version": "3.10.7"
  }
 },
 "nbformat": 4,
 "nbformat_minor": 1
}
